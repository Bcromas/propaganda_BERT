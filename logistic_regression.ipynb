{
 "cells": [
  {
   "cell_type": "markdown",
   "metadata": {},
   "source": [
    "# <span style=\"color:#FF8800\"> Load data & generate features"
   ]
  },
  {
   "cell_type": "code",
   "execution_count": 1,
   "metadata": {},
   "outputs": [],
   "source": [
    "import os\n",
    "import pandas as pd"
   ]
  },
  {
   "cell_type": "code",
   "execution_count": 2,
   "metadata": {},
   "outputs": [],
   "source": [
    "train_df = pd.read_csv(\"datasets/train_data.tsv\", \n",
    "                       sep = \"\\t\",\n",
    "                       usecols = [\"label\",\"label_binary\",\"text\"]\n",
    "                      )"
   ]
  },
  {
   "cell_type": "code",
   "execution_count": 3,
   "metadata": {},
   "outputs": [
    {
     "name": "stdout",
     "output_type": "stream",
     "text": [
      "(15928, 3)\n"
     ]
    },
    {
     "data": {
      "text/html": [
       "<div>\n",
       "<style scoped>\n",
       "    .dataframe tbody tr th:only-of-type {\n",
       "        vertical-align: middle;\n",
       "    }\n",
       "\n",
       "    .dataframe tbody tr th {\n",
       "        vertical-align: top;\n",
       "    }\n",
       "\n",
       "    .dataframe thead th {\n",
       "        text-align: right;\n",
       "    }\n",
       "</style>\n",
       "<table border=\"1\" class=\"dataframe\">\n",
       "  <thead>\n",
       "    <tr style=\"text-align: right;\">\n",
       "      <th></th>\n",
       "      <th>label</th>\n",
       "      <th>label_binary</th>\n",
       "      <th>text</th>\n",
       "    </tr>\n",
       "  </thead>\n",
       "  <tbody>\n",
       "    <tr>\n",
       "      <th>1417</th>\n",
       "      <td>No_Propaganda</td>\n",
       "      <td>No_Propaganda</td>\n",
       "      <td>that he had information from anonymous sources...</td>\n",
       "    </tr>\n",
       "    <tr>\n",
       "      <th>11978</th>\n",
       "      <td>No_Propaganda</td>\n",
       "      <td>No_Propaganda</td>\n",
       "      <td>financially by George Soros’s money, Ford’s la...</td>\n",
       "    </tr>\n",
       "    <tr>\n",
       "      <th>6407</th>\n",
       "      <td>Name_Calling,Labeling</td>\n",
       "      <td>Propaganda</td>\n",
       "      <td>a very principled individual</td>\n",
       "    </tr>\n",
       "  </tbody>\n",
       "</table>\n",
       "</div>"
      ],
      "text/plain": [
       "                       label   label_binary  \\\n",
       "1417           No_Propaganda  No_Propaganda   \n",
       "11978          No_Propaganda  No_Propaganda   \n",
       "6407   Name_Calling,Labeling     Propaganda   \n",
       "\n",
       "                                                    text  \n",
       "1417   that he had information from anonymous sources...  \n",
       "11978  financially by George Soros’s money, Ford’s la...  \n",
       "6407                        a very principled individual  "
      ]
     },
     "execution_count": 3,
     "metadata": {},
     "output_type": "execute_result"
    }
   ],
   "source": [
    "print(train_df.shape)\n",
    "train_df.sample(3)"
   ]
  },
  {
   "cell_type": "markdown",
   "metadata": {},
   "source": [
    "> ### The training data, which was created in generate_data.ipynb, contains +15,900 samples with binary and multi-class labels. Here we'll focus on multi-class classification."
   ]
  },
  {
   "cell_type": "code",
   "execution_count": 4,
   "metadata": {},
   "outputs": [],
   "source": [
    "import textstat"
   ]
  },
  {
   "cell_type": "code",
   "execution_count": 5,
   "metadata": {},
   "outputs": [],
   "source": [
    "train_df[\"sent_count\"] = train_df.apply(lambda x: textstat.sentence_count(x[\"text\"]), axis = 1) # number of sentences in span\n",
    "train_df[\"flesch_reading\"] = train_df.apply(lambda x: textstat.flesch_reading_ease(x[\"text\"]), axis = 1) # Flesch reading ease score, higher is easier to read\n",
    "train_df[\"difficult_words\"] = train_df.apply(lambda x: textstat.difficult_words(x[\"text\"]), axis = 1) # count of words with 2 or more syllables, seems like low threshold\n",
    "train_df[\"read_index\"] = train_df.apply(lambda x: textstat.automated_readability_index(x[\"text\"]), axis = 1) # approximates the grade level needed to comprehend the text\n",
    "train_df[\"syllable_count\"] = train_df.apply(lambda x: textstat.syllable_count(x[\"text\"]), axis = 1) # count of the number of syllables in the given text\n",
    "train_df[\"text_standard\"] = train_df.apply(lambda x: textstat.text_standard(x[\"text\"], float_output = True), axis = 1) # combines a number of readability scores, the estimated school grade level to understand text\n",
    "train_df[\"text_len\"] = train_df.apply(lambda x: len(x[\"text\"]), axis = 1) # the length of the text"
   ]
  },
  {
   "cell_type": "code",
   "execution_count": 6,
   "metadata": {},
   "outputs": [
    {
     "data": {
      "text/html": [
       "<div>\n",
       "<style scoped>\n",
       "    .dataframe tbody tr th:only-of-type {\n",
       "        vertical-align: middle;\n",
       "    }\n",
       "\n",
       "    .dataframe tbody tr th {\n",
       "        vertical-align: top;\n",
       "    }\n",
       "\n",
       "    .dataframe thead th {\n",
       "        text-align: right;\n",
       "    }\n",
       "</style>\n",
       "<table border=\"1\" class=\"dataframe\">\n",
       "  <thead>\n",
       "    <tr style=\"text-align: right;\">\n",
       "      <th>label_binary</th>\n",
       "      <th>No_Propaganda</th>\n",
       "      <th>Propaganda</th>\n",
       "    </tr>\n",
       "  </thead>\n",
       "  <tbody>\n",
       "    <tr>\n",
       "      <th>sent_count</th>\n",
       "      <td>1.2</td>\n",
       "      <td>1.1</td>\n",
       "    </tr>\n",
       "    <tr>\n",
       "      <th>flesch_reading</th>\n",
       "      <td>67.2</td>\n",
       "      <td>44.5</td>\n",
       "    </tr>\n",
       "    <tr>\n",
       "      <th>difficult_words</th>\n",
       "      <td>3.2</td>\n",
       "      <td>2.2</td>\n",
       "    </tr>\n",
       "    <tr>\n",
       "      <th>read_index</th>\n",
       "      <td>8.3</td>\n",
       "      <td>10.7</td>\n",
       "    </tr>\n",
       "    <tr>\n",
       "      <th>syllable_count</th>\n",
       "      <td>18.8</td>\n",
       "      <td>12.6</td>\n",
       "    </tr>\n",
       "    <tr>\n",
       "      <th>text_standard</th>\n",
       "      <td>7.8</td>\n",
       "      <td>7.9</td>\n",
       "    </tr>\n",
       "    <tr>\n",
       "      <th>text_len</th>\n",
       "      <td>75.0</td>\n",
       "      <td>48.3</td>\n",
       "    </tr>\n",
       "  </tbody>\n",
       "</table>\n",
       "</div>"
      ],
      "text/plain": [
       "label_binary     No_Propaganda  Propaganda\n",
       "sent_count                 1.2         1.1\n",
       "flesch_reading            67.2        44.5\n",
       "difficult_words            3.2         2.2\n",
       "read_index                 8.3        10.7\n",
       "syllable_count            18.8        12.6\n",
       "text_standard              7.8         7.9\n",
       "text_len                  75.0        48.3"
      ]
     },
     "execution_count": 6,
     "metadata": {},
     "output_type": "execute_result"
    }
   ],
   "source": [
    "text_stats = round(train_df.groupby(\"label_binary\").mean(),1)\n",
    "text_stats.T"
   ]
  },
  {
   "cell_type": "markdown",
   "metadata": {},
   "source": [
    "> ### Based on research into related work it appears that creating some linguistic features from the sample text may help with the classification task.\n",
    "> ### <span style=\"color:#8800ff\"> In fact, we can see that texts featuring propaganda are shorter (text_len), more difficult to read (flesch_reading, lower is harder to understand), and contain fewer syllables (syllable_count) than texts without propaganda."
   ]
  },
  {
   "cell_type": "code",
   "execution_count": 7,
   "metadata": {},
   "outputs": [],
   "source": [
    "feature_cols = ['text', 'sent_count', 'flesch_reading',\n",
    "                'difficult_words', 'read_index', 'syllable_count',\n",
    "                'text_standard','text_len']"
   ]
  },
  {
   "cell_type": "markdown",
   "metadata": {},
   "source": [
    "# <span style=\"color:#FF8800\"> Train test split"
   ]
  },
  {
   "cell_type": "code",
   "execution_count": 8,
   "metadata": {},
   "outputs": [],
   "source": [
    "from sklearn.model_selection import train_test_split"
   ]
  },
  {
   "cell_type": "code",
   "execution_count": 9,
   "metadata": {},
   "outputs": [],
   "source": [
    "X_train, X_test, y_train, y_test = train_test_split(\n",
    "    train_df[feature_cols], \n",
    "    train_df[\"label\"], \n",
    "    train_size = 0.7, \n",
    "    random_state = 3, \n",
    "    shuffle = True, \n",
    "    stratify = train_df[\"label\"])"
   ]
  },
  {
   "cell_type": "markdown",
   "metadata": {},
   "source": [
    "> ### Here we're creating a training and testing split from just the training data so we can perform grid search and tune the hyperparameters.\n",
    "> ### We're using a standard 70-30 training testing split, shuffling the samples, and stratifying the samples so the training and testing data contain similar proportions of the labels."
   ]
  },
  {
   "cell_type": "markdown",
   "metadata": {},
   "source": [
    "# <span style=\"color:#FF8800\"> Transform features"
   ]
  },
  {
   "cell_type": "code",
   "execution_count": 10,
   "metadata": {},
   "outputs": [],
   "source": [
    "from sklearn.feature_extraction.text import TfidfVectorizer"
   ]
  },
  {
   "cell_type": "code",
   "execution_count": 11,
   "metadata": {},
   "outputs": [],
   "source": [
    "word_vectorizer = TfidfVectorizer(\n",
    "    strip_accents = \"unicode\", \n",
    "    lowercase = True,\n",
    "    stop_words = \"english\", \n",
    "    analyzer = \"word\", \n",
    "    token_pattern = \"[a-z]+\", \n",
    "    smooth_idf = True, \n",
    "    ngram_range=(1,3)\n",
    ")"
   ]
  },
  {
   "cell_type": "markdown",
   "metadata": {},
   "source": [
    "> ### We want to create a tf-idf statistic based on the text in the samples in order to utilize insights related to how informative words are based on how frequently they are used 1) in the corpus overall and 2) in a particular sample.\n",
    "> ### TfidfVectorizer will generate a sparse matrix.\n",
    "> ### We're employing smoothing so each token is counted at least once in the vocabulary. This is more relevant when we apply the tfidf created here to the testing data we split out earlier."
   ]
  },
  {
   "cell_type": "code",
   "execution_count": 12,
   "metadata": {},
   "outputs": [],
   "source": [
    "from sklearn.compose import ColumnTransformer"
   ]
  },
  {
   "cell_type": "code",
   "execution_count": 13,
   "metadata": {},
   "outputs": [],
   "source": [
    "column_trans = ColumnTransformer([('tfidf', word_vectorizer, 'text')], remainder = \"passthrough\")\n",
    "train_transformed = column_trans.fit_transform(X_train[feature_cols])"
   ]
  },
  {
   "cell_type": "markdown",
   "metadata": {},
   "source": [
    "> ### <span style=\"color:#8800ff\"> ColumnTransformer is useful here since it allows us to apply the tf-idf vectorizer to the sample text and \"pass-through\" the other features so we end up with a complete and coherent sparse matrix. If we didn't use \"passthrough\" in ColumnTransformer then we would have to map the columns of the other features onto the SciPy Compressed Sparse Row Matrix ourselves which is a bit challenging due to its structure."
   ]
  },
  {
   "cell_type": "markdown",
   "metadata": {},
   "source": [
    "# <span style=\"color:#FF8800\"> Perform grid search"
   ]
  },
  {
   "cell_type": "code",
   "execution_count": 14,
   "metadata": {},
   "outputs": [],
   "source": [
    "from sklearn.model_selection import GridSearchCV\n",
    "from sklearn.linear_model import LogisticRegression"
   ]
  },
  {
   "cell_type": "code",
   "execution_count": 15,
   "metadata": {},
   "outputs": [],
   "source": [
    "logistic_regression = LogisticRegression(n_jobs = -1)\n",
    "\n",
    "param_grid = [{\n",
    "        \"penalty\":[\"l2\",\"none\"],\n",
    "        \"C\":[10000,1000,1],\n",
    "        \"fit_intercept\": [True, False],\n",
    "        \"class_weight\": [None, \"balanced\"],\n",
    "        \"solver\": [\"lbfgs\",\"liblinear\"] #! running this with other solvers like \"sag\" or \"newton-cg\" will result in a wait of several hours\n",
    "}]\n",
    "\n",
    "grid_search = GridSearchCV(\n",
    "    estimator = logistic_regression,\n",
    "    param_grid = param_grid,\n",
    "    cv = 10\n",
    ")"
   ]
  },
  {
   "cell_type": "code",
   "execution_count": 16,
   "metadata": {},
   "outputs": [
    {
     "name": "stderr",
     "output_type": "stream",
     "text": [
      "/home/bryan/Documents/Code/python-environments/SI630/lib/python3.6/site-packages/sklearn/linear_model/_logistic.py:1539: UserWarning: 'n_jobs' > 1 does not have any effect when 'solver' is set to 'liblinear'. Got 'n_jobs' = 8.\n",
      "  \" = {}.\".format(effective_n_jobs(self.n_jobs)))\n",
      "/home/bryan/Documents/Code/python-environments/SI630/lib/python3.6/site-packages/sklearn/svm/_base.py:947: ConvergenceWarning: Liblinear failed to converge, increase the number of iterations.\n",
      "  \"the number of iterations.\", ConvergenceWarning)\n",
      "/home/bryan/Documents/Code/python-environments/SI630/lib/python3.6/site-packages/sklearn/linear_model/_logistic.py:1505: UserWarning: Setting penalty='none' will ignore the C and l1_ratio parameters\n",
      "  \"Setting penalty='none' will ignore the C and l1_ratio \"\n",
      "/home/bryan/Documents/Code/python-environments/SI630/lib/python3.6/site-packages/sklearn/model_selection/_validation.py:536: FitFailedWarning: Estimator fit failed. The score on this train-test partition for these parameters will be set to nan. Details: \n",
      "ValueError: penalty='none' is not supported for the liblinear solver\n",
      "\n",
      "  FitFailedWarning)\n"
     ]
    },
    {
     "name": "stdout",
     "output_type": "stream",
     "text": [
      "CPU times: user 2h 3min 36s, sys: 1h 44min 54s, total: 3h 48min 30s\n",
      "Wall time: 1h 29min 54s\n"
     ]
    },
    {
     "data": {
      "text/plain": [
       "GridSearchCV(cv=10, error_score=nan,\n",
       "             estimator=LogisticRegression(C=1.0, class_weight=None, dual=False,\n",
       "                                          fit_intercept=True,\n",
       "                                          intercept_scaling=1, l1_ratio=None,\n",
       "                                          max_iter=100, multi_class='auto',\n",
       "                                          n_jobs=-1, penalty='l2',\n",
       "                                          random_state=None, solver='lbfgs',\n",
       "                                          tol=0.0001, verbose=0,\n",
       "                                          warm_start=False),\n",
       "             iid='deprecated', n_jobs=None,\n",
       "             param_grid=[{'C': [10000, 1000, 1],\n",
       "                          'class_weight': [None, 'balanced'],\n",
       "                          'fit_intercept': [True, False],\n",
       "                          'penalty': ['l2', 'none'],\n",
       "                          'solver': ['lbfgs', 'liblinear']}],\n",
       "             pre_dispatch='2*n_jobs', refit=True, return_train_score=False,\n",
       "             scoring=None, verbose=0)"
      ]
     },
     "execution_count": 16,
     "metadata": {},
     "output_type": "execute_result"
    }
   ],
   "source": [
    "%%time\n",
    "grid_search.fit(train_transformed, y_train)"
   ]
  },
  {
   "cell_type": "code",
   "execution_count": 17,
   "metadata": {},
   "outputs": [
    {
     "data": {
      "text/plain": [
       "LogisticRegression(C=1, class_weight='balanced', dual=False, fit_intercept=True,\n",
       "                   intercept_scaling=1, l1_ratio=None, max_iter=100,\n",
       "                   multi_class='auto', n_jobs=-1, penalty='l2',\n",
       "                   random_state=None, solver='liblinear', tol=0.0001, verbose=0,\n",
       "                   warm_start=False)"
      ]
     },
     "execution_count": 17,
     "metadata": {},
     "output_type": "execute_result"
    }
   ],
   "source": [
    "grid_search.best_estimator_"
   ]
  },
  {
   "cell_type": "markdown",
   "metadata": {},
   "source": [
    "> ### We can access various attributes of the grid search we just performed including the best performing estimator above.\n",
    "> ### Since we didn't provide an argument for the 'scoring' parameter in GridSearchCV it defaulted to the estimator's scoring method which for a multi-class classification task is subset accuracy which requires that \"the set of labels predicted for a sample must exactly match the corresponding set of labels in y_true.\" This is a fairly rigid approach. Other options are \"f1\", \"f1_micro\", \"precision\", \"jaccard\", and many others. "
   ]
  },
  {
   "cell_type": "markdown",
   "metadata": {},
   "source": [
    "# <span style=\"color:#FF8800\"> Best logistic regression model\n",
    "> ### Based on a more extensive grid search I performed previously I opted to use the model parameterized below.\n",
    "> ### Here we'll fit the best logistic regression model on all of the training data and evaluate it on the data from the dev dataset."
   ]
  },
  {
   "cell_type": "code",
   "execution_count": 18,
   "metadata": {},
   "outputs": [],
   "source": [
    "best_lr = LogisticRegression(C = 10000, class_weight = 'balanced', dual = False,\n",
    "                   fit_intercept = True, intercept_scaling = 1, l1_ratio = None,\n",
    "                   max_iter = 100, multi_class = 'auto', penalty = 'l2',\n",
    "                   random_state = 234, solver = 'liblinear', tol = 0.0001, verbose = 0,\n",
    "                   warm_start = False)"
   ]
  },
  {
   "cell_type": "code",
   "execution_count": 19,
   "metadata": {},
   "outputs": [],
   "source": [
    "all_train_transformed = column_trans.fit_transform(train_df[feature_cols]) # transform all of training data"
   ]
  },
  {
   "cell_type": "code",
   "execution_count": 20,
   "metadata": {},
   "outputs": [
    {
     "data": {
      "text/plain": [
       "LogisticRegression(C=10000, class_weight='balanced', dual=False,\n",
       "                   fit_intercept=True, intercept_scaling=1, l1_ratio=None,\n",
       "                   max_iter=100, multi_class='auto', n_jobs=None, penalty='l2',\n",
       "                   random_state=234, solver='liblinear', tol=0.0001, verbose=0,\n",
       "                   warm_start=False)"
      ]
     },
     "execution_count": 20,
     "metadata": {},
     "output_type": "execute_result"
    }
   ],
   "source": [
    "best_lr.fit(all_train_transformed, train_df[\"label\"])"
   ]
  },
  {
   "cell_type": "markdown",
   "metadata": {},
   "source": [
    "> ### Here we fit our logistic regression model on all of the training data after applying the same TfidfVectorizer through the same ColumnTransformer defined above."
   ]
  },
  {
   "cell_type": "code",
   "execution_count": 21,
   "metadata": {},
   "outputs": [],
   "source": [
    "# load dev data\n",
    "dev_df = pd.read_csv(\"datasets/dev_data.tsv\", \n",
    "                       sep = \"\\t\",\n",
    "                       usecols = [\"label\",\"label_binary\",\"text\"]\n",
    "                      )"
   ]
  },
  {
   "cell_type": "code",
   "execution_count": 22,
   "metadata": {},
   "outputs": [
    {
     "name": "stdout",
     "output_type": "stream",
     "text": [
      "(2850, 3)\n"
     ]
    },
    {
     "data": {
      "text/html": [
       "<div>\n",
       "<style scoped>\n",
       "    .dataframe tbody tr th:only-of-type {\n",
       "        vertical-align: middle;\n",
       "    }\n",
       "\n",
       "    .dataframe tbody tr th {\n",
       "        vertical-align: top;\n",
       "    }\n",
       "\n",
       "    .dataframe thead th {\n",
       "        text-align: right;\n",
       "    }\n",
       "</style>\n",
       "<table border=\"1\" class=\"dataframe\">\n",
       "  <thead>\n",
       "    <tr style=\"text-align: right;\">\n",
       "      <th></th>\n",
       "      <th>label</th>\n",
       "      <th>label_binary</th>\n",
       "      <th>text</th>\n",
       "    </tr>\n",
       "  </thead>\n",
       "  <tbody>\n",
       "    <tr>\n",
       "      <th>883</th>\n",
       "      <td>No_Propaganda</td>\n",
       "      <td>No_Propaganda</td>\n",
       "      <td>AT&amp;T Stadium pic.twitter.com/lu5VsGQByv — Alli...</td>\n",
       "    </tr>\n",
       "    <tr>\n",
       "      <th>1678</th>\n",
       "      <td>Exaggeration,Minimisation</td>\n",
       "      <td>Propaganda</td>\n",
       "      <td>will be remembered in history as the day</td>\n",
       "    </tr>\n",
       "    <tr>\n",
       "      <th>1623</th>\n",
       "      <td>Name_Calling,Labeling</td>\n",
       "      <td>Propaganda</td>\n",
       "      <td>NSA whistleblower</td>\n",
       "    </tr>\n",
       "  </tbody>\n",
       "</table>\n",
       "</div>"
      ],
      "text/plain": [
       "                          label   label_binary  \\\n",
       "883               No_Propaganda  No_Propaganda   \n",
       "1678  Exaggeration,Minimisation     Propaganda   \n",
       "1623      Name_Calling,Labeling     Propaganda   \n",
       "\n",
       "                                                   text  \n",
       "883   AT&T Stadium pic.twitter.com/lu5VsGQByv — Alli...  \n",
       "1678           will be remembered in history as the day  \n",
       "1623                                  NSA whistleblower  "
      ]
     },
     "execution_count": 22,
     "metadata": {},
     "output_type": "execute_result"
    }
   ],
   "source": [
    "print(dev_df.shape)\n",
    "dev_df.sample(3)"
   ]
  },
  {
   "cell_type": "markdown",
   "metadata": {},
   "source": [
    "> ### The dev data, which was also created in generate_data.ipynb, contains +2,800 samples with binary and multi-class labels. We'll only need the values from dev_df[\"label\"]."
   ]
  },
  {
   "cell_type": "code",
   "execution_count": 23,
   "metadata": {},
   "outputs": [],
   "source": [
    "dev_df[\"sent_count\"] = dev_df.apply(lambda x: textstat.sentence_count(x[\"text\"]), axis=1)\n",
    "dev_df[\"flesch_reading\"] = dev_df.apply(lambda x: textstat.flesch_reading_ease(x[\"text\"]), axis=1)\n",
    "dev_df[\"difficult_words\"] = dev_df.apply(lambda x: textstat.difficult_words(x[\"text\"]), axis=1)\n",
    "dev_df[\"read_index\"] = dev_df.apply(lambda x: textstat.automated_readability_index(x[\"text\"]), axis=1)\n",
    "dev_df[\"syllable_count\"] = dev_df.apply(lambda x: textstat.syllable_count(x[\"text\"]), axis=1)\n",
    "dev_df[\"text_standard\"] = dev_df.apply(lambda x: textstat.text_standard(x[\"text\"], float_output=True), axis=1)\n",
    "\n",
    "dev_df[\"text_len\"] = dev_df.apply(lambda x: len(x[\"text\"]), axis=1)"
   ]
  },
  {
   "cell_type": "code",
   "execution_count": 24,
   "metadata": {},
   "outputs": [],
   "source": [
    "dev_transformed = column_trans.transform(dev_df[feature_cols]) #must use same transform call for dev data"
   ]
  },
  {
   "cell_type": "code",
   "execution_count": 25,
   "metadata": {},
   "outputs": [],
   "source": [
    "lr_y_pred = best_lr.predict(dev_transformed)"
   ]
  },
  {
   "cell_type": "code",
   "execution_count": 26,
   "metadata": {},
   "outputs": [],
   "source": [
    "from sklearn.metrics import confusion_matrix"
   ]
  },
  {
   "cell_type": "code",
   "execution_count": 27,
   "metadata": {},
   "outputs": [],
   "source": [
    "labels = list(best_lr.classes_)\n",
    "cm = confusion_matrix(dev_df[\"label\"], lr_y_pred, labels)"
   ]
  },
  {
   "cell_type": "markdown",
   "metadata": {},
   "source": [
    "## Below is a function from user Calvin Duy Canh Tran on Stack Overflow to plot a confusion matrix with any number of labels. The confusion_matrix function above outputs an unwieldly np.ndarray which I would rather not wrestle with especially given the 15 classes involved. You can check out the original post on SO here: https://stackoverflow.com/a/50386871/1576558."
   ]
  },
  {
   "cell_type": "code",
   "execution_count": 28,
   "metadata": {},
   "outputs": [],
   "source": [
    "import matplotlib.pyplot as plt\n",
    "import numpy as np\n",
    "import itertools"
   ]
  },
  {
   "cell_type": "code",
   "execution_count": 29,
   "metadata": {},
   "outputs": [],
   "source": [
    "def plot_confusion_matrix(cm,\n",
    "                          target_names,\n",
    "                          title='Confusion matrix',\n",
    "                          cmap=None,\n",
    "                          normalize=True):\n",
    "    \"\"\"\n",
    "    given a sklearn confusion matrix (cm), make a nice plot\n",
    "\n",
    "    Arguments\n",
    "    ---------\n",
    "    cm:           confusion matrix from sklearn.metrics.confusion_matrix\n",
    "\n",
    "    target_names: given classification classes such as [0, 1, 2]\n",
    "                  the class names, for example: ['high', 'medium', 'low']\n",
    "\n",
    "    title:        the text to display at the top of the matrix\n",
    "\n",
    "    cmap:         the gradient of the values displayed from matplotlib.pyplot.cm\n",
    "                  see http://matplotlib.org/examples/color/colormaps_reference.html\n",
    "                  plt.get_cmap('jet') or plt.cm.Blues\n",
    "\n",
    "    normalize:    If False, plot the raw numbers\n",
    "                  If True, plot the proportions\n",
    "\n",
    "    Usage\n",
    "    -----\n",
    "    plot_confusion_matrix(cm           = cm,                  # confusion matrix created by\n",
    "                                                              # sklearn.metrics.confusion_matrix\n",
    "                          normalize    = True,                # show proportions\n",
    "                          target_names = y_labels_vals,       # list of names of the classes\n",
    "                          title        = best_estimator_name) # title of graph\n",
    "\n",
    "    Citiation\n",
    "    ---------\n",
    "    http://scikit-learn.org/stable/auto_examples/model_selection/plot_confusion_matrix.html\n",
    "\n",
    "    \"\"\"\n",
    "    \n",
    "    accuracy = np.trace(cm) / np.sum(cm).astype('float')\n",
    "    misclass = 1 - accuracy\n",
    "\n",
    "    if cmap is None:\n",
    "        cmap = plt.get_cmap('Purples')\n",
    "\n",
    "    plt.figure(figsize=(20, 10))\n",
    "    plt.imshow(cm, interpolation='nearest', cmap=cmap)\n",
    "    plt.title(title)\n",
    "    plt.colorbar()\n",
    "\n",
    "    if target_names is not None:\n",
    "        tick_marks = np.arange(len(target_names))\n",
    "        plt.xticks(tick_marks, target_names, rotation=90)\n",
    "        plt.yticks(tick_marks, target_names)\n",
    "\n",
    "    if normalize:\n",
    "        cm = cm.astype('float') / cm.sum(axis=1)[:, np.newaxis]\n",
    "\n",
    "\n",
    "    thresh = cm.max() / 1.5 if normalize else cm.max() / 2\n",
    "    for i, j in itertools.product(range(cm.shape[0]), range(cm.shape[1])):\n",
    "        if normalize:\n",
    "            plt.text(j, i, \"{:0.4f}\".format(cm[i, j]),\n",
    "                     horizontalalignment=\"center\",\n",
    "                     color=\"white\" if cm[i, j] > thresh else \"black\")\n",
    "        else:\n",
    "            plt.text(j, i, \"{:,}\".format(cm[i, j]),\n",
    "                     horizontalalignment=\"center\",\n",
    "                     color=\"white\" if cm[i, j] > thresh else \"black\")\n",
    "\n",
    "\n",
    "    plt.tight_layout()\n",
    "    plt.ylabel('True label')\n",
    "    plt.xlabel('Predicted label')\n",
    "    plt.show()"
   ]
  },
  {
   "cell_type": "code",
   "execution_count": 30,
   "metadata": {},
   "outputs": [
    {
     "data": {
      "image/png": "[encoded data removed]",
      "text/plain": [
       "<Figure size 1440x720 with 2 Axes>"
      ]
     },
     "metadata": {
      "needs_background": "light"
     },
     "output_type": "display_data"
    }
   ],
   "source": [
    "plot_confusion_matrix(cm = cm, target_names = labels, normalize = False)"
   ]
  },
  {
   "cell_type": "markdown",
   "metadata": {},
   "source": [
    "> ### A confusion matrix visualizes the accuracy of the predictions. If a classifer had 100% accuracy then only the diagonal would contain values greater than zero. In this plot the darker purple the cell the higher the count.\n",
    "> ### <span style=\"color:#8800ff\"> The plot above shows the performance of the best logistic regression model on the dev data after fitting it on all of the training data. Comparing this matrix to the one from dummy_classifier.ipynb it may be difficult to note significant differences although there are a number of them. For instance, comparing the two matrices along the diagonal we have No_Propaganda 1,643 vs. 1,108, Loaded_Language 216 vs. 45, and Name_Calling,Labeling 74 vs. 8."
   ]
  },
  {
   "cell_type": "code",
   "execution_count": 31,
   "metadata": {},
   "outputs": [],
   "source": [
    "from sklearn.metrics import classification_report"
   ]
  },
  {
   "cell_type": "code",
   "execution_count": 32,
   "metadata": {},
   "outputs": [
    {
     "name": "stdout",
     "output_type": "stream",
     "text": [
      "                                    precision    recall  f1-score   support\n",
      "\n",
      "               Appeal_to_Authority       0.00      0.00      0.00        14\n",
      "          Appeal_to_fear-prejudice       0.18      0.14      0.15        44\n",
      "    Bandwagon,Reductio_ad_hitlerum       1.00      0.40      0.57         5\n",
      "           Black-and-White_Fallacy       0.00      0.00      0.00        22\n",
      "         Causal_Oversimplification       0.00      0.00      0.00        18\n",
      "                             Doubt       0.08      0.09      0.09        66\n",
      "         Exaggeration,Minimisation       0.15      0.12      0.13        68\n",
      "                       Flag-Waving       0.46      0.52      0.49        87\n",
      "                   Loaded_Language       0.57      0.67      0.61       324\n",
      "             Name_Calling,Labeling       0.44      0.40      0.42       183\n",
      "                     No_Propaganda       0.89      0.92      0.90      1789\n",
      "                        Repetition       0.16      0.08      0.11       144\n",
      "                           Slogans       0.15      0.05      0.08        40\n",
      "       Thought-terminating_Cliches       0.05      0.24      0.09        17\n",
      "Whataboutism,Straw_Men,Red_Herring       0.19      0.10      0.13        29\n",
      "\n",
      "                          accuracy                           0.71      2850\n",
      "                         macro avg       0.29      0.25      0.25      2850\n",
      "                      weighted avg       0.69      0.71      0.70      2850\n",
      "\n"
     ]
    }
   ],
   "source": [
    "print(classification_report(dev_df[\"label\"], lr_y_pred, target_names=labels))"
   ]
  },
  {
   "cell_type": "markdown",
   "metadata": {},
   "source": [
    "> ### We can evaluate the label-specific precision, recall, and f1 score results for the logistic regression model. This is a more precise way of viewing the information contained in the plot above.\n",
    "> ### <span style=\"color:#8800ff\"> Overall, the logistic regression model performed much better than the dummy classifier. However, it still struggled with Appeal_to_Authority, Black-and-White_Fallacy, and Causal_Oversimplification failing to correctly predict any of the 54 instances between them. Although the model was able to correctly predict labels from classes of similar sizes like Bandwagon,Reductio_ad_hitlerum and Whataboutism,Straw_Men,Red_Herring."
   ]
  },
  {
   "cell_type": "code",
   "execution_count": 33,
   "metadata": {},
   "outputs": [
    {
     "data": {
      "text/plain": [
       "0.71"
      ]
     },
     "execution_count": 33,
     "metadata": {},
     "output_type": "execute_result"
    }
   ],
   "source": [
    "from sklearn.metrics import f1_score\n",
    "round(f1_score(dev_df[\"label\"], lr_y_pred, average = 'micro'),2)"
   ]
  },
  {
   "cell_type": "markdown",
   "metadata": {},
   "source": [
    "> ### <span style=\"color:#8800ff\"> Finally, we can quantify the overall performance of the model using the micro f1 score. The logistic regression model we created and evaluated above is a significant improvement over our baseline model but we have another model still to go: the BERT-based model."
   ]
  },
  {
   "cell_type": "markdown",
   "metadata": {},
   "source": [
    "# <span style=\"color:#FF8800\"> END"
   ]
  }
 ],
 "metadata": {
  "kernelspec": {
   "display_name": "Python 3",
   "language": "python",
   "name": "python3"
  },
  "language_info": {
   "codemirror_mode": {
    "name": "ipython",
    "version": 3
   },
   "file_extension": ".py",
   "mimetype": "text/x-python",
   "name": "python",
   "nbconvert_exporter": "python",
   "pygments_lexer": "ipython3",
   "version": "3.6.9"
  }
 },
 "nbformat": 4,
 "nbformat_minor": 4
}
