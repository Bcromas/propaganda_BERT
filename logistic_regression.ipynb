{
 "cells": [
  {
   "cell_type": "markdown",
   "metadata": {},
   "source": [
    "# <span style=\"color:#FF8800\"> Load data & generate features"
   ]
  },
  {
   "cell_type": "code",
   "execution_count": 2,
   "metadata": {},
   "outputs": [],
   "source": [
    "import os\n",
    "import pandas as pd\n",
    "import spacy"
   ]
  },
  {
   "cell_type": "code",
   "execution_count": 4,
   "metadata": {},
   "outputs": [],
   "source": [
    "train_df = pd.read_csv(\"datasets/train_data.tsv\", \n",
    "                       sep = \"\\t\",\n",
    "                       usecols = [\"label\",\"label_binary\",\"text\"]\n",
    "                      )"
   ]
  },
  {
   "cell_type": "code",
   "execution_count": 5,
   "metadata": {},
   "outputs": [
    {
     "name": "stdout",
     "output_type": "stream",
     "text": [
      "(15928, 3)\n"
     ]
    },
    {
     "data": {
      "text/html": [
       "<div>\n",
       "<style scoped>\n",
       "    .dataframe tbody tr th:only-of-type {\n",
       "        vertical-align: middle;\n",
       "    }\n",
       "\n",
       "    .dataframe tbody tr th {\n",
       "        vertical-align: top;\n",
       "    }\n",
       "\n",
       "    .dataframe thead th {\n",
       "        text-align: right;\n",
       "    }\n",
       "</style>\n",
       "<table border=\"1\" class=\"dataframe\">\n",
       "  <thead>\n",
       "    <tr style=\"text-align: right;\">\n",
       "      <th></th>\n",
       "      <th>label</th>\n",
       "      <th>label_binary</th>\n",
       "      <th>text</th>\n",
       "    </tr>\n",
       "  </thead>\n",
       "  <tbody>\n",
       "    <tr>\n",
       "      <th>2536</th>\n",
       "      <td>No_Propaganda</td>\n",
       "      <td>No_Propaganda</td>\n",
       "      <td>the 69-year-old Jewish man (wearing a kippah o...</td>\n",
       "    </tr>\n",
       "    <tr>\n",
       "      <th>2396</th>\n",
       "      <td>Thought-terminating_Cliches</td>\n",
       "      <td>Propaganda</td>\n",
       "      <td>It is over</td>\n",
       "    </tr>\n",
       "    <tr>\n",
       "      <th>3176</th>\n",
       "      <td>No_Propaganda</td>\n",
       "      <td>No_Propaganda</td>\n",
       "      <td>Politician?\\nWhom do you consider to be the mo...</td>\n",
       "    </tr>\n",
       "  </tbody>\n",
       "</table>\n",
       "</div>"
      ],
      "text/plain": [
       "                            label   label_binary  \\\n",
       "2536                No_Propaganda  No_Propaganda   \n",
       "2396  Thought-terminating_Cliches     Propaganda   \n",
       "3176                No_Propaganda  No_Propaganda   \n",
       "\n",
       "                                                   text  \n",
       "2536  the 69-year-old Jewish man (wearing a kippah o...  \n",
       "2396                                         It is over  \n",
       "3176  Politician?\\nWhom do you consider to be the mo...  "
      ]
     },
     "execution_count": 5,
     "metadata": {},
     "output_type": "execute_result"
    }
   ],
   "source": [
    "print(train_df.shape)\n",
    "train_df.sample(3)"
   ]
  },
  {
   "cell_type": "markdown",
   "metadata": {},
   "source": [
    "> ### The training data, which was created in generate_data.ipynb, contains +15,900 samples with binary and multi-class labels. Here we'll focus on multi-class classification."
   ]
  },
  {
   "cell_type": "code",
   "execution_count": 7,
   "metadata": {},
   "outputs": [],
   "source": [
    "import textstat"
   ]
  },
  {
   "cell_type": "code",
   "execution_count": 10,
   "metadata": {},
   "outputs": [],
   "source": [
    "train_df[\"sent_count\"] = train_df.apply(lambda x: textstat.sentence_count(x[\"text\"]), axis = 1) # number of sentences in span\n",
    "train_df[\"flesch_reading\"] = train_df.apply(lambda x: textstat.flesch_reading_ease(x[\"text\"]), axis = 1) # Flesch reading ease score, higher is easier to read\n",
    "train_df[\"difficult_words\"] = train_df.apply(lambda x: textstat.difficult_words(x[\"text\"]), axis = 1) # count of words with 2 or more syllables, seems like low threshold\n",
    "train_df[\"read_index\"] = train_df.apply(lambda x: textstat.automated_readability_index(x[\"text\"]), axis = 1) # approximates the grade level needed to comprehend the text\n",
    "train_df[\"syllable_count\"] = train_df.apply(lambda x: textstat.syllable_count(x[\"text\"]), axis = 1) # count of the number of syllables in the given text\n",
    "train_df[\"text_standard\"] = train_df.apply(lambda x: textstat.text_standard(x[\"text\"], float_output = True), axis = 1) # combines a number of readability scores, the estimated school grade level to understand text\n",
    "train_df[\"text_len\"] = train_df.apply(lambda x: len(x[\"text\"]), axis=1) # the length of the text"
   ]
  },
  {
   "cell_type": "code",
   "execution_count": 11,
   "metadata": {},
   "outputs": [
    {
     "data": {
      "text/html": [
       "<div>\n",
       "<style scoped>\n",
       "    .dataframe tbody tr th:only-of-type {\n",
       "        vertical-align: middle;\n",
       "    }\n",
       "\n",
       "    .dataframe tbody tr th {\n",
       "        vertical-align: top;\n",
       "    }\n",
       "\n",
       "    .dataframe thead th {\n",
       "        text-align: right;\n",
       "    }\n",
       "</style>\n",
       "<table border=\"1\" class=\"dataframe\">\n",
       "  <thead>\n",
       "    <tr style=\"text-align: right;\">\n",
       "      <th>label_binary</th>\n",
       "      <th>No_Propaganda</th>\n",
       "      <th>Propaganda</th>\n",
       "    </tr>\n",
       "  </thead>\n",
       "  <tbody>\n",
       "    <tr>\n",
       "      <th>sent_count</th>\n",
       "      <td>1.2</td>\n",
       "      <td>1.1</td>\n",
       "    </tr>\n",
       "    <tr>\n",
       "      <th>flesch_reading</th>\n",
       "      <td>67.2</td>\n",
       "      <td>44.5</td>\n",
       "    </tr>\n",
       "    <tr>\n",
       "      <th>difficult_words</th>\n",
       "      <td>3.2</td>\n",
       "      <td>2.2</td>\n",
       "    </tr>\n",
       "    <tr>\n",
       "      <th>read_index</th>\n",
       "      <td>8.3</td>\n",
       "      <td>10.7</td>\n",
       "    </tr>\n",
       "    <tr>\n",
       "      <th>syllable_count</th>\n",
       "      <td>18.8</td>\n",
       "      <td>12.6</td>\n",
       "    </tr>\n",
       "    <tr>\n",
       "      <th>text_standard</th>\n",
       "      <td>7.8</td>\n",
       "      <td>7.9</td>\n",
       "    </tr>\n",
       "    <tr>\n",
       "      <th>text_len</th>\n",
       "      <td>75.0</td>\n",
       "      <td>48.3</td>\n",
       "    </tr>\n",
       "  </tbody>\n",
       "</table>\n",
       "</div>"
      ],
      "text/plain": [
       "label_binary     No_Propaganda  Propaganda\n",
       "sent_count                 1.2         1.1\n",
       "flesch_reading            67.2        44.5\n",
       "difficult_words            3.2         2.2\n",
       "read_index                 8.3        10.7\n",
       "syllable_count            18.8        12.6\n",
       "text_standard              7.8         7.9\n",
       "text_len                  75.0        48.3"
      ]
     },
     "execution_count": 11,
     "metadata": {},
     "output_type": "execute_result"
    }
   ],
   "source": [
    "text_stats = round(train_df.groupby(\"label_binary\").mean(),1)\n",
    "text_stats.T"
   ]
  },
  {
   "cell_type": "markdown",
   "metadata": {},
   "source": [
    "> ### Based on research into related work it appears that creating some linguistic features from the sample text may help with the classification task.\n",
    "> ### <span style=\"color:#8800ff\"> In fact, we can see that texts featuring propaganda are shorter (text_len), more difficult to read (flesch_reading, lower is harder to understand), and contain fewer syllables (syllable_count) than texts without propaganda."
   ]
  },
  {
   "cell_type": "code",
   "execution_count": 17,
   "metadata": {},
   "outputs": [],
   "source": [
    "feature_cols = ['text', 'sent_count', 'flesch_reading',\n",
    "                'difficult_words', 'read_index', 'syllable_count',\n",
    "                'text_standard','text_len']"
   ]
  },
  {
   "cell_type": "markdown",
   "metadata": {},
   "source": [
    "# <span style=\"color:#FF8800\"> Train test split"
   ]
  },
  {
   "cell_type": "code",
   "execution_count": 15,
   "metadata": {},
   "outputs": [],
   "source": [
    "from sklearn.model_selection import train_test_split"
   ]
  },
  {
   "cell_type": "code",
   "execution_count": 24,
   "metadata": {},
   "outputs": [],
   "source": [
    "X_train, X_test, y_train, y_test = train_test_split(\n",
    "    train_df[feature_cols], \n",
    "    train_df[\"label\"], \n",
    "    train_size = 0.7, \n",
    "    random_state = 3, \n",
    "    shuffle = True, \n",
    "    stratify = train_df[\"label\"])"
   ]
  },
  {
   "cell_type": "markdown",
   "metadata": {},
   "source": [
    "> ### Here we're creating a training and testing split from just the training data so we can perform grid search and tune the hyperparameters.\n",
    "\n",
    "> ### We're using a standard 70-30 train-test split, shuffling the samples, and stratifying the samples so the training and testing data contain similar proportions of the labels."
   ]
  },
  {
   "cell_type": "markdown",
   "metadata": {},
   "source": [
    "# <span style=\"color:#FF8800\"> Transform features"
   ]
  },
  {
   "cell_type": "code",
   "execution_count": 21,
   "metadata": {},
   "outputs": [],
   "source": [
    "from sklearn.feature_extraction.text import TfidfVectorizer"
   ]
  },
  {
   "cell_type": "code",
   "execution_count": 22,
   "metadata": {},
   "outputs": [],
   "source": [
    "word_vectorizer = TfidfVectorizer(\n",
    "    strip_accents = \"unicode\", \n",
    "    lowercase = True,\n",
    "    stop_words = \"english\", \n",
    "    analyzer = \"word\", \n",
    "    token_pattern = \"[a-z]+\", \n",
    "    smooth_idf = True, \n",
    "    ngram_range=(1,3)\n",
    ")"
   ]
  },
  {
   "cell_type": "markdown",
   "metadata": {},
   "source": [
    "> ### I want to create a tf-idf statistic based on the text in the samples in order to utilize insights related to how informative words are based on how frequently they are used 1) in the corpus overall and 2) in a particular sample.\n",
    "> ### TfidfVectorizer will generate a sparse matrix.\n",
    "> ### I'm employing smoothing so each token is counted at least once in the vocabulary. This is more relevant when we apply the tfidf matrix created here to the testing data we split out earlier."
   ]
  },
  {
   "cell_type": "code",
   "execution_count": 23,
   "metadata": {},
   "outputs": [],
   "source": [
    "from sklearn.compose import ColumnTransformer"
   ]
  },
  {
   "cell_type": "code",
   "execution_count": 9,
   "metadata": {},
   "outputs": [],
   "source": [
    "column_trans = ColumnTransformer([('tfidf', word_vectorizer, 'text')], remainder=\"passthrough\")\n",
    "\n",
    "# train_transformed = column_trans.fit_transform(X_train)\n",
    "# test_transformed = column_trans.transform(X_test) #must use same transform call for dev data\n",
    "\n",
    "\n",
    "train_transformed = column_trans.fit_transform(train_df[feature_cols])\n",
    "# test_transformed = column_trans.transform(train_df[feature_cols]) #must use same transform call for dev data"
   ]
  },
  {
   "cell_type": "code",
   "execution_count": 10,
   "metadata": {},
   "outputs": [],
   "source": [
    "from sklearn.linear_model import LogisticRegression"
   ]
  },
  {
   "cell_type": "code",
   "execution_count": 11,
   "metadata": {},
   "outputs": [],
   "source": [
    "best_lr = LogisticRegression(C=10000, class_weight='balanced', dual=False,\n",
    "                   fit_intercept=True, intercept_scaling=1, l1_ratio=None,\n",
    "                   max_iter=100, multi_class='auto', n_jobs=-1, penalty='l2',\n",
    "                   random_state=234, solver='liblinear', tol=0.0001, verbose=0,\n",
    "                   warm_start=False)"
   ]
  },
  {
   "cell_type": "code",
   "execution_count": 12,
   "metadata": {},
   "outputs": [
    {
     "name": "stderr",
     "output_type": "stream",
     "text": [
      "/home/bryan/Documents/Code/python-environments/SI630/lib/python3.6/site-packages/sklearn/linear_model/_logistic.py:1539: UserWarning: 'n_jobs' > 1 does not have any effect when 'solver' is set to 'liblinear'. Got 'n_jobs' = 8.\n",
      "  \" = {}.\".format(effective_n_jobs(self.n_jobs)))\n"
     ]
    },
    {
     "data": {
      "text/plain": [
       "LogisticRegression(C=10000, class_weight='balanced', dual=False,\n",
       "                   fit_intercept=True, intercept_scaling=1, l1_ratio=None,\n",
       "                   max_iter=100, multi_class='auto', n_jobs=-1, penalty='l2',\n",
       "                   random_state=234, solver='liblinear', tol=0.0001, verbose=0,\n",
       "                   warm_start=False)"
      ]
     },
     "execution_count": 12,
     "metadata": {},
     "output_type": "execute_result"
    }
   ],
   "source": [
    "# best_lr.fit(train_transformed, train_df[\"label_binary\"])\n",
    "best_lr.fit(train_transformed, train_df[\"label\"])"
   ]
  },
  {
   "cell_type": "code",
   "execution_count": 13,
   "metadata": {},
   "outputs": [],
   "source": [
    "# load dev data\n",
    "dev_df = pd.read_csv(\"dev_data.tsv\", \n",
    "                       sep = \"\\t\",\n",
    "                       usecols = [\"label\",\"label_binary\",\"text\"]\n",
    "                      )"
   ]
  },
  {
   "cell_type": "code",
   "execution_count": 14,
   "metadata": {},
   "outputs": [
    {
     "name": "stdout",
     "output_type": "stream",
     "text": [
      "(2850, 3)\n"
     ]
    },
    {
     "data": {
      "text/html": [
       "<div>\n",
       "<style scoped>\n",
       "    .dataframe tbody tr th:only-of-type {\n",
       "        vertical-align: middle;\n",
       "    }\n",
       "\n",
       "    .dataframe tbody tr th {\n",
       "        vertical-align: top;\n",
       "    }\n",
       "\n",
       "    .dataframe thead th {\n",
       "        text-align: right;\n",
       "    }\n",
       "</style>\n",
       "<table border=\"1\" class=\"dataframe\">\n",
       "  <thead>\n",
       "    <tr style=\"text-align: right;\">\n",
       "      <th></th>\n",
       "      <th>label</th>\n",
       "      <th>label_binary</th>\n",
       "      <th>text</th>\n",
       "    </tr>\n",
       "  </thead>\n",
       "  <tbody>\n",
       "    <tr>\n",
       "      <th>1353</th>\n",
       "      <td>No_Propaganda</td>\n",
       "      <td>No_Propaganda</td>\n",
       "      <td>Trump of high treason against the United State...</td>\n",
       "    </tr>\n",
       "    <tr>\n",
       "      <th>94</th>\n",
       "      <td>No_Propaganda</td>\n",
       "      <td>No_Propaganda</td>\n",
       "      <td>Craig Roberts Best Price: $11.96 Buy New $19.3...</td>\n",
       "    </tr>\n",
       "    <tr>\n",
       "      <th>1352</th>\n",
       "      <td>No_Propaganda</td>\n",
       "      <td>No_Propaganda</td>\n",
       "      <td>they feel safe and trust the connections they ...</td>\n",
       "    </tr>\n",
       "  </tbody>\n",
       "</table>\n",
       "</div>"
      ],
      "text/plain": [
       "              label   label_binary  \\\n",
       "1353  No_Propaganda  No_Propaganda   \n",
       "94    No_Propaganda  No_Propaganda   \n",
       "1352  No_Propaganda  No_Propaganda   \n",
       "\n",
       "                                                   text  \n",
       "1353  Trump of high treason against the United State...  \n",
       "94    Craig Roberts Best Price: $11.96 Buy New $19.3...  \n",
       "1352  they feel safe and trust the connections they ...  "
      ]
     },
     "execution_count": 14,
     "metadata": {},
     "output_type": "execute_result"
    }
   ],
   "source": [
    "print(dev_df.shape)\n",
    "dev_df.sample(3)"
   ]
  },
  {
   "cell_type": "code",
   "execution_count": 15,
   "metadata": {},
   "outputs": [],
   "source": [
    "# Add features\n",
    "\n",
    "import textstat\n",
    "\n",
    "dev_df[\"sent_count\"] = dev_df.apply(lambda x: textstat.sentence_count(x[\"text\"]), axis=1)\n",
    "dev_df[\"flesch_reading\"] = dev_df.apply(lambda x: textstat.flesch_reading_ease(x[\"text\"]), axis=1)\n",
    "dev_df[\"difficult_words\"] = dev_df.apply(lambda x: textstat.difficult_words(x[\"text\"]), axis=1)\n",
    "dev_df[\"read_index\"] = dev_df.apply(lambda x: textstat.automated_readability_index(x[\"text\"]), axis=1)\n",
    "dev_df[\"syllable_count\"] = dev_df.apply(lambda x: textstat.syllable_count(x[\"text\"]), axis=1)\n",
    "dev_df[\"text_standard\"] = dev_df.apply(lambda x: textstat.text_standard(x[\"text\"], float_output=True), axis=1)\n",
    "\n",
    "dev_df[\"text_len\"] = dev_df.apply(lambda x: len(x[\"text\"]), axis=1)"
   ]
  },
  {
   "cell_type": "code",
   "execution_count": 16,
   "metadata": {},
   "outputs": [],
   "source": [
    "dev_transformed = column_trans.transform(dev_df[feature_cols]) #must use same transform call for dev data"
   ]
  },
  {
   "cell_type": "code",
   "execution_count": 17,
   "metadata": {},
   "outputs": [],
   "source": [
    "lr_y_pred = best_lr.predict(dev_transformed)"
   ]
  },
  {
   "cell_type": "code",
   "execution_count": 18,
   "metadata": {},
   "outputs": [],
   "source": [
    "from sklearn.metrics import confusion_matrix\n",
    "import matplotlib.pyplot as plt"
   ]
  },
  {
   "cell_type": "code",
   "execution_count": 19,
   "metadata": {},
   "outputs": [],
   "source": [
    "labels = list(best_lr.classes_)\n",
    "# cm = confusion_matrix(dev_df[\"label_binary\"], lr_y_pred, labels)\n",
    "cm = confusion_matrix(dev_df[\"label\"], lr_y_pred, labels)"
   ]
  },
  {
   "cell_type": "code",
   "execution_count": 33,
   "metadata": {},
   "outputs": [],
   "source": [
    "import numpy as np\n",
    "\n",
    "\n",
    "def plot_confusion_matrix(cm,\n",
    "                          target_names,\n",
    "                          title='Confusion matrix',\n",
    "                          cmap=None,\n",
    "                          normalize=True):\n",
    "    \"\"\"\n",
    "    given a sklearn confusion matrix (cm), make a nice plot\n",
    "\n",
    "    Arguments\n",
    "    ---------\n",
    "    cm:           confusion matrix from sklearn.metrics.confusion_matrix\n",
    "\n",
    "    target_names: given classification classes such as [0, 1, 2]\n",
    "                  the class names, for example: ['high', 'medium', 'low']\n",
    "\n",
    "    title:        the text to display at the top of the matrix\n",
    "\n",
    "    cmap:         the gradient of the values displayed from matplotlib.pyplot.cm\n",
    "                  see http://matplotlib.org/examples/color/colormaps_reference.html\n",
    "                  plt.get_cmap('jet') or plt.cm.Blues\n",
    "\n",
    "    normalize:    If False, plot the raw numbers\n",
    "                  If True, plot the proportions\n",
    "\n",
    "    Usage\n",
    "    -----\n",
    "    plot_confusion_matrix(cm           = cm,                  # confusion matrix created by\n",
    "                                                              # sklearn.metrics.confusion_matrix\n",
    "                          normalize    = True,                # show proportions\n",
    "                          target_names = y_labels_vals,       # list of names of the classes\n",
    "                          title        = best_estimator_name) # title of graph\n",
    "\n",
    "    Citiation\n",
    "    ---------\n",
    "    http://scikit-learn.org/stable/auto_examples/model_selection/plot_confusion_matrix.html\n",
    "\n",
    "    \"\"\"\n",
    "    import matplotlib.pyplot as plt\n",
    "    import numpy as np\n",
    "    import itertools\n",
    "\n",
    "    accuracy = np.trace(cm) / np.sum(cm).astype('float')\n",
    "    misclass = 1 - accuracy\n",
    "\n",
    "    if cmap is None:\n",
    "        cmap = plt.get_cmap('Blues')\n",
    "\n",
    "    plt.figure(figsize=(20, 10))\n",
    "#     plt.figure()\n",
    "    plt.imshow(cm, interpolation='nearest', cmap=cmap)\n",
    "    plt.title(title)\n",
    "    plt.colorbar()\n",
    "\n",
    "    if target_names is not None:\n",
    "        tick_marks = np.arange(len(target_names))\n",
    "        plt.xticks(tick_marks, target_names, rotation=90)\n",
    "        plt.yticks(tick_marks, target_names)\n",
    "\n",
    "    if normalize:\n",
    "        cm = cm.astype('float') / cm.sum(axis=1)[:, np.newaxis]\n",
    "\n",
    "\n",
    "    thresh = cm.max() / 1.5 if normalize else cm.max() / 2\n",
    "    for i, j in itertools.product(range(cm.shape[0]), range(cm.shape[1])):\n",
    "        if normalize:\n",
    "            plt.text(j, i, \"{:0.4f}\".format(cm[i, j]),\n",
    "                     horizontalalignment=\"center\",\n",
    "                     color=\"white\" if cm[i, j] > thresh else \"black\")\n",
    "        else:\n",
    "            plt.text(j, i, \"{:,}\".format(cm[i, j]),\n",
    "                     horizontalalignment=\"center\",\n",
    "                     color=\"white\" if cm[i, j] > thresh else \"black\")\n",
    "\n",
    "\n",
    "    plt.tight_layout()\n",
    "    plt.ylabel('True label')\n",
    "#     plt.xlabel('Predicted label\\naccuracy={:0.4f}; misclass={:0.4f}'.format(accuracy, misclass))\n",
    "    plt.xlabel('Predicted label')\n",
    "    plt.savefig('LR_confusion_mat.png')\n",
    "    plt.show()"
   ]
  },
  {
   "cell_type": "code",
   "execution_count": 34,
   "metadata": {},
   "outputs": [
    {
     "data": {
      "image/png": "[encoded data removed]",
      "text/plain": [
       "<Figure size 1440x720 with 2 Axes>"
      ]
     },
     "metadata": {
      "needs_background": "light"
     },
     "output_type": "display_data"
    }
   ],
   "source": [
    "plot_confusion_matrix(cm = cm, target_names = labels, normalize = False)"
   ]
  },
  {
   "cell_type": "code",
   "execution_count": 22,
   "metadata": {},
   "outputs": [],
   "source": [
    "from sklearn.metrics import classification_report"
   ]
  },
  {
   "cell_type": "code",
   "execution_count": 24,
   "metadata": {},
   "outputs": [
    {
     "name": "stdout",
     "output_type": "stream",
     "text": [
      "                                    precision    recall  f1-score   support\n",
      "\n",
      "               Appeal_to_Authority       0.00      0.00      0.00        14\n",
      "          Appeal_to_fear-prejudice       0.16      0.11      0.13        44\n",
      "    Bandwagon,Reductio_ad_hitlerum       1.00      0.20      0.33         5\n",
      "           Black-and-White_Fallacy       0.00      0.00      0.00        22\n",
      "         Causal_Oversimplification       0.00      0.00      0.00        18\n",
      "                             Doubt       0.09      0.11      0.10        66\n",
      "         Exaggeration,Minimisation       0.20      0.15      0.17        68\n",
      "                       Flag-Waving       0.44      0.44      0.44        87\n",
      "                   Loaded_Language       0.56      0.70      0.62       324\n",
      "             Name_Calling,Labeling       0.47      0.41      0.44       183\n",
      "                     No_Propaganda       0.89      0.92      0.90      1789\n",
      "                        Repetition       0.15      0.08      0.11       144\n",
      "                           Slogans       0.15      0.05      0.08        40\n",
      "       Thought-terminating_Cliches       0.05      0.24      0.09        17\n",
      "Whataboutism,Straw_Men,Red_Herring       0.12      0.07      0.09        29\n",
      "\n",
      "                          accuracy                           0.71      2850\n",
      "                         macro avg       0.29      0.23      0.23      2850\n",
      "                      weighted avg       0.69      0.71      0.70      2850\n",
      "\n"
     ]
    }
   ],
   "source": [
    "print(classification_report(dev_df[\"label\"], lr_y_pred, target_names=labels))\n",
    "# print(classification_report(dev_df[\"label_binary\"], lr_y_pred, target_names=labels))"
   ]
  },
  {
   "cell_type": "code",
   "execution_count": null,
   "metadata": {},
   "outputs": [],
   "source": [
    "from sklearn.metrics import f1_score\n",
    "f1_score(dev_df[\"label\"], lr_y_pred, average='micro') #semeval uses micro F1"
   ]
  },
  {
   "cell_type": "code",
   "execution_count": null,
   "metadata": {},
   "outputs": [],
   "source": [
    "# flat_true_labels, flat_predictions\n",
    "flat_true_labels = [0,1,1,0]"
   ]
  },
  {
   "cell_type": "code",
   "execution_count": null,
   "metadata": {},
   "outputs": [],
   "source": [
    "[x for x in flat_true_labels]"
   ]
  },
  {
   "cell_type": "code",
   "execution_count": null,
   "metadata": {},
   "outputs": [],
   "source": [
    "flat_true_labels = [\"Propaganda\" if x == 1 else \"No_Propaganda\" for x in flat_true_labels]\n",
    "also = [\"Propaganda\" if x == 1 else \"No_Propaganda\" for x in flat_true_labels]"
   ]
  },
  {
   "cell_type": "code",
   "execution_count": null,
   "metadata": {},
   "outputs": [],
   "source": []
  },
  {
   "cell_type": "code",
   "execution_count": null,
   "metadata": {},
   "outputs": [],
   "source": [
    "this_df = pd.DataFrame({\"true_labels\":flat_true_labels,\"predicted_labels\":also}, columns=[\"true_labels\",\"predicted_labels\"])\n",
    "this_df.to_csv(\"testing.csv\", index=False)"
   ]
  },
  {
   "cell_type": "code",
   "execution_count": null,
   "metadata": {},
   "outputs": [],
   "source": []
  }
 ],
 "metadata": {
  "kernelspec": {
   "display_name": "Python 3",
   "language": "python",
   "name": "python3"
  },
  "language_info": {
   "codemirror_mode": {
    "name": "ipython",
    "version": 3
   },
   "file_extension": ".py",
   "mimetype": "text/x-python",
   "name": "python",
   "nbconvert_exporter": "python",
   "pygments_lexer": "ipython3",
   "version": "3.6.9"
  }
 },
 "nbformat": 4,
 "nbformat_minor": 4
}
