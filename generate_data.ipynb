{
 "cells": [
  {
   "cell_type": "markdown",
   "metadata": {},
   "source": [
    "# To generate train & dev data sets for model evaluation\n",
    "\n",
    "\n",
    "### To format Semeval data in BERT-friendly format\n",
    "Three TSV (tab-separated value) files\n",
    "1. train ~70% of data\n",
    "1. dev ~10% of data\n",
    "1. test ~ 20% of data\n",
    "\n",
    "Featuring columns of ID, class label, throw-away letter, text for classification for #s 1 & 2. # 3 to only feature ID and text for classification (?)"
   ]
  },
  {
   "cell_type": "code",
   "execution_count": 1,
   "metadata": {},
   "outputs": [],
   "source": [
    "import os\n",
    "import pandas as pd\n",
    "import spacy"
   ]
  },
  {
   "cell_type": "markdown",
   "metadata": {},
   "source": [
    "## Generate train data"
   ]
  },
  {
   "cell_type": "code",
   "execution_count": 2,
   "metadata": {},
   "outputs": [],
   "source": [
    "PATH = \"/home/bryan/Documents/Code/si630/semeval/datasets/train-articles/\""
   ]
  },
  {
   "cell_type": "code",
   "execution_count": 3,
   "metadata": {},
   "outputs": [],
   "source": [
    "filenames = []\n",
    "for root, dirs, files in os.walk(PATH, topdown=True):\n",
    "    filenames = files"
   ]
  },
  {
   "cell_type": "code",
   "execution_count": 4,
   "metadata": {},
   "outputs": [],
   "source": [
    "nlp = spacy.load(\"en_core_web_sm\", disable=[\"ner\"]) #can also disable components at load, nlp = spacy.load(\"en_core_web_sm\", disable=[\"tagger\", \"parser\"])"
   ]
  },
  {
   "cell_type": "code",
   "execution_count": 5,
   "metadata": {},
   "outputs": [],
   "source": [
    "texts = [] #create a single string for each doc & add to list\n",
    "text_to_num = []\n",
    "counter = 0\n",
    "for name in filenames:\n",
    "    text_to_num.append((counter,name))\n",
    "    counter += 1\n",
    "    with open(PATH+name) as f:\n",
    "        text = f.read()\n",
    "        texts.append(text)"
   ]
  },
  {
   "cell_type": "code",
   "execution_count": 6,
   "metadata": {},
   "outputs": [],
   "source": [
    "from spacy.tokens import Doc, Token, Span\n",
    "Span.set_extension(\"TRAIN_LABEL\", default = \"No_Label\")"
   ]
  },
  {
   "cell_type": "code",
   "execution_count": 7,
   "metadata": {},
   "outputs": [
    {
     "name": "stdout",
     "output_type": "stream",
     "text": [
      "CPU times: user 22.1 s, sys: 6.69 s, total: 28.8 s\n",
      "Wall time: 28.8 s\n"
     ]
    }
   ],
   "source": [
    "%%time\n",
    "\n",
    "docs_as_docs = []\n",
    "for doc in nlp.pipe(texts):\n",
    "    docs_as_docs.append(doc)"
   ]
  },
  {
   "cell_type": "code",
   "execution_count": 8,
   "metadata": {},
   "outputs": [],
   "source": [
    "#create list of tuples of file name/number to element num & then convert to df\n",
    "MAP_NUM_TO_NAME_df = pd.DataFrame(text_to_num, columns = [\"element_in_list\", \"filename\"])"
   ]
  },
  {
   "cell_type": "code",
   "execution_count": 9,
   "metadata": {},
   "outputs": [
    {
     "data": {
      "text/html": [
       "<div>\n",
       "<style scoped>\n",
       "    .dataframe tbody tr th:only-of-type {\n",
       "        vertical-align: middle;\n",
       "    }\n",
       "\n",
       "    .dataframe tbody tr th {\n",
       "        vertical-align: top;\n",
       "    }\n",
       "\n",
       "    .dataframe thead th {\n",
       "        text-align: right;\n",
       "    }\n",
       "</style>\n",
       "<table border=\"1\" class=\"dataframe\">\n",
       "  <thead>\n",
       "    <tr style=\"text-align: right;\">\n",
       "      <th></th>\n",
       "      <th>element_in_list</th>\n",
       "      <th>filename</th>\n",
       "    </tr>\n",
       "  </thead>\n",
       "  <tbody>\n",
       "    <tr>\n",
       "      <th>121</th>\n",
       "      <td>121</td>\n",
       "      <td>article761334950.txt</td>\n",
       "    </tr>\n",
       "    <tr>\n",
       "      <th>17</th>\n",
       "      <td>17</td>\n",
       "      <td>article700662577.txt</td>\n",
       "    </tr>\n",
       "    <tr>\n",
       "      <th>258</th>\n",
       "      <td>258</td>\n",
       "      <td>article765385479.txt</td>\n",
       "    </tr>\n",
       "  </tbody>\n",
       "</table>\n",
       "</div>"
      ],
      "text/plain": [
       "     element_in_list              filename\n",
       "121              121  article761334950.txt\n",
       "17                17  article700662577.txt\n",
       "258              258  article765385479.txt"
      ]
     },
     "execution_count": 9,
     "metadata": {},
     "output_type": "execute_result"
    }
   ],
   "source": [
    "MAP_NUM_TO_NAME_df.sample(3)"
   ]
  },
  {
   "cell_type": "code",
   "execution_count": 10,
   "metadata": {},
   "outputs": [],
   "source": [
    "import re"
   ]
  },
  {
   "cell_type": "code",
   "execution_count": 11,
   "metadata": {},
   "outputs": [],
   "source": [
    "MAP_NUM_TO_NAME_df[\"filenumber\"] = MAP_NUM_TO_NAME_df.apply(lambda x: int(re.findall(\"\\d+\", x[\"filename\"])[0]), axis=1)\n",
    "MAP_NUM_TO_NAME_df = MAP_NUM_TO_NAME_df[[\"filenumber\",\"filename\",\"element_in_list\"]]"
   ]
  },
  {
   "cell_type": "code",
   "execution_count": 12,
   "metadata": {},
   "outputs": [],
   "source": [
    "TRAIN_LABELS = \"/home/bryan/Documents/Code/si630/semeval/datasets/train-task2-TC.labels\""
   ]
  },
  {
   "cell_type": "code",
   "execution_count": 13,
   "metadata": {},
   "outputs": [],
   "source": [
    "ALL_SPANS = pd.read_csv(TRAIN_LABELS, sep = \"\\t\", header = None, names = [\"filenumber\",\"label\",\"span_start\",\"span_end\"])"
   ]
  },
  {
   "cell_type": "code",
   "execution_count": 14,
   "metadata": {},
   "outputs": [
    {
     "data": {
      "text/html": [
       "<div>\n",
       "<style scoped>\n",
       "    .dataframe tbody tr th:only-of-type {\n",
       "        vertical-align: middle;\n",
       "    }\n",
       "\n",
       "    .dataframe tbody tr th {\n",
       "        vertical-align: top;\n",
       "    }\n",
       "\n",
       "    .dataframe thead th {\n",
       "        text-align: right;\n",
       "    }\n",
       "</style>\n",
       "<table border=\"1\" class=\"dataframe\">\n",
       "  <thead>\n",
       "    <tr style=\"text-align: right;\">\n",
       "      <th></th>\n",
       "      <th>filenumber</th>\n",
       "      <th>label</th>\n",
       "      <th>span_start</th>\n",
       "      <th>span_end</th>\n",
       "    </tr>\n",
       "  </thead>\n",
       "  <tbody>\n",
       "    <tr>\n",
       "      <th>5504</th>\n",
       "      <td>790667730</td>\n",
       "      <td>Loaded_Language</td>\n",
       "      <td>1967</td>\n",
       "      <td>1984</td>\n",
       "    </tr>\n",
       "    <tr>\n",
       "      <th>2308</th>\n",
       "      <td>757964238</td>\n",
       "      <td>Exaggeration,Minimisation</td>\n",
       "      <td>2175</td>\n",
       "      <td>2193</td>\n",
       "    </tr>\n",
       "    <tr>\n",
       "      <th>2070</th>\n",
       "      <td>738207834</td>\n",
       "      <td>Name_Calling,Labeling</td>\n",
       "      <td>12801</td>\n",
       "      <td>12836</td>\n",
       "    </tr>\n",
       "  </tbody>\n",
       "</table>\n",
       "</div>"
      ],
      "text/plain": [
       "      filenumber                      label  span_start  span_end\n",
       "5504   790667730            Loaded_Language        1967      1984\n",
       "2308   757964238  Exaggeration,Minimisation        2175      2193\n",
       "2070   738207834      Name_Calling,Labeling       12801     12836"
      ]
     },
     "execution_count": 14,
     "metadata": {},
     "output_type": "execute_result"
    }
   ],
   "source": [
    "ALL_SPANS.sample(3)"
   ]
  },
  {
   "cell_type": "code",
   "execution_count": 15,
   "metadata": {},
   "outputs": [],
   "source": [
    "ALL_SPANS_MAP = ALL_SPANS.merge(MAP_NUM_TO_NAME_df, on = \"filenumber\")"
   ]
  },
  {
   "cell_type": "code",
   "execution_count": 16,
   "metadata": {},
   "outputs": [
    {
     "data": {
      "text/html": [
       "<div>\n",
       "<style scoped>\n",
       "    .dataframe tbody tr th:only-of-type {\n",
       "        vertical-align: middle;\n",
       "    }\n",
       "\n",
       "    .dataframe tbody tr th {\n",
       "        vertical-align: top;\n",
       "    }\n",
       "\n",
       "    .dataframe thead th {\n",
       "        text-align: right;\n",
       "    }\n",
       "</style>\n",
       "<table border=\"1\" class=\"dataframe\">\n",
       "  <thead>\n",
       "    <tr style=\"text-align: right;\">\n",
       "      <th></th>\n",
       "      <th>filenumber</th>\n",
       "      <th>label</th>\n",
       "      <th>span_start</th>\n",
       "      <th>span_end</th>\n",
       "      <th>filename</th>\n",
       "      <th>element_in_list</th>\n",
       "    </tr>\n",
       "  </thead>\n",
       "  <tbody>\n",
       "    <tr>\n",
       "      <th>1270</th>\n",
       "      <td>724095467</td>\n",
       "      <td>Exaggeration,Minimisation</td>\n",
       "      <td>2963</td>\n",
       "      <td>2970</td>\n",
       "      <td>article724095467.txt</td>\n",
       "      <td>6</td>\n",
       "    </tr>\n",
       "    <tr>\n",
       "      <th>1607</th>\n",
       "      <td>729410793</td>\n",
       "      <td>Appeal_to_Authority</td>\n",
       "      <td>4586</td>\n",
       "      <td>4678</td>\n",
       "      <td>article729410793.txt</td>\n",
       "      <td>323</td>\n",
       "    </tr>\n",
       "    <tr>\n",
       "      <th>1950</th>\n",
       "      <td>736231219</td>\n",
       "      <td>Name_Calling,Labeling</td>\n",
       "      <td>1504</td>\n",
       "      <td>1544</td>\n",
       "      <td>article736231219.txt</td>\n",
       "      <td>16</td>\n",
       "    </tr>\n",
       "  </tbody>\n",
       "</table>\n",
       "</div>"
      ],
      "text/plain": [
       "      filenumber                      label  span_start  span_end  \\\n",
       "1270   724095467  Exaggeration,Minimisation        2963      2970   \n",
       "1607   729410793        Appeal_to_Authority        4586      4678   \n",
       "1950   736231219      Name_Calling,Labeling        1504      1544   \n",
       "\n",
       "                  filename  element_in_list  \n",
       "1270  article724095467.txt                6  \n",
       "1607  article729410793.txt              323  \n",
       "1950  article736231219.txt               16  "
      ]
     },
     "execution_count": 16,
     "metadata": {},
     "output_type": "execute_result"
    }
   ],
   "source": [
    "ALL_SPANS_MAP.sample(3)"
   ]
  },
  {
   "cell_type": "code",
   "execution_count": 17,
   "metadata": {},
   "outputs": [],
   "source": [
    "#currently there are 26 errors, mostly due to missing/wrong spans\n",
    "for row in ALL_SPANS_MAP.iterrows():\n",
    "    try:\n",
    "        row_temp = row[1]\n",
    "        docs_as_docs[row_temp[\"element_in_list\"]].char_span(row_temp[\"span_start\"], row_temp[\"span_end\"])._.TRAIN_LABEL = row_temp[\"label\"]\n",
    "    except Exception as e:\n",
    "        pass"
   ]
  },
  {
   "cell_type": "code",
   "execution_count": 18,
   "metadata": {},
   "outputs": [
    {
     "name": "stdout",
     "output_type": "stream",
     "text": [
      "CPU times: user 5.12 s, sys: 3.1 ms, total: 5.13 s\n",
      "Wall time: 5.27 s\n"
     ]
    }
   ],
   "source": [
    "%%time\n",
    "\n",
    "from intervaltree import Interval, IntervalTree\n",
    "\n",
    "ALL_NEG_SPANS = []\n",
    "errors = []\n",
    "CONTEXT_WINDOW = 75 #size of one half of context window\n",
    "\n",
    "# for a unique value in element_in_list\n",
    "for i in ALL_SPANS_MAP[\"element_in_list\"].unique(): #iterate through unique entries in element_in_list\n",
    "    sub_df = ALL_SPANS_MAP[ALL_SPANS_MAP[\"element_in_list\"]==i] #this is subset of main df containing only entries for the current doc\n",
    "    these_intervals = [(x[1][\"span_start\"], x[1][\"span_end\"]) for x in sub_df.iterrows()] #get intervals\n",
    "    this_tree = IntervalTree.from_tuples(these_intervals) #initialize tree with intervals\n",
    "    \n",
    "    this_doc = docs_as_docs[i]\n",
    "    START_POINT = CONTEXT_WINDOW #char position we can start from # start_point = int(math.fabs(min(context_window))) \n",
    "    END_POINT = len(this_doc)-(CONTEXT_WINDOW) #char position we can work up until # end_point = len(docs_as_docs[13])-(max(max(context_window),0))\n",
    "    for j in range(START_POINT, END_POINT): #for the range of possible center positions of the CONTEXT_WINDOW\n",
    "        if this_tree.overlap(j, j+CONTEXT_WINDOW):\n",
    "            continue\n",
    "        else:\n",
    "            try:\n",
    "                docs_as_docs[i].char_span(j, j+CONTEXT_WINDOW)._.TRAIN_LABEL = \"\"\n",
    "                ALL_NEG_SPANS.append((i, (j,j+CONTEXT_WINDOW)))\n",
    "            except Exception as e:\n",
    "                errors.append(i)"
   ]
  },
  {
   "cell_type": "code",
   "execution_count": 19,
   "metadata": {},
   "outputs": [],
   "source": [
    "full_list = [(docs_as_docs[i[0]].char_span(i[1][0],i[1][1]).text,\"No_Propaganda\") for i in ALL_NEG_SPANS]"
   ]
  },
  {
   "cell_type": "code",
   "execution_count": 20,
   "metadata": {},
   "outputs": [],
   "source": [
    "for i in ALL_SPANS_MAP.iterrows():\n",
    "    try:\n",
    "        full_list.append((docs_as_docs[i[1][\"element_in_list\"]].char_span(i[1][\"span_start\"],i[1][\"span_end\"]).text, i[1][\"label\"]))\n",
    "    except Exception as e:\n",
    "        pass"
   ]
  },
  {
   "cell_type": "code",
   "execution_count": 21,
   "metadata": {},
   "outputs": [],
   "source": [
    "train_df = pd.DataFrame.from_records(full_list, columns =['text','label'])"
   ]
  },
  {
   "cell_type": "code",
   "execution_count": 22,
   "metadata": {},
   "outputs": [],
   "source": [
    "# create new col that is binary flag of \"propaganda vs no propaganda\"\n",
    "train_df[\"label_binary\"] = train_df.apply(lambda x: \"No_Propaganda\" if x[\"label\"]==\"No_Propaganda\" else \"Propaganda\", axis=1)"
   ]
  },
  {
   "cell_type": "code",
   "execution_count": 23,
   "metadata": {},
   "outputs": [
    {
     "data": {
      "text/html": [
       "<div>\n",
       "<style scoped>\n",
       "    .dataframe tbody tr th:only-of-type {\n",
       "        vertical-align: middle;\n",
       "    }\n",
       "\n",
       "    .dataframe tbody tr th {\n",
       "        vertical-align: top;\n",
       "    }\n",
       "\n",
       "    .dataframe thead th {\n",
       "        text-align: right;\n",
       "    }\n",
       "</style>\n",
       "<table border=\"1\" class=\"dataframe\">\n",
       "  <thead>\n",
       "    <tr style=\"text-align: right;\">\n",
       "      <th></th>\n",
       "      <th>text</th>\n",
       "      <th>label</th>\n",
       "      <th>label_binary</th>\n",
       "    </tr>\n",
       "  </thead>\n",
       "  <tbody>\n",
       "    <tr>\n",
       "      <th>8462</th>\n",
       "      <td>less than a week before the Senate Judiciary C...</td>\n",
       "      <td>No_Propaganda</td>\n",
       "      <td>No_Propaganda</td>\n",
       "    </tr>\n",
       "    <tr>\n",
       "      <th>15836</th>\n",
       "      <td>Improbably, the Guardian has adopted Higgins a...</td>\n",
       "      <td>Doubt</td>\n",
       "      <td>Propaganda</td>\n",
       "    </tr>\n",
       "    <tr>\n",
       "      <th>9010</th>\n",
       "      <td>for plotting against him.\\nThe behavior of sev...</td>\n",
       "      <td>No_Propaganda</td>\n",
       "      <td>No_Propaganda</td>\n",
       "    </tr>\n",
       "  </tbody>\n",
       "</table>\n",
       "</div>"
      ],
      "text/plain": [
       "                                                    text          label  \\\n",
       "8462   less than a week before the Senate Judiciary C...  No_Propaganda   \n",
       "15836  Improbably, the Guardian has adopted Higgins a...          Doubt   \n",
       "9010   for plotting against him.\\nThe behavior of sev...  No_Propaganda   \n",
       "\n",
       "        label_binary  \n",
       "8462   No_Propaganda  \n",
       "15836     Propaganda  \n",
       "9010   No_Propaganda  "
      ]
     },
     "execution_count": 23,
     "metadata": {},
     "output_type": "execute_result"
    }
   ],
   "source": [
    "train_df.sample(3)"
   ]
  },
  {
   "cell_type": "code",
   "execution_count": 24,
   "metadata": {},
   "outputs": [],
   "source": [
    "train_df[\"rand_letter\"] = \"s\"\n",
    "train_data = train_df[[\"label\",\"label_binary\",\"rand_letter\",\"text\"]]\n",
    "train_data.index = train_data.index.rename(\"id\")\n",
    "train_data = train_data.sample(frac=1).reset_index(drop=True) #randomly sorts the rows"
   ]
  },
  {
   "cell_type": "code",
   "execution_count": 25,
   "metadata": {},
   "outputs": [],
   "source": [
    "train_data.to_csv(\"train_data.tsv\", sep = \"\\t\", header = True)"
   ]
  },
  {
   "cell_type": "markdown",
   "metadata": {},
   "source": [
    "## Generate dev data"
   ]
  },
  {
   "cell_type": "code",
   "execution_count": 26,
   "metadata": {},
   "outputs": [],
   "source": [
    "PATH = \"/home/bryan/Documents/Code/si630/semeval/datasets/dev-articles/\""
   ]
  },
  {
   "cell_type": "code",
   "execution_count": 27,
   "metadata": {},
   "outputs": [],
   "source": [
    "filenames = []\n",
    "for root, dirs, files in os.walk(PATH, topdown=True):\n",
    "    filenames = files"
   ]
  },
  {
   "cell_type": "code",
   "execution_count": 28,
   "metadata": {},
   "outputs": [],
   "source": [
    "nlp = spacy.load(\"en_core_web_sm\", disable=[\"ner\"]) #can also disable components at load, nlp = spacy.load(\"en_core_web_sm\", disable=[\"tagger\", \"parser\"])"
   ]
  },
  {
   "cell_type": "code",
   "execution_count": 29,
   "metadata": {},
   "outputs": [],
   "source": [
    "texts = [] #create a single string for each doc & add to list\n",
    "text_to_num = []\n",
    "counter = 0\n",
    "for name in filenames:\n",
    "    text_to_num.append((counter,name))\n",
    "    counter += 1\n",
    "    with open(PATH+name) as f:\n",
    "        text = f.read()\n",
    "        texts.append(text)"
   ]
  },
  {
   "cell_type": "code",
   "execution_count": 30,
   "metadata": {},
   "outputs": [],
   "source": [
    "from spacy.tokens import Doc, Token, Span\n",
    "Span.set_extension(\"DEV_LABEL\", default = \"No_Label\")"
   ]
  },
  {
   "cell_type": "code",
   "execution_count": 31,
   "metadata": {},
   "outputs": [
    {
     "name": "stdout",
     "output_type": "stream",
     "text": [
      "CPU times: user 4.35 s, sys: 872 ms, total: 5.22 s\n",
      "Wall time: 5.22 s\n"
     ]
    }
   ],
   "source": [
    "%%time\n",
    "\n",
    "docs_as_docs = []\n",
    "for doc in nlp.pipe(texts):\n",
    "    docs_as_docs.append(doc)"
   ]
  },
  {
   "cell_type": "code",
   "execution_count": 32,
   "metadata": {},
   "outputs": [],
   "source": [
    "#create list of tuples of file name/number to element num & then convert to df\n",
    "MAP_NUM_TO_NAME_df = pd.DataFrame(text_to_num, columns = [\"element_in_list\", \"filename\"])"
   ]
  },
  {
   "cell_type": "code",
   "execution_count": 33,
   "metadata": {},
   "outputs": [
    {
     "data": {
      "text/html": [
       "<div>\n",
       "<style scoped>\n",
       "    .dataframe tbody tr th:only-of-type {\n",
       "        vertical-align: middle;\n",
       "    }\n",
       "\n",
       "    .dataframe tbody tr th {\n",
       "        vertical-align: top;\n",
       "    }\n",
       "\n",
       "    .dataframe thead th {\n",
       "        text-align: right;\n",
       "    }\n",
       "</style>\n",
       "<table border=\"1\" class=\"dataframe\">\n",
       "  <thead>\n",
       "    <tr style=\"text-align: right;\">\n",
       "      <th></th>\n",
       "      <th>element_in_list</th>\n",
       "      <th>filename</th>\n",
       "    </tr>\n",
       "  </thead>\n",
       "  <tbody>\n",
       "    <tr>\n",
       "      <th>31</th>\n",
       "      <td>31</td>\n",
       "      <td>article782448403.txt</td>\n",
       "    </tr>\n",
       "    <tr>\n",
       "      <th>41</th>\n",
       "      <td>41</td>\n",
       "      <td>article778730964.txt</td>\n",
       "    </tr>\n",
       "    <tr>\n",
       "      <th>44</th>\n",
       "      <td>44</td>\n",
       "      <td>article832913316.txt</td>\n",
       "    </tr>\n",
       "  </tbody>\n",
       "</table>\n",
       "</div>"
      ],
      "text/plain": [
       "    element_in_list              filename\n",
       "31               31  article782448403.txt\n",
       "41               41  article778730964.txt\n",
       "44               44  article832913316.txt"
      ]
     },
     "execution_count": 33,
     "metadata": {},
     "output_type": "execute_result"
    }
   ],
   "source": [
    "MAP_NUM_TO_NAME_df.sample(3)"
   ]
  },
  {
   "cell_type": "code",
   "execution_count": 34,
   "metadata": {},
   "outputs": [],
   "source": [
    "MAP_NUM_TO_NAME_df[\"filenumber\"] = MAP_NUM_TO_NAME_df.apply(lambda x: int(re.findall(\"\\d+\", x[\"filename\"])[0]), axis=1)\n",
    "MAP_NUM_TO_NAME_df = MAP_NUM_TO_NAME_df[[\"filenumber\",\"filename\",\"element_in_list\"]]"
   ]
  },
  {
   "cell_type": "code",
   "execution_count": 35,
   "metadata": {},
   "outputs": [],
   "source": [
    "DEV_LABELS = \"/home/bryan/Documents/Code/si630/semeval/datasets/dev-task-TC.labels\""
   ]
  },
  {
   "cell_type": "code",
   "execution_count": 36,
   "metadata": {},
   "outputs": [],
   "source": [
    "ALL_SPANS = pd.read_csv(DEV_LABELS, sep = \"\\t\", header = None, names = [\"filenumber\",\"label\",\"span_start\",\"span_end\"])"
   ]
  },
  {
   "cell_type": "code",
   "execution_count": 37,
   "metadata": {},
   "outputs": [
    {
     "data": {
      "text/html": [
       "<div>\n",
       "<style scoped>\n",
       "    .dataframe tbody tr th:only-of-type {\n",
       "        vertical-align: middle;\n",
       "    }\n",
       "\n",
       "    .dataframe tbody tr th {\n",
       "        vertical-align: top;\n",
       "    }\n",
       "\n",
       "    .dataframe thead th {\n",
       "        text-align: right;\n",
       "    }\n",
       "</style>\n",
       "<table border=\"1\" class=\"dataframe\">\n",
       "  <thead>\n",
       "    <tr style=\"text-align: right;\">\n",
       "      <th></th>\n",
       "      <th>filenumber</th>\n",
       "      <th>label</th>\n",
       "      <th>span_start</th>\n",
       "      <th>span_end</th>\n",
       "    </tr>\n",
       "  </thead>\n",
       "  <tbody>\n",
       "    <tr>\n",
       "      <th>197</th>\n",
       "      <td>763280007</td>\n",
       "      <td>Flag-Waving</td>\n",
       "      <td>4169</td>\n",
       "      <td>4185</td>\n",
       "    </tr>\n",
       "    <tr>\n",
       "      <th>461</th>\n",
       "      <td>779309765</td>\n",
       "      <td>Causal_Oversimplification</td>\n",
       "      <td>2692</td>\n",
       "      <td>2876</td>\n",
       "    </tr>\n",
       "    <tr>\n",
       "      <th>986</th>\n",
       "      <td>999001280</td>\n",
       "      <td>Repetition</td>\n",
       "      <td>2135</td>\n",
       "      <td>2140</td>\n",
       "    </tr>\n",
       "  </tbody>\n",
       "</table>\n",
       "</div>"
      ],
      "text/plain": [
       "     filenumber                      label  span_start  span_end\n",
       "197   763280007                Flag-Waving        4169      4185\n",
       "461   779309765  Causal_Oversimplification        2692      2876\n",
       "986   999001280                 Repetition        2135      2140"
      ]
     },
     "execution_count": 37,
     "metadata": {},
     "output_type": "execute_result"
    }
   ],
   "source": [
    "ALL_SPANS.sample(3)"
   ]
  },
  {
   "cell_type": "code",
   "execution_count": 38,
   "metadata": {},
   "outputs": [],
   "source": [
    "ALL_SPANS_MAP = ALL_SPANS.merge(MAP_NUM_TO_NAME_df, on = \"filenumber\")"
   ]
  },
  {
   "cell_type": "code",
   "execution_count": 39,
   "metadata": {},
   "outputs": [
    {
     "data": {
      "text/html": [
       "<div>\n",
       "<style scoped>\n",
       "    .dataframe tbody tr th:only-of-type {\n",
       "        vertical-align: middle;\n",
       "    }\n",
       "\n",
       "    .dataframe tbody tr th {\n",
       "        vertical-align: top;\n",
       "    }\n",
       "\n",
       "    .dataframe thead th {\n",
       "        text-align: right;\n",
       "    }\n",
       "</style>\n",
       "<table border=\"1\" class=\"dataframe\">\n",
       "  <thead>\n",
       "    <tr style=\"text-align: right;\">\n",
       "      <th></th>\n",
       "      <th>filenumber</th>\n",
       "      <th>label</th>\n",
       "      <th>span_start</th>\n",
       "      <th>span_end</th>\n",
       "      <th>filename</th>\n",
       "      <th>element_in_list</th>\n",
       "    </tr>\n",
       "  </thead>\n",
       "  <tbody>\n",
       "    <tr>\n",
       "      <th>339</th>\n",
       "      <td>776126299</td>\n",
       "      <td>Doubt</td>\n",
       "      <td>6082</td>\n",
       "      <td>6148</td>\n",
       "      <td>article776126299.txt</td>\n",
       "      <td>2</td>\n",
       "    </tr>\n",
       "    <tr>\n",
       "      <th>935</th>\n",
       "      <td>999000874</td>\n",
       "      <td>Loaded_Language</td>\n",
       "      <td>1628</td>\n",
       "      <td>1635</td>\n",
       "      <td>article999000874.txt</td>\n",
       "      <td>22</td>\n",
       "    </tr>\n",
       "    <tr>\n",
       "      <th>470</th>\n",
       "      <td>781672902</td>\n",
       "      <td>Exaggeration,Minimisation</td>\n",
       "      <td>1433</td>\n",
       "      <td>1472</td>\n",
       "      <td>article781672902.txt</td>\n",
       "      <td>13</td>\n",
       "    </tr>\n",
       "  </tbody>\n",
       "</table>\n",
       "</div>"
      ],
      "text/plain": [
       "     filenumber                      label  span_start  span_end  \\\n",
       "339   776126299                      Doubt        6082      6148   \n",
       "935   999000874            Loaded_Language        1628      1635   \n",
       "470   781672902  Exaggeration,Minimisation        1433      1472   \n",
       "\n",
       "                 filename  element_in_list  \n",
       "339  article776126299.txt                2  \n",
       "935  article999000874.txt               22  \n",
       "470  article781672902.txt               13  "
      ]
     },
     "execution_count": 39,
     "metadata": {},
     "output_type": "execute_result"
    }
   ],
   "source": [
    "ALL_SPANS_MAP.sample(3)"
   ]
  },
  {
   "cell_type": "code",
   "execution_count": 40,
   "metadata": {},
   "outputs": [],
   "source": [
    "#currently there are 2 errors, due to missing/wrong spans\n",
    "for row in ALL_SPANS_MAP.iterrows():\n",
    "    try:\n",
    "        row_temp = row[1]\n",
    "        docs_as_docs[row_temp[\"element_in_list\"]].char_span(row_temp[\"span_start\"], row_temp[\"span_end\"])._.DEV_LABEL = row_temp[\"label\"]\n",
    "    except Exception as e:\n",
    "        pass"
   ]
  },
  {
   "cell_type": "code",
   "execution_count": 41,
   "metadata": {},
   "outputs": [
    {
     "name": "stdout",
     "output_type": "stream",
     "text": [
      "CPU times: user 744 ms, sys: 4.6 ms, total: 749 ms\n",
      "Wall time: 743 ms\n"
     ]
    }
   ],
   "source": [
    "%%time\n",
    "\n",
    "from intervaltree import Interval, IntervalTree\n",
    "\n",
    "ALL_NEG_SPANS = []\n",
    "errors = []\n",
    "CONTEXT_WINDOW = 75 #size of one half of context window\n",
    "\n",
    "# for a unique value in element_in_list\n",
    "for i in ALL_SPANS_MAP[\"element_in_list\"].unique(): #iterate through unique entries in element_in_list\n",
    "    sub_df = ALL_SPANS_MAP[ALL_SPANS_MAP[\"element_in_list\"]==i] #this is subset of main df containing only entries for the current doc\n",
    "    these_intervals = [(x[1][\"span_start\"], x[1][\"span_end\"]) for x in sub_df.iterrows()] #get intervals\n",
    "    this_tree = IntervalTree.from_tuples(these_intervals) #initialize tree with intervals\n",
    "    \n",
    "    this_doc = docs_as_docs[i]\n",
    "    START_POINT = CONTEXT_WINDOW #char position we can start from # start_point = int(math.fabs(min(context_window))) \n",
    "    END_POINT = len(this_doc)-(CONTEXT_WINDOW) #char position we can work up until # end_point = len(docs_as_docs[13])-(max(max(context_window),0))\n",
    "    for j in range(START_POINT, END_POINT): #for the range of possible center positions of the CONTEXT_WINDOW\n",
    "        if this_tree.overlap(j, j+CONTEXT_WINDOW):\n",
    "            continue\n",
    "        else:\n",
    "            try:\n",
    "                docs_as_docs[i].char_span(j, j+CONTEXT_WINDOW)._.DEV_LABEL = \"\"\n",
    "                ALL_NEG_SPANS.append((i, (j,j+CONTEXT_WINDOW)))\n",
    "            except Exception as e:\n",
    "                errors.append(i)"
   ]
  },
  {
   "cell_type": "code",
   "execution_count": 42,
   "metadata": {},
   "outputs": [],
   "source": [
    "full_list = [(docs_as_docs[i[0]].char_span(i[1][0],i[1][1]).text,\"No_Propaganda\") for i in ALL_NEG_SPANS]"
   ]
  },
  {
   "cell_type": "code",
   "execution_count": 43,
   "metadata": {},
   "outputs": [],
   "source": [
    "for i in ALL_SPANS_MAP.iterrows():\n",
    "    try:\n",
    "        full_list.append((docs_as_docs[i[1][\"element_in_list\"]].char_span(i[1][\"span_start\"],i[1][\"span_end\"]).text, i[1][\"label\"]))\n",
    "    except Exception as e:\n",
    "        pass"
   ]
  },
  {
   "cell_type": "code",
   "execution_count": 44,
   "metadata": {},
   "outputs": [],
   "source": [
    "dev_df = pd.DataFrame.from_records(full_list, columns =['text','label'])"
   ]
  },
  {
   "cell_type": "code",
   "execution_count": 45,
   "metadata": {},
   "outputs": [],
   "source": [
    "# create new col that is binary flag of \"propaganda vs no propaganda\"\n",
    "dev_df[\"label_binary\"] = dev_df.apply(lambda x: \"No_Propaganda\" if x[\"label\"]==\"No_Propaganda\" else \"Propaganda\", axis=1)"
   ]
  },
  {
   "cell_type": "code",
   "execution_count": 46,
   "metadata": {},
   "outputs": [
    {
     "data": {
      "text/html": [
       "<div>\n",
       "<style scoped>\n",
       "    .dataframe tbody tr th:only-of-type {\n",
       "        vertical-align: middle;\n",
       "    }\n",
       "\n",
       "    .dataframe tbody tr th {\n",
       "        vertical-align: top;\n",
       "    }\n",
       "\n",
       "    .dataframe thead th {\n",
       "        text-align: right;\n",
       "    }\n",
       "</style>\n",
       "<table border=\"1\" class=\"dataframe\">\n",
       "  <thead>\n",
       "    <tr style=\"text-align: right;\">\n",
       "      <th></th>\n",
       "      <th>text</th>\n",
       "      <th>label</th>\n",
       "      <th>label_binary</th>\n",
       "    </tr>\n",
       "  </thead>\n",
       "  <tbody>\n",
       "    <tr>\n",
       "      <th>19</th>\n",
       "      <td>two Ohio police officers for allegedly buying ...</td>\n",
       "      <td>No_Propaganda</td>\n",
       "      <td>No_Propaganda</td>\n",
       "    </tr>\n",
       "    <tr>\n",
       "      <th>2550</th>\n",
       "      <td>the biggest campaign against freedom of speech...</td>\n",
       "      <td>Exaggeration,Minimisation</td>\n",
       "      <td>Propaganda</td>\n",
       "    </tr>\n",
       "    <tr>\n",
       "      <th>322</th>\n",
       "      <td>?\\nWhom do you consider to be the most corrupt...</td>\n",
       "      <td>No_Propaganda</td>\n",
       "      <td>No_Propaganda</td>\n",
       "    </tr>\n",
       "  </tbody>\n",
       "</table>\n",
       "</div>"
      ],
      "text/plain": [
       "                                                   text  \\\n",
       "19    two Ohio police officers for allegedly buying ...   \n",
       "2550  the biggest campaign against freedom of speech...   \n",
       "322   ?\\nWhom do you consider to be the most corrupt...   \n",
       "\n",
       "                          label   label_binary  \n",
       "19                No_Propaganda  No_Propaganda  \n",
       "2550  Exaggeration,Minimisation     Propaganda  \n",
       "322               No_Propaganda  No_Propaganda  "
      ]
     },
     "execution_count": 46,
     "metadata": {},
     "output_type": "execute_result"
    }
   ],
   "source": [
    "dev_df.sample(3)"
   ]
  },
  {
   "cell_type": "code",
   "execution_count": 47,
   "metadata": {},
   "outputs": [],
   "source": [
    "dev_df[\"rand_letter\"] = \"s\"\n",
    "dev_data = dev_df[[\"label\",\"label_binary\",\"rand_letter\",\"text\"]]\n",
    "dev_data.index = dev_data.index.rename(\"id\")\n",
    "dev_data = dev_data.sample(frac=1).reset_index(drop=True) #randomly sorts the rows"
   ]
  },
  {
   "cell_type": "code",
   "execution_count": 48,
   "metadata": {},
   "outputs": [],
   "source": [
    "dev_data.to_csv(\"dev_data.tsv\", sep = \"\\t\", header = True)"
   ]
  },
  {
   "cell_type": "code",
   "execution_count": null,
   "metadata": {},
   "outputs": [],
   "source": []
  }
 ],
 "metadata": {
  "kernelspec": {
   "display_name": "Python 3",
   "language": "python",
   "name": "python3"
  },
  "language_info": {
   "codemirror_mode": {
    "name": "ipython",
    "version": 3
   },
   "file_extension": ".py",
   "mimetype": "text/x-python",
   "name": "python",
   "nbconvert_exporter": "python",
   "pygments_lexer": "ipython3",
   "version": "3.6.9"
  }
 },
 "nbformat": 4,
 "nbformat_minor": 4
}
