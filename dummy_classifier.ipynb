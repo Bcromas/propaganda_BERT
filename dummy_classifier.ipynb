{
 "cells": [
  {
   "cell_type": "code",
   "execution_count": 1,
   "metadata": {},
   "outputs": [],
   "source": [
    "import pandas as pd"
   ]
  },
  {
   "cell_type": "markdown",
   "metadata": {},
   "source": [
    "# <span style=\"color:#FF8800\"> Load training data </span>"
   ]
  },
  {
   "cell_type": "code",
   "execution_count": 2,
   "metadata": {},
   "outputs": [],
   "source": [
    "train_df = pd.read_csv(\"datasets/train_data.tsv\", \n",
    "                       sep = \"\\t\",\n",
    "                       usecols = [\"label\",\"label_binary\",\"text\"]\n",
    "                      )"
   ]
  },
  {
   "cell_type": "code",
   "execution_count": 8,
   "metadata": {},
   "outputs": [
    {
     "name": "stdout",
     "output_type": "stream",
     "text": [
      "(15928, 3)\n"
     ]
    },
    {
     "data": {
      "text/html": [
       "<div>\n",
       "<style scoped>\n",
       "    .dataframe tbody tr th:only-of-type {\n",
       "        vertical-align: middle;\n",
       "    }\n",
       "\n",
       "    .dataframe tbody tr th {\n",
       "        vertical-align: top;\n",
       "    }\n",
       "\n",
       "    .dataframe thead th {\n",
       "        text-align: right;\n",
       "    }\n",
       "</style>\n",
       "<table border=\"1\" class=\"dataframe\">\n",
       "  <thead>\n",
       "    <tr style=\"text-align: right;\">\n",
       "      <th></th>\n",
       "      <th>label</th>\n",
       "      <th>label_binary</th>\n",
       "      <th>text</th>\n",
       "    </tr>\n",
       "  </thead>\n",
       "  <tbody>\n",
       "    <tr>\n",
       "      <th>2846</th>\n",
       "      <td>No_Propaganda</td>\n",
       "      <td>No_Propaganda</td>\n",
       "      <td>dossier was interlaced with condemnations of t...</td>\n",
       "    </tr>\n",
       "    <tr>\n",
       "      <th>2735</th>\n",
       "      <td>No_Propaganda</td>\n",
       "      <td>No_Propaganda</td>\n",
       "      <td>make?\\nMr Cruz sent the text of his letter (wr...</td>\n",
       "    </tr>\n",
       "    <tr>\n",
       "      <th>6375</th>\n",
       "      <td>No_Propaganda</td>\n",
       "      <td>No_Propaganda</td>\n",
       "      <td>into dollars, an investigative report by the S...</td>\n",
       "    </tr>\n",
       "  </tbody>\n",
       "</table>\n",
       "</div>"
      ],
      "text/plain": [
       "              label   label_binary  \\\n",
       "2846  No_Propaganda  No_Propaganda   \n",
       "2735  No_Propaganda  No_Propaganda   \n",
       "6375  No_Propaganda  No_Propaganda   \n",
       "\n",
       "                                                   text  \n",
       "2846  dossier was interlaced with condemnations of t...  \n",
       "2735  make?\\nMr Cruz sent the text of his letter (wr...  \n",
       "6375  into dollars, an investigative report by the S...  "
      ]
     },
     "execution_count": 8,
     "metadata": {},
     "output_type": "execute_result"
    }
   ],
   "source": [
    "print(train_df.shape)\n",
    "train_df.sample(3)"
   ]
  },
  {
   "cell_type": "markdown",
   "metadata": {},
   "source": [
    "> ### The training data, which was created in generate_data.ipynb, contains +15,900 samples with binary and multi-class labels. Here we'll focus on multi-class classification."
   ]
  },
  {
   "cell_type": "markdown",
   "metadata": {},
   "source": [
    "# <span style=\"color:#FF8800\"> Create, fit, & predict with Dummy Classifier\n",
    "> ### Creating a simple baseline model is a good first step for a classification or even regression problem (e.g. predict the mean value). It offers some perspective on the difficulty of the problem as well as a way to gauge how much \"value\" a more sophisticated model offers. Here we'll use a stratified approach so the classifier will offer some predictions across various labels instead of only predicting the most common label."
   ]
  },
  {
   "cell_type": "code",
   "execution_count": 4,
   "metadata": {},
   "outputs": [],
   "source": [
    "from sklearn.dummy import DummyClassifier\n",
    "from sklearn.model_selection import GridSearchCV"
   ]
  },
  {
   "cell_type": "code",
   "execution_count": 10,
   "metadata": {},
   "outputs": [],
   "source": [
    "dummy = DummyClassifier(strategy = \"stratified\", random_state = 8)"
   ]
  },
  {
   "cell_type": "code",
   "execution_count": 11,
   "metadata": {},
   "outputs": [
    {
     "data": {
      "text/plain": [
       "DummyClassifier(constant=None, random_state=8, strategy='stratified')"
      ]
     },
     "execution_count": 11,
     "metadata": {},
     "output_type": "execute_result"
    }
   ],
   "source": [
    "dummy.fit(train_df[\"text\"],train_df[\"label\"]) # fit the model to the data"
   ]
  },
  {
   "cell_type": "code",
   "execution_count": 14,
   "metadata": {},
   "outputs": [],
   "source": [
    "dev_df = pd.read_csv(\"datasets/dev_data.tsv\", \n",
    "                       sep = \"\\t\",\n",
    "                       usecols = [\"label\",\"label_binary\",\"text\"]\n",
    "                      )"
   ]
  },
  {
   "cell_type": "code",
   "execution_count": 15,
   "metadata": {},
   "outputs": [
    {
     "name": "stdout",
     "output_type": "stream",
     "text": [
      "(2850, 3)\n"
     ]
    },
    {
     "data": {
      "text/html": [
       "<div>\n",
       "<style scoped>\n",
       "    .dataframe tbody tr th:only-of-type {\n",
       "        vertical-align: middle;\n",
       "    }\n",
       "\n",
       "    .dataframe tbody tr th {\n",
       "        vertical-align: top;\n",
       "    }\n",
       "\n",
       "    .dataframe thead th {\n",
       "        text-align: right;\n",
       "    }\n",
       "</style>\n",
       "<table border=\"1\" class=\"dataframe\">\n",
       "  <thead>\n",
       "    <tr style=\"text-align: right;\">\n",
       "      <th></th>\n",
       "      <th>label</th>\n",
       "      <th>label_binary</th>\n",
       "      <th>text</th>\n",
       "    </tr>\n",
       "  </thead>\n",
       "  <tbody>\n",
       "    <tr>\n",
       "      <th>1857</th>\n",
       "      <td>Loaded_Language</td>\n",
       "      <td>Propaganda</td>\n",
       "      <td>total dictatorship</td>\n",
       "    </tr>\n",
       "    <tr>\n",
       "      <th>124</th>\n",
       "      <td>Loaded_Language</td>\n",
       "      <td>Propaganda</td>\n",
       "      <td>boldly</td>\n",
       "    </tr>\n",
       "    <tr>\n",
       "      <th>1086</th>\n",
       "      <td>Flag-Waving</td>\n",
       "      <td>Propaganda</td>\n",
       "      <td>British girls</td>\n",
       "    </tr>\n",
       "  </tbody>\n",
       "</table>\n",
       "</div>"
      ],
      "text/plain": [
       "                label label_binary                text\n",
       "1857  Loaded_Language   Propaganda  total dictatorship\n",
       "124   Loaded_Language   Propaganda              boldly\n",
       "1086      Flag-Waving   Propaganda       British girls"
      ]
     },
     "execution_count": 15,
     "metadata": {},
     "output_type": "execute_result"
    }
   ],
   "source": [
    "print(dev_df.shape)\n",
    "dev_df.sample(3)"
   ]
  },
  {
   "cell_type": "markdown",
   "metadata": {},
   "source": [
    "> ### We'll use the dev data to evaluate the performance of our model. Normally, we would split our training data so we could adjust hyperparameters and evaluate our initial models before using the limited and precious dev data. However, that's 1) not as useful for creating a dummy classifier and 2) an approach I'll outline in logistic_regression.ipynb. "
   ]
  },
  {
   "cell_type": "code",
   "execution_count": 16,
   "metadata": {},
   "outputs": [],
   "source": [
    "dummy_y_pred = dummy.predict(dev_df[\"text\"])"
   ]
  },
  {
   "cell_type": "markdown",
   "metadata": {},
   "source": [
    "> ### This deceptively simple step is where our dummy classifier generates predictions based on the fit above and the sample text from the dev data. Actually, the dummy classifier doesn't even rely on the actual text here. It's simply using the proportions of the labels found in the training data during fitting. We can highlight this fact by calling .predict on meaningless data while still getting predictions. The .predict call here is mainly used to determine how many predictions (i.e. the length of the input) to generate."
   ]
  },
  {
   "cell_type": "code",
   "execution_count": 57,
   "metadata": {},
   "outputs": [],
   "source": [
    "any_text = [\"anything\" for i in range(len(dev_df[\"text\"]))]\n",
    "dummy_y_pred = dummy.predict(any_text)"
   ]
  },
  {
   "cell_type": "markdown",
   "metadata": {},
   "source": [
    "# <span style=\"color:#FF8800\"> Visualizing results"
   ]
  },
  {
   "cell_type": "code",
   "execution_count": 69,
   "metadata": {},
   "outputs": [],
   "source": [
    "from sklearn.metrics import confusion_matrix\n",
    "# import matplotlib.pyplot as plt\n",
    "# import numpy as np"
   ]
  },
  {
   "cell_type": "code",
   "execution_count": 70,
   "metadata": {},
   "outputs": [],
   "source": [
    "labels = list(dummy.classes_)\n",
    "cm = confusion_matrix(dev_df[\"label\"], dummy_y_pred, labels)"
   ]
  },
  {
   "cell_type": "markdown",
   "metadata": {},
   "source": [
    "## Below is a function from user Calvin Duy Canh Tran on Stack Overflow to plot a confusion matrix with any number of labels. The confusion_matrix function above outputs an unwieldly np.ndarray which I would rather not wrestle with especially given the 15 classes involved. You can check out the original post on SO here: https://stackoverflow.com/a/50386871/1576558."
   ]
  },
  {
   "cell_type": "code",
   "execution_count": 71,
   "metadata": {},
   "outputs": [],
   "source": [
    "import matplotlib.pyplot as plt\n",
    "import numpy as np\n",
    "import itertools"
   ]
  },
  {
   "cell_type": "code",
   "execution_count": 77,
   "metadata": {},
   "outputs": [],
   "source": [
    "def plot_confusion_matrix(cm,\n",
    "                          target_names,\n",
    "                          title='Confusion matrix',\n",
    "                          cmap=None,\n",
    "                          normalize=True):\n",
    "    \"\"\"\n",
    "    given a sklearn confusion matrix (cm), make a nice plot\n",
    "\n",
    "    Arguments\n",
    "    ---------\n",
    "    cm:           confusion matrix from sklearn.metrics.confusion_matrix\n",
    "\n",
    "    target_names: given classification classes such as [0, 1, 2]\n",
    "                  the class names, for example: ['high', 'medium', 'low']\n",
    "\n",
    "    title:        the text to display at the top of the matrix\n",
    "\n",
    "    cmap:         the gradient of the values displayed from matplotlib.pyplot.cm\n",
    "                  see http://matplotlib.org/examples/color/colormaps_reference.html\n",
    "                  plt.get_cmap('jet') or plt.cm.Blues\n",
    "\n",
    "    normalize:    If False, plot the raw numbers\n",
    "                  If True, plot the proportions\n",
    "\n",
    "    Usage\n",
    "    -----\n",
    "    plot_confusion_matrix(cm           = cm,                  # confusion matrix created by\n",
    "                                                              # sklearn.metrics.confusion_matrix\n",
    "                          normalize    = True,                # show proportions\n",
    "                          target_names = y_labels_vals,       # list of names of the classes\n",
    "                          title        = best_estimator_name) # title of graph\n",
    "\n",
    "    Citiation\n",
    "    ---------\n",
    "    http://scikit-learn.org/stable/auto_examples/model_selection/plot_confusion_matrix.html\n",
    "\n",
    "    \"\"\"\n",
    "    \n",
    "    accuracy = np.trace(cm) / np.sum(cm).astype('float')\n",
    "    misclass = 1 - accuracy\n",
    "\n",
    "    if cmap is None:\n",
    "        cmap = plt.get_cmap('Purples')\n",
    "\n",
    "    plt.figure(figsize=(20, 10))\n",
    "    plt.imshow(cm, interpolation='nearest', cmap=cmap)\n",
    "    plt.title(title)\n",
    "    plt.colorbar()\n",
    "\n",
    "    if target_names is not None:\n",
    "        tick_marks = np.arange(len(target_names))\n",
    "        plt.xticks(tick_marks, target_names, rotation=90)\n",
    "        plt.yticks(tick_marks, target_names)\n",
    "\n",
    "    if normalize:\n",
    "        cm = cm.astype('float') / cm.sum(axis=1)[:, np.newaxis]\n",
    "\n",
    "\n",
    "    thresh = cm.max() / 1.5 if normalize else cm.max() / 2\n",
    "    for i, j in itertools.product(range(cm.shape[0]), range(cm.shape[1])):\n",
    "        if normalize:\n",
    "            plt.text(j, i, \"{:0.4f}\".format(cm[i, j]),\n",
    "                     horizontalalignment=\"center\",\n",
    "                     color=\"white\" if cm[i, j] > thresh else \"black\")\n",
    "        else:\n",
    "            plt.text(j, i, \"{:,}\".format(cm[i, j]),\n",
    "                     horizontalalignment=\"center\",\n",
    "                     color=\"white\" if cm[i, j] > thresh else \"black\")\n",
    "\n",
    "\n",
    "    plt.tight_layout()\n",
    "    plt.ylabel('True label')\n",
    "    plt.xlabel('Predicted label')\n",
    "    plt.show()"
   ]
  },
  {
   "cell_type": "code",
   "execution_count": 78,
   "metadata": {},
   "outputs": [
    {
     "data": {
      "image/png": "[encoded data removed]",
      "text/plain": [
       "<Figure size 1440x720 with 2 Axes>"
      ]
     },
     "metadata": {
      "needs_background": "light"
     },
     "output_type": "display_data"
    }
   ],
   "source": [
    "plot_confusion_matrix(cm = cm, target_names = labels, normalize = False)"
   ]
  },
  {
   "cell_type": "markdown",
   "metadata": {},
   "source": [
    "> ### A confusion matrix visualizes the accuracy of the predictions. If a classifer had 100% accuracy then only the diagonal would contain values greater than zero. In this plot the darker purple the cell the higher the count.\n",
    "> ### <span style=\"color:#8800ff\"> We can see the dummy classifier performed best with the \"No_Propaganda\", \"Loaded_Language\", and \"Name_Calling,Labeling\" labels. Overall, it performed quite poorly. While our baseline is low there's a lot of room for improvement with our other models!"
   ]
  },
  {
   "cell_type": "code",
   "execution_count": 74,
   "metadata": {},
   "outputs": [],
   "source": [
    "from sklearn.metrics import classification_report"
   ]
  },
  {
   "cell_type": "code",
   "execution_count": 75,
   "metadata": {},
   "outputs": [
    {
     "name": "stdout",
     "output_type": "stream",
     "text": [
      "                                    precision    recall  f1-score   support\n",
      "\n",
      "               Appeal_to_Authority       0.00      0.00      0.00        14\n",
      "          Appeal_to_fear-prejudice       0.02      0.02      0.02        44\n",
      "    Bandwagon,Reductio_ad_hitlerum       0.00      0.00      0.00         5\n",
      "           Black-and-White_Fallacy       0.00      0.00      0.00        22\n",
      "         Causal_Oversimplification       0.02      0.06      0.03        18\n",
      "                             Doubt       0.07      0.12      0.09        66\n",
      "         Exaggeration,Minimisation       0.04      0.04      0.04        68\n",
      "                       Flag-Waving       0.06      0.02      0.03        87\n",
      "                   Loaded_Language       0.12      0.14      0.13       324\n",
      "             Name_Calling,Labeling       0.04      0.04      0.04       183\n",
      "                     No_Propaganda       0.64      0.62      0.63      1789\n",
      "                        Repetition       0.07      0.06      0.06       144\n",
      "                           Slogans       0.00      0.00      0.00        40\n",
      "       Thought-terminating_Cliches       0.00      0.00      0.00        17\n",
      "Whataboutism,Straw_Men,Red_Herring       0.07      0.03      0.05        29\n",
      "\n",
      "                          accuracy                           0.42      2850\n",
      "                         macro avg       0.08      0.08      0.08      2850\n",
      "                      weighted avg       0.42      0.42      0.42      2850\n",
      "\n"
     ]
    }
   ],
   "source": [
    "print(classification_report(dev_df[\"label\"], dummy_y_pred, target_names=labels))"
   ]
  },
  {
   "cell_type": "markdown",
   "metadata": {},
   "source": [
    "> ### We can also evaluate label-specific precision, recall, and f1 score results for the dummy classifier. This is a more precise way of viewing the information contained in the plot above.\n",
    "> ### <span style=\"color:#8800ff\"> The labels where the model performed best correspond to those with the highest support (i.e. the number of actual occurrences of a label). This aligns with the stratified strategy used. However, labels with support below 29 (e.g. \"Black-and-White_Fallacy\") are not predicted at all because they account for less than 1% of the data."
   ]
  },
  {
   "cell_type": "code",
   "execution_count": 88,
   "metadata": {},
   "outputs": [],
   "source": [
    "from sklearn.metrics import f1_score"
   ]
  },
  {
   "cell_type": "code",
   "execution_count": 90,
   "metadata": {},
   "outputs": [
    {
     "data": {
      "text/plain": [
       "0.42"
      ]
     },
     "execution_count": 90,
     "metadata": {},
     "output_type": "execute_result"
    }
   ],
   "source": [
    "round(f1_score(dev_df[\"label\"], dummy_y_pred, average = 'micro'),2)"
   ]
  },
  {
   "cell_type": "markdown",
   "metadata": {},
   "source": [
    "> ### <span style=\"color:#8800ff\"> Finally, we can quantify the overall performance of the dummy classifier using one number. Here we'll use the micro f1 score which assesses the overall performance while taking class imbalance into account (e.g. performing extremely well on a couple small labels is not the same as performing decently across all labels)."
   ]
  },
  {
   "cell_type": "markdown",
   "metadata": {},
   "source": [
    "# <span style=\"color:#FF8800\"> END"
   ]
  }
 ],
 "metadata": {
  "kernelspec": {
   "display_name": "Python 3",
   "language": "python",
   "name": "python3"
  },
  "language_info": {
   "codemirror_mode": {
    "name": "ipython",
    "version": 3
   },
   "file_extension": ".py",
   "mimetype": "text/x-python",
   "name": "python",
   "nbconvert_exporter": "python",
   "pygments_lexer": "ipython3",
   "version": "3.6.9"
  }
 },
 "nbformat": 4,
 "nbformat_minor": 4
}
