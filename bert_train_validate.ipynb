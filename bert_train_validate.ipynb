{
  "nbformat": 4,
  "nbformat_minor": 0,
  "metadata": {
    "colab": {
      "name": "bert_train_validate.ipynb",
      "provenance": [],
      "collapsed_sections": [
        "hrBUScizmz2o",
        "C-ox0s5lAJ5p",
        "NSTj69zcASO_",
        "_c3wBkpT3VVE",
        "kUx4bMxVAqpy",
        "Haw55dBspsk6",
        "E9wrZGE9pwuR",
        "MMWvmFsKrug2"
      ]
    },
    "kernelspec": {
      "name": "python3",
      "display_name": "Python 3"
    },
    "accelerator": "GPU",
    "widgets": {
      "application/vnd.jupyter.widget-state+json": {
        "3dcecdcedf7b440fa12bcc4ba2e266bd": {
          "model_module": "@jupyter-widgets/controls",
          "model_name": "HBoxModel",
          "state": {
            "_view_name": "HBoxView",
            "_dom_classes": [],
            "_model_name": "HBoxModel",
            "_view_module": "@jupyter-widgets/controls",
            "_model_module_version": "1.5.0",
            "_view_count": null,
            "_view_module_version": "1.5.0",
            "box_style": "",
            "layout": "IPY_MODEL_82ce0af84b6e44bea8c263713e218466",
            "_model_module": "@jupyter-widgets/controls",
            "children": [
              "IPY_MODEL_5682ee1fa5bb4273beab0446e0574bf6",
              "IPY_MODEL_663975cf1aaa45c5afe93ad24cb4dd3c"
            ]
          }
        },
        "82ce0af84b6e44bea8c263713e218466": {
          "model_module": "@jupyter-widgets/base",
          "model_name": "LayoutModel",
          "state": {
            "_view_name": "LayoutView",
            "grid_template_rows": null,
            "right": null,
            "justify_content": null,
            "_view_module": "@jupyter-widgets/base",
            "overflow": null,
            "_model_module_version": "1.2.0",
            "_view_count": null,
            "flex_flow": null,
            "width": null,
            "min_width": null,
            "border": null,
            "align_items": null,
            "bottom": null,
            "_model_module": "@jupyter-widgets/base",
            "top": null,
            "grid_column": null,
            "overflow_y": null,
            "overflow_x": null,
            "grid_auto_flow": null,
            "grid_area": null,
            "grid_template_columns": null,
            "flex": null,
            "_model_name": "LayoutModel",
            "justify_items": null,
            "grid_row": null,
            "max_height": null,
            "align_content": null,
            "visibility": null,
            "align_self": null,
            "height": null,
            "min_height": null,
            "padding": null,
            "grid_auto_rows": null,
            "grid_gap": null,
            "max_width": null,
            "order": null,
            "_view_module_version": "1.2.0",
            "grid_template_areas": null,
            "object_position": null,
            "object_fit": null,
            "grid_auto_columns": null,
            "margin": null,
            "display": null,
            "left": null
          }
        },
        "5682ee1fa5bb4273beab0446e0574bf6": {
          "model_module": "@jupyter-widgets/controls",
          "model_name": "FloatProgressModel",
          "state": {
            "_view_name": "ProgressView",
            "style": "IPY_MODEL_658b51f9d8254cae8f93a64fffabf3ab",
            "_dom_classes": [],
            "description": "Downloading: 100%",
            "_model_name": "FloatProgressModel",
            "bar_style": "success",
            "max": 213450,
            "_view_module": "@jupyter-widgets/controls",
            "_model_module_version": "1.5.0",
            "value": 213450,
            "_view_count": null,
            "_view_module_version": "1.5.0",
            "orientation": "horizontal",
            "min": 0,
            "description_tooltip": null,
            "_model_module": "@jupyter-widgets/controls",
            "layout": "IPY_MODEL_ee6c8b930e79453dbc8c3c8ba21fbe24"
          }
        },
        "663975cf1aaa45c5afe93ad24cb4dd3c": {
          "model_module": "@jupyter-widgets/controls",
          "model_name": "HTMLModel",
          "state": {
            "_view_name": "HTMLView",
            "style": "IPY_MODEL_c2a5d237cb88414d90544e735c2a16c8",
            "_dom_classes": [],
            "description": "",
            "_model_name": "HTMLModel",
            "placeholder": "​",
            "_view_module": "@jupyter-widgets/controls",
            "_model_module_version": "1.5.0",
            "value": " 213k/213k [00:00&lt;00:00, 668kB/s]",
            "_view_count": null,
            "_view_module_version": "1.5.0",
            "description_tooltip": null,
            "_model_module": "@jupyter-widgets/controls",
            "layout": "IPY_MODEL_90a0a8a398df4b14a21612270d51937d"
          }
        },
        "658b51f9d8254cae8f93a64fffabf3ab": {
          "model_module": "@jupyter-widgets/controls",
          "model_name": "ProgressStyleModel",
          "state": {
            "_view_name": "StyleView",
            "_model_name": "ProgressStyleModel",
            "description_width": "initial",
            "_view_module": "@jupyter-widgets/base",
            "_model_module_version": "1.5.0",
            "_view_count": null,
            "_view_module_version": "1.2.0",
            "bar_color": null,
            "_model_module": "@jupyter-widgets/controls"
          }
        },
        "ee6c8b930e79453dbc8c3c8ba21fbe24": {
          "model_module": "@jupyter-widgets/base",
          "model_name": "LayoutModel",
          "state": {
            "_view_name": "LayoutView",
            "grid_template_rows": null,
            "right": null,
            "justify_content": null,
            "_view_module": "@jupyter-widgets/base",
            "overflow": null,
            "_model_module_version": "1.2.0",
            "_view_count": null,
            "flex_flow": null,
            "width": null,
            "min_width": null,
            "border": null,
            "align_items": null,
            "bottom": null,
            "_model_module": "@jupyter-widgets/base",
            "top": null,
            "grid_column": null,
            "overflow_y": null,
            "overflow_x": null,
            "grid_auto_flow": null,
            "grid_area": null,
            "grid_template_columns": null,
            "flex": null,
            "_model_name": "LayoutModel",
            "justify_items": null,
            "grid_row": null,
            "max_height": null,
            "align_content": null,
            "visibility": null,
            "align_self": null,
            "height": null,
            "min_height": null,
            "padding": null,
            "grid_auto_rows": null,
            "grid_gap": null,
            "max_width": null,
            "order": null,
            "_view_module_version": "1.2.0",
            "grid_template_areas": null,
            "object_position": null,
            "object_fit": null,
            "grid_auto_columns": null,
            "margin": null,
            "display": null,
            "left": null
          }
        },
        "c2a5d237cb88414d90544e735c2a16c8": {
          "model_module": "@jupyter-widgets/controls",
          "model_name": "DescriptionStyleModel",
          "state": {
            "_view_name": "StyleView",
            "_model_name": "DescriptionStyleModel",
            "description_width": "",
            "_view_module": "@jupyter-widgets/base",
            "_model_module_version": "1.5.0",
            "_view_count": null,
            "_view_module_version": "1.2.0",
            "_model_module": "@jupyter-widgets/controls"
          }
        },
        "90a0a8a398df4b14a21612270d51937d": {
          "model_module": "@jupyter-widgets/base",
          "model_name": "LayoutModel",
          "state": {
            "_view_name": "LayoutView",
            "grid_template_rows": null,
            "right": null,
            "justify_content": null,
            "_view_module": "@jupyter-widgets/base",
            "overflow": null,
            "_model_module_version": "1.2.0",
            "_view_count": null,
            "flex_flow": null,
            "width": null,
            "min_width": null,
            "border": null,
            "align_items": null,
            "bottom": null,
            "_model_module": "@jupyter-widgets/base",
            "top": null,
            "grid_column": null,
            "overflow_y": null,
            "overflow_x": null,
            "grid_auto_flow": null,
            "grid_area": null,
            "grid_template_columns": null,
            "flex": null,
            "_model_name": "LayoutModel",
            "justify_items": null,
            "grid_row": null,
            "max_height": null,
            "align_content": null,
            "visibility": null,
            "align_self": null,
            "height": null,
            "min_height": null,
            "padding": null,
            "grid_auto_rows": null,
            "grid_gap": null,
            "max_width": null,
            "order": null,
            "_view_module_version": "1.2.0",
            "grid_template_areas": null,
            "object_position": null,
            "object_fit": null,
            "grid_auto_columns": null,
            "margin": null,
            "display": null,
            "left": null
          }
        },
        "d6734102bcb34dc69ff1144dd06dc821": {
          "model_module": "@jupyter-widgets/controls",
          "model_name": "HBoxModel",
          "state": {
            "_view_name": "HBoxView",
            "_dom_classes": [],
            "_model_name": "HBoxModel",
            "_view_module": "@jupyter-widgets/controls",
            "_model_module_version": "1.5.0",
            "_view_count": null,
            "_view_module_version": "1.5.0",
            "box_style": "",
            "layout": "IPY_MODEL_82d344c47f98432f9f53472a6aa1f6b1",
            "_model_module": "@jupyter-widgets/controls",
            "children": [
              "IPY_MODEL_8a773c9936524b049444862f96c7bd07",
              "IPY_MODEL_1754caef2eec473ebd5477a60348d57f"
            ]
          }
        },
        "82d344c47f98432f9f53472a6aa1f6b1": {
          "model_module": "@jupyter-widgets/base",
          "model_name": "LayoutModel",
          "state": {
            "_view_name": "LayoutView",
            "grid_template_rows": null,
            "right": null,
            "justify_content": null,
            "_view_module": "@jupyter-widgets/base",
            "overflow": null,
            "_model_module_version": "1.2.0",
            "_view_count": null,
            "flex_flow": null,
            "width": null,
            "min_width": null,
            "border": null,
            "align_items": null,
            "bottom": null,
            "_model_module": "@jupyter-widgets/base",
            "top": null,
            "grid_column": null,
            "overflow_y": null,
            "overflow_x": null,
            "grid_auto_flow": null,
            "grid_area": null,
            "grid_template_columns": null,
            "flex": null,
            "_model_name": "LayoutModel",
            "justify_items": null,
            "grid_row": null,
            "max_height": null,
            "align_content": null,
            "visibility": null,
            "align_self": null,
            "height": null,
            "min_height": null,
            "padding": null,
            "grid_auto_rows": null,
            "grid_gap": null,
            "max_width": null,
            "order": null,
            "_view_module_version": "1.2.0",
            "grid_template_areas": null,
            "object_position": null,
            "object_fit": null,
            "grid_auto_columns": null,
            "margin": null,
            "display": null,
            "left": null
          }
        },
        "8a773c9936524b049444862f96c7bd07": {
          "model_module": "@jupyter-widgets/controls",
          "model_name": "FloatProgressModel",
          "state": {
            "_view_name": "ProgressView",
            "style": "IPY_MODEL_0327588b9fab46e093e889b0fcfd59f7",
            "_dom_classes": [],
            "description": "Downloading: 100%",
            "_model_name": "FloatProgressModel",
            "bar_style": "success",
            "max": 411,
            "_view_module": "@jupyter-widgets/controls",
            "_model_module_version": "1.5.0",
            "value": 411,
            "_view_count": null,
            "_view_module_version": "1.5.0",
            "orientation": "horizontal",
            "min": 0,
            "description_tooltip": null,
            "_model_module": "@jupyter-widgets/controls",
            "layout": "IPY_MODEL_729b10d37e9e4042bc3ab3bf48f26e87"
          }
        },
        "1754caef2eec473ebd5477a60348d57f": {
          "model_module": "@jupyter-widgets/controls",
          "model_name": "HTMLModel",
          "state": {
            "_view_name": "HTMLView",
            "style": "IPY_MODEL_619a1852d6374b7196ca681a45f3b0d8",
            "_dom_classes": [],
            "description": "",
            "_model_name": "HTMLModel",
            "placeholder": "​",
            "_view_module": "@jupyter-widgets/controls",
            "_model_module_version": "1.5.0",
            "value": " 411/411 [00:13&lt;00:00, 31.5B/s]",
            "_view_count": null,
            "_view_module_version": "1.5.0",
            "description_tooltip": null,
            "_model_module": "@jupyter-widgets/controls",
            "layout": "IPY_MODEL_ccc9cd52a0b34f61924ccf8d8009af14"
          }
        },
        "0327588b9fab46e093e889b0fcfd59f7": {
          "model_module": "@jupyter-widgets/controls",
          "model_name": "ProgressStyleModel",
          "state": {
            "_view_name": "StyleView",
            "_model_name": "ProgressStyleModel",
            "description_width": "initial",
            "_view_module": "@jupyter-widgets/base",
            "_model_module_version": "1.5.0",
            "_view_count": null,
            "_view_module_version": "1.2.0",
            "bar_color": null,
            "_model_module": "@jupyter-widgets/controls"
          }
        },
        "729b10d37e9e4042bc3ab3bf48f26e87": {
          "model_module": "@jupyter-widgets/base",
          "model_name": "LayoutModel",
          "state": {
            "_view_name": "LayoutView",
            "grid_template_rows": null,
            "right": null,
            "justify_content": null,
            "_view_module": "@jupyter-widgets/base",
            "overflow": null,
            "_model_module_version": "1.2.0",
            "_view_count": null,
            "flex_flow": null,
            "width": null,
            "min_width": null,
            "border": null,
            "align_items": null,
            "bottom": null,
            "_model_module": "@jupyter-widgets/base",
            "top": null,
            "grid_column": null,
            "overflow_y": null,
            "overflow_x": null,
            "grid_auto_flow": null,
            "grid_area": null,
            "grid_template_columns": null,
            "flex": null,
            "_model_name": "LayoutModel",
            "justify_items": null,
            "grid_row": null,
            "max_height": null,
            "align_content": null,
            "visibility": null,
            "align_self": null,
            "height": null,
            "min_height": null,
            "padding": null,
            "grid_auto_rows": null,
            "grid_gap": null,
            "max_width": null,
            "order": null,
            "_view_module_version": "1.2.0",
            "grid_template_areas": null,
            "object_position": null,
            "object_fit": null,
            "grid_auto_columns": null,
            "margin": null,
            "display": null,
            "left": null
          }
        },
        "619a1852d6374b7196ca681a45f3b0d8": {
          "model_module": "@jupyter-widgets/controls",
          "model_name": "DescriptionStyleModel",
          "state": {
            "_view_name": "StyleView",
            "_model_name": "DescriptionStyleModel",
            "description_width": "",
            "_view_module": "@jupyter-widgets/base",
            "_model_module_version": "1.5.0",
            "_view_count": null,
            "_view_module_version": "1.2.0",
            "_model_module": "@jupyter-widgets/controls"
          }
        },
        "ccc9cd52a0b34f61924ccf8d8009af14": {
          "model_module": "@jupyter-widgets/base",
          "model_name": "LayoutModel",
          "state": {
            "_view_name": "LayoutView",
            "grid_template_rows": null,
            "right": null,
            "justify_content": null,
            "_view_module": "@jupyter-widgets/base",
            "overflow": null,
            "_model_module_version": "1.2.0",
            "_view_count": null,
            "flex_flow": null,
            "width": null,
            "min_width": null,
            "border": null,
            "align_items": null,
            "bottom": null,
            "_model_module": "@jupyter-widgets/base",
            "top": null,
            "grid_column": null,
            "overflow_y": null,
            "overflow_x": null,
            "grid_auto_flow": null,
            "grid_area": null,
            "grid_template_columns": null,
            "flex": null,
            "_model_name": "LayoutModel",
            "justify_items": null,
            "grid_row": null,
            "max_height": null,
            "align_content": null,
            "visibility": null,
            "align_self": null,
            "height": null,
            "min_height": null,
            "padding": null,
            "grid_auto_rows": null,
            "grid_gap": null,
            "max_width": null,
            "order": null,
            "_view_module_version": "1.2.0",
            "grid_template_areas": null,
            "object_position": null,
            "object_fit": null,
            "grid_auto_columns": null,
            "margin": null,
            "display": null,
            "left": null
          }
        },
        "bdc3d433d3684a4fa0e9d7428e8e58de": {
          "model_module": "@jupyter-widgets/controls",
          "model_name": "HBoxModel",
          "state": {
            "_view_name": "HBoxView",
            "_dom_classes": [],
            "_model_name": "HBoxModel",
            "_view_module": "@jupyter-widgets/controls",
            "_model_module_version": "1.5.0",
            "_view_count": null,
            "_view_module_version": "1.5.0",
            "box_style": "",
            "layout": "IPY_MODEL_1ad7ac70f1934dc8920c0197a0c92f4e",
            "_model_module": "@jupyter-widgets/controls",
            "children": [
              "IPY_MODEL_421e2361d34d49c681f5c4a89d1935e2",
              "IPY_MODEL_13f0e948b30a465b95d61b4637825feb"
            ]
          }
        },
        "1ad7ac70f1934dc8920c0197a0c92f4e": {
          "model_module": "@jupyter-widgets/base",
          "model_name": "LayoutModel",
          "state": {
            "_view_name": "LayoutView",
            "grid_template_rows": null,
            "right": null,
            "justify_content": null,
            "_view_module": "@jupyter-widgets/base",
            "overflow": null,
            "_model_module_version": "1.2.0",
            "_view_count": null,
            "flex_flow": null,
            "width": null,
            "min_width": null,
            "border": null,
            "align_items": null,
            "bottom": null,
            "_model_module": "@jupyter-widgets/base",
            "top": null,
            "grid_column": null,
            "overflow_y": null,
            "overflow_x": null,
            "grid_auto_flow": null,
            "grid_area": null,
            "grid_template_columns": null,
            "flex": null,
            "_model_name": "LayoutModel",
            "justify_items": null,
            "grid_row": null,
            "max_height": null,
            "align_content": null,
            "visibility": null,
            "align_self": null,
            "height": null,
            "min_height": null,
            "padding": null,
            "grid_auto_rows": null,
            "grid_gap": null,
            "max_width": null,
            "order": null,
            "_view_module_version": "1.2.0",
            "grid_template_areas": null,
            "object_position": null,
            "object_fit": null,
            "grid_auto_columns": null,
            "margin": null,
            "display": null,
            "left": null
          }
        },
        "421e2361d34d49c681f5c4a89d1935e2": {
          "model_module": "@jupyter-widgets/controls",
          "model_name": "FloatProgressModel",
          "state": {
            "_view_name": "ProgressView",
            "style": "IPY_MODEL_57a078591a2647ed8d86904a7e64b8f1",
            "_dom_classes": [],
            "description": "Downloading: 100%",
            "_model_name": "FloatProgressModel",
            "bar_style": "success",
            "max": 263273408,
            "_view_module": "@jupyter-widgets/controls",
            "_model_module_version": "1.5.0",
            "value": 263273408,
            "_view_count": null,
            "_view_module_version": "1.5.0",
            "orientation": "horizontal",
            "min": 0,
            "description_tooltip": null,
            "_model_module": "@jupyter-widgets/controls",
            "layout": "IPY_MODEL_97b7b092b6544faca7dfd6a0958c114c"
          }
        },
        "13f0e948b30a465b95d61b4637825feb": {
          "model_module": "@jupyter-widgets/controls",
          "model_name": "HTMLModel",
          "state": {
            "_view_name": "HTMLView",
            "style": "IPY_MODEL_1cfb90a5f8f4426ab9cd23bef46c277e",
            "_dom_classes": [],
            "description": "",
            "_model_name": "HTMLModel",
            "placeholder": "​",
            "_view_module": "@jupyter-widgets/controls",
            "_model_module_version": "1.5.0",
            "value": " 263M/263M [00:11&lt;00:00, 22.9MB/s]",
            "_view_count": null,
            "_view_module_version": "1.5.0",
            "description_tooltip": null,
            "_model_module": "@jupyter-widgets/controls",
            "layout": "IPY_MODEL_8c2202762c084c5e9d705b01bb98e56a"
          }
        },
        "57a078591a2647ed8d86904a7e64b8f1": {
          "model_module": "@jupyter-widgets/controls",
          "model_name": "ProgressStyleModel",
          "state": {
            "_view_name": "StyleView",
            "_model_name": "ProgressStyleModel",
            "description_width": "initial",
            "_view_module": "@jupyter-widgets/base",
            "_model_module_version": "1.5.0",
            "_view_count": null,
            "_view_module_version": "1.2.0",
            "bar_color": null,
            "_model_module": "@jupyter-widgets/controls"
          }
        },
        "97b7b092b6544faca7dfd6a0958c114c": {
          "model_module": "@jupyter-widgets/base",
          "model_name": "LayoutModel",
          "state": {
            "_view_name": "LayoutView",
            "grid_template_rows": null,
            "right": null,
            "justify_content": null,
            "_view_module": "@jupyter-widgets/base",
            "overflow": null,
            "_model_module_version": "1.2.0",
            "_view_count": null,
            "flex_flow": null,
            "width": null,
            "min_width": null,
            "border": null,
            "align_items": null,
            "bottom": null,
            "_model_module": "@jupyter-widgets/base",
            "top": null,
            "grid_column": null,
            "overflow_y": null,
            "overflow_x": null,
            "grid_auto_flow": null,
            "grid_area": null,
            "grid_template_columns": null,
            "flex": null,
            "_model_name": "LayoutModel",
            "justify_items": null,
            "grid_row": null,
            "max_height": null,
            "align_content": null,
            "visibility": null,
            "align_self": null,
            "height": null,
            "min_height": null,
            "padding": null,
            "grid_auto_rows": null,
            "grid_gap": null,
            "max_width": null,
            "order": null,
            "_view_module_version": "1.2.0",
            "grid_template_areas": null,
            "object_position": null,
            "object_fit": null,
            "grid_auto_columns": null,
            "margin": null,
            "display": null,
            "left": null
          }
        },
        "1cfb90a5f8f4426ab9cd23bef46c277e": {
          "model_module": "@jupyter-widgets/controls",
          "model_name": "DescriptionStyleModel",
          "state": {
            "_view_name": "StyleView",
            "_model_name": "DescriptionStyleModel",
            "description_width": "",
            "_view_module": "@jupyter-widgets/base",
            "_model_module_version": "1.5.0",
            "_view_count": null,
            "_view_module_version": "1.2.0",
            "_model_module": "@jupyter-widgets/controls"
          }
        },
        "8c2202762c084c5e9d705b01bb98e56a": {
          "model_module": "@jupyter-widgets/base",
          "model_name": "LayoutModel",
          "state": {
            "_view_name": "LayoutView",
            "grid_template_rows": null,
            "right": null,
            "justify_content": null,
            "_view_module": "@jupyter-widgets/base",
            "overflow": null,
            "_model_module_version": "1.2.0",
            "_view_count": null,
            "flex_flow": null,
            "width": null,
            "min_width": null,
            "border": null,
            "align_items": null,
            "bottom": null,
            "_model_module": "@jupyter-widgets/base",
            "top": null,
            "grid_column": null,
            "overflow_y": null,
            "overflow_x": null,
            "grid_auto_flow": null,
            "grid_area": null,
            "grid_template_columns": null,
            "flex": null,
            "_model_name": "LayoutModel",
            "justify_items": null,
            "grid_row": null,
            "max_height": null,
            "align_content": null,
            "visibility": null,
            "align_self": null,
            "height": null,
            "min_height": null,
            "padding": null,
            "grid_auto_rows": null,
            "grid_gap": null,
            "max_width": null,
            "order": null,
            "_view_module_version": "1.2.0",
            "grid_template_areas": null,
            "object_position": null,
            "object_fit": null,
            "grid_auto_columns": null,
            "margin": null,
            "display": null,
            "left": null
          }
        }
      }
    }
  },
  "cells": [
    {
      "cell_type": "markdown",
      "metadata": {
        "id": "GgbAo8kx_8QV"
      },
      "source": [
        "# Essentially a copy of [this Colab NB](https://colab.research.google.com/drive/1pTuQhug6Dhl9XalKB0zUGf4FIdYFlpcX?usp=sharing) from Chris McCormick and Nick Ryan."
      ]
    },
    {
      "cell_type": "code",
      "metadata": {
        "id": "J6CyImjelhBt",
        "outputId": "2b58b269-a253-4dc7-f826-eee993383b15",
        "colab": {
          "base_uri": "https://localhost:8080/",
          "height": 34
        }
      },
      "source": [
        "from google.colab import drive\n",
        "\n",
        "drive.mount(\"/content/drive\", force_remount=True)"
      ],
      "execution_count": 1,
      "outputs": [
        {
          "output_type": "stream",
          "text": [
            "Mounted at /content/drive\n"
          ],
          "name": "stdout"
        }
      ]
    },
    {
      "cell_type": "markdown",
      "metadata": {
        "id": "9WIdwW53muEK"
      },
      "source": [
        "# <span style=\"color:#FF8800\"> (Most) Installs"
      ]
    },
    {
      "cell_type": "code",
      "metadata": {
        "id": "EDyvuUOpmOII",
        "outputId": "deccbe49-aa99-437b-c8aa-6d0e9b59057e",
        "colab": {
          "base_uri": "https://localhost:8080/",
          "height": 607
        }
      },
      "source": [
        "!pip install transformers"
      ],
      "execution_count": 2,
      "outputs": [
        {
          "output_type": "stream",
          "text": [
            "Collecting transformers\n",
            "\u001b[?25l  Downloading https://files.pythonhosted.org/packages/19/22/aff234f4a841f8999e68a7a94bdd4b60b4cebcfeca5d67d61cd08c9179de/transformers-3.3.1-py3-none-any.whl (1.1MB)\n",
            "\u001b[K     |████████████████████████████████| 1.1MB 7.3MB/s \n",
            "\u001b[?25hRequirement already satisfied: numpy in /usr/local/lib/python3.6/dist-packages (from transformers) (1.18.5)\n",
            "Requirement already satisfied: filelock in /usr/local/lib/python3.6/dist-packages (from transformers) (3.0.12)\n",
            "Requirement already satisfied: tqdm>=4.27 in /usr/local/lib/python3.6/dist-packages (from transformers) (4.41.1)\n",
            "Collecting sacremoses\n",
            "\u001b[?25l  Downloading https://files.pythonhosted.org/packages/7d/34/09d19aff26edcc8eb2a01bed8e98f13a1537005d31e95233fd48216eed10/sacremoses-0.0.43.tar.gz (883kB)\n",
            "\u001b[K     |████████████████████████████████| 890kB 30.0MB/s \n",
            "\u001b[?25hRequirement already satisfied: regex!=2019.12.17 in /usr/local/lib/python3.6/dist-packages (from transformers) (2019.12.20)\n",
            "Requirement already satisfied: dataclasses; python_version < \"3.7\" in /usr/local/lib/python3.6/dist-packages (from transformers) (0.7)\n",
            "Requirement already satisfied: requests in /usr/local/lib/python3.6/dist-packages (from transformers) (2.23.0)\n",
            "Collecting tokenizers==0.8.1.rc2\n",
            "\u001b[?25l  Downloading https://files.pythonhosted.org/packages/80/83/8b9fccb9e48eeb575ee19179e2bdde0ee9a1904f97de5f02d19016b8804f/tokenizers-0.8.1rc2-cp36-cp36m-manylinux1_x86_64.whl (3.0MB)\n",
            "\u001b[K     |████████████████████████████████| 3.0MB 41.2MB/s \n",
            "\u001b[?25hRequirement already satisfied: packaging in /usr/local/lib/python3.6/dist-packages (from transformers) (20.4)\n",
            "Collecting sentencepiece!=0.1.92\n",
            "\u001b[?25l  Downloading https://files.pythonhosted.org/packages/d4/a4/d0a884c4300004a78cca907a6ff9a5e9fe4f090f5d95ab341c53d28cbc58/sentencepiece-0.1.91-cp36-cp36m-manylinux1_x86_64.whl (1.1MB)\n",
            "\u001b[K     |████████████████████████████████| 1.1MB 41.1MB/s \n",
            "\u001b[?25hRequirement already satisfied: six in /usr/local/lib/python3.6/dist-packages (from sacremoses->transformers) (1.15.0)\n",
            "Requirement already satisfied: click in /usr/local/lib/python3.6/dist-packages (from sacremoses->transformers) (7.1.2)\n",
            "Requirement already satisfied: joblib in /usr/local/lib/python3.6/dist-packages (from sacremoses->transformers) (0.16.0)\n",
            "Requirement already satisfied: urllib3!=1.25.0,!=1.25.1,<1.26,>=1.21.1 in /usr/local/lib/python3.6/dist-packages (from requests->transformers) (1.24.3)\n",
            "Requirement already satisfied: certifi>=2017.4.17 in /usr/local/lib/python3.6/dist-packages (from requests->transformers) (2020.6.20)\n",
            "Requirement already satisfied: chardet<4,>=3.0.2 in /usr/local/lib/python3.6/dist-packages (from requests->transformers) (3.0.4)\n",
            "Requirement already satisfied: idna<3,>=2.5 in /usr/local/lib/python3.6/dist-packages (from requests->transformers) (2.10)\n",
            "Requirement already satisfied: pyparsing>=2.0.2 in /usr/local/lib/python3.6/dist-packages (from packaging->transformers) (2.4.7)\n",
            "Building wheels for collected packages: sacremoses\n",
            "  Building wheel for sacremoses (setup.py) ... \u001b[?25l\u001b[?25hdone\n",
            "  Created wheel for sacremoses: filename=sacremoses-0.0.43-cp36-none-any.whl size=893257 sha256=27c2d0abd6f99501aa81cc94c41fe29112e8f56d608622b0ce1caa9cb7eae9ad\n",
            "  Stored in directory: /root/.cache/pip/wheels/29/3c/fd/7ce5c3f0666dab31a50123635e6fb5e19ceb42ce38d4e58f45\n",
            "Successfully built sacremoses\n",
            "Installing collected packages: sacremoses, tokenizers, sentencepiece, transformers\n",
            "Successfully installed sacremoses-0.0.43 sentencepiece-0.1.91 tokenizers-0.8.1rc2 transformers-3.3.1\n"
          ],
          "name": "stdout"
        }
      ]
    },
    {
      "cell_type": "code",
      "metadata": {
        "id": "aGcqDxobl_OI"
      },
      "source": [
        "#standard library imports\n",
        "import datetime\n",
        "import itertools\n",
        "import os\n",
        "import random\n",
        "import time\n",
        "import warnings\n",
        "\n",
        "#3rd party imports\n",
        "import matplotlib.pyplot as plt\n",
        "import numpy as np\n",
        "import pandas as pd\n",
        "import seaborn as sns\n",
        "import torch\n",
        "\n",
        "#local app & library specific imports\n",
        "from scipy.special import softmax\n",
        "from sklearn.metrics import f1_score, precision_recall_fscore_support #classification_report, confusion_matrix, roc_auc_score\n",
        "from sklearn.preprocessing import LabelEncoder\n",
        "from torch.utils.data import DataLoader, random_split, RandomSampler, SequentialSampler, TensorDataset\n",
        "from transformers import AdamW, BertConfig, get_linear_schedule_with_warmup"
      ],
      "execution_count": 3,
      "outputs": []
    },
    {
      "cell_type": "markdown",
      "metadata": {
        "id": "hrBUScizmz2o"
      },
      "source": [
        "# <span style=\"color:#FF8800\"> Setup & global vars"
      ]
    },
    {
      "cell_type": "code",
      "metadata": {
        "id": "bjDAVTnxOe5V"
      },
      "source": [
        "# alert for cells\n",
        "from IPython.display import Audio\n",
        "\n",
        "alert = Audio(np.sin(np.linspace(0, 3000, 20000)), rate=20000, autoplay=True)"
      ],
      "execution_count": 4,
      "outputs": []
    },
    {
      "cell_type": "code",
      "metadata": {
        "id": "HY5vNTOtlsU-",
        "outputId": "b9f792b2-8964-4189-c7be-a055bf932349",
        "colab": {
          "base_uri": "https://localhost:8080/",
          "height": 34
        }
      },
      "source": [
        "%cd drive/'My Drive'/propaganda_bert/"
      ],
      "execution_count": 5,
      "outputs": [
        {
          "output_type": "stream",
          "text": [
            "/content/drive/My Drive/propaganda_bert\n"
          ],
          "name": "stdout"
        }
      ]
    },
    {
      "cell_type": "code",
      "metadata": {
        "id": "R9GwaCdJl333",
        "outputId": "18b85201-a840-43c4-89f5-a44e89eddcd7",
        "colab": {
          "base_uri": "https://localhost:8080/",
          "height": 52
        }
      },
      "source": [
        "# If there's a GPU available...\n",
        "if torch.cuda.is_available():    \n",
        "\n",
        "    # Tell PyTorch to use the GPU.    \n",
        "    device = torch.device(\"cuda\")\n",
        "\n",
        "    print('There are %d GPU(s) available.' % torch.cuda.device_count())\n",
        "\n",
        "    print('We will use the GPU:', torch.cuda.get_device_name(0))\n",
        "\n",
        "# If not...\n",
        "else:\n",
        "    print('No GPU available, using the CPU instead.')\n",
        "    device = torch.device(\"cpu\")"
      ],
      "execution_count": 6,
      "outputs": [
        {
          "output_type": "stream",
          "text": [
            "There are 1 GPU(s) available.\n",
            "We will use the GPU: Tesla T4\n"
          ],
          "name": "stdout"
        }
      ]
    },
    {
      "cell_type": "code",
      "metadata": {
        "id": "NR0hNRJdl7iA",
        "outputId": "0beb2cb2-0655-4ffa-d443-b5eb7c249a12",
        "colab": {
          "base_uri": "https://localhost:8080/",
          "height": 52
        }
      },
      "source": [
        "# Load the dataset into a pandas dataframe.\n",
        "train_df = pd.read_csv(\n",
        "    \"datasets/train_data.tsv\",\n",
        "    sep = \"\\t\",\n",
        "    header = 0,\n",
        "    index_col = 0\n",
        ")\n",
        "\n",
        "# Report the number of sentences.\n",
        "print('Number of training sentences: {:,}\\n'.format(train_df.shape[0]))"
      ],
      "execution_count": 7,
      "outputs": [
        {
          "output_type": "stream",
          "text": [
            "Number of training sentences: 15,928\n",
            "\n"
          ],
          "name": "stdout"
        }
      ]
    },
    {
      "cell_type": "code",
      "metadata": {
        "id": "CbdUfpFvmWXv",
        "outputId": "d662d3f5-3b58-43ce-c627-4d24cdf80998",
        "colab": {
          "base_uri": "https://localhost:8080/",
          "height": 144
        }
      },
      "source": [
        "train_df.sample(3)"
      ],
      "execution_count": 8,
      "outputs": [
        {
          "output_type": "execute_result",
          "data": {
            "text/html": [
              "<div>\n",
              "<style scoped>\n",
              "    .dataframe tbody tr th:only-of-type {\n",
              "        vertical-align: middle;\n",
              "    }\n",
              "\n",
              "    .dataframe tbody tr th {\n",
              "        vertical-align: top;\n",
              "    }\n",
              "\n",
              "    .dataframe thead th {\n",
              "        text-align: right;\n",
              "    }\n",
              "</style>\n",
              "<table border=\"1\" class=\"dataframe\">\n",
              "  <thead>\n",
              "    <tr style=\"text-align: right;\">\n",
              "      <th></th>\n",
              "      <th>label</th>\n",
              "      <th>label_binary</th>\n",
              "      <th>text</th>\n",
              "    </tr>\n",
              "  </thead>\n",
              "  <tbody>\n",
              "    <tr>\n",
              "      <th>13655</th>\n",
              "      <td>No_Propaganda</td>\n",
              "      <td>No_Propaganda</td>\n",
              "      <td>of 06:30 EDT - Details)\\nWas Hunt referring to...</td>\n",
              "    </tr>\n",
              "    <tr>\n",
              "      <th>3516</th>\n",
              "      <td>No_Propaganda</td>\n",
              "      <td>No_Propaganda</td>\n",
              "      <td>.\\nExpelled former student Nikolas Cruz, 19, h...</td>\n",
              "    </tr>\n",
              "    <tr>\n",
              "      <th>12514</th>\n",
              "      <td>No_Propaganda</td>\n",
              "      <td>No_Propaganda</td>\n",
              "      <td>norms, or rules – 289 of them!\\n– that all com...</td>\n",
              "    </tr>\n",
              "  </tbody>\n",
              "</table>\n",
              "</div>"
            ],
            "text/plain": [
              "               label  ...                                               text\n",
              "13655  No_Propaganda  ...  of 06:30 EDT - Details)\\nWas Hunt referring to...\n",
              "3516   No_Propaganda  ...  .\\nExpelled former student Nikolas Cruz, 19, h...\n",
              "12514  No_Propaganda  ...  norms, or rules – 289 of them!\\n– that all com...\n",
              "\n",
              "[3 rows x 3 columns]"
            ]
          },
          "metadata": {
            "tags": []
          },
          "execution_count": 8
        }
      ]
    },
    {
      "cell_type": "code",
      "metadata": {
        "id": "jajcAhXdo0xF",
        "outputId": "d47a9962-ad5d-497c-94fe-8a379f025ce7",
        "colab": {
          "base_uri": "https://localhost:8080/",
          "height": 34
        }
      },
      "source": [
        "# Global vars - vars in ALL_CAPS can be adjusted to enable experiments\n",
        "\n",
        "#Dataset vars\n",
        "THESE_LABELS = \"label_binary\" # use 'label' for multi-class classification & 'label_binary' for binary\n",
        "NUM_LABELS = train_df[THESE_LABELS].nunique()\n",
        "print(f\"NUM_LABELS: {NUM_LABELS}\")\n",
        "\n",
        "#BERT/Training vars\n",
        "MODEL = \"distilbert-base-cased\"\n",
        "EPOCHS = 3 # Good starting range is 2 to 4\n",
        "LEARNING_RATE = 5e-5 # Good starting range is 2e-5 to 5e-5\n",
        "BATCH_SIZE = 32 # For fine-tuning BERT on a specific task, the authors recommend a batch size of 16 or 32."
      ],
      "execution_count": 10,
      "outputs": [
        {
          "output_type": "stream",
          "text": [
            "NUM_LABELS: 2\n"
          ],
          "name": "stdout"
        }
      ]
    },
    {
      "cell_type": "code",
      "metadata": {
        "id": "Fc-SwcvepYhz",
        "outputId": "86005295-9d51-4160-a4ad-9d8022d99909",
        "colab": {
          "base_uri": "https://localhost:8080/",
          "height": 52
        }
      },
      "source": [
        "sentences = train_df.text.values\n",
        "\n",
        "le = LabelEncoder()\n",
        "labels = le.fit_transform(train_df[THESE_LABELS]) # encode labels as ints\n",
        "\n",
        "counter = 0\n",
        "for entry in le.classes_:\n",
        "  print(f\"{counter}: {entry}\")\n",
        "  counter += 1\n",
        "\n",
        "train_df[THESE_LABELS+\"_encoded\"] = labels # add col to train_df with ints for labels"
      ],
      "execution_count": 11,
      "outputs": [
        {
          "output_type": "stream",
          "text": [
            "0: No_Propaganda\n",
            "1: Propaganda\n"
          ],
          "name": "stdout"
        }
      ]
    },
    {
      "cell_type": "code",
      "metadata": {
        "id": "Dgsx46ayVUcR",
        "outputId": "ae64cd18-e7a8-42b1-db09-6bf432d79a0f",
        "colab": {
          "base_uri": "https://localhost:8080/",
          "height": 144
        }
      },
      "source": [
        "train_df.sample(3)"
      ],
      "execution_count": 12,
      "outputs": [
        {
          "output_type": "execute_result",
          "data": {
            "text/html": [
              "<div>\n",
              "<style scoped>\n",
              "    .dataframe tbody tr th:only-of-type {\n",
              "        vertical-align: middle;\n",
              "    }\n",
              "\n",
              "    .dataframe tbody tr th {\n",
              "        vertical-align: top;\n",
              "    }\n",
              "\n",
              "    .dataframe thead th {\n",
              "        text-align: right;\n",
              "    }\n",
              "</style>\n",
              "<table border=\"1\" class=\"dataframe\">\n",
              "  <thead>\n",
              "    <tr style=\"text-align: right;\">\n",
              "      <th></th>\n",
              "      <th>label</th>\n",
              "      <th>label_binary</th>\n",
              "      <th>text</th>\n",
              "      <th>label_binary_encoded</th>\n",
              "    </tr>\n",
              "  </thead>\n",
              "  <tbody>\n",
              "    <tr>\n",
              "      <th>1715</th>\n",
              "      <td>No_Propaganda</td>\n",
              "      <td>No_Propaganda</td>\n",
              "      <td>assessment.\\nThe president of the CRIF umbrell...</td>\n",
              "      <td>0</td>\n",
              "    </tr>\n",
              "    <tr>\n",
              "      <th>3601</th>\n",
              "      <td>Bandwagon,Reductio_ad_hitlerum</td>\n",
              "      <td>Propaganda</td>\n",
              "      <td>a good strategy was to blame the assassination...</td>\n",
              "      <td>1</td>\n",
              "    </tr>\n",
              "    <tr>\n",
              "      <th>15827</th>\n",
              "      <td>No_Propaganda</td>\n",
              "      <td>No_Propaganda</td>\n",
              "      <td>In the memo, Congress’s top law enforcement of...</td>\n",
              "      <td>0</td>\n",
              "    </tr>\n",
              "  </tbody>\n",
              "</table>\n",
              "</div>"
            ],
            "text/plain": [
              "                                label  ... label_binary_encoded\n",
              "1715                    No_Propaganda  ...                    0\n",
              "3601   Bandwagon,Reductio_ad_hitlerum  ...                    1\n",
              "15827                   No_Propaganda  ...                    0\n",
              "\n",
              "[3 rows x 4 columns]"
            ]
          },
          "metadata": {
            "tags": []
          },
          "execution_count": 12
        }
      ]
    },
    {
      "cell_type": "markdown",
      "metadata": {
        "id": "C-ox0s5lAJ5p"
      },
      "source": [
        "# Get tokenizer & tokenize training data"
      ]
    },
    {
      "cell_type": "code",
      "metadata": {
        "id": "QNwugkqkpcRz",
        "outputId": "788fec25-2de8-4cb4-db8a-92aa3b58c373",
        "colab": {
          "base_uri": "https://localhost:8080/",
          "height": 84,
          "referenced_widgets": [
            "3dcecdcedf7b440fa12bcc4ba2e266bd",
            "82ce0af84b6e44bea8c263713e218466",
            "5682ee1fa5bb4273beab0446e0574bf6",
            "663975cf1aaa45c5afe93ad24cb4dd3c",
            "658b51f9d8254cae8f93a64fffabf3ab",
            "ee6c8b930e79453dbc8c3c8ba21fbe24",
            "c2a5d237cb88414d90544e735c2a16c8",
            "90a0a8a398df4b14a21612270d51937d"
          ]
        }
      },
      "source": [
        "print('Loading tokenizer...')\n",
        "if MODEL == \"distilbert-base-cased\":\n",
        "\n",
        "  from transformers import DistilBertTokenizer\n",
        "  tokenizer = DistilBertTokenizer.from_pretrained('distilbert-base-cased', do_lower_case = True)\n",
        "\n",
        "elif MODEL == \"distilbert-base-uncased\":\n",
        "\n",
        "  from transformers import DistilBertTokenizer\n",
        "  tokenizer = DistilBertTokenizer.from_pretrained('distilbert-base-uncased', do_lower_case = True)\n",
        "\n",
        "elif MODEL == \"bert-base-cased\":\n",
        "\n",
        "  from transformers import BertTokenizer\n",
        "  tokenizer = BertTokenizer.from_pretrained('bert-base-cased', do_lower_case = False)\n",
        "\n",
        "elif MODEL == \"roberta-base\":\n",
        "\n",
        "  from transformers import RobertaTokenizer\n",
        "  tokenizer = RobertaTokenizer.from_pretrained(\"roberta-base\")\n",
        "\n",
        "else:\n",
        "  raise ValueError('Unknown model specified. Check MODEL var.')"
      ],
      "execution_count": 13,
      "outputs": [
        {
          "output_type": "stream",
          "text": [
            "Loading tokenizer...\n"
          ],
          "name": "stdout"
        },
        {
          "output_type": "display_data",
          "data": {
            "application/vnd.jupyter.widget-view+json": {
              "model_id": "3dcecdcedf7b440fa12bcc4ba2e266bd",
              "version_minor": 0,
              "version_major": 2
            },
            "text/plain": [
              "HBox(children=(FloatProgress(value=0.0, description='Downloading', max=213450.0, style=ProgressStyle(descripti…"
            ]
          },
          "metadata": {
            "tags": []
          }
        },
        {
          "output_type": "stream",
          "text": [
            "\n"
          ],
          "name": "stdout"
        }
      ]
    },
    {
      "cell_type": "code",
      "metadata": {
        "id": "EJUNvf_8qaqL",
        "outputId": "4909c946-a8b8-45ee-cb77-133ef34e4dcf",
        "colab": {
          "base_uri": "https://localhost:8080/",
          "height": 86
        }
      },
      "source": [
        "random_sample = random.randint(0,train_df.shape[0])\n",
        "\n",
        "# Print the original sentence.\n",
        "print(' Original: ', sentences[random_sample])\n",
        "\n",
        "# Print the sentence split into tokens.\n",
        "print('Tokenized: ', tokenizer.tokenize(sentences[random_sample]))\n",
        "\n",
        "# Print the sentence mapped to token ids.\n",
        "print('Token IDs: ', tokenizer.convert_tokens_to_ids(tokenizer.tokenize(sentences[random_sample])))\n",
        "\n",
        "#Print the associated label\n",
        "print(\"Label: \", labels[random_sample])"
      ],
      "execution_count": 14,
      "outputs": [
        {
          "output_type": "stream",
          "text": [
            " Original:  gang-raped\n",
            "Tokenized:  ['gang', '-', 'raped']\n",
            "Token IDs:  [6939, 118, 16567]\n",
            "Label:  1\n"
          ],
          "name": "stdout"
        }
      ]
    },
    {
      "cell_type": "code",
      "metadata": {
        "id": "-whFHrRxqpm7",
        "outputId": "96414ad6-8be7-4fda-f582-5771b97c4ff7",
        "colab": {
          "base_uri": "https://localhost:8080/",
          "height": 34
        }
      },
      "source": [
        "max_len = 0\n",
        "\n",
        "# For every sentence...\n",
        "for sent in sentences:\n",
        "\n",
        "    # Tokenize the text and add `[CLS]` and `[SEP]` tokens.\n",
        "    input_ids = tokenizer.encode(sent, add_special_tokens=True)\n",
        "\n",
        "    # Update the maximum sentence length.\n",
        "    max_len = max(max_len, len(input_ids))\n",
        "\n",
        "if max_len <= 512:\n",
        "  print('Max sentence length: ', max_len) #max sentence len for BERT is 512\n",
        "else:\n",
        "  warnings.warn(\"WARNING: max_len exceeds max token length for BERT.\")"
      ],
      "execution_count": 15,
      "outputs": [
        {
          "output_type": "stream",
          "text": [
            "Max sentence length:  204\n"
          ],
          "name": "stdout"
        }
      ]
    },
    {
      "cell_type": "code",
      "metadata": {
        "id": "ecRa9_OArWZR",
        "outputId": "7759eedb-b01f-42ee-c779-2e9b0ca96f7b",
        "colab": {
          "base_uri": "https://localhost:8080/",
          "height": 454
        }
      },
      "source": [
        "# Tokenize all of the sentences and map the tokens to their word IDs.\n",
        "input_ids = []\n",
        "attention_masks = []\n",
        "\n",
        "# For every sentence...\n",
        "for sent in sentences:\n",
        "    #`encode_plus` will:\n",
        "    #(1) Tokenize the sentence.\n",
        "    #(2) Prepend the `[CLS]` token to the start.\n",
        "    #(3) Append the `[SEP]` token to the end.\n",
        "    #(4) Map tokens to their IDs.\n",
        "    #(5) Pad or truncate the sentence to `max_length`\n",
        "    #(6) Create attention masks for [PAD] tokens.\n",
        "    encoded_dict = tokenizer.encode_plus(\n",
        "        sent,                         #Sentence to encode.\n",
        "        add_special_tokens=True,    #Add '[CLS]' and '[SEP]'\n",
        "        max_length=max_len,         #Pad & truncate all sentences.\n",
        "        truncation=True,\n",
        "        pad_to_max_length=True,\n",
        "        return_attention_mask=True, # Construct attn. masks.\n",
        "        return_tensors='pt',        # Return pytorch tensors.\n",
        "    )\n",
        "    \n",
        "    # Add the encoded sentence to the list.    \n",
        "    input_ids.append(encoded_dict['input_ids'])\n",
        "    \n",
        "    # And its attention mask (simply differentiates padding from non-padding).\n",
        "    attention_masks.append(encoded_dict['attention_mask'])\n",
        "\n",
        "# Convert the lists into tensors.\n",
        "input_ids = torch.cat(input_ids, dim=0)\n",
        "attention_masks = torch.cat(attention_masks, dim=0)\n",
        "labels = torch.tensor(labels)\n",
        "\n",
        "# Print sentence as a list of IDs.\n",
        "print('Original: ', sentences[random_sample])\n",
        "print('Token IDs:', input_ids[random_sample])"
      ],
      "execution_count": 16,
      "outputs": [
        {
          "output_type": "stream",
          "text": [
            "/usr/local/lib/python3.6/dist-packages/transformers/tokenization_utils_base.py:1773: FutureWarning: The `pad_to_max_length` argument is deprecated and will be removed in a future version, use `padding=True` or `padding='longest'` to pad to the longest sequence in the batch, or use `padding='max_length'` to pad to a max length. In this case, you can give a specific length with `max_length` (e.g. `max_length=45`) or leave max_length to None to pad to the maximal input size of the model (e.g. 512 for Bert).\n",
            "  FutureWarning,\n"
          ],
          "name": "stderr"
        },
        {
          "output_type": "stream",
          "text": [
            "Original:  gang-raped\n",
            "Token IDs: tensor([  101,  6939,   118, 16567,   102,     0,     0,     0,     0,     0,\n",
            "            0,     0,     0,     0,     0,     0,     0,     0,     0,     0,\n",
            "            0,     0,     0,     0,     0,     0,     0,     0,     0,     0,\n",
            "            0,     0,     0,     0,     0,     0,     0,     0,     0,     0,\n",
            "            0,     0,     0,     0,     0,     0,     0,     0,     0,     0,\n",
            "            0,     0,     0,     0,     0,     0,     0,     0,     0,     0,\n",
            "            0,     0,     0,     0,     0,     0,     0,     0,     0,     0,\n",
            "            0,     0,     0,     0,     0,     0,     0,     0,     0,     0,\n",
            "            0,     0,     0,     0,     0,     0,     0,     0,     0,     0,\n",
            "            0,     0,     0,     0,     0,     0,     0,     0,     0,     0,\n",
            "            0,     0,     0,     0,     0,     0,     0,     0,     0,     0,\n",
            "            0,     0,     0,     0,     0,     0,     0,     0,     0,     0,\n",
            "            0,     0,     0,     0,     0,     0,     0,     0,     0,     0,\n",
            "            0,     0,     0,     0,     0,     0,     0,     0,     0,     0,\n",
            "            0,     0,     0,     0,     0,     0,     0,     0,     0,     0,\n",
            "            0,     0,     0,     0,     0,     0,     0,     0,     0,     0,\n",
            "            0,     0,     0,     0,     0,     0,     0,     0,     0,     0,\n",
            "            0,     0,     0,     0,     0,     0,     0,     0,     0,     0,\n",
            "            0,     0,     0,     0,     0,     0,     0,     0,     0,     0,\n",
            "            0,     0,     0,     0,     0,     0,     0,     0,     0,     0,\n",
            "            0,     0,     0,     0])\n"
          ],
          "name": "stdout"
        }
      ]
    },
    {
      "cell_type": "code",
      "metadata": {
        "id": "xER2TbP-rqGN",
        "outputId": "07ef2535-3a75-4fa3-e568-281e00972299",
        "colab": {
          "base_uri": "https://localhost:8080/",
          "height": 52
        }
      },
      "source": [
        "# Combine the training inputs into a TensorDataset.\n",
        "dataset = TensorDataset(input_ids, attention_masks, labels)\n",
        "\n",
        "# Create a 90-10 train-validation split.\n",
        "# Calculate the number of samples to include in each set.\n",
        "train_size = int(0.9 * len(dataset))\n",
        "val_size = len(dataset) - train_size\n",
        "\n",
        "# Divide the dataset by randomly selecting samples.\n",
        "train_dataset, val_dataset = random_split(dataset, [train_size, val_size])\n",
        "\n",
        "print('{:>5,} training samples'.format(train_size))\n",
        "print('{:>5,} validation samples'.format(val_size))"
      ],
      "execution_count": 17,
      "outputs": [
        {
          "output_type": "stream",
          "text": [
            "14,335 training samples\n",
            "1,593 validation samples\n"
          ],
          "name": "stdout"
        }
      ]
    },
    {
      "cell_type": "code",
      "metadata": {
        "id": "RHVTSNSVtTsj"
      },
      "source": [
        "# Create the DataLoaders for our training and validation sets.\n",
        "# We'll take training samples in random order. \n",
        "train_dataloader = DataLoader(\n",
        "            train_dataset,  # The training samples.\n",
        "            sampler = RandomSampler(train_dataset), # Select batches randomly\n",
        "            batch_size = BATCH_SIZE # Trains with this batch size.\n",
        "        )\n",
        "\n",
        "# For validation the order doesn't matter, so we'll just read them sequentially.\n",
        "validation_dataloader = DataLoader(\n",
        "            val_dataset, # The validation samples.\n",
        "            sampler = SequentialSampler(val_dataset), # Pull out batches sequentially.\n",
        "            batch_size = BATCH_SIZE # Evaluate with this batch size.\n",
        "        )"
      ],
      "execution_count": 18,
      "outputs": []
    },
    {
      "cell_type": "markdown",
      "metadata": {
        "id": "NSTj69zcASO_"
      },
      "source": [
        "# Configure model"
      ]
    },
    {
      "cell_type": "code",
      "metadata": {
        "id": "wWq_YCbLuEja",
        "outputId": "1b0ed4c3-ded6-46be-c986-30840fdedec7",
        "colab": {
          "base_uri": "https://localhost:8080/",
          "height": 0,
          "referenced_widgets": [
            "d6734102bcb34dc69ff1144dd06dc821",
            "82d344c47f98432f9f53472a6aa1f6b1",
            "8a773c9936524b049444862f96c7bd07",
            "1754caef2eec473ebd5477a60348d57f",
            "0327588b9fab46e093e889b0fcfd59f7",
            "729b10d37e9e4042bc3ab3bf48f26e87",
            "619a1852d6374b7196ca681a45f3b0d8",
            "ccc9cd52a0b34f61924ccf8d8009af14",
            "bdc3d433d3684a4fa0e9d7428e8e58de",
            "1ad7ac70f1934dc8920c0197a0c92f4e",
            "421e2361d34d49c681f5c4a89d1935e2",
            "13f0e948b30a465b95d61b4637825feb",
            "57a078591a2647ed8d86904a7e64b8f1",
            "97b7b092b6544faca7dfd6a0958c114c",
            "1cfb90a5f8f4426ab9cd23bef46c277e",
            "8c2202762c084c5e9d705b01bb98e56a"
          ]
        }
      },
      "source": [
        "if MODEL == \"distilbert-base-cased\":\n",
        "\n",
        "  from transformers import DistilBertForSequenceClassification\n",
        "\n",
        "  model = DistilBertForSequenceClassification.from_pretrained(\n",
        "      \"distilbert-base-cased\",\n",
        "      num_labels = NUM_LABELS,\n",
        "      output_attentions = False,\n",
        "      output_hidden_states = False,\n",
        ")\n",
        "  \n",
        "elif MODEL == \"distilbert-base-uncased\":\n",
        "\n",
        "  from transformers import DistilBertForSequenceClassification\n",
        "\n",
        "  model = DistilBertForSequenceClassification.from_pretrained(\n",
        "      \"distilbert-base-uncased\",\n",
        "      num_labels = NUM_LABELS,\n",
        "      output_attentions = False,\n",
        "      output_hidden_states = False,\n",
        ")\n",
        "  \n",
        "elif MODEL == \"bert-base-cased\":\n",
        "\n",
        "  from transformers import BertForSequenceClassification\n",
        "\n",
        "  model = BertForSequenceClassification.from_pretrained(\n",
        "    \"bert-base-cased\",\n",
        "    num_labels = NUM_LABELS,\n",
        "    output_attentions = False,\n",
        "    output_hidden_states = False,\n",
        ")\n",
        "  \n",
        "elif MODEL == \"roberta-base\":\n",
        "\n",
        "  from transformers import RobertaForSequenceClassification\n",
        "\n",
        "  model = RobertaForSequenceClassification.from_pretrained('roberta-base')\n",
        "\n",
        "else:\n",
        "  raise ValueError('Unknown model specified. Check MODEL var.')\n",
        "\n",
        "# Tell pytorch to run this model on the GPU.\n",
        "model.cuda()"
      ],
      "execution_count": 19,
      "outputs": [
        {
          "output_type": "display_data",
          "data": {
            "application/vnd.jupyter.widget-view+json": {
              "model_id": "d6734102bcb34dc69ff1144dd06dc821",
              "version_minor": 0,
              "version_major": 2
            },
            "text/plain": [
              "HBox(children=(FloatProgress(value=0.0, description='Downloading', max=411.0, style=ProgressStyle(description_…"
            ]
          },
          "metadata": {
            "tags": []
          }
        },
        {
          "output_type": "stream",
          "text": [
            "\n"
          ],
          "name": "stdout"
        },
        {
          "output_type": "display_data",
          "data": {
            "application/vnd.jupyter.widget-view+json": {
              "model_id": "bdc3d433d3684a4fa0e9d7428e8e58de",
              "version_minor": 0,
              "version_major": 2
            },
            "text/plain": [
              "HBox(children=(FloatProgress(value=0.0, description='Downloading', max=263273408.0, style=ProgressStyle(descri…"
            ]
          },
          "metadata": {
            "tags": []
          }
        },
        {
          "output_type": "stream",
          "text": [
            "\n"
          ],
          "name": "stdout"
        },
        {
          "output_type": "stream",
          "text": [
            "Some weights of the model checkpoint at distilbert-base-cased were not used when initializing DistilBertForSequenceClassification: ['vocab_transform.weight', 'vocab_transform.bias', 'vocab_layer_norm.weight', 'vocab_layer_norm.bias', 'vocab_projector.weight', 'vocab_projector.bias']\n",
            "- This IS expected if you are initializing DistilBertForSequenceClassification from the checkpoint of a model trained on another task or with another architecture (e.g. initializing a BertForSequenceClassification model from a BertForPretraining model).\n",
            "- This IS NOT expected if you are initializing DistilBertForSequenceClassification from the checkpoint of a model that you expect to be exactly identical (initializing a BertForSequenceClassification model from a BertForSequenceClassification model).\n",
            "Some weights of DistilBertForSequenceClassification were not initialized from the model checkpoint at distilbert-base-cased and are newly initialized: ['pre_classifier.weight', 'pre_classifier.bias', 'classifier.weight', 'classifier.bias']\n",
            "You should probably TRAIN this model on a down-stream task to be able to use it for predictions and inference.\n"
          ],
          "name": "stderr"
        },
        {
          "output_type": "execute_result",
          "data": {
            "text/plain": [
              "DistilBertForSequenceClassification(\n",
              "  (distilbert): DistilBertModel(\n",
              "    (embeddings): Embeddings(\n",
              "      (word_embeddings): Embedding(28996, 768, padding_idx=0)\n",
              "      (position_embeddings): Embedding(512, 768)\n",
              "      (LayerNorm): LayerNorm((768,), eps=1e-12, elementwise_affine=True)\n",
              "      (dropout): Dropout(p=0.1, inplace=False)\n",
              "    )\n",
              "    (transformer): Transformer(\n",
              "      (layer): ModuleList(\n",
              "        (0): TransformerBlock(\n",
              "          (attention): MultiHeadSelfAttention(\n",
              "            (dropout): Dropout(p=0.1, inplace=False)\n",
              "            (q_lin): Linear(in_features=768, out_features=768, bias=True)\n",
              "            (k_lin): Linear(in_features=768, out_features=768, bias=True)\n",
              "            (v_lin): Linear(in_features=768, out_features=768, bias=True)\n",
              "            (out_lin): Linear(in_features=768, out_features=768, bias=True)\n",
              "          )\n",
              "          (sa_layer_norm): LayerNorm((768,), eps=1e-12, elementwise_affine=True)\n",
              "          (ffn): FFN(\n",
              "            (dropout): Dropout(p=0.1, inplace=False)\n",
              "            (lin1): Linear(in_features=768, out_features=3072, bias=True)\n",
              "            (lin2): Linear(in_features=3072, out_features=768, bias=True)\n",
              "          )\n",
              "          (output_layer_norm): LayerNorm((768,), eps=1e-12, elementwise_affine=True)\n",
              "        )\n",
              "        (1): TransformerBlock(\n",
              "          (attention): MultiHeadSelfAttention(\n",
              "            (dropout): Dropout(p=0.1, inplace=False)\n",
              "            (q_lin): Linear(in_features=768, out_features=768, bias=True)\n",
              "            (k_lin): Linear(in_features=768, out_features=768, bias=True)\n",
              "            (v_lin): Linear(in_features=768, out_features=768, bias=True)\n",
              "            (out_lin): Linear(in_features=768, out_features=768, bias=True)\n",
              "          )\n",
              "          (sa_layer_norm): LayerNorm((768,), eps=1e-12, elementwise_affine=True)\n",
              "          (ffn): FFN(\n",
              "            (dropout): Dropout(p=0.1, inplace=False)\n",
              "            (lin1): Linear(in_features=768, out_features=3072, bias=True)\n",
              "            (lin2): Linear(in_features=3072, out_features=768, bias=True)\n",
              "          )\n",
              "          (output_layer_norm): LayerNorm((768,), eps=1e-12, elementwise_affine=True)\n",
              "        )\n",
              "        (2): TransformerBlock(\n",
              "          (attention): MultiHeadSelfAttention(\n",
              "            (dropout): Dropout(p=0.1, inplace=False)\n",
              "            (q_lin): Linear(in_features=768, out_features=768, bias=True)\n",
              "            (k_lin): Linear(in_features=768, out_features=768, bias=True)\n",
              "            (v_lin): Linear(in_features=768, out_features=768, bias=True)\n",
              "            (out_lin): Linear(in_features=768, out_features=768, bias=True)\n",
              "          )\n",
              "          (sa_layer_norm): LayerNorm((768,), eps=1e-12, elementwise_affine=True)\n",
              "          (ffn): FFN(\n",
              "            (dropout): Dropout(p=0.1, inplace=False)\n",
              "            (lin1): Linear(in_features=768, out_features=3072, bias=True)\n",
              "            (lin2): Linear(in_features=3072, out_features=768, bias=True)\n",
              "          )\n",
              "          (output_layer_norm): LayerNorm((768,), eps=1e-12, elementwise_affine=True)\n",
              "        )\n",
              "        (3): TransformerBlock(\n",
              "          (attention): MultiHeadSelfAttention(\n",
              "            (dropout): Dropout(p=0.1, inplace=False)\n",
              "            (q_lin): Linear(in_features=768, out_features=768, bias=True)\n",
              "            (k_lin): Linear(in_features=768, out_features=768, bias=True)\n",
              "            (v_lin): Linear(in_features=768, out_features=768, bias=True)\n",
              "            (out_lin): Linear(in_features=768, out_features=768, bias=True)\n",
              "          )\n",
              "          (sa_layer_norm): LayerNorm((768,), eps=1e-12, elementwise_affine=True)\n",
              "          (ffn): FFN(\n",
              "            (dropout): Dropout(p=0.1, inplace=False)\n",
              "            (lin1): Linear(in_features=768, out_features=3072, bias=True)\n",
              "            (lin2): Linear(in_features=3072, out_features=768, bias=True)\n",
              "          )\n",
              "          (output_layer_norm): LayerNorm((768,), eps=1e-12, elementwise_affine=True)\n",
              "        )\n",
              "        (4): TransformerBlock(\n",
              "          (attention): MultiHeadSelfAttention(\n",
              "            (dropout): Dropout(p=0.1, inplace=False)\n",
              "            (q_lin): Linear(in_features=768, out_features=768, bias=True)\n",
              "            (k_lin): Linear(in_features=768, out_features=768, bias=True)\n",
              "            (v_lin): Linear(in_features=768, out_features=768, bias=True)\n",
              "            (out_lin): Linear(in_features=768, out_features=768, bias=True)\n",
              "          )\n",
              "          (sa_layer_norm): LayerNorm((768,), eps=1e-12, elementwise_affine=True)\n",
              "          (ffn): FFN(\n",
              "            (dropout): Dropout(p=0.1, inplace=False)\n",
              "            (lin1): Linear(in_features=768, out_features=3072, bias=True)\n",
              "            (lin2): Linear(in_features=3072, out_features=768, bias=True)\n",
              "          )\n",
              "          (output_layer_norm): LayerNorm((768,), eps=1e-12, elementwise_affine=True)\n",
              "        )\n",
              "        (5): TransformerBlock(\n",
              "          (attention): MultiHeadSelfAttention(\n",
              "            (dropout): Dropout(p=0.1, inplace=False)\n",
              "            (q_lin): Linear(in_features=768, out_features=768, bias=True)\n",
              "            (k_lin): Linear(in_features=768, out_features=768, bias=True)\n",
              "            (v_lin): Linear(in_features=768, out_features=768, bias=True)\n",
              "            (out_lin): Linear(in_features=768, out_features=768, bias=True)\n",
              "          )\n",
              "          (sa_layer_norm): LayerNorm((768,), eps=1e-12, elementwise_affine=True)\n",
              "          (ffn): FFN(\n",
              "            (dropout): Dropout(p=0.1, inplace=False)\n",
              "            (lin1): Linear(in_features=768, out_features=3072, bias=True)\n",
              "            (lin2): Linear(in_features=3072, out_features=768, bias=True)\n",
              "          )\n",
              "          (output_layer_norm): LayerNorm((768,), eps=1e-12, elementwise_affine=True)\n",
              "        )\n",
              "      )\n",
              "    )\n",
              "  )\n",
              "  (pre_classifier): Linear(in_features=768, out_features=768, bias=True)\n",
              "  (classifier): Linear(in_features=768, out_features=2, bias=True)\n",
              "  (dropout): Dropout(p=0.2, inplace=False)\n",
              ")"
            ]
          },
          "metadata": {
            "tags": []
          },
          "execution_count": 19
        }
      ]
    },
    {
      "cell_type": "code",
      "metadata": {
        "id": "_3w5c_jBuScV"
      },
      "source": [
        "optimizer = AdamW(\n",
        "    model.parameters(),\n",
        "    lr = LEARNING_RATE,\n",
        "    eps = 1e-8 #small weight to add to avoid zero weights\n",
        ")"
      ],
      "execution_count": 20,
      "outputs": []
    },
    {
      "cell_type": "markdown",
      "metadata": {
        "id": "NYKlhNh5AYnU"
      },
      "source": [
        "# Training & validation"
      ]
    },
    {
      "cell_type": "code",
      "metadata": {
        "id": "-h26i5Cgufhj"
      },
      "source": [
        "# Total number of training steps is [number of batches] x [number of epochs]. \n",
        "# (Note that this is not the same as the number of training samples).\n",
        "total_steps = len(train_dataloader) * EPOCHS\n",
        "\n",
        "# Create the learning rate scheduler.\n",
        "scheduler = get_linear_schedule_with_warmup(\n",
        "    optimizer,\n",
        "    num_warmup_steps = 0, # Default value in run_glue.py\n",
        "    num_training_steps = total_steps\n",
        ")"
      ],
      "execution_count": 21,
      "outputs": []
    },
    {
      "cell_type": "code",
      "metadata": {
        "id": "FzFDyuQRuzXU"
      },
      "source": [
        "# Function to calculate the accuracy of our predictions vs labels\n",
        "def flat_accuracy(preds, labels):\n",
        "    pred_flat = np.argmax(preds, axis=1).flatten()\n",
        "    labels_flat = labels.flatten()\n",
        "    return np.sum(pred_flat == labels_flat) / len(labels_flat)"
      ],
      "execution_count": 22,
      "outputs": []
    },
    {
      "cell_type": "code",
      "metadata": {
        "id": "W_ppnvpu_lLU"
      },
      "source": [
        "def val_metrics(preds, labels):\n",
        "  \"\"\"\n",
        "  Calculates a variety of metrics during validation steps in training.\n",
        "\n",
        "  Args:\n",
        "    preds - an array of prediction scores, one for each class being assessed. Will be an array of shape (n_samples,1).\n",
        "    labels - an array of the true labels for a given set of validation samples. Should also be an array of shape (n_samples, n_classes). \n",
        "\n",
        "  Returns:\n",
        "    result - a dictionary of metrics and their values.\n",
        "  \"\"\"\n",
        "  preds_flat = np.argmax(preds, axis=1).flatten()\n",
        "  labels_flat = labels.flatten()\n",
        "\n",
        "  precision, recall, f1_micro, support = precision_recall_fscore_support(\n",
        "      y_true = labels_flat, \n",
        "      y_pred = preds_flat, \n",
        "      zero_division = 0, \n",
        "      average = \"micro\"\n",
        "  ) #using average = micro is consistent with LR & other models & SemEval metrics\n",
        "\n",
        "  f1_macro = f1_score(y_true = labels_flat, y_pred = preds_flat, average = \"macro\", zero_division = 0)\n",
        "\n",
        "  result = {\n",
        "      \"Precision\": precision,\n",
        "      \"Recall\": recall,\n",
        "      \"F1_micro\": f1_micro,\n",
        "      \"F1_macro\": f1_macro\n",
        "  }\n",
        "\n",
        "  return result"
      ],
      "execution_count": 23,
      "outputs": []
    },
    {
      "cell_type": "code",
      "metadata": {
        "id": "IIeS_U-4u3_8"
      },
      "source": [
        "def format_time(elapsed):\n",
        "    '''\n",
        "    Takes a time in seconds and returns a string hh:mm:ss\n",
        "    '''\n",
        "    # Round to the nearest second.\n",
        "    elapsed_rounded = int(round((elapsed)))\n",
        "    \n",
        "    # Format as hh:mm:ss\n",
        "    return str(datetime.timedelta(seconds=elapsed_rounded))"
      ],
      "execution_count": 24,
      "outputs": []
    },
    {
      "cell_type": "code",
      "metadata": {
        "id": "hilCF5eIu6e8",
        "outputId": "1e9596a5-fc0f-4341-a212-1a9cc6650f30",
        "colab": {
          "base_uri": "https://localhost:8080/",
          "height": 1000
        }
      },
      "source": [
        "# This training code is based on the `run_glue.py` script here:\n",
        "# https://github.com/huggingface/transformers/blob/5bfcd0485ece086ebcbed2d008813037968a9e58/examples/run_glue.py#L128\n",
        "\n",
        "# Set the seed value all over the place to make this reproducible.\n",
        "seed_val = 42\n",
        "\n",
        "random.seed(seed_val)\n",
        "np.random.seed(seed_val)\n",
        "torch.manual_seed(seed_val)\n",
        "torch.cuda.manual_seed_all(seed_val)\n",
        "\n",
        "# We'll store a number of quantities such as training and validation loss, \n",
        "# validation accuracy, and timings.\n",
        "val_predictions, val_true_labels = [], []\n",
        "training_stats = []\n",
        "\n",
        "# Measure the total training time for the whole run.\n",
        "total_t0 = time.time()\n",
        "\n",
        "# For each epoch...\n",
        "for epoch_i in range(0, EPOCHS):\n",
        "    \n",
        "    ##############\n",
        "    ## TRAINING ##\n",
        "    \n",
        "    # Perform one full pass over the training set.\n",
        "    print(\"\")\n",
        "    print('======== Epoch {:} / {:} ========'.format(epoch_i + 1, EPOCHS))\n",
        "    print('Training...')\n",
        "\n",
        "    # Measure how long the training epoch takes.\n",
        "    t0 = time.time()\n",
        "\n",
        "    # Reset the total loss for this epoch.\n",
        "    total_train_loss = 0\n",
        "\n",
        "    # Put the model into training mode. Don't be misled--the call to \n",
        "    # `train` just changes the *mode*, it doesn't *perform* the training.\n",
        "    # `dropout` and `batchnorm` layers behave differently during training\n",
        "    # vs. test (source: https://stackoverflow.com/questions/51433378/what-does-model-train-do-in-pytorch)\n",
        "    model.train()\n",
        "\n",
        "    # For each batch of training data...\n",
        "    for step, batch in enumerate(train_dataloader):\n",
        "\n",
        "        # Progress update every 40 batches.\n",
        "        if step % 40 == 0 and not step == 0:\n",
        "            # Calculate elapsed time in minutes.\n",
        "            elapsed = format_time(time.time() - t0)\n",
        "            \n",
        "            # Report progress.\n",
        "            print('  Batch {:>5,}  of  {:>5,}.    Elapsed: {:}.'.format(step, len(train_dataloader), elapsed))\n",
        "\n",
        "        # Unpack this training batch from our dataloader. \n",
        "        # As we unpack the batch, we'll also copy each tensor to the GPU using the `to` method.\n",
        "        b_input_ids = batch[0].to(device)\n",
        "        b_input_mask = batch[1].to(device)\n",
        "        b_labels = batch[2].to(device)\n",
        "\n",
        "        # Always clear any previously calculated gradients before performing a\n",
        "        # backward pass. PyTorch doesn't do this automatically because \n",
        "        # accumulating the gradients is \"convenient while training RNNs\". \n",
        "        # (source: https://stackoverflow.com/questions/48001598/why-do-we-need-to-call-zero-grad-in-pytorch)\n",
        "        model.zero_grad()        \n",
        "\n",
        "        # Perform a forward pass (evaluate the model on this training batch).\n",
        "        # The documentation for this `model` function is here: \n",
        "        # https://huggingface.co/transformers/v2.2.0/model_doc/bert.html#transformers.BertForSequenceClassification\n",
        "        # It returns different numbers of parameters depending on what arguments\n",
        "        # are given and what flags are set. Here it returns the loss and the logits.\n",
        "        loss, logits = model(b_input_ids, \n",
        "                             attention_mask=b_input_mask, \n",
        "                             labels=b_labels)\n",
        "\n",
        "        # Accumulate the training loss over all of the batches so that we can\n",
        "        # calculate the average loss at the end. `loss` is a Tensor containing a\n",
        "        # single value; the `.item()` function just returns the Python value \n",
        "        # from the tensor.\n",
        "        total_train_loss += loss.item()\n",
        "\n",
        "        # Perform a backward pass to calculate the gradients.\n",
        "        loss.backward()\n",
        "\n",
        "        # Clip the norm of the gradients to 1.0.\n",
        "        # This is to help prevent the \"exploding gradients\" problem.\n",
        "        torch.nn.utils.clip_grad_norm_(model.parameters(), 1.0)\n",
        "\n",
        "        # Update parameters and take a step using the computed gradient.\n",
        "        # The optimizer dictates the \"update rule\"--how the parameters are\n",
        "        # modified based on their gradients, the learning rate, etc.\n",
        "        optimizer.step()\n",
        "\n",
        "        # Update the learning rate.\n",
        "        scheduler.step()\n",
        "\n",
        "    # Calculate the average loss over all of the batches.\n",
        "    avg_train_loss = total_train_loss / len(train_dataloader)            \n",
        "    \n",
        "    # Measure how long this epoch took.\n",
        "    training_time = format_time(time.time() - t0)\n",
        "\n",
        "    print(\"\")\n",
        "    print(\"  Average training loss: {0:.2f}\".format(avg_train_loss))\n",
        "    print(\"  Training epoch took: {:}\".format(training_time))\n",
        "\n",
        "    ################    \n",
        "    ## VALIDATION ##\n",
        "\n",
        "    # After the completion of each training epoch, measure our performance on\n",
        "    # our validation set.\n",
        "    print(\"\")\n",
        "    print(\"Running Validation...\")\n",
        "\n",
        "    t0 = time.time()\n",
        "\n",
        "    # Put the model in evaluation mode--the dropout layers behave differently\n",
        "    # during evaluation.\n",
        "    model.eval()\n",
        "\n",
        "    # Tracking variables \n",
        "    total_eval_accuracy = 0\n",
        "    total_eval_loss = 0\n",
        "    nb_eval_steps = 0\n",
        "    total_eval_precision = 0\n",
        "    total_eval_recall = 0\n",
        "    total_eval_f1_micro = 0\n",
        "    total_eval_f1_macro = 0\n",
        "\n",
        "    # Evaluate data for one epoch\n",
        "    for batch in validation_dataloader:\n",
        "        \n",
        "        b_input_ids = batch[0].to(device)\n",
        "        b_input_mask = batch[1].to(device)\n",
        "        b_labels = batch[2].to(device)\n",
        "        \n",
        "        # Tell pytorch not to bother with constructing the compute graph during\n",
        "        # the forward pass, since this is only needed for backprop (training).\n",
        "        with torch.no_grad():        \n",
        "\n",
        "            # Forward pass, calculate logit predictions.\n",
        "            # token_type_ids is the same as the \"segment ids\", which \n",
        "            # differentiates sentence 1 and 2 in 2-sentence tasks.\n",
        "            # The documentation for this `model` function is here: \n",
        "            # https://huggingface.co/transformers/v2.2.0/model_doc/bert.html#transformers.BertForSequenceClassification\n",
        "            (loss, logits) = model(b_input_ids, \n",
        "                                   attention_mask=b_input_mask,\n",
        "                                   labels=b_labels)\n",
        "            \n",
        "        # Accumulate the validation loss.\n",
        "        total_eval_loss += loss.item()\n",
        "\n",
        "        # Move logits and labels to CPU\n",
        "        logits = logits.detach().cpu().numpy()\n",
        "        label_ids = b_labels.to('cpu').numpy()\n",
        "\n",
        "        # Store predictions and true labels\n",
        "        val_predictions.append(logits)\n",
        "        val_true_labels.append(label_ids)\n",
        "\n",
        "        # Calculate the accuracy for this batch of test sentences, and\n",
        "        # accumulate it over all batches.\n",
        "        total_eval_accuracy += flat_accuracy(logits, label_ids)\n",
        "\n",
        "        # Calculate other metrics and accumulate over all batches\n",
        "        these_val_metrics = val_metrics(logits, label_ids)\n",
        "        total_eval_precision += these_val_metrics[\"Precision\"]\n",
        "        total_eval_recall += these_val_metrics[\"Recall\"]\n",
        "        total_eval_f1_micro += these_val_metrics[\"F1_micro\"]\n",
        "        total_eval_f1_macro += these_val_metrics[\"F1_macro\"]        \n",
        "\n",
        "    # Report the final accuracy for this validation run.\n",
        "    avg_val_accuracy = total_eval_accuracy / len(validation_dataloader)\n",
        "    print(\"  Accuracy: {0:.2f}\".format(avg_val_accuracy))\n",
        "\n",
        "    # Calculate the average loss over all of the batches.\n",
        "    avg_val_loss = total_eval_loss / len(validation_dataloader)\n",
        "\n",
        "    # Calculate other metrics\n",
        "    avg_eval_precision = total_eval_precision/len(validation_dataloader)\n",
        "    avg_eval_recall = total_eval_recall/len(validation_dataloader)\n",
        "    avg_eval_f1_micro = total_eval_f1_micro/len(validation_dataloader)\n",
        "    avg_eval_f1_macro = total_eval_f1_macro/len(validation_dataloader)\n",
        "    \n",
        "    # Measure how long the validation run took.\n",
        "    validation_time = format_time(time.time() - t0)\n",
        "    \n",
        "    print(\"  Validation Loss: {0:.2f}\".format(avg_val_loss))\n",
        "    print(\"  Validation took: {:}\".format(validation_time))\n",
        "\n",
        "    # Record all statistics from this epoch.\n",
        "    training_stats.append(\n",
        "        {\n",
        "            'epoch': epoch_i + 1,\n",
        "            'Training Loss': avg_train_loss,\n",
        "            'Valid. Loss': avg_val_loss,\n",
        "            'Avg. Accur.': avg_val_accuracy,\n",
        "            'Avg. Precision': avg_eval_precision,\n",
        "            'Avg. Recall': avg_eval_recall,\n",
        "            'Avg. F1_micro': avg_eval_f1_micro,\n",
        "            'Avg. F1_macro': avg_eval_f1_macro,\n",
        "            'Training Time': training_time,\n",
        "            'Validation Time': validation_time\n",
        "        }\n",
        "    )\n",
        "\n",
        "print(\"\")\n",
        "print(\"Training complete!\")\n",
        "\n",
        "print(\"Total training took {:} (h:mm:ss)\".format(format_time(time.time()-total_t0)))\n",
        "\n",
        "alert"
      ],
      "execution_count": 25,
      "outputs": [
        {
          "output_type": "stream",
          "text": [
            "\n",
            "======== Epoch 1 / 3 ========\n",
            "Training...\n",
            "  Batch    40  of    448.    Elapsed: 0:00:21.\n",
            "  Batch    80  of    448.    Elapsed: 0:00:42.\n",
            "  Batch   120  of    448.    Elapsed: 0:01:04.\n",
            "  Batch   160  of    448.    Elapsed: 0:01:28.\n",
            "  Batch   200  of    448.    Elapsed: 0:01:52.\n",
            "  Batch   240  of    448.    Elapsed: 0:02:16.\n",
            "  Batch   280  of    448.    Elapsed: 0:02:40.\n",
            "  Batch   320  of    448.    Elapsed: 0:03:03.\n",
            "  Batch   360  of    448.    Elapsed: 0:03:28.\n",
            "  Batch   400  of    448.    Elapsed: 0:03:52.\n",
            "  Batch   440  of    448.    Elapsed: 0:04:15.\n",
            "\n",
            "  Average training loss: 0.12\n",
            "  Training epoch took: 0:04:20\n",
            "\n",
            "Running Validation...\n",
            "  Accuracy: 0.97\n",
            "  Validation Loss: 0.08\n",
            "  Validation took: 0:00:11\n",
            "\n",
            "======== Epoch 2 / 3 ========\n",
            "Training...\n",
            "  Batch    40  of    448.    Elapsed: 0:00:24.\n",
            "  Batch    80  of    448.    Elapsed: 0:00:48.\n",
            "  Batch   120  of    448.    Elapsed: 0:01:12.\n",
            "  Batch   160  of    448.    Elapsed: 0:01:36.\n",
            "  Batch   200  of    448.    Elapsed: 0:02:00.\n",
            "  Batch   240  of    448.    Elapsed: 0:02:24.\n",
            "  Batch   280  of    448.    Elapsed: 0:02:48.\n",
            "  Batch   320  of    448.    Elapsed: 0:03:12.\n",
            "  Batch   360  of    448.    Elapsed: 0:03:36.\n",
            "  Batch   400  of    448.    Elapsed: 0:04:00.\n",
            "  Batch   440  of    448.    Elapsed: 0:04:24.\n",
            "\n",
            "  Average training loss: 0.03\n",
            "  Training epoch took: 0:04:29\n",
            "\n",
            "Running Validation...\n",
            "  Accuracy: 0.98\n",
            "  Validation Loss: 0.08\n",
            "  Validation took: 0:00:11\n",
            "\n",
            "======== Epoch 3 / 3 ========\n",
            "Training...\n",
            "  Batch    40  of    448.    Elapsed: 0:00:24.\n",
            "  Batch    80  of    448.    Elapsed: 0:00:48.\n",
            "  Batch   120  of    448.    Elapsed: 0:01:12.\n",
            "  Batch   160  of    448.    Elapsed: 0:01:36.\n",
            "  Batch   200  of    448.    Elapsed: 0:02:00.\n",
            "  Batch   240  of    448.    Elapsed: 0:02:24.\n",
            "  Batch   280  of    448.    Elapsed: 0:02:47.\n",
            "  Batch   320  of    448.    Elapsed: 0:03:11.\n",
            "  Batch   360  of    448.    Elapsed: 0:03:35.\n",
            "  Batch   400  of    448.    Elapsed: 0:03:59.\n",
            "  Batch   440  of    448.    Elapsed: 0:04:23.\n",
            "\n",
            "  Average training loss: 0.01\n",
            "  Training epoch took: 0:04:28\n",
            "\n",
            "Running Validation...\n",
            "  Accuracy: 0.98\n",
            "  Validation Loss: 0.08\n",
            "  Validation took: 0:00:11\n",
            "\n",
            "Training complete!\n",
            "Total training took 0:13:50 (h:mm:ss)\n"
          ],
          "name": "stdout"
        },
        {
          "output_type": "execute_result",
          "data": {
            "text/html": [
              "\n",
              "                <audio controls=\"controls\" autoplay=\"autoplay\">\n",
              "                    <source src=\"data:audio/wav;base64,UklGRmScAABXQVZFZm10IBAAAAABAAEAIE4AAECcAAACABAAZGF0YUCcAAAAACAT0yWtN0ZIQFdEZAdvTHfkfK1/mH+lfOZ2e26UY3JWXkevNsckCxLo/srrIdlXx9O29KcPm26QT4jggkGAgICcg4OJFJIdnV6qjLlPykbcC+8xAksV6iekORJK11idZRpwE3hafc9/Zn8hfBF2W20wYtBUiUWyNKwi3g+3/KHpDNdixQm1YKa6mV+PjYdvgiOAtoAlhFyKOJOFngOsY7tOzGPeOPFiBHMX/imXO9lLaFruZiVx0XjGfel/LH+TezR1M2zEYClTr0OwMo4gsQ2G+nnn+dRxw0Wz0qRsmFmO04YHgg6A9YC3hD6LZJT0n62tQL1SzoHgZvOTBpoZDiyFPZtN8ls4aCdyhnkqfvh/5378ek50A2tRX3tR0EGrMG4eggtV+FPl6tKFwYexTKMml1uNI4aogQOAP4FThSiMmJVroV6vIb9Z0KPilfXDCL8bHC5vP1ZPdV16aSFzMXqEfv5/mX5cel9zy2nXXcdP7D+iLkwcUwkl9i/j39Cev86vzKHolWaMfIVTgQKAkYH3hRuN1JbpohWxB8Fk0sbkxffzCuIdJjBUQQxR8V60ahJ01HrUfvt/Qn6zeWhyjGhWXA1OBD6WLCcaIwf28w3h1867vRyuVKCylHmL3oQHgQuA7YGlhheOF5htpNKy8sJy1Ovm9vkhDQMgLDI1Q7tSZWDma/p0bXsbf+5/4X0AeWhxRGfOWk1MFzyGKgEY8gTI8e7e0szdu3Cs456Ek5WKSoTFgB2AU4JchxuPY5n5pZW04sSD1hPpJvxPDyEiLjQQRWRU02EQbdl1/XtYf9d/d31FeGBw9GU/WYhKJTpzKNkVwQKa79Hc0soFusqqeZ1ekrqJvoONgDiAwoIciCiQtpqLp1221saY2DzrWP58ETwkLTbmRgdWOWMxbrB2hHyMf7Z/A32Ad09vnWSpV71ILzhdJq8TkABu7bfa1cgxuCqpFpxBkeiIPINegF2AO4PliD2REZwkqSu4zsiv2mbtiACnE1UmJzi2SKNXmGRLb313AX22f4x/hnyzdjVuPmMNVuxGNDZEJIQRYP5E65/Y3cZjtpGnu5oskB+IxII5gIyAvIO3iVqSdJ3Eqv65y8rJ3JLvuQLRFWsoHjqBSjlZ72VccEJ4dX3Wf1l//3vcdRRt2GFqVBZFNjQpIlcPLvwb6YvW6cSbtP+laJkfj1+HVYIdgMSASISSioCT3p5qrNa7y8zm3sDx6gT5F34qDzxHTMhaP2dkcf54333tfxx/b3v9dOpra2DBUjtDMzIKICkN/vnz5nnU+cLYsnOkHJgajqiG74ELgAaB3IR2i66UT6AWrrS9z84G4e7zGwcgGo4s/T0HTlBch2hkcrB5QX77f9V+1noVdLhq9l4SUVtBLTDqHfsKzffO5GvSDsEbse6i2JYfjfqFk4ECgFKBeoVijOSVx6HIr5e/19An4x32SwlEHJsu5j/BT9Jdx2lcc1p6mH7+f4V+NHokc35pel1cT3Y/Iy7HG8sInfWq4mDQKL9kr3ChnJUsjFWFQIEDgKeBIYZXjSGXRqOBsX7B49JL5U34egtmHqQwyUF1UUxf/2pLdPp65n75fyt+iHkrcj1o91uhTYw9FiyiGZsGbvOJ4FnORr2zrfqfaJRBi7mE9oAOgAWC0YZVjmeYzaQ/s2rD8tRx5376qQ2HIKkyqEMjU79gL2wxdZF7K3/pf8h91HgpcfNmbVrgS547BSp7F2oEQPFq3lbMarsJrIqePJNfiieEt4AigG2Ciodcj7WZWqYDtVvFBNeZ6a/81g+kIqs0gkXKVCtiV20Odh98Zn/Qf1t9FngecKJl3VgZSqs58idTFTkCE+9O3FbKk7lkqiKdGJKHiZ6DgYBAgN+CTIhqkAqb7qfNtlDHGdnC6+D+AxK/JKg2V0dsVo9jdm7jdqN8l3+tf+V8T3cLb0lkRldNSLQ32yUoEwgA6Ow02lvIwbfGqMGb/ZC3iB6DVIBogFmDF4mBkWeciamcuEnJMdvt7RABLhTXJqI4JkkGWOxkjm+udx59v3+Bf2Z8gHbwbehiqFV7Rrg1wSP9ENf9veoe2GPG9LUvp2ia6o/wh6iCMYCZgN2D7ImhksudKqtwukfLTN0a8EEDVxbtKJc68EqaWUJmnXBxeJB93X9Lf917p3XMbIBhA1SkRLkzpSHQDqb7legK1nDELbSepReZ344yhzuCGIDUgGuEyYrIkzef0axKvEjNat9H8nIFfxj/Kog8tEwoW49no3Eqefh98n8Lf0t7xnShaxFgWVLHQrYxhh+iDHX5bub504LCbLIUpM2X3Y19htiBCIAYgQKFr4v4lKmgf64pvk3PiuF29KMHpRoOLXQ+c06uXNVooXLaeVd+/X/CfrB623NtappeqFDmQK8vZR1zCkX3SeTs0ZjAsLCRoouW44zRhX6BAoBmgaKFnYwwliOiM7ANwFbRrOOl9tMJyRwaL1tAK1AuXhNql3OCeqx+/n9wfgt66HIxaR1d8U4AP6QtQhtDCBX1JuLiz7O++64VoVGV8osuhS2BBYC9gUuGlI1wl6Wj7LH1wWPT0eXV+AIM6x4iMT5C3lGnX0lrg3Qge/h+9n8Ufl157XHtZ5hbNE0VPZYrHBkTBufyBeDczdK8S62gnx6UCYuVhOaAEoAegv2GlI63mC2lrLPiw3LV9+cG+zAOCiEmMxxEilMYYXhsZ3W0ezp/5H+ufaZ46XCiZg1ackslO4Up9RbiA7nw593Zy/e6oqsynvSSKooFhKmAKYCIgriHnI8HmrymcbXUxYXXH+o3/V4QJyMnNfVFMFWCYp1tQ3ZAfHJ/yH9Afed33G9PZXtYqkkxOXAnzBSxAYzuy9vaySG5/6nMnNORU4l+g3WASYD7gn2IrZBem1GoPLfKx5vZSexo/4oSQiUjN8hH0FblY7tuFXfCfKF/o3/HfB53x270Y+JW3Ec5N1klohKA/2Hsstngx1C3Y6htm7mQhYgBg0uAc4B5g0qJxpG8nO2pDbnFybTbdO6YAbQUWSccOZZJaVhAZdBv3nc7fcd/dX9FfEx2qm2RYkJVCUY9NT4jdhBP/TfqnNfqxYW1zaYVmqiPwYeNgiqApoD/gyGK6JIjnpCr47rDy9DdofDKA90WbikQO15L/FmTZt1wnniqfeN/PH+6e3F1hGwoYZxTMEQ8MyIhSA4e+w/oidX4w7+zPqXGmJ+OBYcighOA44CPhACLEpSQnzmtvrzFze7fz/L6BQUZfysAPSFNh1vfZ+JxVnkQfvV/+34me410V2u3X/BRU0I4MQIfGgzt+OjledMKwgCytaN+l5+NUobBgQWAKoEoheiLQ5UFoeiunr7Mzw7i/fQrCCobjS3rPt5ODF0jad5yBHpsfv5/r36IeqFzIWo+Xj5QcEAwL+Ac6wm99sTjbdEhwEWwNKI+lqiMqYVpgQKAeoHKhdiMfZaAop2wg8DV0THkLfdbCk4dmC/RQJVQil5fatFzqXq/fv1/Wn7ieaxy42i/XIZOiT4lLb0auweO9KHhZM89vpGuuqAFlbmLCIUbgQeA04F1htKNv5cDpFmybcLi01bmXfmKDG8foDGzQkZSAWCUa7x0RHsJf/J//H0yea5xnmc5W8hMnTwWK5cYigVf8oHfXs1evOOsRp/Vk9KKcYTWgBeAN4Iqh9SOCJmNpRq0W8Tz1X3ojvu4Do4hozOPRPFTcWHAbJ1113tIf95/lH15eKhwUGasWQRLrDoEKW8WWQMy8GTdXcuEujyr2p2tkvWJ44ObgDCAo4Lnh96PWZodp+C1TsYH2Kbqv/3lEKojozVnRpZV2WLkbXZ2YHx/f8B/I323d5pv+2QYWDpJtzjuJkYUKAEF7knbX8mwuJqpdpyOkSCJX4NqgFKAGYOuiPGQspu1qK23Rcgd2tDs8P8QE8Qlnjc5SDRXOmT/bkd34Hyrf5l/qXzrdoNunmN9VmtHvjbWJBsS+P7a6zDZZsfgtv+nGZt2kFWI5IJCgH6AmIN9iQySE51Sqn+5QMo33PvuIQI7FdsnljkFSstYk2UTcA54Vn3Pf2h/JXwXdmNtOmLcVJdFwTS7Iu4Px/yx6RvXcMUWtWumw5lnj5KHcoIjgLSAIYRWii+Te573q1a7QMxT3ijxUgRjF+8piTvMS1xa5WYdccx4w33ofy1/l3s7dTxsz2A1U71DvzKeIMENlvqJ5wnVf8NSs96kdZhgjtmGCoIPgPSAs4Q3i1uU6p+hrTK9Q85y4FbzgwaKGf8rdz2OTeZbL2ggcoF5J374f+l+AXtVdAxrXF+HUd5BujB+HpILZfhj5frSk8GUsVejL5dijSiGq4EEgDyBToUhjI+VYKFSrxO/StCT4oX1swivGw0uYT9JT2pdcWkacy16gX7+f5x+YXpmc9Rp4l3UT/o/sS5cHGMJNfY/4+7Qq7/br9eh8ZVtjIGFVYECgI+B84UUjcqW3qIIsfnAVdK25LX34wrSHRcwR0H/UOZeq2oLdM960n77f0R+uHlvcpVoYVwaThI+pSw3GjMHBvQd4ebOyb0orl+gu5SAi+OECYEKgOuBoIYPjg6YYqTFsuTCY9Tc5uX5EQ3zHx0yJ0OvUltg3WvzdGl7GX/uf+R9BnlwcU1n2VpaTCU8lSoRGAIF2PH93uHM67t8rO2ejZOcik6Ex4AcgFCCV4cTj1mZ7qWItNTEdNYD6Rb8Pw8RIiA0AkVYVMlhB23Tdfl7Vn/Yf3p9SnhncP5lSlmVSjM6gijpFdECqu/g3OHKErrWqoOdZ5LBicKDjoA3gL+CF4ggkK2agKdQtsfGiNgs60f+bBEtJB422Eb7VS9jKW6qdoB8in+4fwZ9hndXb6dktVfKSD04bCa/E6AAfu3G2uTIP7g2qSCcSZHuiECDX4BcgDeD34g1kQecGKkduMDIoNpX7XgAlxNGJhk4qUiXV45kQ294d/58tX+Of4l8uXY+bkljGVb6RkM2VCSUEXD+VOuu2OvGcbadp8WaM5AliMeCOoCLgLmDsYlSkmmduKrwubzKutyD76kCwRVcKA86dEotWeZlVHA9eHJ91n9bfwN843UcbeNhdlQkRUQ0OCJnDz78Kuma1vfEqLQKpnGZJo9kh1iCHoDDgESEjIp3k9OeXqzJu7zM196w8doE6RdvKgE8Oky9WjZnXXH5eN197X8ef3R7BHXza3VgzVJJQ0IyGiA5DQ76A+eI1AfD5bJ+pCWYIo6thvKBC4AEgdiEb4ullESgCq6mvcHO9uDe8wsHEBp/LO89+k1FXH5oXXKreT5++n/Xftt6HHTBagFfHlFpQTww+R0LC9333uR60hzBKLH5ouGWJo3/hZWBAoBQgXWFW4zblbyhvK+Jv8jQGOMN9jsJNByMLtg/tE/HXb5pVXNVepZ+/n+Hfjl6K3OIaYVdaU+EPzIu1xvbCK31uuJv0Da/ca97oaWVMoxahUKBA4CkgRyGUI0YlzujdLFwwdTSPOU9+GoLVx6VMLxBaFFBX/ZqRHT2euR++X8ufo15MnJGaAJcrk2bPSUsshmrBn7zmeBozlS9wK0EoHGUSIu+hPiADoACgsyGTo5emMKkMrNcw+PUYedu+pkNdyCaMptDFlO0YCZsKnWNeyl/6n/Lfdl4MHH9Znla7UusOxUqixd6BFDxet5kzHi7FayVnkWTZoorhLiAIoBqgoWHVI+rmU+m9rRNxfXWiemf/MYPlSKcNHVFvlQgYk5tCHYbfGR/0X9ffRx4JnCrZehYJkq5OQEoYhVJAiPvXdxlyqC5cKosnSGSjYmig4KAP4DbgkeIYpAAm+Knv7ZCxwrZs+vQ/vMRsCSaNkpHYFaFY25u3XaffJZ/rn/pfFV3E29TZFFXWkjCN+olOBMYAPfsRNppyM630qjLmwWRvIgig1WAZ4BWgxKJeZFdnH2pjrg7ySLb3e0AAR4UyCaTOBlJ+1fiZIZvqHcbfb5/gn9qfIZ2+G3yYrRViEbHNdEjDRHn/c3qLdhyxgG2OqdymvGP9YergjKAl4DZg+WJmJLBnR6rY7o4yz3dCvAxA0cW3SiJOuNKj1k4ZpVwa3iNfdx/TX/he6111WyLYRBUsUTIM7Uh4A62+6ToGdZ+xDq0qaUgmeaON4c+ghiA0oBnhMKKwJMsn8WsPLw5zVrfN/JiBW8Y8Cp6PKdMHVuGZ5xxJXn1ffF/DX9Pe8x0qWscYGVS1ULFMZYfsgyF+X3mCNSQwnmyH6TWl+SNgobagQiAFoH9hKiL75SfoHKuG74/z3rhZvSTB5Ua/yxmPmZOo1zMaJpy1XlUfvx/xX60euJzdmqlXrVQ9EC+L3UdgwpV91jk+9GmwL2wnKKUluqM1oWAgQKAY4GdhZaMJ5YZoiaw/79H0Z3jlfbDCbkcCy9OQB9QI14KapBzfXqqfv5/cn4Qeu9yOmkoXf5ODj+zLVIbUwgl9TXi8c/AvgevIKFZlfmLM4UvgQWAuoFGho2NZ5eZo+Cx58FU08HlxfjyC9seEzEwQtFRnF9Ba310G3v2fvZ/F35iefRx92ejW0FNIz2lKywZIwb38hXg6s3gvFitqp8nlBCLmYTogBKAG4L4ho2OrpghpZ+z1MNj1efn9vogDvsgFzMORH5TDmFvbGF1sHs4f+R/sX2sePBwq2YYWn9LNDuUKQUX8gPJ8Pbd6MsFu66rPJ79kjCKCYSqgCiAhYKzh5WP/ZmwpmS1xsV21w/qJ/1OEBgjGDXnRSRVeGKVbTx2PHxxf8l/Q33sd+RvWGWGWLdJQDl/J9wUwQGc7tvb6ckuuQuq1pzbkVmJgoN2gEiA+IJ3iKWQVJtFqC+3vMeM2TnsWP96EjIlFTe7R8RW22Ozbg93vnygf6R/y3wkd89u/mPtVulHSDdoJbESkP9x7MLZ7sdet26od5vBkIuIBINMgHKAdYNEib6RspzhqQC5tsml22TuiAGkFEonDTmJSV1YNmXJb9h3N33Gf3Z/SXxSdrJtnGJOVRZGSzVOI4UQX/1H6qvX+MWStdimH5qwj8aHkIIrgKWA+4Mait+SGJ6Eq9W6tMvA3ZHwugPOFl8pAjtRS/BZimbWcJl4p33ifz5/v3t3dY1sMmGpUz5ESzMxIVgOLvse6JjVBsTMs0mlz5injgqHJYITgOGAioT5igmUhZ8trbC8t83e37/y6gX1GHAr8jwUTXxb1mfbcVF5DX71f/1+KnuUdF9rwV/9UWFCRzESHyoM/fj45YjTGMIMssCjh5emjVeGw4EGgCiBI4XhizqV+qDcrpC+vc//4e30GwgbG34t3T7STgFdGmnXcv95an7+f7J+jXqocypqSV5LUH5APy/wHPsJzfbT43zRL8BSsD+iR5aujK2FbIECgHeBxYXRjHSWdaKRsHXAxtEi5B33Swo+HYkvw0CJUH9eV2rKc6R6vX79f11+53mzcuxoylySTpc+NC3MGssHnvSx4XPPS76ersSgDpW/iw2FHYEHgNGBcIbKjbWX+KNMsl7C09NG5k35egxfH5ExpUI6UvZfi2u1dEB7B3/zf/99N3m2cadnRFvUTKs8JSumGJoFb/KR323NbLzwrFGf3pPZinWE2IAWgDSCJIfMjv+YgqUNtE3E5NVt6H77qA5+IZQzgkTlU2Zht2yXddN7R3/ff5d9fniwcFpmt1kRS7s6Eyl/FmkDQvBz3WvLkrpIq+WdtpL7ieeDnYAvgKCC4ofWj1CaEqfTtT/G99eW6q/91RCbI5Q1WUaKVc9i221wdlx8fX/Bfyd9vHeibwVlI1hHScY4/iZVFDgBFe5Y227JvbimqYCclpEmiWKDa4BRgBWDqIjpkKibqaigtzbIDtrA7OD/ARO1JZA3K0goVzBk925Bd9x8qn+af6x88XaLbqhjiVZ4R8w25iQrEgj/6utA2XTH7bYLqCObfpBbiOeCQ4B9gJWDd4kEkgmdRqpxuTLKJ9zr7hECKxXMJ4c5+EnAWIllC3AIeFN9zn9pfyh8HnZsbUVi6FSkRc80yyL+D9f8wOkq13/FI7V3ps2Zb4+Yh3WCJICzgB2EUIonk3Ce6qtIuzHMRN4Y8UIEVBffKXo7wEtRWttmFnHGeMF96H8vf5t7QXVEbNlgQVPKQ84yrSDRDab6mecY1Y7DX7PppH+YaI7ehgyCD4DygK+EMYtSlN+fla0kvTTOYuBG83MGexnwK2k9gU3bWyVoGXJ8eSR++H/rfgV7XHQVa2dflFHsQckwjR6iC3X4c+UJ06HBoLFiozmXaY0thq2BBIA6gUqFGoyGlVWhRa8FvzvQg+J19aMIoBv+LVM/PU9fXWhpE3Moen9+/n+efmZ6bXPdae1d4E8IQMAuaxxzCUX2TuP90Lm/6K/iofqVdIyFhViBAoCMge6FDY3BltOi/LDrwEXSp+Sl99MKwx0IMDlB81DbXqJqBHTLetB++39Hfr15dnKeaGxcJ04gPrQsRxpDBxb0LeH0zta9Na5poMSUh4vnhAuBCoDogZuGCI4FmFekuLLWwlPUzObV+QEN4x8OMhlDolJQYNVr7XRlexd/73/nfQt5d3FXZ+RaZ0wzPKQqIRgSBejxDd/wzPi7iKz4npWToopShMmAG4BNglKHDI9QmeKle7TFxGXW8+gG/C8PAiIRNPVETFS+Yf9szXX1e1V/2H99fVB4b3AIZlZZokpBOpIo+RXhArrv8NzvyiC64qqNnW+Sx4nGg5CANoC8ghGIGJCjmnSnQ7a5xnnYHOs3/lwRHiQQNstG71UlYyFupHZ8fIl/uX8KfYx3X2+xZMBX10hLOHwmzxOwAI7t1dryyEy4QqkqnFGR9IhEg2CAW4Azg9qILZH9mw2pELixyJDaR+1oAIcTNyYKOJxIjFeEZDtvcnf6fLR/j3+NfL92Rm5TYyVWB0dRNmMkpBGA/mPrvtj6xn62qKfPmjuQKojKgjqAiYC1g6uJSpJfnayq47mtyqrcc++ZArEVTSgBOmdKIlncZUxwN3hvfdV/XH8HfOl1JW3tYYJUMkVTNEgidw9P/DrpqdYFxbW0FqZ7mS6Paodbgh6AwYA/hIWKb5PJnlGsu7uuzMfeoPHKBNoXYCrzOy1MsVosZ1Vx83jafex/IH94ewp1+2uAYNpSV0NRMikgSQ0e+hPnl9QWw/KyiaQvmCmOsob0gQyAAoHThGmLnJQ5oP2tmb2yzubgzvP7BgAacCzhPe1NOlx0aFZypnk7fvp/2X7feiJ0ymoMXytRd0FLMAkeGwvt9+3kidIqwTWxBKPqli2NBIaYgQKATYFxhVWM0pWxoa+ve7+60Ajj/fUrCSUcfS7KP6hPvF21aU5zUHqTfv5/in49ejJzkWmQXXZPkj9BLuYb6wi99criftBEv32vhqGulTmMXoVEgQOAooEXhkmND5cwo2exYsHF0izlLfhaC0cehjCuQVxRNl/taj108Xrifvl/MX6SeTlyT2gOXLtNqT00LMEZuwaO86jgd85ivcytD6B5lE6LwoT6gA2AAILHhkaOVJi2pCWzTsPU1FLnXvqJDWcgjDKNQwpTqmAebCR1iXsnf+p/zn3eeDhxBmeEWvpLujskKpsXigRg8Ynec8yFuyGsn55Nk2yKL4S6gCGAZ4J/h0yPoZlDpum0PsXm1nnpj/y3D4UijTRnRbJUFmJGbQJ2F3xif9J/Yn0heC5wtWX0WDNKyDkQKHIVWQIz723cc8quuXyqNp0pkpOJpoODgD6A2IJBiFuQ9prXp7K2M8f72KPrwP7jEaAkizY8R1RWe2Nmbtd2nHyUf69/7HxbdxtvXWRdV2dI0Tf6JUgTKAAH7VPad8jbt96o1ZsNkcKIJYNWgGWAUoMMiXGRUpxxqYG4LMkT287t8AAOFLkmhTgMSe9X2GR+b6N3F329f4R/bXyMdgBu/WLAVZZG1jXgIx0R9/3d6jzYgMYOtkanfJr5j/uHroIzgJaA1oPfiZCStp0Sq1W6Kcsu3frvIQM4Fs4oejrWSoRZLmaOcGZ4iX3bf05/5Xu0dd1slWEcVL9E1jPEIfAOxvu06CjWjcRHtLWlKpnujjyHQYIZgNCAYoS8ireTIp+5rC+8K81L3yfyUgVgGOEqazybTBFbfGeVcSB58n3xfw9/VHvTdLJrJmBxUuNC0zGlH8IMlfmN5hfUnsKFsiqk35frjYeG3YEIgBSB+YShi+eUlKBmrg2+MM9r4Vb0gweGGvAsWD5ZTphcw2iTctB5UX78f8d+uXrpc39qsF7BUAJBzC+EHZMKZfdo5ArStMDJsKeinZbxjNuFgoECgGGBmIWPjB6WDqIZsPG/ONGN44X2swmqHPwuQEASUBheAWqJc3h6p37+f3V+FXr3ckNpM10LTxw/wi1hG2MINfVF4gDQzr4UryqhYpX/izeFMYEFgLiBQYaGjV2XjqPTsdnBRdOx5bX44gvMHgQxI0LFUZFfOGt2dBd79H72fxl+Z3n7cQBor1tOTTE9tCs8GTMGB/Mk4PnN7rxkrbWfMJQXi52E6oARgBiC84aFjqWYFqWSs8bDVNXX5+b6EA7rIAkzAURyUwNhZmxbdax7Nn/lf7V9sXj4cLVmJFqMS0I7oykVFwIE2fAG3vbLEru6q0eeBZM2ig2ErIAngIKCrYeNj/OZpaZXtbjFZ9cA6hf9PhAIIwo12kUYVW5ijW02djh8b3/Kf0Z98nfsb2JlkljESU45jyfsFNEBrO7q2/jJPLkXquCc45FfiYaDeIBHgPWCcYidkEqbOqgit63Hfdkp7Ej/ahIjJQY3rUe4VtFjq24Jd7t8n3+mf858KXfXbghk+Vb3R1Y3dyXBEqD/gezR2f3Ha7d6qIGbyZCRiAiDTYBwgHGDPom2kaic1qnyuKjJldtU7ngBlRQ7J/84fElSWCxlwW/TdzR9xX94f018WHa6baZiWlUkRlo1XSOVEG/9V+q71wbGn7Xkpimat4/Mh5OCLICjgPeDFIrXkg6eeKvIuqbLsd2B8KkDvhZPKfM6REvlWYBmznCUeKR94X9Af8N7fnWVbD1htVNMRFozQSFoDj77Luin1RTE2bNUpdmYro4PhyiCFIDggIaE84oAlHufIK2ivKjNz9+v8toF5RhhK+M8CE1xW8xn03FLeQp+9H//fi97m3Roa8xfCVJuQlYxIR86DA35COaX0ybCGbLMo5CXro1chsaBBoAmgR+F2osyle+gz66Cvq7P7+Hd9AsICxtvLc8+xU72XBFp0HL6eWd+/X+0fpJ6r3MzalReV1CMQE4vAB0LCt324+OL0T3AX7BKolCWtYyyhW6BAoB1gcCFyoxrlmqihLBnwLfREuQN9zsKLh16L7VAfFB1Xk5qw3Ogert+/X9gfut5unL2aNVcn06lPkMt3BrbB670weGBz1m+qq7PoBeVxosRhR+BB4DOgWuGw42sl+2jP7JQwsTTN+Y9+WoMUB+CMZdCLlLsX4JrrnQ8ewV/838Cfjx5vXGwZ09b4Uy5PDQrthiqBX/yoN98zXq8/Kxbn+eT34p6hNqAFoAxgh+HxY71mHalALQ+xNXVXehu+5gObyGGM3RE2VNcYa9skXXPe0V/33+bfYR4uHBjZsNZHkvJOiIpjxZ6A1Hwg916y5+6VKvvnb6SAYrrg56ALoCdgtyHzo9GmganxrUxxujXhuqf/cUQiyOFNUxGflXEYtNtanZZfHx/wn8qfcJ3qW8PZS9YVEnUOA0nZRRIASXuZ9t8ycq4sqmKnJ6RLIlmg2yAUIASg6KI4ZCem52okrcoyP/ZsOzQ//ESpSWBNx5IHFcmZO9uO3fZfKl/m3+wfPd2k26zY5VWhkfbNvUkOhIY//rrT9mCx/u2F6gsm4aQYIjqgkSAfICRg3GJ/JH+nDqqZLkjyhjc3O4BAhsVvCd5OetJtFh/ZQNwAnhQfc1/a38sfCR2dG1PYvRUsUXeNNoiDhDn/NDpOdeNxTC1gqbXmXaPnYd4giWAsYAZhEmKH5Nmnt6rO7sizDTeCPEyBEQX0ClsO7NLRlrSZg5xwXi+fed/MX+ge0d1TWzkYE1T2EPdMr0g4Q22+qjnJ9Wcw2yz9KSImG+O44YPghCA8ICqhCqLSpTVn4itFr0lzlPgNvNjBmsZ4StbPXRN0FscaBFyd3kifvd/7X4Ke2J0HmtxX6BR+kHYMJ0esguF+ILlGNOvwa2xbaNCl3GNMoawgQSAOIFFhRSMfZVLoTmv974s0HTiZfWTCJAb7y1FPzBPVF1faQxzI3p8fv5/oH5qenRz5mn4Xe1PFkDPLnscgwlV9l7jDNHHv/Sv7aEDlnuMioVagQKAioHphQaNuJbIou+w3cA20pfklffDCrMd+S8rQeZQ0F6Zav1zxnrNfvx/Sn7CeX5yp2h3XDNOLj7DLFcaUwcm9DzhA8/kvUGudKDMlI2L64QOgQmA5YGWhgGO+5dMpKyyyMJE1LzmxfnxDNQf/zEMQ5ZSRmDMa+Z0YHsVf+9/6n0QeX5xYGfwWnRMQTy0KjAYIgX48R3f/8wGvJSsAp+ek6mKVoTLgBuASoJMhwSPRpnXpW60t8RV1uPo9vsfD/IhAjTnREBUtGH2bMZ18XtTf9l/gH1VeHdwEWZhWa9KUDqhKAgW8QLK7//c/sotuu6qmJ13ks2JyoORgDWAuIILiBCQmZpopzW2q8Zq2AzrJ/5MEQ4kATa+RuNVG2MZbp52eXyIf7p/DX2Sd2dvu2TMV+VIWjiLJt8TwACe7eXaAclZuE6pNJxZkfqIR4NigFqAMIPUiCWR85sBqQO4o8iB2jftWAB3Eycm/DePSIBXemQzb2x393yzf5B/kXzFdk5uXWMwVhRHYDZyJLMRkP5z683YCMeLtrSn2ZpDkDCIzoI7gIiAsYOliUGSVZ2gqta5n8qb3GPviQKhFT4o8zlaShZZ0mVFcDJ4a33Uf15/C3zvdS1t92GOVD9FYjRXIocPX/xK6bjWFMXCtCGmhZk2j2+HXoIfgL+AO4R/imaTvp5FrK67n8y43pDxugTKF1Eq5TsgTKZaI2dOce54133sfyF/fHsRdQRsimDmUmRDYDI5IFkNLvoj56fUJMP/spWkOJgwjreG94EMgACBz4Rii5SUL6DxrYu9o87X4L7z6wbwGWEs0z3hTS9ca2hPcqF5OX76f9x+5HopdNNqFl83UYVBWjAZHisL/ff95JjSOMFBsQ+j9JY0jQiGmoEDgEuBbIVOjMmVpqGjr22/q9D44u31GwkVHG4uvD+bT7FdrGlHc0x6kX7+f4x+Qno5c5ppm12CT6A/UC72G/sIzfXZ4o3QUb+Kr5Ght5VAjGOFRoEDgJ+BEoZCjQaXJaNbsVTBttIc5R34Sgs4HncwoEFQUSxf5Go3dO164H75fzN+l3lAclloGVzHTbc9QyzRGcsGnvO44IbOcL3YrRqggpRVi8aE/IANgP2BwYY/jkuYq6QYs0DDxdRC5076eQ1YIH0yf0P+Up9gFWwddYR7JX/rf9F95Hg/cRBnkFoHTMk7MyqrF5oEcPGZ3oLMk7strKmeVpNyijOEvIAggGSCeodFj5iZOKbctDDF1tZq6X78pw92In80WkWmVAxiPm38dRN8YX/Sf2V9J3g1cL9l/1hAStY5HyiCFWkCQ+983ILKu7mIqkGdMZKZiamDhYA9gNSCO4hTkOyay6eltiXH69iT67D+0xGRJH02L0dIVnFjXm7Rdph8k3+xf/B8YXcjb2dkaVd0SN83CSZYEzgAF+1i2obI6LfqqN+bFZHIiCmDV4BkgE6DBolpkUicZal0uB7JA9u+7eAA/hOpJnY4/0jjV89kdm+ddxR9vH+Ff3F8knYJbgdjy1WjRuQ18CMsEQf+7epL2I7GG7ZRp4WaAZAAiLKCNICUgNKD2YmIkqydBqtIuhvLHt3q7xEDKBa/KGw6yUp4WSVmhnBgeIZ9239Qf+l7unXmbJ9hKFTMROUz1CEAD9b7xOg31pvEVLTApTOZ9Y5Ch0SCGYDOgF6EtYqvkxefrKwhvBzNO98X8kIFUBjSKl08jkwGW3NnjXEaee998H8Rf1h72XS7azFgflLwQuIxtR/SDKb5neYm1KzCkrI1pOmX8o2MhuCBCYASgfSEmovelImgWq7/vSHPW+FG9HMHdhrhLEo+TU6NXLpojHLMeU9+/H/Jfr168HOIartezVAPQdsvlB2jCnX3eOQZ0sLA1rCyoqaW+IzfhYWBAoBfgZOFiIwVlgOiDbDjvynRfeN19qMJmhztLjJABlANXvhpgnN0eqV+/n93fhp6/nJMaT5dF08qP9EtcRtzCEb1VeIP0Ny+IK81oWuVBow8hTSBBIC1gTyGf41Ul4OjxrHLwTXToeWl+NILvB71MBVCuVGHXy9rb3QSe/F+938cfm15A3IJaLpbW00/PcMrTBlDBhfzNOAIzvu8cK3AnziUHYuihOyAEYAVgu2Gfo6bmAulhbO4w0XVyOfW+gAO3CD6MvNDZlP5YF5sVHWoezR/5n+4fbd4/3C/Zi9amUtQO7IpJRcSBOnwFd4FzCC7xqtRng6TPYoRhK6AJoB+gqiHhY/qmZmmSrWpxVjX8OkH/S4Q+SL7NMxFDFVjYoVtMHY0fG5/y39Jffd39G9sZZ1Y0UlcOZ4n/BThAbzu+dsGykm5I6rqnOuRZYmJg3mARoDxgmyIlpBAmy6oFbefx23ZGew4/1oSFCX4NqBHrFbHY6NuA3e3fJ5/p3/SfC93324SZAVXBEhlN4cl0RKw/5Ds4NkLyHi3hqiLm9GQl4gLg06Ab4BtgziJrpGenMqp5biZyYbbRe5oAYUUKyfxOG9JRlgiZblvzXcxfcR/eX9RfF52w22wYmZVMUZoNW0jpRB//WbqytcVxqy176Yzmr+P0YeWgiyAoYDzgw6Kz5IEnmyrurqXy6HdcfCZA64WQCnlOjdL2Vl3ZsdwjnihfeF/Qn/He4R1nmxHYcFTWURoM1AheA5O+z7ot9UixOazYKXimLaOFYcrghSA3oCChOyK+JNwnxStlbyZzb/fn/LKBdYYUivVPPtMZlvDZ8xxRnkHfvR/AX8ze6F0cWvXXxVSfEJkMTEfSgwd+RfmptM0wiay16Oal7WNYYbJgQaAI4EahdOLKZXkoMOudL6fz+DhzfT7B/saYC3BPrhO61wIachy9Xllfv1/tn6WerZzPGpfXmRQmkBdLw8dGwrt9vPjmtFLwGuwVaJZlryMt4VwgQKAc4G7hcOMYpZfoniwWcCo0QLk/fYrCh8dbC+oQHBQal5Far1zm3q4fv1/Yn7wecFy/2jgXKxOsz5SLewa6we+9NDhkM9nvreu2qAglc2LFoUhgQaAy4FmhryNo5fiozKyQsK10yfmLflaDEAfczGKQiFS4V95a6h0N3sDf/N/BX5BecVxumdbW+5MxzxDK8YYugWP8rDfi82HvAitZp/vk+aKfoTcgBWALoIah72O7JhrpfOzMMTG1U7oXvuIDl8hdzNnRM1TUWGmbIp1y3tDf+B/nn2JeL9wbWbOWStL1zoxKZ4WigNh8JLdicutumCr+Z3GkgiK74OggC2AmYLXh8ePPJr7prm1I8bZ13bqj/21EHwjdzU+RnJVumLLbWR2VXx6f8N/LX3Id7FvGWU7WGJJ4jgcJ3UUWAE17nfbi8nYuL6plJymkTKJaoNugE+ADoOciNmQlJuRqIW3Gcjv2aDswP/hEpYlczcRSBFXHGTnbjV31Xyof51/s3z9dptuvWOhVpNH6jYEJUoSKP8K7F7ZkccItyOoNpuOkGaI7oJFgHqAjYNrifOR9Jwvqla5FMoJ3Mzu8QELFa0nazneSalYdmX7b/13TX3Mf2x/MHwqdnxtWWIAVb9F7DTqIh4Q9/zg6UnXm8U9tY6m4Jl+j6OHe4ImgK+AFYRDihaTW57Sqy27FMwl3vjwIgQ0F8EpXjumSzpayGYHcbx4u33mfzN/pHtOdVVs7mBaU+ZD6zLMIPENxvq45zbVqsN5swClkph3juiGEoIQgO6ApoQki0GUyp98rQm9Fs5D4CbzUgZbGdIrTT1oTcVbE2gKcnJ5H373f+9+DntpdCdrfF+tUQdC5zCtHsILlfiS5SfTvcG6sXijS5d4jTeGsoEEgDaBQIUNjHSVQKEsr+q+HdBk4lX1gwiAG+AtNz8kT0ldVWkFcx56en7+f6N+b3p7c/BpA175TyRA3i6LHJMJZfZu4xvR1b8BsPihDJaBjI+FXIECgIeB5IX/jK+WvaLjsM/AJ9KH5IX3sgqjHeovHUHaUMZekGr2c8J6y378f0x+x3mFcrFoglxATjw+0ixmGmMHNvRM4RLP8r1Nrn+g1ZSUi/CEEIEJgOKBkYb6jfKXQaSfsrrCNdSs5rX54QzEH/Ex/kKKUjtgw2vgdFx7E3/wf+x9FXmGcWpn+1qBTE88wypAGDIFCPIs3w3NFLygrA2fppOvilqEzIAagEeCR4f9jj2Zy6VhtKnERtbU6Ob7Dw/jIfQz2kQ0VKph7mzAde17Un/af4N9W3h+cBtmbVm8Sl46sCgYFgED2u8P3QzLOrr6qqKdgJLTic6Dk4A0gLWCBogJkI+aXacotpzGWtj86hf+PBH/I/M1sEbXVRFjEW6YdnV8hn+7fxF9l3dub8Vk2FfySGg4mibvE9AAru302g/JZ7hZqT6cYZEAiUuDY4BZgCyDzogdkemb9aj2t5TIcton7UgAaBMYJu43gUh0V3BkK29md/N8sn+Sf5R8y3ZWbmdjPFYiR242giTDEaD+g+vc2BfHmLbAp+OaS5A2iNGCPICGgK2Dn4k5kkudlKrIuZDKjNxT73kCkhUuKOQ5TUoLWcllPXAseGh9039ffw989XU1bQJimlRNRXA0ZiKXD2/8WunH1iLFz7Qspo6ZPY90h2GCIIC+gDeEeYpek7SeOaygu5DMqN6A8aoEuhdCKtc7E0ybWhlnR3HpeNR9638jf4B7F3UNbJVg8lJyQ24ySSBpDT76Mue21DLDDLOgpEKYOI68hvqBDID+gMuEW4uLlCSg5a19vZTOx+Cu89sG4RlSLMU91E0kXGJoSHKceTZ++n/efuh6MHTcaiFfQ1GSQWkwKB47Cw34DeWn0kbBTrEao/2WO40Nhp2BA4BJgWeFR4zAlZyhlq9fv5zQ6eLd9QsJBRxfLq4/j0+mXaNpQHNHeo9+/3+Pfkd6QHOjaaZdj0+uP18uBhwLCd316eKc0F+/lq+cocCVR4xnhUmBA4CdgQ2GO439lhqjTrFGwafSDOUN+DoLKB5oMJJBQ1EhX9xqMHToet5++n82fpx5SHJiaCRc1E3FPVIs4RnbBq7zyOCUzn295a0koIuUW4vLhP6ADID6gbyGOI5CmKCkC7Myw7XUMuc9+mkNSCBuMnJD8lKVYA1sF3WAeyN/63/Ufel4R3EZZ5taFEzXO0IquheqBIDxqN6QzKC7Oay0nl6TeYo3hL6AIIBhgnSHPY+OmSymz7QixcfWWulu/JcPZiJwNExFmlQCYjVt9XUPfF9/039ofSx4PXDJZQtZTUrkOS8okhV5AlPvjNyQysi5lKpLnTmSn4mtg4aAPIDRgjaIS5Dimr+nmLYWx9zYg+ug/sMRgiRuNiJHPFZnY1Zuy3aUfJJ/sn/zfGZ3K29xZHRXgkjuNxgmaBNIACftctqUyPa39ajpmx2Rzogsg1mAY4BLgwCJYZE+nFmpZrgPyfTaru3QAO4TmiZoOPJI2FfFZG5vl3cQfbt/hn91fJh2EW4RY9dVsEbzNf8jPBEY/v3qW9idxim2XaePmgmQBoi1gjSAk4DOg9OJgJKinfqqOroMyw/d2u8BAxgWsCheOrxKbVkbZn5wW3iDfdp/Un/te8B17myqYTRU2kT0M+MhEA/m+9ToRtapxGG0y6U9mf2OR4dHghqAzIBahK+KppMNn6CsE7wNzSzfB/IyBUAYwipPPIFM+1pqZ4ZxFXnsffB/E39ce+B0w2s7YIpS/kLxMcUf4gy2+a3mNdS6wp+yQaTyl/qNkYbigQmAEIHwhJSL1ZR/oE2u8r0Sz0zhNvRjB2Ya0iw8PkBOglywaIVyx3lMfvx/y37CevdzkGrGXtpQHUHqL6QdswqF94fkKNLQwOOwvaKvlv+M5IWHgQKAXIGPhYGMDJb4oQCw1b8a0W7jZfaTCYoc3i4kQPlPA17vaXtzb3qjfv5/en4eegVzVmlJXSRPOD/gLYEbgwhW9WTiHdDqviyvQKF0lQ2MQIU2gQSAsoE3hniNS5d4o7qxvcEm05LllfjCC6we5jAHQqxRfF8ma2l0Dnvvfvd/H35yeQpyE2jFW2hNTT3SK1sZUwYn80PgF84JvXytyp9BlCSLpoTugBCAEoLohnaOkpj/pHmzqsM21bjnxvrxDcwg6zLmQ1lT7mBVbE51pHszf+Z/u328eAdxyGY6WqZLXjvBKTQXIgT58CXeFMwtu9KrXJ4Wk0OKFYSvgCaAe4Kih36P4JmOpj21m8VI1+Dp9/weEOki7DS/RQBVWWJ8bSp2MHxsf8x/TX39d/tvdmWpWN5JazmtJwsV8QHM7gncFcpXuS+q9JzzkWuJjYN6gEWA7oJmiI6QNpsiqAi3kcde2QrsKP9KEgQl6TaTR6FWvGObbv12s3ydf6h/1Xw1d+duHGQRVxFIczeWJeESwP+g7PDZGsiFt5KolZvZkJ2ID4NPgG6AaoMyiaaRlJy+qdi4isl32zXuWAF1FBwn4jhhSTtYGWWxb8h3LX3Df3p/VXxkdsttumJyVT9GdzV8I7UQj/126tnXI8a5tfumPJrHj9eHmYItgKCA74MIisaS+Z1gq626iMuS3WHwiQOeFjEp1zoqS85ZbWa/cIl4nn3gf0N/y3uKdaZsUWHNU2dEdzNgIYgOXvtO6MbVMMTzs2ul7Ji9jhqHLoIVgNyAfoTmiu+TZp8IrYe8is2w34/yugXGGEMrxzzuTFpbumfEcUF5BX7zfwN/OHuodHpr4V8iUopCczFAH1oMLfkn5rXTQsIysuKjo5e8jWaGy4EGgCGBFoXNiyCV2qC2rme+kM/Q4b306wfrGlEtsz6sTuBc/2jBcvB5Yn79f7h+m3q9c0Vqal5wUKhAbC8fHSsK/fYC5KnRWcB4sGCiYpbDjLyFc4ECgHCBt4W8jFmWVaJrsEvAmdHz4+32GwoPHV0vmkBjUF9ePGq2c5Z6tn79f2V+9XnJcghp61y4TsE+YS37GvsHzvTg4Z/Pdb7DruSgKZXTixqFI4EGgMmBYYa1jZmX16MmsjTCptMX5h35SgwxH2QxfEIVUtZfcWuhdDN7AX/0fwd+RnnMccNnZlv7TNU8UivWGMsFn/K/35nNlbwUrXCf+JPsioKE3oAUgCuCFYe2juKYX6XmsyLEttU+6E77eA5QIWgzWUTBU0dhnmyEdcd7Qn/hf6F9jnjHcHdm2Vk4S+U6QCmuFpoDcfCh3ZfLurpsqwSez5IOivODooAsgJaC0Ye/jzKa76astRTGytdm6n/9pRBtI2g1MUZmVbBiw21edlF8eX/EfzF9zXe5byJlRlhvSfE4LCeFFGgBRe6G25nJ5bjKqZ6crpE4iW2Db4BOgAuDl4jRkIqbhqh4twvI4NmQ7LD/0RKHJWQ3BEgFVxJk324vd9J8p3+ef7d8A3ejbsdjrVagR/g2FCVaEjj/Guxu2Z/HFbcuqECblpBsiPGCRoB5gImDZYnrkeqcI6pJuQbK+du87uAB+xSeJ1w50UmdWGxl82/3d0l9y39ufzR8MHaFbWNiDFXMRfs0+SIuEAf98OlY16nFS7WZpuqZho+oh36CJoCugBGEPYoOk1GexqsfuwXMFd7o8BIEJBeyKVA7mUsvWr5m/3C2eLd95n81f6h7VHVebPlgZlPzQ/oy3CABDtb6yOdF1bjDhrMLpZuYfo7thhWCEYDsgKKEHYs4lL+fcK37vAjONOAW80IGSxnDKz89W026WwloA3JteRx+93/yfhJ7cHQva4dfuVEVQvUwvB7SC6X4ouU208vBxrGDo1SXf408hrWBBIA0gTyFBoxrlTWhIK/cvg7QVOJF9XMIcRvRLSk/F08+XUxp/XIZend+/n+lfnR6gnP5aQ5eBlAyQO0umhyjCXX2feMq0eO/DbADohWWiIyThV+BAoCFgd+F+IymlrKi1rDBwBnSeOR196IKlB3bLw9BzVC7Xodq8HO9esl+/H9Pfsx5jHK6aI1cTU5KPuEsdhpzB0b0W+EhzwC+Wq6JoN6Um4v0hBKBCYDggYyG8o3plzWkkrKswibUneal+dEMtR/iMfBCflIxYLtr2XRYexF/8H/vfRp5jXFzZwZbjkxdPNIqUBhCBRfyPN8czSG8rawXn6+TtYpehM6AGYBEgkGH9Y4zmcClVLSbxDfWxOjW+/8O0yHlM8xEKFSfYeZsunXpe1B/23+GfWB4hnAlZnhZyUpsOr8oKBYRA+rvHt0by0i6BqusnYiS2YnSg5SANICyggCIAZCFmlGnG7aOxkvY7eoH/iwR7yPkNaNGy1UHYwhuknZxfIV/vH8UfZ13dm/PZONX/0h3OKom/hPgAL7tBNseyXS4ZalJnGmRBolOg2SAV4Apg8iIFZHfm+mo6LeGyGLaF+03AFgTCSbfN3RIaVdmZCNvYXfwfLF/k3+YfNF2Xm5xY0hWL0d9NpEk0xGw/pPr7Nglx6W2y6fsmlOQO4jUgj2AhYCpg5mJMZJBnYiqu7mCynzcQ+9pAoIVHyjWOUBK/1i/ZTVwJ3hlfdJ/YX8TfPx1Pm0MYqZUWkV/NHYipw9//Grp19Ywxdy0OKaYmUWPeodkgiCAvIAzhHKKVZOpni2sk7uCzJnecPGaBKoXMyrIOwZMj1oQZz9x43jRfet/JX+Eex51FWygYP5SgEN9MlggeQ1O+kLnxdRAwxizq6RLmD+OwYb9gQ2A/IDGhFWLgpQZoNitb72FzrjgnvPLBtEZQyy2PcdNGVxYaEByl3kzfvl/4H7tejd05WosX1BRoEF3MDgeSwsd+BzlttJUwVuxJaMGl0KNEoafgQOARoFjhUCMt5WRoYqvUb+N0NnizfX7CPYbUC6gP4JPm12aaTlzQnqMfv5/kX5MekdzrGmxXZtPvD9uLhUcGwnt9fniq9Btv6Ovp6HJlU6MbIVLgQOAmoEIhjSN85YPo0GxOMGY0v3k/fcqCxgeWTCEQTdRFl/Tail05Hrcfvp/OX6heU9ya2gvXOFN0z1hLPEZ6wa+89fgo86LvfGtL6CUlGKLz4QAgQyA94G3hjCOOJiVpP+yI8Om1CLnLfpZDTkgXzJkQ+ZSimAEbBB1fHshf+x/133ueE5xI2emWiBM5TtRKsoXugSQ8bjen8yuu0Wsvp5nk3+KO4S/gB+AXoJvhzWPhJkhpsK0FMW41krpXvyHD1ciYTQ/RY5U92Etbe91C3xef9R/a30yeEVw0mUXWVpK8zk+KKIViQJj75vcn8rWuaCqVZ1CkqWJsYOIgDuAzoIwiEOQ2Zq0p4u2CMfN2HPrkP6zEXIkYDYURzBWXWNObsV2kXyQf7N/93xsdzNve2SAV49I/DcoJngTWAA37YHao8gDuAGp85slkdSIMINagGKAR4P6iFmRNJxNqVm4Acnl2p7twADeE4smWjjkSMxXu2Rmb5F3DX26f4h/eXyedhluG2PjVb5GATYOJEwRKP4N62rYq8Y2tmmnmZoQkAyIuII1gJGAyoPNiXeSl53uqi26/sr/3Mrv8QIIFqEoTzqvSmFZEWZ3cFV4gH3Zf1N/8XvGdfdstGFAVOdEAjTzIR8P9vvk6FbWt8RutNelRpkEj0yHSoIbgMuAVoSpip6TAp+UrAa8/swc3/fxIgUwGLMqQTx0TO9aYGd+cRB56n3vfxV/YHvmdMxrRmCWUgxDADLUH/IMxvm85kXUyMKsskyk+5cBjpaG5YEJgA2B64SNi8yUdKBBruS9A8884Sb0UwdWGsMsLj4zTndcp2h+csJ5Sn78f85+xnr9c5lq0F7mUCtB+S+zHcMKlfeX5DfS3sDvsMiiuJYGjemFioECgFqBioV6jAOW7aH0r8e/C9Fe41X2gwl7HM8uFkDtT/hd5ml0c2p6oH7+f3x+I3oMc19pVF0wT0Y/7y2QG5MIZvV04izQ+L45r0uhfZUUjEWFOIEEgLCBMoZwjUKXbaOtsa/BF9OC5YX4sgudHtgw+UGgUXFfHmtidAl77X73fyJ+d3kRchxo0Ft0TVs94StrGWMGN/NT4CXOF72JrdWfSpQqi6qE8IAQgA+C44ZvjoiY9KRss5zDJ9Wo57b64Q29IN0y2ENNU+RgTWxHdaB7MX/nf759wXgOcdJmRlqzS2w70SlEFzIECfE03iLMO7veq2aeH5NJihmEsYAlgHiCnYd2j9aZgqYwtY3FOdfQ6ef8DhDaIt40sUX0VE9idG0kdix8a3/Nf1B9A3gDcIBltFjrSXk5vCcbFQEC3O4Y3CPKZLk7qv+c/JFxiZGDfIBEgOqCYIiGkCybF6j6toLHT9n66xj/OhL1JNs2hUeVVrJjk273drB8m3+pf9l8O3fvbiZkHVceSIE3pSXxEtH/sOz/2SjIkredqJ+b4ZCiiBKDUIBsgGaDLImekYqcsqnKuHzJZ9sl7kgBZRQNJ9Q4VEkvWA9lqW/Cdyp9wn98f1l8anbTbcViflVMRoY1jCPFEJ/9huro1zHGxrUGp0aaz4/ch52CLoCegOuDAYq+ku+dVKufunrLgt1R8HkDjhYiKck6HUvCWWNmt3CDeJt9339Ff897kXWvbFxh2VN0RIYzbyGYDm77XujV1T/EALR2pfWYxY4fhzGCFoDagHmE34rmk1uf/Kx5vHzNoN9/8qoFthg0K7k84UxPW7BnvXE8eQJ+838Ffzx7r3SCa+xfLlKXQoIxUB9qDD35N+bF01HCP7Lto6yXw41rhs6BB4AfgRGFxosXlc+gqq5ZvoHPwOGt9NsH3BpCLaU+n07VXPVounLreWB+/X+7fqB6w3NOanVefVC2QHsvLx07Cg33EuS40WfAhLBromuWyozAhXWBAoBugbKFtYxQlkqiXrA9wIrR4+Pd9gsKAB1OL4xAV1BUXjNqr3OSerR+/X9nfvp50HIRafZcxU7PPnAtCxsLCN707+Guz4K+z67voDKV2osfhSaBBoDGgVyGrY2Ql8ujGbImwpfTB+YN+ToMIR9VMW5CCVLMX2hrm3Qve/9+9H8Kfkt503HNZ3FbCE3kPGEr5RjbBa/yz9+ozaO8Ia17nwCU84qGhOCAFIAogg+Hro7ZmFSl2bMUxKfVLug++2gOQCFZM0tEtVM8YZVsfnXDe0B/4X+kfZR4znCAZuVZRUv0OlApvhaqA4Hwsd2my8i6eKsOnteSFIr3g6OALICTgsyHt48pmuSmn7UGxrrXVupv/ZUQXSNaNSNGWlWmYrptWHZNfHh/xX80fdN3wW8sZVJYfEn/ODsnlRR5AVXultuoyfK41qmonLaRPolxg3CATYAIg5GIyZCBm3qoa7f9x9HZgOyg/8ESdyVWN/ZH+VYIZNduKXfOfKZ/n3+7fAl3q27RY7hWrkcHNyMlahJI/ynsfdmuxyK3OqhKm56QcYj1gkeAeICFg1+J45HgnBeqPLn3yerbrO7QAewUjidOOcRJklhiZexv8ndGfcp/b384fDZ2jW1uYhhV2kUKNQkjPhAX/QDqZ9e4xVi1pab0mY2PrYeCgieArIANhDaKBZNHnrqrErv2ywbe2fACBBQXoylCO4xLI1q1ZvhwsXi0feV/Nn+se1t1Z2wDYXJTAUQJM+sgEQ7m+tjnVNXGw5KzFqWlmIWO84YYghGA6oCdhBaLMJS1n2St7bz5zSTgBvMyBjwZtCsxPU5Nr1sAaPtxZ3kZfvZ/9H4Xe3Z0OGuRX8VRI0IEMcwe4gu1+LHlRdPZwdOxj6Ndl4aNQYa4gQWAMYE3hf+LYpUqoROvzr7/z0XiNfVjCGEbwi0cPwpPM11DafZyFXp1fv5/p354eolzAmoYXhJQQED8LqocswmF9o3jOdHxvxqwDqIelo+MmIVhgQKAgoHahfGMnZanosmws8AK0mjkZfeSCoQdzC8BQcFQsF5/aulzuXrHfvx/Un7ReZNyw2iYXFpOWD7wLIYagwdW9GvhMM8NvmaulKDnlKGL+YQUgQiA3YGHhuuN35cqpIWynsIX1I3mlfnBDKUf0zHiQnFSJmCya9N0VHsPf/F/8n0geZVxfWcSW5tMbDzhKmAYUgUn8kvfK80vvLmsIp+3k7yKY4TQgBmAQYI8h+6OKZm1pUe0jMQo1rToxvvvDsQh1jO+RBtUlWHdbLN15XtOf9t/in1meI5wLmaEWdZKejrOKDgWIQP67y7dKstVuhKrtp2Qkt+J1oOWgDOAroL7h/mPfJpGpw62gMY82N3q9/0cEeAj1TWVRr9V/GIAbox2bXyEf71/F32jd35v2WTvVwxJhTi5Jg4U8ADO7RPbLMmBuHGpU5xxkQyJUoNlgFaAJYPCiA2R1ZveqNu3d8hT2gftJwBIE/kl0TdnSF1XXGQbb1t37Hyvf5R/nHzXdmZue2NUVjxHizahJOMRwP6j6/vYM8eytten9ppbkEGI2II+gIOApYOTiSmSNp18qq25c8pt3DPvWQJyFRAoyDkzSvRYtWUucCF4Yn3Sf2J/F3wCdkZtFmKyVGhFjjSFIrcPj/x66ebWP8XptEOmoplMj3+HZ4IhgLqAL4Rsik2Tn54hrIW7c8yJ3mDxigSbFyQqujv6S4RaBmc4cd54zn3qfyd/iXskdR5sqmAKU41DjDJoIIkNXvpS59TUTsMls7akVJhHjseGAIINgPqAwoROi3mUD6DMrWK9ds6o4I7zuwbBGTQsqD26TQ1cT2g5cpJ5MX75f+J+8Xo9dO1qN19cUa5BhjBHHlsLLfgs5cXSYsFnsTCjD5dJjReGooEDgESBXoU5jK6VhqF9r0O/ftDK4r316wjmG0Eukj91T5BdkWkycz16in7+f5N+UHpOc7VpvF2oT8o/fS4lHCsJ/fUI47rQe7+vr7Gh0pVVjHGFTYECgJiBA4YtjeqWBKM1sSrBidLt5O33GgsJHkswd0EqUQtfymoidN962X76fzt+pnlWcnRoOlzuTeE9cCwAGvsGzvPn4LLOmb39rTqgnJRpi9OEAoEMgPSBsoYpji+YiaTyshXDl9QT5x36SQ0pIFEyV0PZUoBg+2sKdXh7IH/sf9p983hWcSxnslotTPM7YCraF8oEoPHH3q7Mu7tSrMmeb5OGij+EwYAegFuCaocuj3uZFaa1tAXFqdY66U78dw9HIlM0MUWCVO1hJW3pdQd8XH/Vf299N3hNcNxlIlloSgE6TSiyFZkCc++r3K7K47msql+dSpKribWDiYA6gMqCKog7kM+aqKd+tvrGvthj63/+oxFjJFE2B0ckVlNjRm6/do18j3+0f/p8cnc7b4RkjFecSAs4NyaIE2gAR+2R2rHIELgNqf2bLZHaiDSDW4BggESD9IhRkSqcQqlMuPLI1dqO7bAAzxN8Jks410jAV7FkXm+Mdwp9uX+Jf3x8pHYhbiVj71XLRhA2HiRcETj+HOt52LnGQ7Z0p6OaGJARiLyCNoCQgMaDx4lvko2d4qofuu/K8Ny67+EC+BWRKEE6okpWWQhmb3BQeH192H9Vf/V7zXX/bL9hTFT1RBE0AiIvDwb88+hl1sbEe7TipVCZDI9Sh02CG4DJgFKEooqVk/ieiKz4u/DMDd/n8RIFIBikKjM8Z0zkWldnd3ELeed9738Xf2V77XTVa1Fgo1IZQw4y5B8CDdb5zOZU1NbCuLJXpAWYCI6bhuiBCoALgeeEhovElGmgNa7WvfTOLOEW9EMHRxq0LCA+J05sXJ5odnK9eUd++3/Qfst6BHSiatte81A5QQgwwx3TCqX3p+RG0uvA/LDTosGWDY3uhYyBAoBYgYWFc4z6leKh56+5v/3QTuNF9nMJaxzALghA4E/tXd1pbXNlep5+/n9/fih6E3NoaV9dPU9UP/4toBujCHb1hOI70AW/Ra9WoYaVG4xKhTqBBICtgS2GaY04l2KjoLGhwQjTcuV1+KILjR7JMOxBlFFmXxVrW3QFe+t++H8kfnx5GXIlaNtbgU1pPfArexlzBkfzY+A0ziS9la3fn1KUMYuvhPKAD4AMgt6GaI5/mOmkX7ONwxjVmOem+tENrSDOMspDQVPZYERsQXWbey9/6H/Bfcd4FnHbZlFawEt7O+ApVBdCBBnxRN4xzEi766twnieTUIodhLOAJIB1gpiHb4/NmXemI7V+xSrXwOnX/P4PyyLPNKRF6FREYmxtHnYofGl/zn9TfQh4C3CJZcBY+EmHOcwnKxURAuzuKNwyynG5R6oJnQSSd4mVg32AQ4DnglqIfpAimwuo7bZ0xz/Z6usI/yoS5STMNnhHiVaoY4tu8XasfJp/qn/dfEF3924wZChXLEiQN7UlARPh/8DsDto3yKC3qaiom+mQqIgWg1GAa4BigyaJlpGAnKapvbhtyVjbFe44AVUU/SbFOEdJI1gFZaFvvHcmfcF/fX9cfHB2223PYopVWUaUNZsj1RCv/Zbq+NdAxtS1EqdQmtaP4oeggi+AnYDng/uJtpLlnUirkrpry3PdQfBpA38WEym6OhBLt1laZrBwfniXfd9/R3/Te5d1t2xmYeVTgkSVM38hqA5++23o5NVNxA20gqX/mMyOJIc0ghaA2IB1hNmK3pNRn++sbLxtzZHfb/KaBaYYJSurPNRMRFunZ7ZxN3n/ffN/B39Ae7V0i2v3XzpSpUKRMWAfegxO+Ufm1NNfwkyy+KO2l8qNcIbRgQeAHYENhb+LDpXEoJ6uS75yz7HhnfTLB8waMy2XPpJOylzsaLNy53ldfv1/vX6kespzV2qAXolQxECKLz4dSwod9yLkxtF1wJGwdqJ0ltGMxYV4gQKAa4Gtha6MR5Y/olKwL8B70dPjzfb7CfAcPy9+QEpQSV4qaqhzjXqyfv5/an7/eddyGmkBXdJO3T5/LRsbGwju9P/hvc+Qvtyu+qA7leGLI4UogQaAw4FXhqaNh5fAowyyGMKI0/jl/fgqDBIfRzFgQvxRwV9fa5R0Knv9fvV/DX5Redtx1md8WxVN8jxwK/UY6wW/8t/ft82wvC2thp8JlPmKioThgBOAJYIKh6eOz5hJpcyzBsSY1R7oLvtYDjEhSzM+RKhTMmGNbHd1vns+f+J/p32ZeNZwimbwWVJLAjtfKc4WugOR8MDdtcvVuoSrGJ7gkhqK+4OlgCuAkILGh7CPH5rYppK1+MWr10fqX/2FEE4jSzUWRk5VnGKybVJ2SXx2f8Z/N33Zd8lvNmVeWIlJDjlKJ6UUiQFl7qXbtskAueKpspy+kUSJdYNygEyABIOLiMGQd5tuqF237sfB2XDskP+xEmglRzfpR+1W/mPPbiN3y3ykf6B/vnwPd7Nu22PEVrtHFTcyJXoSWP857IzZvMcvt0aoVJulkHeI+IJIgHaAgoNZiduR1pwLqi656cna25zuwAHcFH8nPzm3SYZYWGXkb+x3Q33Jf3F/PHw8dpVteGIkVedFGDUYI04QJ/0Q6nbXxsVltbCm/ZmVj7OHhYIogKqACYQwiv2SPJ6uqwS76Mv23cnw8QMFF5QpMzt/Sxhaq2bwcKx4sX3kfzh/sHthdW9sDmF+Uw9EGDP7ICEO9vrn52PV1MOfsyGlrpiNjviGG4ISgOiAmYQQiyeUqp9XreC86s0V4PbyIgYsGaUrIz1BTaNb92f0cWJ5F372f/Z+G3t9dEFrnF/SUTFCEzHbHvILxfjB5VTT58HgsZqjZ5eNjUaGuoEFgC+BM4X4i1mVH6EHr8C+8c814iX1UwhRG7MtDj/+TihdOmnvchB6cn7+f6p+fXqQcwtqI14fUE5ACy+6HMMJlfad40fR/78msBmiJ5aWjJ2FY4ECgICB1oXqjJSWnKK9sKXA+9FY5FX3ggp1Hb0v9EC0UKVedmric7R6xX78f1R+1XmacsxopFxmTmY+/yyWGpMHZvR74T/PG75zrp+g8JSoi/2EFoEIgNqBgobkjdaXH6R4spDCCNR95oX5sQyWH8Qx1UJlUhtgqWvMdE97DX/xf/V9JXmccYZnHVuoTHo88CpwGGIFN/Jb3zrNPbzFrCyfwJPCimeE0oAYgD6CN4fmjiCZqaU6tH7EGdak6Lb73w60IcgzsUQPVIph1WytdeF7TX/cf419a3iVcDhmj1njSok63ihIFjEDCvA93TjLY7oeq8GdmZLmidqDl4AygKuC9Yfxj3KaOqcBtnHGLdjN6uf9DBHRI8c1iEazVfJi+G2Gdmp8gn++fxt9qHeGb+Nk+1cZSZM4yCYeFAAB3u0i2zvJj7h9qV2ceZESiVaDZ4BVgCKDvIgFkcub0qjOt2nIRNr37BcAOBPqJcI3WkhRV1NkE29Vd+l8rn+Wf5983XZuboVjYFZKR5o2sCTzEdD+s+sK2ULHwLbjpwCbY5BHiNuCP4CCgKKDjYkgkiydcKqguWTKXdwj70kCYhUBKLk5JkroWKtlJnAbeF990X9kfxt8CHZPbSFivlR1RZw0lSLHD5/8ien11k3F9rRPpquZVI+Fh2qCIoC4gCuEZopEk5SeFax3u2TMet5Q8XoEixcUKqw77Ut5WvxmMHHZeMt96n8pf417K3UmbLVgF1ObQ5sydyCZDW76Yufj1FzDMrPCpF6YTo7MhgKCDoD4gL6ESItxlASgwK1UvWjOmeB+86oGshklLJo9rk0CXEZoMnKNeS5++X/kfvZ6RHT2akFfaVG8QZUwVx5rCz34POXU0nDBdLE8oxiXUI0chqSBA4BCgVmFMoyllXuhca82v2/QuuKt9dsI1hsyLoQ/aU+FXYdpK3M5eod+/n+WflV6VXO+acddtE/YP4wuNRw7CQ32GOPJ0Im/vK+8oduVXIx1hVCBAoCVgf+FJo3hlvmiKLEcwXrS3eTd9woL+R08MGlBHlEBX8FqHHTbetd++n8+fqt5XXJ+aEVc+k3vPX8sEBoLB97z9uDBzqa9Cq5EoKWUb4vYhASBC4Dyga2GIo4lmH6k5bIHw4jUA+cN+jkNGiBCMklDzVJ1YPNrA3Vzex5/7X/dffl4XXE2Z71aOkwBPHAq6hfaBLDx1969zMm7XqzTnniTjIpEhMOAHoBYgmSHJo9xmQqmqLT3xJrWKuk+/GcPOCJENCRFdlTjYRxt43UDfFp/1n9yfT14VHDmZS5ZdUoPOlwowRWpAoPvuty8yvG5uKpqnVKSsYm5g4uAOoDHgiWIM5DFmp2ncLbrxq7YU+tv/pMRUyRCNvpGGVZIYz5uuXaJfI5/tX/+fHh3Q2+OZJhXqUgZOEYmlxN4AFftoNrAyB64GakHnDWR4Ig3g1yAX4BAg+6ISZEgnDapPrjkyMbafu2gAL8TbCY9OMpItVenZFdvhncGfbh/in+AfKp2KW4vY/tV2EYeNi0kbBFI/izriNjIxlC2gKetmiCQF4i/gjeAjoDCg8CJZ5KDndaqErrgyuDcqu/RAukVgigzOpVKSln+ZWdwSnh6fdh/V3/5e9N1B23JYVhUAkUgNBIiPw8X/APpdNbUxIi07qVamRSPV4dQghyAx4BOhJyKjZPtnnys67vhzP3e1/ECBREYlSolPFpM2VpNZ29xBnnkfe5/GX9pe/N03WtbYK9SJ0MdMvMfEg3m+dzmY9TkwsWyYqQOmBCOoIbrgQqACYHjhICLu5RfoCiuyL3lzh3hBvQzBzcapSwSPhpOYVyVaG9yuHlEfvt/0n7Pegt0q2rmXv9QR0EXMNMd4wq197fkVdL5wAmx3qLLlhSN84WPgQKAVYGBhW2M8ZXXoduvq7/u0D/jNfZjCVscsS76P9RP4l3UaWZzYXqcfv5/gX4tehpzcWlqXUpPYj8NLrAbswiG9ZPiStATv1KvYKGPlSGMToU8gQSAq4EohmKNL5dXo5Oxk8H50mPlZfiSC34eujDeQYdRXF8Ma1V0AXvpfvh/J36BeSByL2jnW45NeD0ALIsZgwZX83LgQ84yvaGt6p9blDeLs4T0gA+ACYLZhmCOdZjepFKzf8MI1YnnlvrBDZ4gvzK9QzVTz2A8bDp1l3stf+h/xH3MeB5x5WZdWs1LiTvvKWQXUgQp8VPeQMxWu/ere54wk1aKIYS0gCOAcoKSh2ePw5lrpha1cMUb17DpxvzuD7siwDSWRdxUOmJjbRd2JXxof89/Vn0OeBNwk2XMWAZKljnbJzsVIQL87jfcQMp/uVOqE50Mkn6JmIN+gEKA5IJViHaQGZv/p+C2Zccw2drr+P4aEtYkvjZrR31WnmODbut2qHyZf6t/4HxHd/9uOmQ0VzlInjfEJRET8f/Q7B7aRcitt7WospvxkK6IGYNSgGqAX4MgiY2Rdpyaqa+4X8lI2wXuKAFFFO4mtzg6SRhY+2Sab7d3I33Af39/YHx3duRt2WKWVWdGozWqI+UQv/2m6gfYTsbhtR6nWprej+eHo4IwgJuA44P1ia2S2p08q4S6XMtj3THwWQNvFgMprDoDS6xZUGaocHl4lH3ef0h/13uedcBscWHxU49EozOOIbgOjvt96PPVW8QatI2lCJnUjiqHN4IXgNaAcYTSitWTRp/jrF68Xs2B31/yigWWGBUrnTzHTDlbnWeucTJ5/H3yfwl/RXu8dJRrAWBHUrNCoDFvH4oMXvlW5uPTbcJZsgOkv5fSjXWG1IEHgBuBCIW4iwWVuaCRrj2+Y8+h4Y30uwe8GiQtiT6GTr9c42iscuJ5Wn79f79+qXrRc2Bqil6WUNFAmC9OHVsKLfcx5NXRg8CesIGifZbYjMqFeoECgGmBqYWnjD6WNKJFsCHAbNHE47326wngHDAvcEA+UD5eIWqhc4h6r37+f2x+BHreciNpDF3eTus+ji0qGysI/vQP4szPnr7orgWhQ5XoiyiFKoEFgMGBUoafjX6XtaP/sQrCedPo5e34GgwCHzgxU0LwUbZfV2uNdCZ7+371fxB+Vnnicd9niFshTQA9fysFGfsFz/Lu38bNvrw5rZCfEpQAi4+E44ATgCKCBYefjsaYPaW/s/fDidUO6B77SA4hITwzMEScUyhhhGxxdbp7PH/jf6p9nnjdcJRm/FlfSxA7bineFsoDofDQ3cPL47qQqyOe6JIhiv+DpoAqgI2CwYeojxWazaaFtenFnNc36k/9dRA+Izw1CUZCVZFiqm1MdkV8dX/Hfzt93nfRb0BlaViWSRw5WSe1FJkBde6028XJDbntqb2cx5FKiXmDc4BLgAGDhYi5kG2bYqhQt+DHstlh7ID/oRJYJTk33EfhVvRjx24ed8d8o3+hf8J8FXe7buVj0FbIRyQ3QiWKEmj/Seyb2crHPbdRqF6brZB9iPyCSYB1gH6DU4nTkcyc/6khudrJy9uM7rABzBRwJzE5qkl6WE5l3G/mdz99yH9yf0B8Q3aebYJiMFX1RSc1JyNeEDf9H+qG19TFcrW8pgeanY+4h4iCKYCpgAWEKor0kjKeoqv3utnL59258OED9RaEKSU7cksNWqJm6XCmeK595H86f7R7aHV4bBhhilMcRCYzCiExDgb79+dz1ePDrLMtpbiYlI79hh6CEoDmgJWECYselKCfS63SvNvNBeDm8hIGHBmWKxU9NE2YW+1n7XFdeRR+9n/4fiB7hHRKa6df3lE+QiIx6x4CDNX40eVj0/XB7bGlo3CXlI1Lhr2BBYAtgS6F8otQlRWh+66yvuLPJuIV9UMIQhukLQA/8U4dXTFp6HILenB+/n+sfoJ6l3MUai5eK1BcQBovyRzTCaX2rONW0Q3AM7AkojCWnYyihWaBAoB+gdGF44yLlpGisLCYwOzRSeRF93IKZR2uL+ZAqFCaXm1q23OwesJ+/X9Xftp5oXLVaK9cc050Pg4tpRqjB3b0iuFOzym+f66qoPiUr4sChRiBCIDYgX2G3I3NlxSkbLKBwvnTbuZ1+aEMhh+2McdCWVIRYKFrxXRLewt/8n/4fSp5o3GQZyhbtEyIPP8qfxhyBUfyat9IzUq80aw3n8mTyYprhNSAGIA7gjKH344WmZ6lLbRwxArWlOim+9AOpSG5M6NEA1SAYcxsp3Xde0t/3X+QfXF4nXBCZptZ8EqXOu0oVxZCAxrwTd1Hy3C6KqvLnaGS7Indg5mAMYCogvCH6Y9omi+n9LVjxh3YverX/fwQwSO4NXtGqFXoYvBtf3ZmfIF/v38efa53jm/sZAdYJkmiONgmLhQQAe7tMttJyZy4ialnnIKRGIlZg2iAVIAeg7aI/ZDBm8aowLdayDTa5+wHACgT2yW0N0xIRVdJZAtvT3flfK1/l3+jfON2d26PY2xWV0eoNr8kAxLg/sPrGtlQx8227qcKm2qQTIjfgkCAgYCeg4aJGJIinWSqk7lWyk7cE+85AlIV8SerORlK3ViiZR5wFnhbfdB/Zn8ffA52V20rYspUg0WrNKQi1w+v/JnpBNdbxQO1Wqa1mVyPiodtgiKAt4AnhF+KPJOKngmsartVzGreQPFqBHsXBSqeO+BLbVrzZilx1HjIfel/K3+RezF1L2y/YCNTqUOpMocgqQ1++nHn8tRqwz+zzaRnmFWO0YYFgg6A9oC5hEGLaJT6n7OtRr1ZzongbvOaBqIZFiyMPaFN91s9aCtyiHkrfvl/5n76ekt0/2pMX3VRykGkMGceewtN+Evl49J+wYGxR6Mil1iNIYangQOAQIFVhSuMnJVwoWSvKL9g0KrinfXLCMcbIy52P1xPel1+aSRzNHqFfv5/mH5aelxzx2nSXcFP5j+bLkQcSwkd9ijj2NCXv8ivx6HklWKMeoVSgQKAk4H6hR+N2JbuohuxDsFr0s7kzff6CuodLTBbQRJR9l64ahV01nrVfvt/QX6weWVyh2hQXAdO/T2PLCAaGwfu8wbh0M60vRauT6CulHaL3IQGgQuA74GohhqOHJhzpNiy+cJ51PPm/fkpDQogMzI7Q8FSa2Dqa/10b3scf+1/4H3+eGVxP2fIWkdMEDx/KvkX6gTA8ebey8zXu2qs3p6Ak5KKSITEgB2AVYJfhx+PaJn/pZu06cSK1hrpLvxXDygiNTQWRWpU2GEUbdx1/3tZf9Z/dX1CeFxw8GU5WYJKHjpsKNEVuQKT78rcy8r+ucSqdJ1akreJvYOMgDmAxIIfiCyQu5qRp2O23caf2ETrX/6EEUQkNDbsRg1WPmM1brN2hnyMf7Z/AX1+d0tvmGSjV7ZIJzhWJqcTiABn7a/azsgruCSpEZw9keWIO4NdgF6APIPoiEGRFpwqqTG41ci22m7tkACvE10mLji9SKlXnWRPb4B3A322f4x/hHywdjJuOmMHVuZGLTY9JHwRWP4865jY1sZdtountpookByIwoI4gI2AvoO6iV6SeZ3KqgS60srR3JrvwQLZFXMoJDqISj9Z9GVgcEV4d33Xf1h//XvZdRBt02FkVBBFLjQhIk8PJ/wT6YPW4sSVtPmlY5kbj1yHU4IdgMWASoSVioST455wrN270szu3sfx8gQBGIYqFjxNTM5aRGdocQB54X3ufxt/bXv6dOZrZmC7UjVDLDIDICIN9vns5nLU8sLSsm6kF5gXjqWG7YELgAeB3oR5i7KUVKAcrru9184N4fbzIwcnGpYsBD4NTlZci2hocrN5Qn77f9R+1HoSdLRq8V4MUVVBJjDiHfMKxffG5GTSB8EVsemi1JYbjfeFkYECgFOBfIVmjOiVzKHOr52/39Av4yX2UwlMHKIu7D/HT9ddy2lfc1x6mX7+f4R+Mnohc3ppdV1WT28/HC6/G8MIlvWj4lnQIb9er2uhmJUojFOFP4EDgKiBI4ZbjSaXTKOHsYXB6tJT5VX4ggtuHqsw0EF7UVFfA2tOdPx65374fyp+hnkncjho8lubTYY9DyyaGZMGZ/OC4FLOQL2trfWfZJQ+i7eE9oAOgAeC04ZZjmyY0qRFs3HD+dR554X6sQ2OILAyr0MpU8RgM2w0dZN7K3/pf8d90Xglce5maFraS5c7/ilzF2IEOPFj3k/MY7sDrIWeOJNciiWEtoAjgG+CjYdfj7mZYKYJtWLFC9eh6bb83g+sIrI0iUXQVDBiW20RdiF8Zn/Pf1p9E3gacJ1l11gTSqQ56idLFTECDO9H3E/KjLleqh2dFJKEiZyDgIBBgOCCT4hukA+b9KfTtlfHIdnK6+j+ChLHJK82XUdxVpRjem7ldqV8mH+tf+R8THcHb0RkQFdGSK030yUhEwAA4Owt2lTIurfBqLyb+ZC0iB2DU4BogFuDGomFkWycjqmiuFDJOdv17RgBNRTfJqk4LUkMWPFkkm+xdyB9v3+Af2R8fXbsbeNiolV0RrE1uiP1EM/9tuoW2FzG7rUpp2Oa5o/th6aCMYCagN+D74mlktCdL6t3uk7LVN0h8EkDXxb0KJ469kqgWUZmoXBzeJF93X9Kf9t7pHXIbHth/lOdRLIzniHIDp77jegC1mnEJ7SYpRKZ244vhzqCF4DUgG2EzIrNkzyf16xRvE/Nct9P8noFhxgGK488u0wtW5Rnp3Esefl98n8Lf0l7wnScawxgU1LBQq8xfx+aDG75Zuby03vCZrIPpMiX2Y16htaBCIAZgQSFsov9lK+gha4vvlXPkuF99KsHrRoVLXs+eU60XNpopXLdeVh+/X/Bfq162HNoapVeolDfQKcvXh1rCj33QeTk0ZHAqrCLooaW34zPhXyBAoBngaSFoIw0limiObATwF7RtOOt9tsJ0RwhL2JAMVAzXhhqmnOEeq1+/n9vfgl65XItaRdd6075Pp0tOhs7CA71HuLbz6y+9a4QoUyV7osshSyBBYC+gU2GmI10l6qj87H8wWrT2OXd+AoM8h4pMUVC5FGsX05rh3Qie/l+9X8Tflt56XHpZ5NbLk0OPY8rFRkLBt/y/t/Uzcy8Ra2bnxqUBouThOWAEoAfggCHmI68mDKlsrPpw3rV/+cO+zgOEiEtMyNEkFMdYXxsa3W2ezt/43+tfaR45XCdZgdabEseO30p7RbaA7Hw393Sy/C6nKstnvCSJ4oDhKiAKYCJgruHoI8MmsGmeLXbxY3XJ+o//WUQLyMuNftFNlWHYqFtRnZCfHN/yH8+feR32G9KZXVYo0kqOWknxBSpAYTuxNvTyRu5+anHnM+RUIl8g3SASoD9goCIsZBjm1eoQ7fRx6PZUexw/5ESSSUqN85H1lbqY79uGHfEfKJ/o3/FfBt3w27vY9xW1UcyN1ElmhJ4/1nsq9nZx0q3Xahom7WQg4j/gkqAc4B6g02JypHBnPOpE7nMybzbfO6gAbwUYScjOZxJb1hFZdRv4Xc8fcd/dH9EfEl2pm2MYjxVAkY2NTcjbhBH/S/qldfjxX+1x6YRmqSPvoeLgiqAp4ABhCSK7JIonpar6brKy9fdqfDRA+UWdSkXO2VLAVqYZuFwoXirfeN/PH+4e251gGwjYZZTKkQ1MxohQQ4W+wfogtXxw7mzOKXBmJyOAochghOA5ICRhAOLFpSVnz+txLzNzfXf1vICBgwZhysGPSdNjVvkZ+VxWHkRfvV/+n4ke4p0UmuxX+pRTEIxMfseEgzl+OHlctMDwvmxsKN5l5yNUIbAgQWAK4EqheuLSJUKoe6upb7TzxbiBfUzCDIblS3yPuROEl0oaeFyBnptfv5/rn6Gep5zHWo5XjhQakApL9kc4wm19rzjZdEbwD+wL6I5lqSMpoVogQKAe4HMhdyMgZaGoqOwisDd0TnkNfdiClUdoC/YQJtQj15katRzq3rAfv1/WX7fealy32i6XIBOgj4dLbUasweG9JrhXM83vouutKABlbWLBoUagQeA1YF4htWNw5cJpF+yc8Lq017mZfmRDHcfpzG5QkxSBmCYa790R3sKf/J/+30veatxmWczW8FMljwOK48YgwVX8nrfV81YvN2sQZ/Rk8+Kb4TVgBeAOIIsh9eODZmSpSC0YsT61YXolvvADpUhqjOWRPdTdmHEbKF12XtJf95/k312eKVwS2amWf1KpTr8KGcWUgMq8FzdVst+ujar1Z2pkvKJ4YOagDCApYLqh+KPXpojp+e1VcYO2K3qx/3tELIjqjVtRpxV3mLobXl2Ynx/f8B/In20d5Zv9mQSWDRJsDjnJj4UIAH97UHbWMmpuJWpcZyKkR6JXYNpgFOAG4OxiPWQt5u6qLO3TMgl2tfs+P8YE8slpTc/SDpXP2QDb0l34nysf5h/p3zpdn9umWN4VmVHtzbPJBMS8P7S6ynZX8fatvqnFJtykFKI4oJBgH+AmoOAiRCSGJ1YqoW5R8o+3APvKQJCFeInnTkMStFYmGUWcBB4WH3Pf2d/I3wUdl9tNWLXVJBFuTS0IucPv/yp6RTXacUQtWamvpljj5CHcIIjgLWAI4RZijSTgJ78q1y7R8xb3jDxWgRrF/YpkDvTS2Ja6WYhcc54xX3ofyx/lXs3dThsymAvU7ZDuDKWILkNjvqB5wHVecNMs9ikcZhdjtaGCIIOgPSAtYQ6i1+U75+nrTm9Ss554F7zigaSGQcsfj2UTexbM2gjcoN5KH74f+h+/npSdAhrV1+BUddBszB2HosLXfhb5fLSjMGNsVKjK5dfjSaGqYEDgD2BUIUljJOVZaFYrxq/UdCb4o31uwi3GxQuaD9QT29ddWkdcy96gn7+f5p+X3pjc9Bp3V3OT/Q/qi5UHFsJLfY34+fQpb/Vr9Kh7ZVpjH+FVIECgJCB9YUYjc+W46IPsQDBXNK+5L336graHR4wTUEFUeter2oOdNJ60377f0N+tXlscpBoXFwUTgs+niwwGisH/vMV4d7Owr0irlqgt5R9i+GECIEKgOyBo4YTjhOYaKTLsuvCatTj5u35GQ37HyQyLkO1UmBg4Wv2dGt7Gn/uf+J9A3lscUln1FpUTB48jioJGPoE0PH23trM5Lt2rOieiZOZikyExoAcgFKCWYcXj16Z86WOtNvEe9YL6R78Rw8ZIic0CUVeVM5hC23Wdft7V3/Xf3h9SHhkcPllRVmPSiw6eyjhFckCo+/Z3NnKDLrQqn6dY5K+icCDjoA4gMCCGYgkkLGahadWts7GkNg060/+dBE1JCU230YBVjRjLW6tdoJ8i3+3fwV9g3dTb6Jkr1fESDY4ZSa3E5gAd+2/2t3IOLgwqRucRZHriD6DX4BdgDmD4og5kQycHqkkuMfIp9pe7YAAnxNOJiA4r0idV5NkR296d/98tX+Nf4h8tnY6bkRjE1bzRjw2TCSMEWj+TOun2OTGaraXp8CaMJAiiMWCOYCLgLqDtIlWkm6dvqr3ucPKwdyK77ECyRVkKBY6e0ozWeplWHA/eHN91n9afwF84HUYbd5hcFQdRT00MSJfDzf8I+mS1vDEorQFpm2ZI49ih1aCHYDEgEaEj4p8k9ieY6zPu8TM3t638eIE8Rd3Kgg8QEzCWjpnYXH7eN597X8df3F7AHXva3Bgx1JCQzsyEiAyDQb6++aB1AHD37J5pCGYHo6qhvCBC4AFgdqEcouplEmgEK6tvcjO/uDm8xIHGBqHLPY9AE5LXIJoYXKueT9++3/Wftl6GHS9avxeGFFiQTUw8h0DC9X31uRz0hXBIrH0ot2WIo38hZSBAoBRgXeFX4zflcGhwq+Pv9DQH+MV9kMJPByTLt4/uk/MXcJpWHNXepd+/n+GfjZ6KHODaYBdY099PysuzxvTCKb1suJo0C+/a692oaGVL4xXhUGBA4ClgR6GVI0dl0GjerF3wdvSQ+VF+HILXh6cMMJBblFGX/pqR3T4euV++X8tfot5LnJBaP1bqE2UPR4sqhmjBnfzkeBhzk29uq3/n22URIu8hPeADoAEgs6GUY5imMekOLNjw+rUaed1+qENfyCiMqFDHFO6YCtsLnWPeyp/6X/JfdZ4LXH4ZnNa50ulOw0qgxdyBEjxct5dzHG7D6yQnkCTY4ophLiAIoBsgoeHWI+wmVSm/LRUxfzWkemm/M4PnCKjNHtFxFQlYlNtC3YdfGV/0H9dfRl4InCnZeNYIEqzOfonWxVBAhvvVtxeypq5aqonnR2Siomgg4GAQIDdgkmIZpAFm+inxrZJxxHZuuvY/vsRtyShNlBHZVaKY3Ju4HahfJZ/rn/nfFJ3D29OZExXU0i7N+MlMBMQAPDsPNpiyMe3zKjGmwGRuoggg1WAZ4BXgxSJfZFhnIKplbhCySrb5e0IASYU0CaaOCBJAFjnZIpvq3ccfb5/gn9ofIN29G3tYq5VgkbANckjBRHg/cXqJdhrxvu1Nadtmu6P8oeqgjGAmIDbg+iJnZLGnSOrabo/y0TdEfA5A08W5SiQOulKlVk9ZplwbniOfd1/TH/fe6p10WyGYQpUq0TBM60h2A6u+53oEtZ3xDS0pKUbmeOONIc9ghiA04BphMWKxJMxn8usQ7xBzWLfP/JqBXcY9yqAPK5MIluLZ6BxJ3n2ffF/DH9Ne8l0pWsWYF9SzkK9MY4fqgx++XbmAdSJwnKyGqTRl+CNf4bZgQiAF4H/hKuL9JSkoHiuIr5Gz4LhbfSbB50aBi1tPmxOqVzRaJ5y2HlVfvx/xH6yet9zcWqgXq5Q7UC2L20dewpN91Hk89GfwLewlqKPluaM04V/gQKAZIGfhZqMK5YeoiywBcBP0aTjnfbLCcEcEi9UQCVQKV4PapNzf3qrfv5/cX4OeuxyNmkiXfhOBz+sLUobSwge9S7i6c+6vgGvGqFVlfWLMYUugQWAvIFIhpGNa5efo+ax7sFb08nlzfj6C+MeGjE3QtdRoV9Fa4B0HXv3fvZ/FX5gefFx8meeWztNHD2eKyUZGwbv8g3g483ZvFKtpZ8jlA2Ll4TngBKAHIL6hpCOs5gnpaWz28Nr1e/n/vooDgIhHzMVRIRTE2FzbGR1sns5f+R/sH2peO1wp2YTWnlLLTuMKf0W6gPB8O/d4cv+uqirN575ki2KB4SqgCiAhoK2h5mPApq2pmu1zcV91xfqL/1VEB8jHzXuRSpVfWKZbT92Pnxyf8l/QX3pd+BvVGWAWLBJOTl4J9QUuQGU7tPb4skouQWq0ZzXkVaJgIN2gEiA+oJ6iKmQWZtLqDa3w8eT2UHsYP+CEjolHDfBR8pW4GO3bhJ3wHyhf6R/yXwhd8tu+WPoVuNHQTdhJaoSiP9p7LrZ58dXt2mocpu9kIiIAoNLgHKAd4NHicKRt5znqQa5vcms22zukAGsFFEnFDmPSWNYO2XMb9t3OX3Gf3V/R3xPdq5tl2JIVRBGRDVGI34QV/0/6qTX8cWMtdOmGpqsj8OHjoIqgKWA/YMdiuSSHZ6Kq9y6vMvI3ZnwwQPVFmYpCTtYS/ZZjmbZcJx4qH3ifz1/vXt0dYlsLWGjUzdERDMqIVEOJvsX6JHV/8PGs0Oly5ijjgiHI4ITgOKAjIT8ig2Ui58zrbe8vs3m38fy8gX9GHcr+DwbTYJb2mfecVN5Dn71f/x+KHuRdFtrvF/3UVpCQDEKHyIM9vjw5YHTEcIGsrujg5ejjVWGwoEGgCmBJYXkiz+V/6Dirpe+xM8G4vX0IwgiG4Yt5D7YTgddH2nacgF6a37+f7B+i3qlcyVqRF5EUHdAOC/oHPMJxfbM43TRKcBMsDmiQparjKuFaoECgHmBx4XVjHiWe6KXsHzAztEp5CX3UgpGHZEvykCPUIVeW2rOc6Z6vn79f1x+5HmwcuhoxVyMTpA+LC3FGsMHlvSp4WvPRb6Yrr+gCpW8iwuFHIEHgNKBc4bOjbqX/aNSsmXC29NO5lX5gQxnH5gxrEJAUvxfj2u4dEJ7CH/yf/59NHmycaJnP1vOTKQ8HSufGJMFZ/KJ32bNZbzqrEyf2pPWinOE14AWgDWCJ4fQjgOZh6UTtFTE69V16Ib7sA6GIZsziETrU2thu2yaddV7SH/ef5Z9e3iscFVmslkKS7Q6Cyl3FmIDOvBs3WTLi7pCq+CdspL4ieWDnIAvgKGC5Ifaj1SaF6fatUbG/9ed6rf93RCiI5s1YEaQVdRi321zdl58fn/BfyV9uneebwBlHlhBSb849iZOFDABDe5Q22fJt7igqXuckpEjiWGDaoBSgBeDq4jtkK2br6imtz3IFdrI7Oj/CBO8JZc3MkguVzVk+25Ed958q3+Zf6p873aHbqRjg1ZyR8U23iQjEgD/4us42W3H57YFqB6bepBYiOWCQoB+gJaDeokIkg6dTKp4uTnKL9zz7hgCMxXTJ445/0nGWI5lD3ALeFV9zn9pfyd8G3ZobUBi41SdRcg0wyL3D8/8uekj13jFHbVxpsiZa4+Vh3OCJICzgB+EU4ork3We8KtPuzjMS94g8UoEWxfnKYE7xktXWuBmGnHJeMJ96H8uf5l7PnVAbNRgO1PEQ8cypiDJDZ76kecQ1YfDWbPkpHqYZI7bhguCD4DzgLGENItXlOSfm60rvTvOauBO83oGghn4K3A9h03hWypoHHJ+eSZ++H/qfgN7WHQRa2FfjlHlQcIwhh6bC234a+UB05rBmrFdozSXZo0rhqyBBIA7gUyFHoyKlVuhS68Mv0LQi+J99asIpxsFLlo/Q09kXWxpFnMqeoB+/n+dfmN6anPZaehd2k8CQLkuZBxrCT32R+P10LO/4a/dofaVcIyDhVaBAoCOgfCFEI3GltiiArHywE3SruSt99oKyh0PMD9B+VDgXqZqB3TNetF++39Gfrp5c3KaaGdcIE4ZPq0sPxo7Bw70JeHtztC9L65koL+Ug4vlhAqBCoDpgZ6GDI4JmFykv7LdwlvU1Obd+QkN6x8VMiBDqFJVYNlr8HRnexh/7n/lfQh5c3FSZ99aYUwsPJ0qGRgKBeDxBd/pzPK7gqzznpGTn4pQhMiAHIBOglSHEI9UmeilgbTMxGzW++gO/DcPCSIYNPtEUlTDYQNt0HX3e1Z/2H97fU14a3ADZlBZnEo6Oooo8RXZArPv6Nzoyhm63KqInWuSxInEg4+AN4C9ghSIHJCnmnqnSbbAxoDYJOs//mQRJSQXNtFG9VUqYyVup3Z+fIp/uH8IfYl3W2+sZLtX0UhEOHQmxxOoAIbtztrryEW4PKklnE2R8YhCg2CAXIA1g9yIMZECnBKpF7i4yJjaTu1vAI8TPiYROKJIkVeJZD9vdXf8fLR/j3+LfLx2Qm5OYx9WAUdKNlsknBF4/lzrttjzxne2o6fKmjeQKIjJgjqAioC3g66JTpJknbKq6rm1yrLceu+hArkVVCgIOm5KKFnhZVBwOnhwfdV/W38FfOZ1IW3oYXxUK0VMNEAibw9H/DPpotb/xK+0EKZ2mSqPZ4dZgh6AwoBBhImKc5POnleswru1zM/eqPHSBOEXaCr6OzNMt1oxZ1lx9njbfe1/H392ewd192t7YNRSUENKMiIgQQ0W+gvnkNQPw+yyhKQqmCaOsIbzgQuAA4HVhGyLoZQ/oAOun725zu7g1vMCBwgaeCzoPfRNP1x5aFpyqXk8fvp/2H7deh90xmoGXyVRcEFEMAEeEwvl9+bkgtIjwS+x/6LmlimNAYaWgQKAToFzhViM1pW3obWvgr/B0BDjBfYzCSwchC7QP65PwV25aVFzU3qUfv5/iX47ei9zjGmLXW9Piz86Lt8b4wi29cLid9A9v3evgaGqlTaMXIVDgQOAo4EZhk2NFJc2o22xacHM0jPlNfhiC08ejTC1QWJRPF/yakF083rjfvl/L36QeTZyS2gIXLRNoj0tLLoZswaH86HgcM5bvcatCqB1lEuLwIT5gA2AAYLJhkqOWZi8pCuzVcPb1FnnZfqRDW8gkzKUQxBTr2AibCd1i3sof+p/zH3ceDRxAWd/WvNLtDscKpMXggRY8YLebMx/uxusmp5Jk2mKLYS5gCGAaIKCh1CPpplJpu+0RcXt1oHplvy+D40ilDRuRbhUG2JKbQV2GXxjf9F/YH0eeCpwsGXuWC1KwTkJKGsVUQIr72XcbMqnuXaqMZ0lkpCJpIODgD+A2YJEiF6Q+5rcp7m2OscC2arryP7rEagkkjZDR1pWgGNqbtp2nnyVf69/63xYdxdvWGRXV2FIyjfyJUATIAAA7UzacMjVt9io0JsJkb+IJINWgGaAVIMOiXWRV5x3qYi4M8ka29Xt+AAWFMAmjDgSSfVX3WSCb6V3GX29f4N/bHyJdvxt+GK6VY9GzzXZIxUR8P3V6jXYecYItkCnd5r1j/iHrYIygJeA14PiiZSSu50Xq1y6Mcs13QLwKQM/FtYogTrcSolZM2aRcGh4i33cf01/43uxddlskGEWVLhEzzO9IegOvvut6CHWhsRBtK+lJZnqjjqHQIIYgNGAZYS/iryTJ5+/rDW8Ms1S3y/yWgVnGOgqcjyhTBdbgWeYcSJ59H3xfw5/UXvPdK5rIWBrUtxCzDGeH7oMjvmG5hDUl8J/siWk25fojYSG3IEIgBWB+4Ski+uUmaBsrhS+N89y4V30iweNGvcsXz5gTp5cx2iXctN5U378f8Z+t3rmc3pqq167UPtAxS99HYsKXfdg5ALSrcDDsKGimJbtjNiFgYECgGKBmoWTjCKWE6IgsPi/QNGV4432uwmxHAMvRkAYUB5eBmqMc3p6qH7+f3R+Enrzcj9pLl0ETxU/uy1aG1sILvU94vjPx74OryWhXpX8izWFMIEFgLmBQ4aJjWKXlKPZseDBTNO55b346gvTHgsxKULLUZZfPGt5dBl79X72fxh+ZXn4cfxnqVtITSo9rSs0GSsG//Id4PLN57xerbCfLJQTi5uE6YARgBmC9YaJjqmYHKWZs83DW9Xf5+76GA7zIBAzB0R4Uwhha2xeda57N3/lf7N9r3j0cLBmHlqGSzs7nCkNF/oD0fD+3e/LDLu0q0KeAZMziguEq4AogIOCsIeRj/iZqqZetb7FbtcH6h/9RhAQIxE14EUeVXNikW05djp8cH/Kf0V973fob11ljFi+SUc5hyfkFMkBpO7j2/DJNbkRqtuc35FciYSDd4BHgPaCdIihkE+bP6got7THhNkx7FD/chIqJQ03tEe+VtVjr24Md7x8oH+lf818J3fTbgNk81bwR083cCW6Epn/eezJ2fbHZLd0qHybxZCOiAaDTIBxgHODQYm6ka2c26n5uK/Jndtc7oABnBRCJwY5gklYWDFlxW/WdzZ9xn93f0t8VXa2baFiVFUdRlM1ViOOEGf9T+qz1//FmbXepiSatI/Jh5GCK4CkgPmDF4rbkhOefqvOuq3LuN2J8LEDxRZXKfo6S0vqWYVm0nCWeKV94n8/f8F7e3WRbDhhr1NFRFMzOSFgDjb7J+ig1Q3E07NPpdSYq44NhyaCFIDggIiE9ooElICfJq2pvK/N1t+38uIF7RhoK+o8Dk12W9Fn13FOeQx+9H/+fi17l3Rka8dfA1JoQk4xGh8yDAb5AOaQ0yDCE7LGo4yXqo1ahsWBBoAngSGF3Ys2lfSg1a6JvrXP9+Hl9BMIExt3LdY+y078XBVp03L8eWh+/n+zfpB6rHMuak9eUVCFQEcv+BwDCtX22+OD0TfAWLBEokuWsoywhW2BAoB2gcOFzoxvlnCiirBuwL/RGeQV90IKNh2CL7xAglB6XlJqx3Oierx+/X9eful5t3LxaNBcmU6ePjst1BrTB6b0ueF6z1K+pK7KoBOVw4sPhR6BB4DPgW6Gx42xl/KjRbJXwszTPuZF+XIMVx+JMZ5CNFLxX4ZrsnQ+ewZ/838Afjp5unGsZ0pb20yyPC0rrxijBXfymd91zXO89qxWn+KT3Ip3hNmAFoAygiKHyI76mHylBrRFxNzVZeh2+6AOdiGNM3tE31NhYbNslHXRe0Z/33+ZfYF4tHBfZr1ZF0vCOhsphxZyA0rwe91zy5m6TqvqnbqS/onpg56ALoCegt+H0o9LmgynzbU4xvDXjuqn/c0QkyONNVJGhFXJYtdtbXZafH1/wn8ofb93pm8KZSlYTknNOAUnXhRBAR3uYNt1ycS4rKmFnJqRKYlkg2yAUYAUg6WI5ZCjm6OombcvyAbauOzY//gSrSWINyVIIlcrZPNuPnfbfKp/m3+ufPR2j26uY49Wf0fUNu0kMxIQ//LrR9l7x/S2Eagom4KQXYjpgkOAfICTg3SJAJIDnUCqarkqyiDc4+4IAiMVxCeAOfJJuliEZQdwBXhSfc1/an8qfCF2cG1KYu9Uq0XXNNMiBhDf/MnpMteGxSq1fabSmXOPmod3giWAsoAbhEyKI5NrnuSrQbspzDzeEPE6BEwX2ClzO7lLS1rWZhJxxHi/fed/MH+ee0R1SWzfYEdT0UPWMrUg2Q2u+qHnINWVw2az76SEmGyO4IYOgg+A8YCshC2LTpTan46tHb0szlrgPvNqBnMZ6StiPXtN1lshaBVyeXkjfvh/7H4He190GWtsX5pR80HRMJUeqwt9+HvlENOowaexaKM9l22NMIavgQSAOYFHhReMgZVQoT+v/r4z0HvibfWbCJgb9i1MPzZPWV1jaQ9zJXp+fv5/n35oenFz4mnyXedPD0DILnMcewlN9lfjBNHAv+6v6KH/lXeMiIVZgQKAi4HrhQmNvZbNovWw5MA+0p/knffKCrsdADAyQexQ1l6eagF0yXrPfvt/SH6/eXpyo2hyXC1OJz68LE8aSwce9DXh/M7dvTuub6DIlIqL6YQNgQqA5oGYhgSOAJhRpLKyz8JM1MTmzfn5DNsfBzISQ5xSS2DQa+l0YnsWf+9/6H0OeXtxXGfqWm5MOjysKikYGgXw8RXf98z/u46s/Z6ak6WKVITKgBuAS4JPhwiPS5ncpXS0vsRd1uvo/vsnD/ohCTTuREZUuWH7bMl183tUf9l/f31TeHNwDWZcWalKSTqZKAEW6QLC7/jc98omuuiqk51zksqJyIORgDaAuoIOiBSQnppupzy2ssZx2BTrL/5UERYkCDbERulVIGMdbqF2enyIf7l/C32Pd2NvtmTGV95IUziEJtcTuACW7d3a+shTuEipMJxVkfeIRYNhgFqAMoPXiCmR+JsHqQm4qsiI2j7tXwB/Ey8mAziVSIZXf2Q3b293+Hyzf5B/j3zCdkpuWGMrVg5HWTZrJKwRiP5s68bYAceEtq6n1Jo/kC2IzII7gIiAs4OoiUWSWp2mqty5psqi3GrvkQKpFUUo+jlhShxZ12VIcDR4bX3Uf11/CXzsdSlt8mGIVDhFWjRPIn8PV/xC6bHWDcW8tBumgJkyj2yHXIIfgMCAPYSCimuTw55LrLS7psy/3pjxwgTSF1gq7DsnTKxaJ2dScfF42H3sfyB/ensNdQBshWDgUl5DWDIxIFENJvob55/UHcP5so+kNJgtjrWG9oEMgAGB0YRli5iUNKD3rZK9qs7e4Mbz8gb4GWgs2T3nTTRccGhScqR5On76f9p+4nomdM9qEV8xUX5BUjARHiML9ff15JHSMcE7sQqj75YxjQaGmYEDgEyBboVRjM2VrKGpr3S/stAA4/X1IwkdHHUuwz+hT7ZdsGlKc056kn7+f4t+QHo2c5Vpll18T5k/SS7uG/MIxvXS4obQS7+Er4yhs5U9jGGFRYEDgKCBFIZGjQqXK6NhsVvBvdIk5SX4Ugs/Hn4wp0FWUTFf6Wo6dO964X75fzJ+lXk9clRoE1zBTbA9PCzKGcMGlvOw4H7Oab3SrRSgfpRSi8SE+4ANgP6BxIZDjk+YsKQfs0fDzNRK51X6gQ1fIIQyhkMEU6VgGWwhdYZ7Jn/qf8994Xg8cQtniloATMI7LCqjF5IEaPGR3nvMjLsnrKSeUZNvijGEu4AhgGWCfIdIj5yZPabitDfF3tZx6Yb8rg99IoY0YEWsVBFiQm3/dRV8Yn/Sf2N9JHgycLpl+lg6Ss85GCh6FWECO+913HvKtLmCqjydLZKWiaiDhIA+gNaCPohXkPGa0aertizH89ib67f+2xGYJIQ2NUdOVnZjYm7Udpp8lH+wf+58Xncfb2JkY1duSNg3AiZQEzAAD+1b2n/I4rfkqNqbEZHFiCeDV4BlgFCDCYltkU2ca6l6uCXJC9vF7egABhSxJn04BUnpV9Nkem+gdxZ9vH+Ef298j3YFbgJjxlWcRt016CMlEQD+5epE2IfGFbZMp4Ga/Y/+h7CCM4CVgNSD3ImMkrGdC6tOuiLLJt3y7xkDLxbGKHM6z0p+WSlminBjeIh9239Pf+d7t3XibJphIlTGRN4zzCH4Ds/7vOgw1pTETrS7pS+Z8o4/h0OCGYDPgGCEuIqzkxyfsqwovCPNQ98f8koFVxjZKmQ8lEwMW3hnkXEdefF98H8Qf1Z71nS2ayxgeFLqQtsxrR/KDJ75leYf1KXCjLIwpOSX742Jht6BCYATgfaEnovilI+gYK4GvijPY+FN9HsHfhroLFE+U06TXL5oj3LOeVB+/H/Ifrt67HODarZex1AJQdQvjB2bCm33cOQR0rvA0LCsoqKW9YzdhYSBAoBggZaFjIwZlgiiE7DqvzHRheN99qsJohz0LjlADFATXv1phXN2eqZ+/n92fhd6+nJIaTldEU8jP8otaRtrCD71TeIH0NW+Gq8woWeVA4w6hTOBBIC2gT6Ggo1Zl4mjzLHSwT3TqeWt+NoLxB78MBxCv1GMXzNrc3QUe/J+938bfmp5/3EFaLRbVU04PbwrRBk7Bg/zLOABzvW8aq26nzSUGoughOuAEYAWgvCGgY6gmBCljLO/w0zVz+fe+ggO4yABM/pDbFP+YGJsV3WqezV/5X+2fbR4/HC6Zilak0tJO6spHRcKBOHwDt7+yxm7wKtMngqTOooPhK2AJ4CAgquHiY/umZ+mUbWwxV/X9+kP/TYQACMCNdNFElVoYoltM3Y2fG9/y39IffV38G9nZZhYy0lVOZcn9BTZAbTu8tv/yUO5HarlnOeRYomHg3iARoDzgm6ImZBFmzSoG7emx3XZIexA/2ISGyX/NqdHslbLY6duBne5fJ5/pn/QfCx3224NZP9W/UddN38lyRKp/4ns2dkEyHK3gKiGm82QlIgJg02AcIBvgzuJspGjnM+p67igyY3bTO5wAYwUMyf4OHVJTFgnZb1v0HcyfcV/eH9PfFt2v22rYmBVK0ZhNWUjnhB3/V/qwtcOxqa16qYumruPzoeVgiyAooD1gxGK05IJnnKrwbqey6ndefChA7YWSCnsOj5L31l7ZspwkXiifeF/QX/Fe4F1mmxCYbtTU0RhM0khcA5G+zbor9UbxOCzWqXemLKOEocpghSA34CEhO+K/JN1nxqtm7ygzcffp/LSBd0YWSvcPAFNa1vIZ89xSXkJfvR/AH8xe550bWvRXw9SdUJdMSkfQgwW+RDmn9MuwiCy0aOVl7GNX4bHgQaAJIEchdeLLZXqoMmue76mz+fh1fQDCAMbaC3IPr5O8VwMacxy+Hlmfv1/tX6UerJzN2paXl1Qk0BWLwgdEwrl9uvjktFEwGWwT6JUlrmMtIVvgQKAdIG+hceMZpZlon6wYMCw0QrkBfcyCiYdcy+uQHZQb15JasBznXq5fv1/YX7ueb5y+mjbXKZOrD5KLeQa4we29Mnhic9gvrGu1KAclcmLE4UggQeAzYFphr+Np5fnozmyScK90y/mNfliDEgfejGQQidS5l9+a6t0OnsEf/N/A34/ecFxtWdVW+hMwDw8K74YswWH8qjfg82BvAKtYZ/rk+OKfITbgBWAL4Ich8GO8JhwpfmzN8TN1VXoZvuQDmchfjNtRNNTVmGqbI11zXtEf+B/nH2GeLtwaGbIWSRL0DoqKZcWggNa8Irdgsumulqr9J3CkgWK7YOfgC6Am4LZh8uPQZoAp8C1Ksbg137ql/29EIMjfjVFRnhVv2LPbWd2V3x7f8N/LH3Fd61vFGU1WFtJ2zgVJ20UUQEt7m/bhMnRuLipj5yikS+JaINtgE+AEIOfiN2QmZuXqIu3Icj32ajsyP/pEp0lejcXSBZXIWTrbjh313ypf5x/snz6dpduuGObVoxH4jb9JEMSIP8C7FfZiscBtx2oMpuKkGOI7IJEgHuAj4NuifeR+Zw0ql25HMoQ3NPu+AETFbQncjnkSa5YemX/bwB4Tn3Mf2x/LnwndnhtVGL7VLhF5TTiIhYQ7/zY6UHXlMU3tYim25l6j6CHeoIlgLCAF4RGihqTYJ7YqzS7G8ws3gDxKQQ8F8gpZTusS0BazWYLcb54vH3nfzJ/ontLdVFs6WBUU99D5DLFIOkNvvqw5y/Vo8Nys/qkjZhzjuaGEYIQgO+AqIQni0WUz5+CrQ+9Hs5L4C7zWgZjGdkrVD1uTcpbF2gOcnR5IH73f+5+DHtmdCJrd1+nUQFC3zClHrsLjviK5R/TtsG0sXOjRpd0jTWGsYEEgDeBQ4UQjHiVRaEyr/C+JNBs4l31iwiIG+ctPj8qT05dWmkIcyF6e37+f6F+bXp4c+tp/V3zTx1A1y6DHIsJXfZm4xPRzr/6r/OhCJZ+jI2FW4ECgImB5oUCjbOWwqLpsNbAL9KP5I33ugqrHfEvJEHgUMtelWr6c8R6zH78f0t+xHmBcqxofVw6TjU+yyxfGlsHLvRE4QvP671Hrnqg0ZSRi+6ED4EJgOSBk4b9jfaXRqSlssHCPdS05r356QzMH/gxBUOQUkBgx2vjdF57FH/vf+t9E3mCcWVn9Vp7TEg8uyo5GCoFAPIl3wbNDbybrAifopOsiliEzIAagEiCSYcAj0GZ0aVntLDETtbb6O77Fw/qIfsz4EQ6VK9h8mzDde97Un/af4J9WHh7cBZmZ1m2Slc6qSgRFvoC0u8H3QXLNLr0qp2dfJLQicyDkoA1gLeCCYgMkJSaY6cvtqPGYtgE6x/+RBEGJPo1t0bdVRZjFW6bdnd8h3+6fw99lXdrb8Bk0lfrSGE4kybnE8gApu3t2gjJYLhUqTqcXZH9iEmDYoBZgC6D0Yghke6b+6j8t5vIedov7U8AbxMgJvU3iEh6V3VkL29pd/V8sn+Rf5N8yHZSbmJjN1YbR2c2eiS8EZj+e+vV2BDHkra6p96aR5AziM+CPICHgK+Dook9klCdmqrPuZfKk9xa74ECmRU2KOs5VEoQWc1lQXAveGp91H9ffw188nUxbf1hlFRGRWk0XyKPD2f8UunA1hvFybQnpoqZOY9yh1+CH4C+gDmEfIpik7meP6ynu5fMsN6I8bIEwhdJKt47GkygWh5nSnHreNV97H8if357FHUIbJBg7FJrQ2cyQSBhDTb6K+eu1CvDBbOapD2YNI66hvmBDID/gM2EX4uPlCmg662EvZvOz+C28+IG6BlZLMs92k0pXGZoS3KfeTd++n/dfuZ6LXTXahxfPVGMQWEwIR4zCwX4BeWg0j/BSLEVo/iWOI0LhpuBA4BKgWqFSozElaGhnK9mv6PQ8OLl9RMJDRxmLrU/lU+rXadpQ3NJepB+/n+NfkV6PXOeaaFdiU+nP1gu/hsDCdb14eKV0Fm/kK+WobyVRIxlhUiBA4CegRCGPo0BlyCjVLFNwa7SFOUV+EILMB5wMJlBSVEmX+BqM3Tqet9++n81fpp5RHJdaB5czk2+PUss2RnTBqbzwOCNzne9360foIeUWIvJhP2ADYD7gb+GO45GmKWkErM4w73UOudF+nENUCB1MnhD+FKaYBFsGnWCeyR/63/SfeZ4Q3EVZ5VaDUzQOzsqsxeiBHjxod6JzJq7M6yvnlqTdoo1hL2AIIBigneHQY+TmTKm1bQpxc/WYel2/J4PbiJ3NFNFoFQHYjlt+HURfGB/039nfSl4OXDEZQVZR0reOScoihVxAkvvhNyJysK5jqpGnTWSnImrg4aAPYDTgjiIT5DnmsWnnrYdx+TYi+un/ssRiSR1NihHQlZsY1puznaWfJJ/sX/yfGR3J29sZG9Xe0jnNxEmYBNAAB/tatqNyO+38KjkmxmRy4grg1iAY4BNgwOJZZFDnF+pbbgWyfvate3YAPYToiZvOPhI3VfJZHJvmncSfbt/hn9zfJV2DW4MY9JVqkbsNfgjNREQ/vXqU9iWxiK2V6eKmgWQA4izgjSAlIDQg9aJhJKnnf+qQboTyxbd4u8JAyAWtyhlOsJKclkgZoJwXXiFfdp/UX/re7116mylYS5U00TtM9whCA/f+8zoP9aixFu0xqU4mfmORIdGghqAzYBchLKKqpMSn6asGrwUzTPfD/I6BUgYyipWPIdMAFtuZ4lxGHnuffB/En9ae910v2s2YIRS90LqMb0f2gyu+aXmLtSzwpmyO6Ttl/aNjobhgQmAEYHyhJeL2ZSEoFOu+L0Zz1PhPfRqB24a2SxDPkZOiFy1aIhyyXlOfvx/yn7AevNzjGrAXtRQF0HjL5wdqwp994DkINLJwN2wt6KrlvyM4oWGgQKAXYGRhYWMEJb9oQaw3L8i0XXjbfabCZIc5S4rQP9PCF70aX5zcXqkfv5/eX4cegFzUWlEXR5PMT/ZLXkbewhO9V3iFtDjviavO6FwlQqMPoU1gQSAtIE5hnuNT5d+o8CxxMEu05nlnfjKC7Qe7jAOQrJRgV8ra2x0EHvwfvd/Hn5veQdyDmjAW2FNRj3LK1QZSwYf8zzgEM4CvXatxZ89lCCLpITtgBCAE4LrhnqOlpgFpX+zscM91cDnzfr4DdQg8jLsQ19T82BabFF1pns0f+Z/uX25eANxw2Y1Wp9LVzu6KS0XGgTx8B3eDcwnu8yrV54Sk0CKE4SugCaAfYKlh4KP5ZmTpkS1osVQ1+jp/vwmEPEi8zTFRQZVXmKAbS12Mnxtf8x/S336d/hvcWWjWNhJZDmmJwQV6QHE7gHcDspQuSmq75zvkWiJi4N6gEWA74JpiJGQO5soqA63mMdl2RHsMP9SEgwl8DaZR6ZWwWOfbgB3tXydf6d/1Hwyd+NuF2QLVwtIbDePJdkSuf+Z7OjZE8h/t4yokJvVkJqIDYNOgG6AbIM1iaqRmZzEqd64ksl+2zzuYAF9FCMn6ThoSUBYHWW1b8p3L33Ef3p/U3xhdsdttWJsVThGcDV1I60Qh/1v6tLXHMaztfWmOJrDj9SHmIItgKGA8YMLisqS/p1mq7O6kMuZ3WnwkQOmFjgp3joxS9NZcmbDcIt4n33gf0J/yXuHdaJsTGHHU2BEcDNYIYAOVvtG6L7VKsTts2Wl55i6jheHLIIVgN2AgITpivOTa58OrY68ks2335fywgXNGEorzjz0TGBbvmfIcUR5Bn70fwJ/NXuldHVr3F8cUoNCbDE5H1IMJvkf5q7TPMIsstyjnpe4jWSGyoEGgCKBGIXQiySV36C8rm2+l8/Y4cX08wfzGlktuj6yTuVcA2nFcvN5Y379f7d+mXq5c0BqZV5qUKFAZC8XHSMK9fb746HRUsBysFqiXZbAjLmFcoECgHGBuYXAjF2WWqJxsFLAodH64/X2IgoXHWQvoEBpUGReQGq5c5l6t379f2N+83nFcgNp5lyyTro+WS30GvMHxvTY4ZjPbr69rt+gJZXQixiFIoEGgMqBY4a4jZ6X3KMssjvCrtMf5iX5Ugw4H2sxg0IbUtxfdWukdDV7An/0fwZ+RHnIcb9nYFv1TM88SyvOGMMFl/K435LNjrwOrWuf9JPpioCE3YAVgCyCF4e5jueYZaXssynEvtVF6Fb7gA5XIW8zYETHU0xhomyHdcl7Qn/gf599jHjDcHJm1FkxS946OSmnFpIDavCa3ZDLtLpmq/+dy5ILivGDoYAtgJiC1IfDjzea9aaytRvG0ddu6of9rRB0I281N0ZsVbVix21hdlN8en/Efy99y3e1bx5lQVhoSeo4JCd9FGEBPe5/25LJ37jEqZmcqpE1iWyDboBOgA2DmYjVkI+bi6h+txLI59mY7Lj/2RKOJWs3CkgLVxdk424yd9R8p3+df7V8AHefbsJjp1aaR/E2DCVSEjD/Euxm2ZjHD7cpqDubkpBpiPCCRYB6gIuDaInvke+cKKpPuQ3KAdzD7ugBAxWlJ2M510mjWHFl92/6d0t9y39tfzJ8LXaBbV5iB1XGRfQ08iImEP/86OlQ16LFRLWUpuWZgo+lh32CJoCugBOEQIoSk1aezKsmuwzMHd7w8BkELBe5KVc7n0s0WsNmA3G5eLl95n80f6Z7UXVabPRgYFPtQ/My1CD5Dc76wOc+1bHDf7MFpZeYeo7rhhSCEIDtgKSEIIs9lMWfdq0CvQ/OO+Ae80oGUxnKK0Y9YU2/Ww5oBnJveR5+93/xfhB7bHQra4Jfs1EOQu4wtR7LC574muUu08TBwLF+o1CXe405hrSBBIA1gT6FCYxvlTqhJq/jvhbQXOJN9XsIeBvYLTA/HU9DXVFpAXMcenl+/n+kfnF6f3P0aQheAFArQOYukxybCW32duMi0dy/B7D+oRGWhYyRhV2BAoCGgeKF+4yqlrei3LDIwCDSf+R996oKmx3iLxZB01DAXoxq83O/esp+/H9Ofsl5iXK1aIhcR05DPtosbhprBz70VOEaz/m9VK6EoNqUl4vyhBGBCYDhgY6G9o3tlzukmLKzwi3UpOat+dkMvB/pMfdChFI2YL9r3HRaexJ/8H/ufRh5inFvZwFbiExXPMoqSBg7BRDyNN8VzRu8p6wSn6uTsopchM2AGoBFgkSH+Y44mcWlWrSixD7Wy+je+wcP2yHsM9NELVSkYepsvXXre1F/2n+FfV54gnAgZnNZw0plOrgoIBYKA+LvF90Uy0G6AKunnYSS1onQg5SANICzggOIBZCKmlenIraVxlPY9OoP/jQR9yPrNalG0VUMYwxulXZzfIZ/u38SfZp3cm/KZN5X+UhwOKIm9xPYALbt/NoXyW24X6lEnGWRA4lNg2OAWIArg8uIGZHkm++o77eNyGraH+0/AF8TECbmN3tIbldrZCdvY3fxfLF/kn+WfM52Wm5sY0JWKUd2NookzBGo/ovr5Ngex5+2xqfomk+QOYjTgj2AhoCrg5yJNZJFnY6qwbmJyoTcS+9xAooVJyjdOUZKBVnEZTlwKXhnfdN/YH8RfPl1Om0HYqFUU0V4NG4inw93/GLpz9Ypxda0MqaTmUGPd4digiCAvYA1hHWKWpOunjOsmbuJzKDeePGiBLIXOirPOw1MlVoUZ0Nx5njSfet/JH+Cexp1EWyaYPhSeUN2MlEgcQ1G+jrnvdQ5wxKzpqRGmDyOv4b7gQ2A/YDIhFiLhpQfoN6tdr2Nzr/gpvPSBtkZSiy9Pc1NHlxdaERymnk1fvp/337qejN04GonX0pRmkFwMDAeQwsV+BXlr9JNwVWxIKMClz+NEIaegQOASIFlhUOMu5WWoZCvWL+U0OHi1fUDCf0bVy6nP4hPoF2eaTxzRHqNfv5/kH5JekRzp2msXZVPtT9nLg4c\" type=\"audio/wav\" />\n",
              "                    Your browser does not support the audio element.\n",
              "                </audio>\n",
              "              "
            ],
            "text/plain": [
              "<IPython.lib.display.Audio object>"
            ]
          },
          "metadata": {
            "tags": []
          },
          "execution_count": 25
        }
      ]
    },
    {
      "cell_type": "markdown",
      "metadata": {
        "id": "e7BudLdoAgfk"
      },
      "source": [
        "# Assess training & validation performance"
      ]
    },
    {
      "cell_type": "code",
      "metadata": {
        "id": "MgujpcXqvEfL",
        "outputId": "d7eed76f-216a-42eb-a864-f292bb30f095",
        "colab": {
          "base_uri": "https://localhost:8080/",
          "height": 175
        }
      },
      "source": [
        "# Display floats with two decimal places.\n",
        "pd.set_option('precision', 2)\n",
        "\n",
        "# Create a DataFrame from our training statistics.\n",
        "df_stats = pd.DataFrame(data=training_stats)\n",
        "\n",
        "# Use the 'epoch' as the row index.\n",
        "df_stats = df_stats.set_index('epoch')\n",
        "\n",
        "# Display the table.\n",
        "df_stats"
      ],
      "execution_count": 26,
      "outputs": [
        {
          "output_type": "execute_result",
          "data": {
            "text/html": [
              "<div>\n",
              "<style scoped>\n",
              "    .dataframe tbody tr th:only-of-type {\n",
              "        vertical-align: middle;\n",
              "    }\n",
              "\n",
              "    .dataframe tbody tr th {\n",
              "        vertical-align: top;\n",
              "    }\n",
              "\n",
              "    .dataframe thead th {\n",
              "        text-align: right;\n",
              "    }\n",
              "</style>\n",
              "<table border=\"1\" class=\"dataframe\">\n",
              "  <thead>\n",
              "    <tr style=\"text-align: right;\">\n",
              "      <th></th>\n",
              "      <th>Training Loss</th>\n",
              "      <th>Valid. Loss</th>\n",
              "      <th>Avg. Accur.</th>\n",
              "      <th>Avg. Precision</th>\n",
              "      <th>Avg. Recall</th>\n",
              "      <th>Avg. F1_micro</th>\n",
              "      <th>Avg. F1_macro</th>\n",
              "      <th>Training Time</th>\n",
              "      <th>Validation Time</th>\n",
              "    </tr>\n",
              "    <tr>\n",
              "      <th>epoch</th>\n",
              "      <th></th>\n",
              "      <th></th>\n",
              "      <th></th>\n",
              "      <th></th>\n",
              "      <th></th>\n",
              "      <th></th>\n",
              "      <th></th>\n",
              "      <th></th>\n",
              "      <th></th>\n",
              "    </tr>\n",
              "  </thead>\n",
              "  <tbody>\n",
              "    <tr>\n",
              "      <th>1</th>\n",
              "      <td>1.23e-01</td>\n",
              "      <td>0.08</td>\n",
              "      <td>0.97</td>\n",
              "      <td>0.97</td>\n",
              "      <td>0.97</td>\n",
              "      <td>0.97</td>\n",
              "      <td>0.97</td>\n",
              "      <td>0:04:20</td>\n",
              "      <td>0:00:11</td>\n",
              "    </tr>\n",
              "    <tr>\n",
              "      <th>2</th>\n",
              "      <td>2.80e-02</td>\n",
              "      <td>0.08</td>\n",
              "      <td>0.98</td>\n",
              "      <td>0.98</td>\n",
              "      <td>0.98</td>\n",
              "      <td>0.98</td>\n",
              "      <td>0.98</td>\n",
              "      <td>0:04:29</td>\n",
              "      <td>0:00:11</td>\n",
              "    </tr>\n",
              "    <tr>\n",
              "      <th>3</th>\n",
              "      <td>5.89e-03</td>\n",
              "      <td>0.08</td>\n",
              "      <td>0.98</td>\n",
              "      <td>0.98</td>\n",
              "      <td>0.98</td>\n",
              "      <td>0.98</td>\n",
              "      <td>0.98</td>\n",
              "      <td>0:04:28</td>\n",
              "      <td>0:00:11</td>\n",
              "    </tr>\n",
              "  </tbody>\n",
              "</table>\n",
              "</div>"
            ],
            "text/plain": [
              "       Training Loss  Valid. Loss  ...  Training Time  Validation Time\n",
              "epoch                              ...                                \n",
              "1           1.23e-01         0.08  ...        0:04:20          0:00:11\n",
              "2           2.80e-02         0.08  ...        0:04:29          0:00:11\n",
              "3           5.89e-03         0.08  ...        0:04:28          0:00:11\n",
              "\n",
              "[3 rows x 9 columns]"
            ]
          },
          "metadata": {
            "tags": []
          },
          "execution_count": 26
        }
      ]
    },
    {
      "cell_type": "code",
      "metadata": {
        "id": "5OBRC-lEK6eF",
        "outputId": "db9576db-e13a-4a39-c930-729a1508538d",
        "colab": {
          "base_uri": "https://localhost:8080/",
          "height": 121
        }
      },
      "source": [
        "df_stats.describe().loc[\"mean\",[\"Avg. Accur.\",\"Avg. Precision\", \"Avg. Recall\", \"Avg. F1_micro\", \"Avg. F1_macro\"]]"
      ],
      "execution_count": 27,
      "outputs": [
        {
          "output_type": "execute_result",
          "data": {
            "text/plain": [
              "Avg. Accur.       0.98\n",
              "Avg. Precision    0.98\n",
              "Avg. Recall       0.98\n",
              "Avg. F1_micro     0.98\n",
              "Avg. F1_macro     0.98\n",
              "Name: mean, dtype: float64"
            ]
          },
          "metadata": {
            "tags": []
          },
          "execution_count": 27
        }
      ]
    },
    {
      "cell_type": "code",
      "metadata": {
        "id": "dn--55R72G6m",
        "outputId": "5f934508-23ee-49b1-d361-a9d784fb3f05",
        "colab": {
          "base_uri": "https://localhost:8080/",
          "height": 427
        }
      },
      "source": [
        "% matplotlib inline\n",
        "\n",
        "# Use plot styling from seaborn.\n",
        "sns.set(style='darkgrid')\n",
        "\n",
        "# Increase the plot size and font size.\n",
        "sns.set(font_scale=1.5)\n",
        "plt.rcParams[\"figure.figsize\"] = (12,6)\n",
        "\n",
        "# Plot the learning curve.\n",
        "plt.plot(df_stats['Training Loss'], 'b-o', label=\"Training\")\n",
        "plt.plot(df_stats['Valid. Loss'], 'g-o', label=\"Validation\")\n",
        "\n",
        "# Label the plot.\n",
        "plt.title(\"Training & Validation Loss\")\n",
        "plt.xlabel(\"Epoch\")\n",
        "plt.ylabel(\"Loss\")\n",
        "plt.legend()\n",
        "plt.xticks(range(1,EPOCHS+1))\n",
        "\n",
        "plt.show()"
      ],
      "execution_count": 28,
      "outputs": [
        {
          "output_type": "display_data",
          "data": {
            "image/png": "[encoded data removed]",
            "text/plain": [
              "<Figure size 864x432 with 1 Axes>"
            ]
          },
          "metadata": {
            "tags": []
          }
        }
      ]
    },
    {
      "cell_type": "markdown",
      "metadata": {
        "id": "qx5b-1dU4NUh"
      },
      "source": [
        "# Save model"
      ]
    },
    {
      "cell_type": "code",
      "metadata": {
        "id": "iqkz02TP4O1Y"
      },
      "source": [
        "# output_dir = './binary_model/'\n",
        "\n",
        "# # Create output directory if needed\n",
        "# if not os.path.exists(output_dir):\n",
        "#     os.makedirs(output_dir)\n",
        "\n",
        "# print(\"Saving model to %s\" % output_dir)\n",
        "\n",
        "# # Save a trained model, configuration and tokenizer using `save_pretrained()`.\n",
        "# model_to_save = model.module if hasattr(model, 'module') else model  # Take care of distributed/parallel training\n",
        "# model_to_save.config.id2label = {i: le.classes_[i] for i in range(len(le.classes_))}\n",
        "# model_to_save.config.label2id = {le.classes_[i]:i for i in range(len(le.classes_))}\n",
        "# model_to_save.save_pretrained(output_dir)\n",
        "# tokenizer.save_pretrained(output_dir)"
      ],
      "execution_count": 35,
      "outputs": []
    },
    {
      "cell_type": "markdown",
      "metadata": {
        "id": "MMWvmFsKrug2"
      },
      "source": [
        "# END"
      ]
    }
  ]
}