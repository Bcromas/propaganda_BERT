{
 "cells": [
  {
   "cell_type": "code",
   "execution_count": 1,
   "metadata": {},
   "outputs": [],
   "source": [
    "import os\n",
    "import pandas as pd\n",
    "import spacy"
   ]
  },
  {
   "cell_type": "markdown",
   "metadata": {},
   "source": [
    "# <span style=\"color:#FF8800\"> Load training data </span>\n",
    "> ### Here we'll load the training data and perform some exploratory data analysis on the news articles.  \n",
    "> ### The data comes from [Task 11 of SemEval 2020 \"Detection of Propaganda Techniques in News Articles\"](https://propaganda.qcri.org/semeval2020-task11/)."
   ]
  },
  {
   "cell_type": "code",
   "execution_count": 2,
   "metadata": {},
   "outputs": [],
   "source": [
    "PATH = \"datasets/train-articles/\""
   ]
  },
  {
   "cell_type": "code",
   "execution_count": 3,
   "metadata": {},
   "outputs": [],
   "source": [
    "filenames = []\n",
    "for root, dirs, files in os.walk(PATH, topdown=True):\n",
    "    filenames = files"
   ]
  },
  {
   "cell_type": "code",
   "execution_count": 4,
   "metadata": {},
   "outputs": [
    {
     "data": {
      "text/plain": [
       "371"
      ]
     },
     "execution_count": 4,
     "metadata": {},
     "output_type": "execute_result"
    }
   ],
   "source": [
    "len(filenames)"
   ]
  },
  {
   "cell_type": "markdown",
   "metadata": {},
   "source": [
    "> ### There are 371 files in the training data."
   ]
  },
  {
   "cell_type": "code",
   "execution_count": 5,
   "metadata": {},
   "outputs": [],
   "source": [
    "nlp = spacy.load(\"en_core_web_sm\", disable=[\"ner\"]) # don't need NER, can disable"
   ]
  },
  {
   "cell_type": "markdown",
   "metadata": {},
   "source": [
    "> ### Here we've loaded a spaCy model that has been trained on [OntoNotes Release 5.0](https://catalog.ldc.upenn.edu/LDC2013T19) which was released in 2013 and was trained on telephone conversations, newswire, newsgroups, broadcast news, broadcast conversation, and weblogs. Here we're using the English language version however, there are also versions in Chinese and Arabic.\n",
    "> ### [Details on spaCy model](https://github.com/explosion/spacy-models/releases//tag/en_core_web_sm-2.2.5)"
   ]
  },
  {
   "cell_type": "code",
   "execution_count": 6,
   "metadata": {},
   "outputs": [
    {
     "data": {
      "text/plain": [
       "478"
      ]
     },
     "execution_count": 6,
     "metadata": {},
     "output_type": "execute_result"
    }
   ],
   "source": [
    "nlp.vocab.length"
   ]
  },
  {
   "cell_type": "markdown",
   "metadata": {},
   "source": [
    "> ### There are 10,181 unique words in the model."
   ]
  },
  {
   "cell_type": "code",
   "execution_count": 7,
   "metadata": {},
   "outputs": [
    {
     "data": {
      "text/plain": [
       "'en'"
      ]
     },
     "execution_count": 7,
     "metadata": {},
     "output_type": "execute_result"
    }
   ],
   "source": [
    "nlp.vocab.lang"
   ]
  },
  {
   "cell_type": "markdown",
   "metadata": {},
   "source": [
    "> ### Verifying the model is in English."
   ]
  },
  {
   "cell_type": "code",
   "execution_count": 8,
   "metadata": {},
   "outputs": [],
   "source": [
    "texts = [] # create a single string for each doc & add to list\n",
    "text_num = [] # capture the number/order in which each doc was processed\n",
    "counter = 0\n",
    "for name in filenames:\n",
    "    text_num.append((counter,name))\n",
    "    counter += 1\n",
    "    with open(PATH+name) as f:\n",
    "        text = f.read()\n",
    "        texts.append(text)"
   ]
  },
  {
   "cell_type": "code",
   "execution_count": 9,
   "metadata": {},
   "outputs": [
    {
     "name": "stdout",
     "output_type": "stream",
     "text": [
      "CPU times: user 19.8 s, sys: 5.24 s, total: 25 s\n",
      "Wall time: 25 s\n"
     ]
    }
   ],
   "source": [
    "%%time\n",
    "\n",
    "docs_as_sents = [] # create list of lists where elements are separate sentences in doc\n",
    "for doc in nlp.pipe(texts): # can also disable components here using disable=[\"ner\"]; check which components of pipe are enabled w/ print(nlp.pipe_names)\n",
    "    docs_as_sents.append([sentence for sentence in doc.sents])"
   ]
  },
  {
   "cell_type": "code",
   "execution_count": 10,
   "metadata": {},
   "outputs": [
    {
     "data": {
      "text/plain": [
       "[Records Support Claims,\n",
       " That Minnesota Muslima State Rep Ilhan Omar Married Her Brother\n",
       " \n",
       " Ilhan Omar has accused Israel of “evil doings” in Gaza and called Israel an “apartheid state.”,\n",
       " It isn’t surprising that Ilhan Omar would think this way.]"
      ]
     },
     "execution_count": 10,
     "metadata": {},
     "output_type": "execute_result"
    }
   ],
   "source": [
    "docs_as_sents[0][:3]"
   ]
  },
  {
   "cell_type": "markdown",
   "metadata": {},
   "source": [
    "> ### The first few sentences from the first file are shown above."
   ]
  },
  {
   "cell_type": "markdown",
   "metadata": {},
   "source": [
    "## Visualize distribution of sentence lengths in documents"
   ]
  },
  {
   "cell_type": "code",
   "execution_count": 11,
   "metadata": {},
   "outputs": [],
   "source": [
    "import matplotlib.pyplot as plt\n",
    "import numpy as np"
   ]
  },
  {
   "cell_type": "code",
   "execution_count": 12,
   "metadata": {},
   "outputs": [],
   "source": [
    "sent_lens = [] # create list of ints representing the length of every sentence in every doc\n",
    "for doc in docs_as_sents:\n",
    "    for sent in doc:\n",
    "        sent_lens.append(len(sent))"
   ]
  },
  {
   "cell_type": "code",
   "execution_count": 13,
   "metadata": {},
   "outputs": [
    {
     "name": "stdout",
     "output_type": "stream",
     "text": [
      "The median number of words in a sentence is: 19.0\n",
      "The mean number of words in a sentence is: 21.7\n",
      "\n",
      "\n"
     ]
    },
    {
     "data": {
      "image/png": "[encoded data removed]",
      "text/plain": [
       "<Figure size 432x288 with 1 Axes>"
      ]
     },
     "metadata": {
      "needs_background": "light"
     },
     "output_type": "display_data"
    }
   ],
   "source": [
    "plt.hist(x = sent_lens, bins = 20, range = (0,100), color = \"#8800ff\"); # exclude some positive outliers\n",
    "plt.xlabel(\"Word count in sentence\")\n",
    "plt.ylabel(\"Frequency count in corpus\")\n",
    "plt.axvline(x = np.mean(sent_lens), color = \"#00ff88\")\n",
    "plt.axvline(x = np.median(sent_lens), color = \"#ff8800\")\n",
    "plt.title(label = \"Length of sentences in docs\");\n",
    "\n",
    "print(f\"The median number of words in a sentence is: {round(np.median(sent_lens),2)}\")\n",
    "print(f\"The mean number of words in a sentence is: {round(np.mean(sent_lens),2)}\")\n",
    "print(\"\\n\")"
   ]
  },
  {
   "cell_type": "markdown",
   "metadata": {},
   "source": [
    "> ### The skew here is not as drastic as I expected. Possibly due to common writing styles and techniques used in online news articles."
   ]
  },
  {
   "cell_type": "markdown",
   "metadata": {},
   "source": [
    "## Visualize distribution of number of sentences in documents"
   ]
  },
  {
   "cell_type": "code",
   "execution_count": 14,
   "metadata": {},
   "outputs": [],
   "source": [
    "sents_in_docs = [] # create list of ints representing the number of sentences in every doc\n",
    "for doc in docs_as_sents:\n",
    "    sents_in_docs.append(len(doc))"
   ]
  },
  {
   "cell_type": "code",
   "execution_count": 15,
   "metadata": {},
   "outputs": [
    {
     "name": "stdout",
     "output_type": "stream",
     "text": [
      "The median number of sentences in a doc is: 38.0\n",
      "The mean number of sentences in a doc is: 51.95\n",
      "\n",
      "\n"
     ]
    },
    {
     "data": {
      "image/png": "[encoded data removed]",
      "text/plain": [
       "<Figure size 432x288 with 1 Axes>"
      ]
     },
     "metadata": {
      "needs_background": "light"
     },
     "output_type": "display_data"
    }
   ],
   "source": [
    "plt.hist(x = sents_in_docs, bins = 20, range = (0, 300), color = \"#8800ff\"); # exclude some positive outliers\n",
    "plt.xlabel(\"Count of sentences in docs\")\n",
    "plt.ylabel(\"Frequency count in corpus\")\n",
    "plt.axvline(x = np.mean(sents_in_docs), color = \"#00ff88\")\n",
    "plt.axvline(x = np.median(sents_in_docs), color = \"#ff8800\")\n",
    "plt.title(label = \"Number of sentences in docs\");\n",
    "\n",
    "print(f\"The median number of sentences in a doc is: {round(np.median(sents_in_docs),2)}\")\n",
    "print(f\"The mean number of sentences in a doc is: {round(np.mean(sents_in_docs),2)}\")\n",
    "print(\"\\n\")"
   ]
  },
  {
   "cell_type": "markdown",
   "metadata": {},
   "source": [
    "> ### There are roughly 52 sentences in each news article although the data is right-skewed with a long tail."
   ]
  },
  {
   "cell_type": "markdown",
   "metadata": {},
   "source": [
    "# <span style=\"color:#FF8800\"> Load labels\n",
    "> ### Here we'll use another file from the training data to get the spans and the span labels for the training data."
   ]
  },
  {
   "cell_type": "code",
   "execution_count": 16,
   "metadata": {},
   "outputs": [],
   "source": [
    "from spacy.tokens import Doc, Token, Span\n",
    "Span.set_extension(\"TRAIN_LABEL\", default = \"No_Label\")"
   ]
  },
  {
   "cell_type": "code",
   "execution_count": 17,
   "metadata": {},
   "outputs": [
    {
     "name": "stdout",
     "output_type": "stream",
     "text": [
      "CPU times: user 16.7 s, sys: 4.97 s, total: 21.7 s\n",
      "Wall time: 21.8 s\n"
     ]
    }
   ],
   "source": [
    "%%time\n",
    "\n",
    "docs_as_docs = [] # create list where elements are separate docs, diff from above\n",
    "for doc in nlp.pipe(texts):\n",
    "    docs_as_docs.append(doc)"
   ]
  },
  {
   "cell_type": "markdown",
   "metadata": {},
   "source": [
    "## Create df to map file num, filename, and order in which file was processed."
   ]
  },
  {
   "cell_type": "code",
   "execution_count": 18,
   "metadata": {},
   "outputs": [],
   "source": [
    "file_num_name_df = pd.DataFrame(text_num, columns = [\"element_in_list\", \"filename\"])"
   ]
  },
  {
   "cell_type": "code",
   "execution_count": 19,
   "metadata": {},
   "outputs": [],
   "source": [
    "import re"
   ]
  },
  {
   "cell_type": "code",
   "execution_count": 20,
   "metadata": {},
   "outputs": [],
   "source": [
    "file_num_name_df[\"filenumber\"] = file_num_name_df.apply(lambda x: int(re.findall(\"\\d+\", x[\"filename\"])[0]), axis = 1) # extract unique file number from filename\n",
    "file_num_name_df = file_num_name_df[[\"filenumber\",\"filename\",\"element_in_list\"]] # change order of cols"
   ]
  },
  {
   "cell_type": "code",
   "execution_count": 21,
   "metadata": {},
   "outputs": [],
   "source": [
    "TRAIN_LABELS = \"datasets/train-task2-TC.labels\""
   ]
  },
  {
   "cell_type": "code",
   "execution_count": 22,
   "metadata": {},
   "outputs": [],
   "source": [
    "all_spans_df = pd.read_csv(TRAIN_LABELS, sep = \"\\t\", header = None, names = [\"filenumber\",\"label\",\"span_start\",\"span_end\"])\n",
    "all_spans_df[\"span_len\"] = all_spans_df.apply(lambda x: x[\"span_end\"]-x[\"span_start\"], axis = 1)\n",
    "\n",
    "all_spans_viz = pd.DataFrame(all_spans_df.groupby(\"label\").mean()[\"span_len\"]) # df for visualizing counts & lens of spans\n",
    "\n",
    "counts_df = pd.DataFrame(data = all_spans_df[\"label\"].value_counts()) # get label counts\n",
    "\n",
    "all_spans_viz = all_spans_viz.merge(counts_df, left_index=True, right_index=True)\n",
    "all_spans_viz.rename(columns = {\"label\":\"count\"}, inplace = True)"
   ]
  },
  {
   "cell_type": "markdown",
   "metadata": {},
   "source": [
    "## Visualize counts of labels"
   ]
  },
  {
   "cell_type": "code",
   "execution_count": 23,
   "metadata": {},
   "outputs": [
    {
     "data": {
      "image/png": "[encoded data removed]",
      "text/plain": [
       "<Figure size 432x288 with 1 Axes>"
      ]
     },
     "metadata": {
      "needs_background": "light"
     },
     "output_type": "display_data"
    }
   ],
   "source": [
    "all_spans_viz[\"count\"].sort_values(ascending = False).plot.bar(color = \"#8800ff\");\n",
    "plt.title(\"Counts of labels in training data\");"
   ]
  },
  {
   "cell_type": "markdown",
   "metadata": {},
   "source": [
    "> ### The training data is imbalanced, the clear majority of spans are \"Loaded_Language\" and there is a long tail."
   ]
  },
  {
   "cell_type": "markdown",
   "metadata": {},
   "source": [
    "## Visualize mean span length for labels"
   ]
  },
  {
   "cell_type": "code",
   "execution_count": 24,
   "metadata": {},
   "outputs": [
    {
     "data": {
      "image/png": "[encoded data removed]",
      "text/plain": [
       "<Figure size 432x288 with 1 Axes>"
      ]
     },
     "metadata": {
      "needs_background": "light"
     },
     "output_type": "display_data"
    }
   ],
   "source": [
    "all_spans_viz[\"span_len\"].sort_values(ascending = False).plot.bar(color = \"#8800ff\");\n",
    "plt.title(\"Average length of span in training data\");"
   ]
  },
  {
   "cell_type": "markdown",
   "metadata": {},
   "source": [
    "> ### Some types of propaganda are quite long, almost 140 tokens in length."
   ]
  },
  {
   "cell_type": "markdown",
   "metadata": {},
   "source": [
    "## Visualize exact span lengths for labels"
   ]
  },
  {
   "cell_type": "code",
   "execution_count": 25,
   "metadata": {},
   "outputs": [
    {
     "data": {
      "text/plain": [
       "Appeal_to_Authority                   138.96\n",
       "Doubt                                 124.80\n",
       "Causal_Oversimplification             123.98\n",
       "Black-and-White_Fallacy               105.30\n",
       "Appeal_to_fear-prejudice               98.59\n",
       "Whataboutism,Straw_Men,Red_Herring     97.15\n",
       "Bandwagon,Reductio_ad_hitlerum         96.28\n",
       "Flag-Waving                            61.88\n",
       "Exaggeration,Minimisation              44.14\n",
       "Thought-terminating_Cliches            30.47\n",
       "Name_Calling,Labeling                  26.33\n",
       "Slogans                                25.09\n",
       "Loaded_Language                        24.49\n",
       "Repetition                             17.78\n",
       "Name: span_len, dtype: float64"
      ]
     },
     "execution_count": 25,
     "metadata": {},
     "output_type": "execute_result"
    }
   ],
   "source": [
    "round(all_spans_viz[\"span_len\"].sort_values(ascending = False),2)"
   ]
  },
  {
   "cell_type": "markdown",
   "metadata": {},
   "source": [
    "> ### The range for propaganda length is relatively large, a difference of approximately 123 tokens."
   ]
  },
  {
   "cell_type": "markdown",
   "metadata": {},
   "source": [
    "# <span style=\"color:#FF8800\"> Assign labels to spans"
   ]
  },
  {
   "cell_type": "code",
   "execution_count": 26,
   "metadata": {},
   "outputs": [],
   "source": [
    "all_spans_df = all_spans_df.merge(file_num_name_df, on = \"filenumber\") # this is our main df with all span details"
   ]
  },
  {
   "cell_type": "code",
   "execution_count": 27,
   "metadata": {},
   "outputs": [
    {
     "data": {
      "text/html": [
       "<div>\n",
       "<style scoped>\n",
       "    .dataframe tbody tr th:only-of-type {\n",
       "        vertical-align: middle;\n",
       "    }\n",
       "\n",
       "    .dataframe tbody tr th {\n",
       "        vertical-align: top;\n",
       "    }\n",
       "\n",
       "    .dataframe thead th {\n",
       "        text-align: right;\n",
       "    }\n",
       "</style>\n",
       "<table border=\"1\" class=\"dataframe\">\n",
       "  <thead>\n",
       "    <tr style=\"text-align: right;\">\n",
       "      <th></th>\n",
       "      <th>filenumber</th>\n",
       "      <th>label</th>\n",
       "      <th>span_start</th>\n",
       "      <th>span_end</th>\n",
       "      <th>span_len</th>\n",
       "      <th>filename</th>\n",
       "      <th>element_in_list</th>\n",
       "    </tr>\n",
       "  </thead>\n",
       "  <tbody>\n",
       "    <tr>\n",
       "      <th>4982</th>\n",
       "      <td>786731884</td>\n",
       "      <td>Causal_Oversimplification</td>\n",
       "      <td>2462</td>\n",
       "      <td>2574</td>\n",
       "      <td>112</td>\n",
       "      <td>article786731884.txt</td>\n",
       "      <td>133</td>\n",
       "    </tr>\n",
       "    <tr>\n",
       "      <th>1872</th>\n",
       "      <td>732610971</td>\n",
       "      <td>Repetition</td>\n",
       "      <td>200</td>\n",
       "      <td>223</td>\n",
       "      <td>23</td>\n",
       "      <td>article732610971.txt</td>\n",
       "      <td>270</td>\n",
       "    </tr>\n",
       "    <tr>\n",
       "      <th>279</th>\n",
       "      <td>697959084</td>\n",
       "      <td>Thought-terminating_Cliches</td>\n",
       "      <td>2647</td>\n",
       "      <td>2664</td>\n",
       "      <td>17</td>\n",
       "      <td>article697959084.txt</td>\n",
       "      <td>200</td>\n",
       "    </tr>\n",
       "  </tbody>\n",
       "</table>\n",
       "</div>"
      ],
      "text/plain": [
       "      filenumber                        label  span_start  span_end  span_len  \\\n",
       "4982   786731884    Causal_Oversimplification        2462      2574       112   \n",
       "1872   732610971                   Repetition         200       223        23   \n",
       "279    697959084  Thought-terminating_Cliches        2647      2664        17   \n",
       "\n",
       "                  filename  element_in_list  \n",
       "4982  article786731884.txt              133  \n",
       "1872  article732610971.txt              270  \n",
       "279   article697959084.txt              200  "
      ]
     },
     "execution_count": 27,
     "metadata": {},
     "output_type": "execute_result"
    }
   ],
   "source": [
    "all_spans_df.sample(3)"
   ]
  },
  {
   "cell_type": "markdown",
   "metadata": {},
   "source": [
    "> ### Above is a sample of our main DataFrame. We'll use it to set the spaCy char_spans and labels."
   ]
  },
  {
   "cell_type": "code",
   "execution_count": 28,
   "metadata": {},
   "outputs": [],
   "source": [
    "for row in all_spans_df.iterrows():\n",
    "    try:\n",
    "        row_temp = row[1]\n",
    "        docs_as_docs[row_temp[\"element_in_list\"]].char_span(row_temp[\"span_start\"], row_temp[\"span_end\"])._.TRAIN_LABEL = row_temp[\"label\"]\n",
    "    except Exception as e:\n",
    "        pass"
   ]
  },
  {
   "cell_type": "markdown",
   "metadata": {},
   "source": [
    "> ### For each row in the DataFrame we'll attempt to assign the indicated label to the character span.\n",
    "> ### Some of the char_span assignments throw errors. It's a minority of cases (approx. 26) mostly due to missing/wrong spans. This try except is a workaround."
   ]
  },
  {
   "cell_type": "code",
   "execution_count": 29,
   "metadata": {},
   "outputs": [
    {
     "data": {
      "text/plain": [
       "(too good to be true, 'Thought-terminating_Cliches')"
      ]
     },
     "execution_count": 29,
     "metadata": {},
     "output_type": "execute_result"
    }
   ],
   "source": [
    "docs_as_docs[272].char_span(3954, 3973), docs_as_docs[272].char_span(3954, 3973)._.TRAIN_LABEL"
   ]
  },
  {
   "cell_type": "code",
   "execution_count": 30,
   "metadata": {},
   "outputs": [
    {
     "data": {
      "text/plain": [
       "(They [Guardian editors] knew that publishing this story would cause partisan warriors to excitedly spread the story, and that cable news outlets would hyperventilate over it, and that they’d reap the rewards regardless of whether the story turned out to be true or false,\n",
       " 'Doubt')"
      ]
     },
     "execution_count": 30,
     "metadata": {},
     "output_type": "execute_result"
    }
   ],
   "source": [
    "docs_as_docs[64].char_span(8612, 8882), docs_as_docs[64].char_span(8612, 8882)._.TRAIN_LABEL"
   ]
  },
  {
   "cell_type": "code",
   "execution_count": 31,
   "metadata": {},
   "outputs": [
    {
     "data": {
      "text/plain": [
       "(Trump's gut-driven, norm-shattering tenure, 'Name_Calling,Labeling')"
      ]
     },
     "execution_count": 31,
     "metadata": {},
     "output_type": "execute_result"
    }
   ],
   "source": [
    "docs_as_docs[153].char_span(823, 865), docs_as_docs[153].char_span(823, 865)._.TRAIN_LABEL"
   ]
  },
  {
   "cell_type": "markdown",
   "metadata": {},
   "source": [
    "> ### Above are three examples from the spans we've labeled."
   ]
  },
  {
   "cell_type": "markdown",
   "metadata": {},
   "source": [
    "## <span style=\"color:#8800ff\"> Create & label negative spans\n",
    "> ### The training data only contains details on positive spans. The rest of the news article can effectively be treated as negative spans (i.e. segments without propaganda). Since we'll likely want to train our \"downstream\" classifiers on both positive and negative samples we can assign the negative spans with their own label of \"No_Propaganda\". "
   ]
  },
  {
   "cell_type": "code",
   "execution_count": 32,
   "metadata": {},
   "outputs": [],
   "source": [
    "from intervaltree import Interval, IntervalTree"
   ]
  },
  {
   "cell_type": "code",
   "execution_count": 33,
   "metadata": {},
   "outputs": [
    {
     "name": "stdout",
     "output_type": "stream",
     "text": [
      "CPU times: user 4.16 s, sys: 3.06 ms, total: 4.17 s\n",
      "Wall time: 4.16 s\n"
     ]
    }
   ],
   "source": [
    "%%time\n",
    "\n",
    "neg_spans_list = [] # create a list of nested tuples\n",
    "errors = []\n",
    "CONTEXT_WINDOW = 75\n",
    "\n",
    "for entry in all_spans_df[\"element_in_list\"].unique(): # iterate through unique entries in element_in_list\n",
    "    sub_df = all_spans_df[all_spans_df[\"element_in_list\"]==entry] # this is subset of main df containing only entries for the current doc\n",
    "    these_intervals = [(x[1][\"span_start\"], x[1][\"span_end\"]) for x in sub_df.iterrows()] # get intervals\n",
    "    this_tree = IntervalTree.from_tuples(these_intervals) # initialize tree with intervals\n",
    "    \n",
    "    this_doc = docs_as_docs[entry]\n",
    "    START_POINT = CONTEXT_WINDOW # char position we can start from\n",
    "    END_POINT = len(this_doc)-(CONTEXT_WINDOW) # char position we can work up until\n",
    "    for token in range(START_POINT, END_POINT): # for the range of possible center positions of the CONTEXT_WINDOW\n",
    "        if this_tree.overlap(token, token+CONTEXT_WINDOW):\n",
    "            continue\n",
    "        else:\n",
    "            try:\n",
    "                docs_as_docs[entry].char_span(token, token+CONTEXT_WINDOW)._.TRAIN_LABEL = \"No_Propaganda\"\n",
    "                neg_spans_list.append((entry, (token,token+CONTEXT_WINDOW)))\n",
    "            except Exception as e:\n",
    "                errors.append(entry)"
   ]
  },
  {
   "cell_type": "code",
   "execution_count": 34,
   "metadata": {},
   "outputs": [
    {
     "data": {
      "text/plain": [
       "9825"
      ]
     },
     "execution_count": 34,
     "metadata": {},
     "output_type": "execute_result"
    }
   ],
   "source": [
    "len(neg_spans_list)"
   ]
  },
  {
   "cell_type": "markdown",
   "metadata": {},
   "source": [
    "> ### We've created 9,825 negative spans using the training data."
   ]
  },
  {
   "cell_type": "code",
   "execution_count": 35,
   "metadata": {},
   "outputs": [
    {
     "data": {
      "text/plain": [
       "(have been brought under control in Madagascar, but warned the next outbreak,\n",
       " 'No_Propaganda')"
      ]
     },
     "execution_count": 35,
     "metadata": {},
     "output_type": "execute_result"
    }
   ],
   "source": [
    "docs_as_docs[46].char_span(161,236), docs_as_docs[46].char_span(161,236)._.TRAIN_LABEL"
   ]
  },
  {
   "cell_type": "markdown",
   "metadata": {},
   "source": [
    "> ### Above is an example of one of the spans and the label that's been assigned to it."
   ]
  },
  {
   "cell_type": "markdown",
   "metadata": {},
   "source": [
    "## Collect all positive and negative spans"
   ]
  },
  {
   "cell_type": "code",
   "execution_count": 36,
   "metadata": {},
   "outputs": [],
   "source": [
    "full_list = [(docs_as_docs[i[0]].char_span(i[1][0],i[1][1]).text,\"No_Propaganda\") for i in neg_spans_list] # simpler to supply \"No_Propaganda\" label than retrieve it from the char_span"
   ]
  },
  {
   "cell_type": "code",
   "execution_count": 37,
   "metadata": {},
   "outputs": [],
   "source": [
    "for i in all_spans_df.iterrows():\n",
    "    try:\n",
    "        full_list.append((docs_as_docs[i[1][\"element_in_list\"]].char_span(i[1][\"span_start\"],i[1][\"span_end\"]).text, i[1][\"label\"])) # here the labels may be different so better to retrieve it from the char_span\n",
    "    except Exception as e:\n",
    "        pass"
   ]
  },
  {
   "cell_type": "code",
   "execution_count": 38,
   "metadata": {},
   "outputs": [],
   "source": [
    "train_df = pd.DataFrame.from_records(full_list, columns = ['text','label'])\n",
    "train_df[\"label_binary\"] = train_df.apply(lambda x: \"No_Propaganda\" if x[\"label\"] == \"No_Propaganda\" else \"Propaganda\", axis = 1) # create new col that is binary flag of \"propaganda vs no propaganda\""
   ]
  },
  {
   "cell_type": "markdown",
   "metadata": {},
   "source": [
    "## Visualize counts of Propaganda vs. No_Propaganda in training data"
   ]
  },
  {
   "cell_type": "code",
   "execution_count": 39,
   "metadata": {},
   "outputs": [
    {
     "data": {
      "image/png": "[encoded data removed]",
      "text/plain": [
       "<Figure size 432x288 with 1 Axes>"
      ]
     },
     "metadata": {
      "needs_background": "light"
     },
     "output_type": "display_data"
    }
   ],
   "source": [
    "train_df[\"label_binary\"].value_counts().plot.bar(color = \"#8800ff\");\n",
    "plt.title(\"Counts of binary labels in training data\");"
   ]
  },
  {
   "cell_type": "markdown",
   "metadata": {},
   "source": [
    "> ### We have an imbalance in the training data. Is this representative of actual news articles? Propaganda seems overrepresented."
   ]
  },
  {
   "cell_type": "code",
   "execution_count": 40,
   "metadata": {},
   "outputs": [
    {
     "data": {
      "text/plain": [
       "No_Propaganda    9825\n",
       "Propaganda       6103\n",
       "Name: label_binary, dtype: int64"
      ]
     },
     "execution_count": 40,
     "metadata": {},
     "output_type": "execute_result"
    }
   ],
   "source": [
    "train_df[\"label_binary\"].value_counts(normalize=False)"
   ]
  },
  {
   "cell_type": "markdown",
   "metadata": {},
   "source": [
    "> ### <span style=\"color:#8800ff\"> We can increase our training data by 160% 🙂\n",
    "> #### Which is exactly what we'll do in a separate notebook."
   ]
  },
  {
   "cell_type": "markdown",
   "metadata": {},
   "source": [
    "## Exact counts of Propaganda vs. No_Propaganda in training data"
   ]
  },
  {
   "cell_type": "code",
   "execution_count": 41,
   "metadata": {},
   "outputs": [
    {
     "data": {
      "text/plain": [
       "No_Propaganda    61.68\n",
       "Propaganda       38.32\n",
       "Name: label_binary, dtype: float64"
      ]
     },
     "execution_count": 41,
     "metadata": {},
     "output_type": "execute_result"
    }
   ],
   "source": [
    "round(train_df[\"label_binary\"].value_counts(normalize=True)*100,2)"
   ]
  },
  {
   "cell_type": "markdown",
   "metadata": {},
   "source": [
    "> ### <span style=\"color:#8800FF\"> Approximately four out of every ten sentences contains an instance of propaganda. In terms of the training data being representative of an \"average online news article\" this strikes me as far too high. I would expect something more like 0.25 (or fewer) out of every ten sentences containing propaganda however, I have no justification for that number. It's possible that propaganda is more common than I am inclined to think.   \n",
    "> ### <span style=\"color:#8800FF\"> If we wanted to generalize any \"downstream\" classifiers to random news articles it's possible that the classifiers would predict *some* propaganda label more frequently than they should resulting in a higher number of false positives simply due to the training data. However, one clear benefit of this approach, as opposed to collecting new negative samples on our own, is that we can be highly confident that the negative samples are truly negative samples. If we collected our own news articles at random we'd likely have some instances of actual propaganda labeled as \"No_Propaganda\"."
   ]
  },
  {
   "cell_type": "markdown",
   "metadata": {},
   "source": [
    "## Visualize counts of all labels in training data"
   ]
  },
  {
   "cell_type": "code",
   "execution_count": 42,
   "metadata": {},
   "outputs": [
    {
     "data": {
      "image/png": "[encoded data removed]",
      "text/plain": [
       "<Figure size 432x288 with 1 Axes>"
      ]
     },
     "metadata": {
      "needs_background": "light"
     },
     "output_type": "display_data"
    }
   ],
   "source": [
    "train_df[\"label\"].value_counts().plot.bar(color = \"#8800ff\");\n",
    "plt.title(\"Counts of labels in training data\");"
   ]
  },
  {
   "cell_type": "markdown",
   "metadata": {},
   "source": [
    "> ### Majority of spans don't contain propaganda and there is a long tail."
   ]
  },
  {
   "cell_type": "markdown",
   "metadata": {},
   "source": [
    "## Proportions for all labels in training data"
   ]
  },
  {
   "cell_type": "code",
   "execution_count": 43,
   "metadata": {},
   "outputs": [
    {
     "data": {
      "text/plain": [
       "No_Propaganda                         61.68\n",
       "Loaded_Language                       13.28\n",
       "Name_Calling,Labeling                  6.62\n",
       "Repetition                             3.88\n",
       "Doubt                                  3.08\n",
       "Exaggeration,Minimisation              2.92\n",
       "Appeal_to_fear-prejudice               1.83\n",
       "Flag-Waving                            1.43\n",
       "Causal_Oversimplification              1.31\n",
       "Appeal_to_Authority                    0.89\n",
       "Slogans                                0.81\n",
       "Whataboutism,Straw_Men,Red_Herring     0.68\n",
       "Black-and-White_Fallacy                0.67\n",
       "Thought-terminating_Cliches            0.47\n",
       "Bandwagon,Reductio_ad_hitlerum         0.45\n",
       "Name: label, dtype: float64"
      ]
     },
     "execution_count": 43,
     "metadata": {},
     "output_type": "execute_result"
    }
   ],
   "source": [
    "round(train_df[\"label\"].value_counts(normalize=True)*100,2)"
   ]
  },
  {
   "cell_type": "markdown",
   "metadata": {},
   "source": [
    "> ### Most positive labels are quite rare individually accounting for much less than 5% of the data."
   ]
  },
  {
   "cell_type": "markdown",
   "metadata": {},
   "source": [
    "# <span style=\"color:#FF8800\"> Compare linguistic features of positive and negative spans\n",
    "> ### As a final step in our exploratory data analysis we'll check some linguistic features of the positive and negative spans to see how they compare."
   ]
  },
  {
   "cell_type": "code",
   "execution_count": 44,
   "metadata": {},
   "outputs": [],
   "source": [
    "import textstat\n",
    "\n",
    "train_df[\"sent_count\"] = train_df.apply(lambda x: textstat.sentence_count(x[\"text\"]), axis = 1) # number of sentences in span\n",
    "train_df[\"flesch_reading\"] = train_df.apply(lambda x: textstat.flesch_reading_ease(x[\"text\"]), axis = 1) # Flesch reading ease score, higher is easier to read\n",
    "train_df[\"difficult_words\"] = train_df.apply(lambda x: textstat.difficult_words(x[\"text\"]), axis = 1) # count of words with 2 or more syllables, seems like low threshold\n",
    "train_df[\"read_index\"] = train_df.apply(lambda x: textstat.automated_readability_index(x[\"text\"]), axis = 1) # approximates the grade level needed to comprehend the text\n",
    "train_df[\"syllable_count\"] = train_df.apply(lambda x: textstat.syllable_count(x[\"text\"]), axis = 1) # count of the number of syllables in the given text\n",
    "train_df[\"text_standard\"] = train_df.apply(lambda x: textstat.text_standard(x[\"text\"], float_output = True), axis = 1) # combines a number of readability scores, the estimated school grade level to understand text\n",
    "train_df[\"text_len\"] = train_df.apply(lambda x: len(x[\"text\"]), axis=1) # the length of the text"
   ]
  },
  {
   "cell_type": "code",
   "execution_count": 45,
   "metadata": {},
   "outputs": [
    {
     "data": {
      "text/html": [
       "<div>\n",
       "<style scoped>\n",
       "    .dataframe tbody tr th:only-of-type {\n",
       "        vertical-align: middle;\n",
       "    }\n",
       "\n",
       "    .dataframe tbody tr th {\n",
       "        vertical-align: top;\n",
       "    }\n",
       "\n",
       "    .dataframe thead th {\n",
       "        text-align: right;\n",
       "    }\n",
       "</style>\n",
       "<table border=\"1\" class=\"dataframe\">\n",
       "  <thead>\n",
       "    <tr style=\"text-align: right;\">\n",
       "      <th>label_binary</th>\n",
       "      <th>No_Propaganda</th>\n",
       "      <th>Propaganda</th>\n",
       "    </tr>\n",
       "  </thead>\n",
       "  <tbody>\n",
       "    <tr>\n",
       "      <th>sent_count</th>\n",
       "      <td>1.2</td>\n",
       "      <td>1.1</td>\n",
       "    </tr>\n",
       "    <tr>\n",
       "      <th>flesch_reading</th>\n",
       "      <td>67.2</td>\n",
       "      <td>44.5</td>\n",
       "    </tr>\n",
       "    <tr>\n",
       "      <th>difficult_words</th>\n",
       "      <td>3.2</td>\n",
       "      <td>2.2</td>\n",
       "    </tr>\n",
       "    <tr>\n",
       "      <th>read_index</th>\n",
       "      <td>8.3</td>\n",
       "      <td>10.7</td>\n",
       "    </tr>\n",
       "    <tr>\n",
       "      <th>syllable_count</th>\n",
       "      <td>18.8</td>\n",
       "      <td>12.6</td>\n",
       "    </tr>\n",
       "    <tr>\n",
       "      <th>text_standard</th>\n",
       "      <td>7.8</td>\n",
       "      <td>7.9</td>\n",
       "    </tr>\n",
       "    <tr>\n",
       "      <th>text_len</th>\n",
       "      <td>75.0</td>\n",
       "      <td>48.3</td>\n",
       "    </tr>\n",
       "  </tbody>\n",
       "</table>\n",
       "</div>"
      ],
      "text/plain": [
       "label_binary     No_Propaganda  Propaganda\n",
       "sent_count                 1.2         1.1\n",
       "flesch_reading            67.2        44.5\n",
       "difficult_words            3.2         2.2\n",
       "read_index                 8.3        10.7\n",
       "syllable_count            18.8        12.6\n",
       "text_standard              7.8         7.9\n",
       "text_len                  75.0        48.3"
      ]
     },
     "execution_count": 45,
     "metadata": {},
     "output_type": "execute_result"
    }
   ],
   "source": [
    "text_stats = round(train_df.groupby(\"label_binary\").mean(),1)\n",
    "text_stats.T"
   ]
  },
  {
   "cell_type": "markdown",
   "metadata": {},
   "source": [
    "> ### <span style=\"color:#8800ff\"> We can see that texts featuring propaganda are shorter (text_len), more difficult to read (flesch_reading, lower is harder to understand), and contain fewer syllables (syllable_count) than texts without propaganda."
   ]
  },
  {
   "cell_type": "markdown",
   "metadata": {},
   "source": [
    "# <span style=\"color:#FF8800\"> END"
   ]
  }
 ],
 "metadata": {
  "kernelspec": {
   "display_name": "Python 3",
   "language": "python",
   "name": "python3"
  },
  "language_info": {
   "codemirror_mode": {
    "name": "ipython",
    "version": 3
   },
   "file_extension": ".py",
   "mimetype": "text/x-python",
   "name": "python",
   "nbconvert_exporter": "python",
   "pygments_lexer": "ipython3",
   "version": "3.6.9"
  }
 },
 "nbformat": 4,
 "nbformat_minor": 4
}
