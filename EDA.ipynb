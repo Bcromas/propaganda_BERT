{
 "cells": [
  {
   "cell_type": "code",
   "execution_count": 1,
   "metadata": {},
   "outputs": [],
   "source": [
    "import os\n",
    "import pandas as pd\n",
    "import spacy"
   ]
  },
  {
   "cell_type": "code",
   "execution_count": 2,
   "metadata": {},
   "outputs": [],
   "source": [
    "PATH = \"/home/bryan/Documents/Code/si630/semeval/datasets/train-articles/\""
   ]
  },
  {
   "cell_type": "code",
   "execution_count": 3,
   "metadata": {},
   "outputs": [],
   "source": [
    "filenames = []\n",
    "for root, dirs, files in os.walk(PATH, topdown=True):\n",
    "    filenames = files"
   ]
  },
  {
   "cell_type": "code",
   "execution_count": 4,
   "metadata": {},
   "outputs": [],
   "source": [
    "nlp = spacy.load(\"en_core_web_sm\", disable=[\"ner\"]) #can also disable components at load, nlp = spacy.load(\"en_core_web_sm\", disable=[\"tagger\", \"parser\"])"
   ]
  },
  {
   "cell_type": "code",
   "execution_count": 5,
   "metadata": {},
   "outputs": [],
   "source": [
    "texts = [] #create a single string for each doc & add to list\n",
    "text_to_num = []\n",
    "counter = 0\n",
    "for name in filenames:\n",
    "    text_to_num.append((counter,name))\n",
    "    counter += 1\n",
    "    with open(PATH+name) as f:\n",
    "        text = f.read()\n",
    "        texts.append(text)"
   ]
  },
  {
   "cell_type": "code",
   "execution_count": 6,
   "metadata": {},
   "outputs": [
    {
     "name": "stdout",
     "output_type": "stream",
     "text": [
      "CPU times: user 19.5 s, sys: 5.72 s, total: 25.2 s\n",
      "Wall time: 25.2 s\n"
     ]
    }
   ],
   "source": [
    "%%time\n",
    "\n",
    "docs_as_sents = []\n",
    "for doc in nlp.pipe(texts): #can also disable components here (processing) using disable=[\"tagger\", \"parser\", \"ner\"] # print(nlp.pipe_names) #can check which components of pipe are enabled\n",
    "    docs_as_sents.append([sentence for sentence in doc.sents]) #produces list of lists where elements are separate sentences in doc"
   ]
  },
  {
   "cell_type": "code",
   "execution_count": 7,
   "metadata": {},
   "outputs": [],
   "source": [
    "#hist of length of sentence in doc\n",
    "sent_lens = []\n",
    "for i in docs_as_sents:\n",
    "    for j in i:\n",
    "        sent_lens.append(len(j))"
   ]
  },
  {
   "cell_type": "code",
   "execution_count": 8,
   "metadata": {},
   "outputs": [],
   "source": [
    "import matplotlib.pyplot as plt\n",
    "import numpy as np"
   ]
  },
  {
   "cell_type": "code",
   "execution_count": 9,
   "metadata": {},
   "outputs": [
    {
     "name": "stdout",
     "output_type": "stream",
     "text": [
      "The mean number of words in a sentence is: 21.7\n"
     ]
    },
    {
     "data": {
      "image/png": "[encoded data removed]",
      "text/plain": [
       "<Figure size 432x288 with 1 Axes>"
      ]
     },
     "metadata": {
      "needs_background": "light"
     },
     "output_type": "display_data"
    }
   ],
   "source": [
    "plt.hist(x=sent_lens, bins = 20, range = (0,100)); #excluding some positive outliers\n",
    "plt.xlabel(\"Word count in sentence\")\n",
    "plt.ylabel(\"Frequency count in corpus\")\n",
    "plt.axvline(x=np.mean(sent_lens), color=\"r\")\n",
    "plt.axvline(x=np.median(sent_lens), color=\"orange\")\n",
    "plt.title(label = \"Length of sentences in docs\");\n",
    "print(f\"The mean number of words in a sentence is: {round(np.mean(sent_lens),2)}\")"
   ]
  },
  {
   "cell_type": "code",
   "execution_count": 10,
   "metadata": {},
   "outputs": [],
   "source": [
    "#hist of number of sentences in docs\n",
    "sents_in_docs = []\n",
    "for i in docs_as_sents:\n",
    "    sents_in_docs.append(len(i))"
   ]
  },
  {
   "cell_type": "code",
   "execution_count": 11,
   "metadata": {},
   "outputs": [
    {
     "name": "stdout",
     "output_type": "stream",
     "text": [
      "The mean number of sentences in a doc is: 51.95\n"
     ]
    },
    {
     "data": {
      "image/png": "[encoded data removed]",
      "text/plain": [
       "<Figure size 432x288 with 1 Axes>"
      ]
     },
     "metadata": {
      "needs_background": "light"
     },
     "output_type": "display_data"
    }
   ],
   "source": [
    "plt.hist(x=sents_in_docs, bins = 20, range = (0, 300)); #excluding some positive outliers\n",
    "plt.xlabel(\"Count of sentences in docs\")\n",
    "plt.ylabel(\"Frequency count in corpus\")\n",
    "plt.axvline(x=np.mean(sents_in_docs), color=\"r\")\n",
    "plt.axvline(x=np.median(sents_in_docs), color=\"orange\")\n",
    "plt.title(label = \"Number of sentences in docs\");\n",
    "print(f\"The mean number of sentences in a doc is: {round(np.mean(sents_in_docs),2)}\")"
   ]
  },
  {
   "cell_type": "code",
   "execution_count": 12,
   "metadata": {},
   "outputs": [],
   "source": [
    "from spacy.tokens import Doc, Token, Span\n",
    "# Span.set_extension(\"TRAIN_LABEL\", default = \"No_Label\", force = True)\n",
    "Span.set_extension(\"TRAIN_LABEL\", default = \"No_Label\")"
   ]
  },
  {
   "cell_type": "code",
   "execution_count": 13,
   "metadata": {},
   "outputs": [
    {
     "name": "stdout",
     "output_type": "stream",
     "text": [
      "CPU times: user 17.6 s, sys: 5.58 s, total: 23.2 s\n",
      "Wall time: 23.2 s\n"
     ]
    }
   ],
   "source": [
    "%%time\n",
    "\n",
    "docs_as_docs = []\n",
    "for doc in nlp.pipe(texts):\n",
    "    docs_as_docs.append(doc)"
   ]
  },
  {
   "cell_type": "code",
   "execution_count": 14,
   "metadata": {},
   "outputs": [],
   "source": [
    "#create list of tuples of file name/number to element num & then convert to df\n",
    "MAP_NUM_TO_NAME_df = pd.DataFrame(text_to_num, columns = [\"element_in_list\", \"filename\"])"
   ]
  },
  {
   "cell_type": "code",
   "execution_count": 15,
   "metadata": {},
   "outputs": [],
   "source": [
    "import re"
   ]
  },
  {
   "cell_type": "code",
   "execution_count": 16,
   "metadata": {},
   "outputs": [],
   "source": [
    "MAP_NUM_TO_NAME_df[\"filenumber\"] = MAP_NUM_TO_NAME_df.apply(lambda x: int(re.findall(\"\\d+\", x[\"filename\"])[0]), axis=1)\n",
    "MAP_NUM_TO_NAME_df = MAP_NUM_TO_NAME_df[[\"filenumber\",\"filename\",\"element_in_list\"]]"
   ]
  },
  {
   "cell_type": "code",
   "execution_count": 17,
   "metadata": {},
   "outputs": [],
   "source": [
    "TRAIN_LABELS = \"/home/bryan/Documents/Code/si630/semeval/datasets/train-task2-TC.labels\""
   ]
  },
  {
   "cell_type": "code",
   "execution_count": 18,
   "metadata": {},
   "outputs": [],
   "source": [
    "ALL_SPANS = pd.read_csv(TRAIN_LABELS, sep = \"\\t\", header = None, names = [\"filenumber\",\"label\",\"span_start\",\"span_end\"])"
   ]
  },
  {
   "cell_type": "code",
   "execution_count": 19,
   "metadata": {},
   "outputs": [],
   "source": [
    "ALL_SPANS[\"span_len\"] = ALL_SPANS.apply(lambda x: x[\"span_end\"]-x[\"span_start\"], axis=1)"
   ]
  },
  {
   "cell_type": "code",
   "execution_count": 20,
   "metadata": {},
   "outputs": [],
   "source": [
    "all_spans_viz = pd.DataFrame(ALL_SPANS.groupby(\"label\").mean()[\"span_len\"]) #mean len of class/label  "
   ]
  },
  {
   "cell_type": "code",
   "execution_count": 21,
   "metadata": {},
   "outputs": [],
   "source": [
    "temp_df = pd.DataFrame(data = ALL_SPANS[\"label\"].value_counts()) #class/label counts"
   ]
  },
  {
   "cell_type": "code",
   "execution_count": 22,
   "metadata": {},
   "outputs": [],
   "source": [
    "all_spans_viz = all_spans_viz.merge(temp_df, left_index=True, right_index=True)\n",
    "all_spans_viz.rename(columns = {\"label\":\"count\"}, inplace = True)"
   ]
  },
  {
   "cell_type": "code",
   "execution_count": 23,
   "metadata": {},
   "outputs": [
    {
     "data": {
      "image/png": "[encoded data removed]",
      "text/plain": [
       "<Figure size 432x288 with 1 Axes>"
      ]
     },
     "metadata": {
      "needs_background": "light"
     },
     "output_type": "display_data"
    }
   ],
   "source": [
    "all_spans_viz[\"count\"].sort_values(ascending = False).plot.bar();\n",
    "plt.title(\"Counts of labels in training data\");"
   ]
  },
  {
   "cell_type": "code",
   "execution_count": 24,
   "metadata": {},
   "outputs": [
    {
     "data": {
      "text/plain": [
       "Appeal_to_Authority                   138.958333\n",
       "Doubt                                 124.797160\n",
       "Causal_Oversimplification             123.980861\n",
       "Black-and-White_Fallacy               105.299065\n",
       "Appeal_to_fear-prejudice               98.585034\n",
       "Whataboutism,Straw_Men,Red_Herring     97.148148\n",
       "Bandwagon,Reductio_ad_hitlerum         96.277778\n",
       "Flag-Waving                            61.882096\n",
       "Exaggeration,Minimisation              44.141631\n",
       "Thought-terminating_Cliches            30.473684\n",
       "Name_Calling,Labeling                  26.327032\n",
       "Slogans                                25.093023\n",
       "Loaded_Language                        24.486576\n",
       "Repetition                             17.784219\n",
       "Name: span_len, dtype: float64"
      ]
     },
     "execution_count": 24,
     "metadata": {},
     "output_type": "execute_result"
    }
   ],
   "source": [
    "all_spans_viz[\"span_len\"].sort_values(ascending = False)"
   ]
  },
  {
   "cell_type": "code",
   "execution_count": 25,
   "metadata": {},
   "outputs": [
    {
     "data": {
      "image/png": "[encoded data removed]",
      "text/plain": [
       "<Figure size 432x288 with 1 Axes>"
      ]
     },
     "metadata": {
      "needs_background": "light"
     },
     "output_type": "display_data"
    }
   ],
   "source": [
    "all_spans_viz[\"span_len\"].sort_values(ascending = False).plot.bar();\n",
    "plt.title(\"Average length of span in training data\");"
   ]
  },
  {
   "cell_type": "markdown",
   "metadata": {},
   "source": [
    "## Assign labels to positive training examples"
   ]
  },
  {
   "cell_type": "code",
   "execution_count": 26,
   "metadata": {},
   "outputs": [],
   "source": [
    "ALL_SPANS_MAP = ALL_SPANS.merge(MAP_NUM_TO_NAME_df, on = \"filenumber\")"
   ]
  },
  {
   "cell_type": "code",
   "execution_count": 27,
   "metadata": {},
   "outputs": [],
   "source": [
    "#currently there are 26 errors, mostly due to missing/wrong spans\n",
    "for row in ALL_SPANS_MAP.iterrows():\n",
    "    try:\n",
    "        row_temp = row[1]\n",
    "        docs_as_docs[row_temp[\"element_in_list\"]].char_span(row_temp[\"span_start\"], row_temp[\"span_end\"])._.TRAIN_LABEL = row_temp[\"label\"]\n",
    "    except Exception as e:\n",
    "        pass"
   ]
  },
  {
   "cell_type": "markdown",
   "metadata": {},
   "source": [
    "# Create & label negative training spans"
   ]
  },
  {
   "cell_type": "code",
   "execution_count": 28,
   "metadata": {},
   "outputs": [
    {
     "name": "stdout",
     "output_type": "stream",
     "text": [
      "CPU times: user 4.47 s, sys: 4.9 ms, total: 4.48 s\n",
      "Wall time: 4.63 s\n"
     ]
    }
   ],
   "source": [
    "%%time\n",
    "\n",
    "from intervaltree import Interval, IntervalTree\n",
    "\n",
    "ALL_NEG_SPANS = []\n",
    "errors = []\n",
    "CONTEXT_WINDOW = 75 #size of one half of context window\n",
    "\n",
    "# for a unique value in element_in_list\n",
    "for i in ALL_SPANS_MAP[\"element_in_list\"].unique(): #iterate through unique entries in element_in_list\n",
    "    sub_df = ALL_SPANS_MAP[ALL_SPANS_MAP[\"element_in_list\"]==i] #this is subset of main df containing only entries for the current doc\n",
    "    these_intervals = [(x[1][\"span_start\"], x[1][\"span_end\"]) for x in sub_df.iterrows()] #get intervals\n",
    "    this_tree = IntervalTree.from_tuples(these_intervals) #initialize tree with intervals\n",
    "    \n",
    "    this_doc = docs_as_docs[i]\n",
    "    START_POINT = CONTEXT_WINDOW #char position we can start from # start_point = int(math.fabs(min(context_window))) \n",
    "    END_POINT = len(this_doc)-(CONTEXT_WINDOW) #char position we can work up until # end_point = len(docs_as_docs[13])-(max(max(context_window),0))\n",
    "    for j in range(START_POINT, END_POINT): #for the range of possible center positions of the CONTEXT_WINDOW\n",
    "        if this_tree.overlap(j, j+CONTEXT_WINDOW):\n",
    "            continue\n",
    "        else:\n",
    "            try:\n",
    "                docs_as_docs[i].char_span(j, j+CONTEXT_WINDOW)._.TRAIN_LABEL = \"\"\n",
    "                ALL_NEG_SPANS.append((i, (j,j+CONTEXT_WINDOW)))\n",
    "            except Exception as e:\n",
    "                errors.append(i)"
   ]
  },
  {
   "cell_type": "markdown",
   "metadata": {},
   "source": [
    "## Create training dataframe"
   ]
  },
  {
   "cell_type": "code",
   "execution_count": 29,
   "metadata": {},
   "outputs": [],
   "source": [
    "full_list = [(docs_as_docs[i[0]].char_span(i[1][0],i[1][1]).text,\"No_Propaganda\") for i in ALL_NEG_SPANS]"
   ]
  },
  {
   "cell_type": "code",
   "execution_count": 30,
   "metadata": {},
   "outputs": [],
   "source": [
    "for i in ALL_SPANS_MAP.iterrows():\n",
    "    try:\n",
    "        full_list.append((docs_as_docs[i[1][\"element_in_list\"]].char_span(i[1][\"span_start\"],i[1][\"span_end\"]).text, i[1][\"label\"]))\n",
    "    except Exception as e:\n",
    "        pass"
   ]
  },
  {
   "cell_type": "code",
   "execution_count": 31,
   "metadata": {},
   "outputs": [],
   "source": [
    "train_df = pd.DataFrame.from_records(full_list, columns =['text','label'])"
   ]
  },
  {
   "cell_type": "code",
   "execution_count": 32,
   "metadata": {},
   "outputs": [],
   "source": [
    "# create new col that is binary flag of \"propaganda vs no propaganda\"\n",
    "train_df[\"label_binary\"] = train_df.apply(lambda x: \"No_Propaganda\" if x[\"label\"]==\"No_Propaganda\" else \"Propaganda\", axis=1)"
   ]
  },
  {
   "cell_type": "code",
   "execution_count": 33,
   "metadata": {},
   "outputs": [
    {
     "data": {
      "image/png": "[encoded data removed]",
      "text/plain": [
       "<Figure size 432x288 with 1 Axes>"
      ]
     },
     "metadata": {
      "needs_background": "light"
     },
     "output_type": "display_data"
    }
   ],
   "source": [
    "train_df[\"label_binary\"].value_counts().plot.bar();\n",
    "plt.title(\"Counts of binary labels in training data\");"
   ]
  },
  {
   "cell_type": "code",
   "execution_count": 34,
   "metadata": {},
   "outputs": [
    {
     "data": {
      "text/plain": [
       "No_Propaganda    61.683827\n",
       "Propaganda       38.316173\n",
       "Name: label_binary, dtype: float64"
      ]
     },
     "execution_count": 34,
     "metadata": {},
     "output_type": "execute_result"
    }
   ],
   "source": [
    "train_df[\"label_binary\"].value_counts(normalize=True)*100"
   ]
  },
  {
   "cell_type": "code",
   "execution_count": 35,
   "metadata": {},
   "outputs": [
    {
     "data": {
      "image/png": "[encoded data removed]",
      "text/plain": [
       "<Figure size 432x288 with 1 Axes>"
      ]
     },
     "metadata": {
      "needs_background": "light"
     },
     "output_type": "display_data"
    }
   ],
   "source": [
    "train_df[\"label\"].value_counts().plot.bar();\n",
    "plt.title(\"Counts of labels in training data\");"
   ]
  },
  {
   "cell_type": "code",
   "execution_count": 36,
   "metadata": {},
   "outputs": [
    {
     "data": {
      "text/plain": [
       "No_Propaganda                         61.683827\n",
       "Loaded_Language                       13.278503\n",
       "Name_Calling,Labeling                  6.617278\n",
       "Repetition                             3.879960\n",
       "Doubt                                  3.076344\n",
       "Exaggeration,Minimisation              2.919387\n",
       "Appeal_to_fear-prejudice               1.833250\n",
       "Flag-Waving                            1.431441\n",
       "Causal_Oversimplification              1.305876\n",
       "Appeal_to_Authority                    0.891512\n",
       "Slogans                                0.809895\n",
       "Whataboutism,Straw_Men,Red_Herring     0.678051\n",
       "Black-and-White_Fallacy                0.671773\n",
       "Thought-terminating_Cliches            0.470869\n",
       "Bandwagon,Reductio_ad_hitlerum         0.452034\n",
       "Name: label, dtype: float64"
      ]
     },
     "execution_count": 36,
     "metadata": {},
     "output_type": "execute_result"
    }
   ],
   "source": [
    "train_df[\"label\"].value_counts(normalize=True)*100"
   ]
  },
  {
   "cell_type": "code",
   "execution_count": 37,
   "metadata": {},
   "outputs": [],
   "source": [
    "import textstat\n",
    "\n",
    "train_df[\"sent_count\"] = train_df.apply(lambda x: textstat.sentence_count(x[\"text\"]), axis=1)\n",
    "train_df[\"flesch_reading\"] = train_df.apply(lambda x: textstat.flesch_reading_ease(x[\"text\"]), axis=1)\n",
    "train_df[\"difficult_words\"] = train_df.apply(lambda x: textstat.difficult_words(x[\"text\"]), axis=1)\n",
    "train_df[\"read_index\"] = train_df.apply(lambda x: textstat.automated_readability_index(x[\"text\"]), axis=1)\n",
    "train_df[\"syllable_count\"] = train_df.apply(lambda x: textstat.syllable_count(x[\"text\"]), axis=1)\n",
    "train_df[\"text_standard\"] = train_df.apply(lambda x: textstat.text_standard(x[\"text\"], float_output=True), axis=1)\n",
    "\n",
    "train_df[\"text_len\"] = train_df.apply(lambda x: len(x[\"text\"]), axis=1)"
   ]
  },
  {
   "cell_type": "code",
   "execution_count": 38,
   "metadata": {},
   "outputs": [
    {
     "data": {
      "text/html": [
       "<div>\n",
       "<style scoped>\n",
       "    .dataframe tbody tr th:only-of-type {\n",
       "        vertical-align: middle;\n",
       "    }\n",
       "\n",
       "    .dataframe tbody tr th {\n",
       "        vertical-align: top;\n",
       "    }\n",
       "\n",
       "    .dataframe thead th {\n",
       "        text-align: right;\n",
       "    }\n",
       "</style>\n",
       "<table border=\"1\" class=\"dataframe\">\n",
       "  <thead>\n",
       "    <tr style=\"text-align: right;\">\n",
       "      <th>label_binary</th>\n",
       "      <th>No_Propaganda</th>\n",
       "      <th>Propaganda</th>\n",
       "    </tr>\n",
       "  </thead>\n",
       "  <tbody>\n",
       "    <tr>\n",
       "      <th>sent_count</th>\n",
       "      <td>1.2</td>\n",
       "      <td>1.1</td>\n",
       "    </tr>\n",
       "    <tr>\n",
       "      <th>flesch_reading</th>\n",
       "      <td>67.2</td>\n",
       "      <td>44.5</td>\n",
       "    </tr>\n",
       "    <tr>\n",
       "      <th>difficult_words</th>\n",
       "      <td>3.2</td>\n",
       "      <td>2.2</td>\n",
       "    </tr>\n",
       "    <tr>\n",
       "      <th>read_index</th>\n",
       "      <td>8.3</td>\n",
       "      <td>10.7</td>\n",
       "    </tr>\n",
       "    <tr>\n",
       "      <th>syllable_count</th>\n",
       "      <td>18.8</td>\n",
       "      <td>12.6</td>\n",
       "    </tr>\n",
       "    <tr>\n",
       "      <th>text_standard</th>\n",
       "      <td>7.8</td>\n",
       "      <td>7.9</td>\n",
       "    </tr>\n",
       "    <tr>\n",
       "      <th>text_len</th>\n",
       "      <td>75.0</td>\n",
       "      <td>48.3</td>\n",
       "    </tr>\n",
       "  </tbody>\n",
       "</table>\n",
       "</div>"
      ],
      "text/plain": [
       "label_binary     No_Propaganda  Propaganda\n",
       "sent_count                 1.2         1.1\n",
       "flesch_reading            67.2        44.5\n",
       "difficult_words            3.2         2.2\n",
       "read_index                 8.3        10.7\n",
       "syllable_count            18.8        12.6\n",
       "text_standard              7.8         7.9\n",
       "text_len                  75.0        48.3"
      ]
     },
     "execution_count": 38,
     "metadata": {},
     "output_type": "execute_result"
    }
   ],
   "source": [
    "this = round(train_df.groupby(\"label_binary\").mean(),1)\n",
    "this.T"
   ]
  },
  {
   "cell_type": "markdown",
   "metadata": {},
   "source": [
    "#### Function for printing results"
   ]
  },
  {
   "cell_type": "code",
   "execution_count": 39,
   "metadata": {},
   "outputs": [],
   "source": [
    "from sklearn import metrics\n",
    "\n",
    "def evaluation_analysis(true_label,predicted): \n",
    "    '''\n",
    "    return all metrics results\n",
    "    '''\n",
    "    print(\"accuracy\",metrics.accuracy_score(true_label, predicted))\n",
    "    print(\"f1 score macro\",metrics.f1_score(true_label, predicted, average='macro'))     \n",
    "    print(\"f1 score micro\",metrics.f1_score(true_label, predicted, average='micro')) \n",
    "    print(\"precision score\",metrics.precision_score(true_label, predicted, average='macro')) \n",
    "    print(\"recall score\",metrics.recall_score(true_label, predicted, average='macro')) \n",
    "    print(\"hamming_loss\",metrics.hamming_loss(true_label, predicted))\n",
    "    print(\"\\n\")\n",
    "    print(\"classification_report\", metrics.classification_report(true_label, predicted))\n",
    "    print(\"jaccard_similarity_score\", metrics.jaccard_score(true_label, predicted, average=\"weighted\"))\n",
    "\n",
    "#     print(\"log_loss\", metrics.log_loss(true_label, predicted))\n",
    "    print(\"zero_one_loss\", metrics.zero_one_loss(true_label, predicted))\n",
    "#     print(\"AUC&ROC\",metrics.roc_auc_score(true_label, predicted))\n",
    "    print(\"matthews_corrcoef\", metrics.matthews_corrcoef(true_label, predicted)) "
   ]
  },
  {
   "cell_type": "markdown",
   "metadata": {},
   "source": [
    "## Train Test Split"
   ]
  },
  {
   "cell_type": "code",
   "execution_count": 40,
   "metadata": {},
   "outputs": [],
   "source": [
    "from sklearn.model_selection import train_test_split"
   ]
  },
  {
   "cell_type": "code",
   "execution_count": 41,
   "metadata": {},
   "outputs": [],
   "source": [
    "X_train, X_test, y_train, y_test = train_test_split(\n",
    "    train_df[[\"text\", 'text_len', 'sent_count',\n",
    "       'flesch_reading', 'difficult_words', 'read_index', \n",
    "              'syllable_count','text_standard']], \n",
    "    train_df[\"label_binary\"], \n",
    "    train_size = 0.7, \n",
    "    random_state = 3, \n",
    "    shuffle = True, \n",
    "    stratify=train_df[\"label_binary\"]) #use stratify here to ensure proportions of labels are maintained"
   ]
  },
  {
   "cell_type": "markdown",
   "metadata": {},
   "source": [
    "## Transform features"
   ]
  },
  {
   "cell_type": "code",
   "execution_count": 42,
   "metadata": {},
   "outputs": [],
   "source": [
    "from sklearn.feature_extraction.text import TfidfVectorizer\n",
    "\n",
    "word_vectorizer = TfidfVectorizer(strip_accents = \"unicode\", lowercase = True, \n",
    "                             stop_words = \"english\", analyzer = \"word\", token_pattern = \"[a-z]+\", smooth_idf = True, ngram_range=(1,3))"
   ]
  },
  {
   "cell_type": "code",
   "execution_count": 43,
   "metadata": {},
   "outputs": [],
   "source": [
    "from sklearn.compose import ColumnTransformer\n",
    "\n",
    "column_trans = ColumnTransformer([('tfidf', word_vectorizer, 'text')], remainder=\"passthrough\")\n",
    "\n",
    "train_transformed = column_trans.fit_transform(X_train)\n",
    "test_transformed = column_trans.transform(X_test)\n",
    "\n",
    "# to use just tf-idf\n",
    "# train_transformed = word_vectorizer.fit_transform(X_train)\n",
    "# test_transformed = word_vectorizer.transform(X_test)"
   ]
  },
  {
   "cell_type": "markdown",
   "metadata": {},
   "source": [
    "### DummyClassifier"
   ]
  },
  {
   "cell_type": "code",
   "execution_count": 44,
   "metadata": {},
   "outputs": [],
   "source": [
    "from sklearn.dummy import DummyClassifier\n",
    "from sklearn.model_selection import GridSearchCV"
   ]
  },
  {
   "cell_type": "code",
   "execution_count": 51,
   "metadata": {},
   "outputs": [
    {
     "data": {
      "text/plain": [
       "GridSearchCV(cv=10, error_score=nan,\n",
       "             estimator=DummyClassifier(constant=None, random_state=8,\n",
       "                                       strategy='stratified'),\n",
       "             iid='deprecated', n_jobs=None,\n",
       "             param_grid=[{'strategy': ['stratified']}], pre_dispatch='2*n_jobs',\n",
       "             refit=True, return_train_score=False, scoring=None, verbose=0)"
      ]
     },
     "execution_count": 51,
     "metadata": {},
     "output_type": "execute_result"
    }
   ],
   "source": [
    "dummy = DummyClassifier(strategy = \"stratified\", random_state = 8)\n",
    "\n",
    "# dummy_param_grid = [{\"strategy\": [\"stratified\", \"most_frequent\",\"prior\"]\n",
    "#               }]\n",
    "dummy_param_grid = [{\"strategy\": [\"stratified\"]\n",
    "              }]\n",
    "dummy_gs = GridSearchCV(\n",
    "    estimator = dummy,\n",
    "    param_grid = dummy_param_grid,\n",
    "    cv=10\n",
    ")\n",
    "dummy_gs.fit(train_transformed, y_train)"
   ]
  },
  {
   "cell_type": "code",
   "execution_count": 52,
   "metadata": {},
   "outputs": [
    {
     "data": {
      "text/plain": [
       "DummyClassifier(constant=None, random_state=8, strategy='stratified')"
      ]
     },
     "execution_count": 52,
     "metadata": {},
     "output_type": "execute_result"
    }
   ],
   "source": [
    "dummy_gs.best_estimator_"
   ]
  },
  {
   "cell_type": "code",
   "execution_count": 53,
   "metadata": {},
   "outputs": [
    {
     "data": {
      "text/plain": [
       "array([0.53323071])"
      ]
     },
     "execution_count": 53,
     "metadata": {},
     "output_type": "execute_result"
    }
   ],
   "source": [
    "dummy_gs.cv_results_[\"mean_test_score\"]"
   ]
  },
  {
   "cell_type": "code",
   "execution_count": 54,
   "metadata": {},
   "outputs": [],
   "source": [
    "# dummy_y_pred = dummy_gs.predict(X_test)\n",
    "dummy_y_pred = dummy_gs.predict(test_transformed)"
   ]
  },
  {
   "cell_type": "code",
   "execution_count": 55,
   "metadata": {},
   "outputs": [
    {
     "name": "stdout",
     "output_type": "stream",
     "text": [
      "accuracy 0.531282695124503\n",
      "f1 score macro 0.5032643150432452\n",
      "f1 score micro 0.531282695124503\n",
      "precision score 0.5032780967902826\n",
      "recall score 0.5032656895750629\n",
      "hamming_loss 0.46871730487549695\n",
      "\n",
      "\n",
      "classification_report                precision    recall  f1-score   support\n",
      "\n",
      "No_Propaganda       0.62      0.62      0.62      2948\n",
      "   Propaganda       0.39      0.38      0.39      1831\n",
      "\n",
      "     accuracy                           0.53      4779\n",
      "    macro avg       0.50      0.50      0.50      4779\n",
      " weighted avg       0.53      0.53      0.53      4779\n",
      "\n",
      "jaccard_similarity_score 0.369365973514879\n",
      "zero_one_loss 0.468717304875497\n",
      "matthews_corrcoef 0.006543774603108817\n"
     ]
    }
   ],
   "source": [
    "evaluation_analysis(y_test, dummy_y_pred)"
   ]
  },
  {
   "cell_type": "code",
   "execution_count": 56,
   "metadata": {},
   "outputs": [
    {
     "name": "stdout",
     "output_type": "stream",
     "text": [
      "TN: 1837\n",
      "FP: 1111\n",
      "FN: 1129\n",
      "TP: 702\n",
      "F1: 0.385\n"
     ]
    },
    {
     "data": {
      "text/plain": [
       "(0.38720353006067293, 0.383397050791917)"
      ]
     },
     "execution_count": 56,
     "metadata": {},
     "output_type": "execute_result"
    }
   ],
   "source": [
    "from sklearn.metrics import confusion_matrix\n",
    "tn, fp, fn, tp = confusion_matrix(y_test, dummy_y_pred, labels=[\"No_Propaganda\",\"Propaganda\"]).ravel()\n",
    "print(f\"TN: {tn}\\nFP: {fp}\\nFN: {fn}\\nTP: {tp}\")\n",
    "\n",
    "precision = tp/(tp+fp)\n",
    "recall = tp/(tp+fn)\n",
    "f1 = round((2*precision*recall)/(precision+recall),3)\n",
    "\n",
    "print(f\"F1: {f1}\")\n",
    "precision, recall"
   ]
  },
  {
   "cell_type": "markdown",
   "metadata": {},
   "source": [
    "> ## The best dummy classifier is one that simply predicts the most common label which is \"No_Propaganda\". Since it only predicts the negative class precision, recall, and F1 are all undefined for this classifier."
   ]
  },
  {
   "cell_type": "code",
   "execution_count": 88,
   "metadata": {},
   "outputs": [],
   "source": [
    "from sklearn.linear_model import LogisticRegression"
   ]
  },
  {
   "cell_type": "code",
   "execution_count": 89,
   "metadata": {},
   "outputs": [
    {
     "name": "stderr",
     "output_type": "stream",
     "text": [
      "/home/bryan/Documents/Code/python-environments/SI630/lib/python3.6/site-packages/sklearn/linear_model/_logistic.py:1505: UserWarning: Setting penalty='none' will ignore the C and l1_ratio parameters\n",
      "  \"Setting penalty='none' will ignore the C and l1_ratio \"\n",
      "/home/bryan/Documents/Code/python-environments/SI630/lib/python3.6/site-packages/sklearn/model_selection/_validation.py:536: FitFailedWarning: Estimator fit failed. The score on this train-test partition for these parameters will be set to nan. Details: \n",
      "ValueError: Solver newton-cg supports only 'l2' or 'none' penalties, got l1 penalty.\n",
      "\n",
      "  FitFailedWarning)\n",
      "/home/bryan/Documents/Code/python-environments/SI630/lib/python3.6/site-packages/sklearn/model_selection/_validation.py:536: FitFailedWarning: Estimator fit failed. The score on this train-test partition for these parameters will be set to nan. Details: \n",
      "ValueError: Solver sag supports only 'l2' or 'none' penalties, got l1 penalty.\n",
      "\n",
      "  FitFailedWarning)\n"
     ]
    },
    {
     "name": "stdout",
     "output_type": "stream",
     "text": [
      "CPU times: user 7.3 s, sys: 6.29 s, total: 13.6 s\n",
      "Wall time: 4h 39min 9s\n"
     ]
    },
    {
     "data": {
      "text/plain": [
       "GridSearchCV(cv=10, error_score=nan,\n",
       "             estimator=LogisticRegression(C=1.0, class_weight=None, dual=False,\n",
       "                                          fit_intercept=True,\n",
       "                                          intercept_scaling=1, l1_ratio=None,\n",
       "                                          max_iter=100, multi_class='auto',\n",
       "                                          n_jobs=-1, penalty='l2',\n",
       "                                          random_state=None, solver='lbfgs',\n",
       "                                          tol=0.0001, verbose=0,\n",
       "                                          warm_start=False),\n",
       "             iid='deprecated', n_jobs=None,\n",
       "             param_grid=[{'C': [10000, 1000], 'fit_intercept': [True, False],\n",
       "                          'penalty': ['l2', 'none', 'l1'],\n",
       "                          'solver': ['newton-cg', 'sag', 'saga']}],\n",
       "             pre_dispatch='2*n_jobs', refit=True, return_train_score=False,\n",
       "             scoring=None, verbose=0)"
      ]
     },
     "execution_count": 89,
     "metadata": {},
     "output_type": "execute_result"
    }
   ],
   "source": [
    "%%time\n",
    "\n",
    "lr = LogisticRegression(n_jobs=-1)\n",
    "lr_param_grid = [{\"penalty\":[\"l2\",\"none\",\"l1\"],\n",
    "              \"C\":[10000,1000],\n",
    "                  \"fit_intercept\": [True, False],\n",
    "#                   \"class_weight\": [None, \"balanced\"],\n",
    "                  \"solver\": [\"newton-cg\",\"sag\",\"saga\"]\n",
    "#                   \"solver\": [\"lbfgs\",\"liblinear\", \"newton-cg\",\"sag\",\"saga\"]\n",
    "              }]\n",
    "lr_gs = GridSearchCV(\n",
    "    estimator = lr,\n",
    "    param_grid = lr_param_grid,\n",
    "    cv=10\n",
    ")\n",
    "lr_gs.fit(train_transformed, y_train)"
   ]
  },
  {
   "cell_type": "code",
   "execution_count": 90,
   "metadata": {},
   "outputs": [
    {
     "data": {
      "text/plain": [
       "{'C': 10000, 'fit_intercept': True, 'penalty': 'l2', 'solver': 'newton-cg'}"
      ]
     },
     "execution_count": 90,
     "metadata": {},
     "output_type": "execute_result"
    }
   ],
   "source": [
    "lr_gs.best_params_"
   ]
  },
  {
   "cell_type": "code",
   "execution_count": 91,
   "metadata": {},
   "outputs": [
    {
     "data": {
      "text/plain": [
       "LogisticRegression(C=10000, class_weight=None, dual=False, fit_intercept=True,\n",
       "                   intercept_scaling=1, l1_ratio=None, max_iter=100,\n",
       "                   multi_class='auto', n_jobs=-1, penalty='l2',\n",
       "                   random_state=None, solver='newton-cg', tol=0.0001, verbose=0,\n",
       "                   warm_start=False)"
      ]
     },
     "execution_count": 91,
     "metadata": {},
     "output_type": "execute_result"
    }
   ],
   "source": [
    "lr_gs.best_estimator_"
   ]
  },
  {
   "cell_type": "code",
   "execution_count": 92,
   "metadata": {},
   "outputs": [
    {
     "data": {
      "text/plain": [
       "array([0.91712224, 0.80025094, 0.79890565, 0.9166734 , 0.80034063,\n",
       "       0.79881597,        nan,        nan, 0.79890565, 0.91505962,\n",
       "       0.80025094, 0.79890565, 0.91174075, 0.80034063, 0.79890565,\n",
       "              nan,        nan, 0.79890565, 0.91640459, 0.80034063,\n",
       "       0.79890565, 0.9166734 , 0.80034063, 0.79890565,        nan,\n",
       "              nan, 0.79881597, 0.91443165, 0.80025094, 0.79890565,\n",
       "       0.91174075, 0.80025094, 0.79890565,        nan,        nan,\n",
       "       0.79890565])"
      ]
     },
     "execution_count": 92,
     "metadata": {},
     "output_type": "execute_result"
    }
   ],
   "source": [
    "lr_gs.cv_results_[\"mean_test_score\"]"
   ]
  },
  {
   "cell_type": "code",
   "execution_count": 93,
   "metadata": {},
   "outputs": [],
   "source": [
    "lr_y_pred = lr_gs.predict(test_transformed)"
   ]
  },
  {
   "cell_type": "code",
   "execution_count": 94,
   "metadata": {},
   "outputs": [
    {
     "name": "stdout",
     "output_type": "stream",
     "text": [
      "accuracy 0.9192299644277045\n",
      "f1 score macro 0.9120094368242205\n",
      "f1 score micro 0.9192299644277045\n",
      "precision score 0.9289402905319822\n",
      "recall score 0.9015254952584281\n",
      "hamming_loss 0.08077003557229546\n",
      "\n",
      "\n",
      "classification_report                precision    recall  f1-score   support\n",
      "\n",
      "No_Propaganda       0.90      0.98      0.94      2948\n",
      "   Propaganda       0.96      0.83      0.89      1831\n",
      "\n",
      "     accuracy                           0.92      4779\n",
      "    macro avg       0.93      0.90      0.91      4779\n",
      " weighted avg       0.92      0.92      0.92      4779\n",
      "\n",
      "jaccard_similarity_score 0.8491977731143373\n",
      "zero_one_loss 0.08077003557229545\n",
      "matthews_corrcoef 0.8300131627682737\n"
     ]
    }
   ],
   "source": [
    "evaluation_analysis(y_test,lr_y_pred)"
   ]
  },
  {
   "cell_type": "code",
   "execution_count": 95,
   "metadata": {},
   "outputs": [
    {
     "name": "stdout",
     "output_type": "stream",
     "text": [
      "TN: 2881\n",
      "FP: 67\n",
      "FN: 319\n",
      "TP: 1512\n",
      "F1: 0.887\n"
     ]
    }
   ],
   "source": [
    "tn, fp, fn, tp = confusion_matrix(y_test, lr_y_pred, labels=[\"No_Propaganda\",\"Propaganda\"]).ravel()\n",
    "print(f\"TN: {tn}\\nFP: {fp}\\nFN: {fn}\\nTP: {tp}\")\n",
    "\n",
    "precision = tp/(tp+fp)\n",
    "recall = tp/(tp+fn)\n",
    "f1 = round((2*precision*recall)/(precision+recall),3)\n",
    "\n",
    "print(f\"F1: {f1}\")"
   ]
  },
  {
   "cell_type": "markdown",
   "metadata": {},
   "source": [
    "> # The baseline logistic regression model achieves an F1 score of 0.87 and correctly predicted 1474 instances of the positive label. The precision for the positive class is actually quite high, it seems to be suffering from low recall. The opposite is true of the negative class."
   ]
  },
  {
   "cell_type": "code",
   "execution_count": null,
   "metadata": {},
   "outputs": [],
   "source": [
    "best_lr = LogisticRegression(C=10000, class_weight='balanced', dual=False,\n",
    "                   fit_intercept=True, intercept_scaling=1, l1_ratio=None,\n",
    "                   max_iter=100, multi_class='auto', n_jobs=-1, penalty='l2',\n",
    "                   random_state=None, solver='liblinear', tol=0.0001, verbose=0,\n",
    "                   warm_start=False)"
   ]
  },
  {
   "cell_type": "code",
   "execution_count": null,
   "metadata": {},
   "outputs": [],
   "source": [
    "best_lr.fit(train_transformed, y_train)"
   ]
  },
  {
   "cell_type": "code",
   "execution_count": null,
   "metadata": {},
   "outputs": [],
   "source": [
    "best_lr_predict = best_lr.predict(test_transformed)"
   ]
  },
  {
   "cell_type": "code",
   "execution_count": null,
   "metadata": {},
   "outputs": [],
   "source": [
    "evaluation_analysis(y_test,best_lr_predict)"
   ]
  },
  {
   "cell_type": "code",
   "execution_count": null,
   "metadata": {},
   "outputs": [],
   "source": [
    "tn, fp, fn, tp = confusion_matrix(y_test, best_lr_predict, labels=[\"No_Propaganda\",\"Propaganda\"]).ravel()\n",
    "print(f\"TN: {tn}\\nFP: {fp}\\nFN: {fn}\\nTP: {tp}\")\n",
    "\n",
    "precision = tp/(tp+fp)\n",
    "recall = tp/(tp+fn)\n",
    "f1 = round((2*precision*recall)/(precision+recall),3)\n",
    "\n",
    "print(f\"F1: {f1}\")\n",
    "precision,recall"
   ]
  },
  {
   "cell_type": "markdown",
   "metadata": {},
   "source": [
    "## <span style=\"color:olive\"> Next steps\n",
    "1. Validate calculations of precision, recall, & f1\n",
    "1. Create Pipeline so can adjust more aspects of steps (e.g. experimenting with more ngrams in tfidf)\n",
    "1. Experiment with different/longer CONTEXT_WINDOW sizes (i.e. 100, 100+). See how that impacts negative samples.\n",
    "1. Try to resolve issue with char_span failing frequently on spaCy docs\n",
    "1. For spans assigned positive labels select one of the specific class labels from a multinomial (i.e. at random)"
   ]
  },
  {
   "cell_type": "code",
   "execution_count": null,
   "metadata": {},
   "outputs": [],
   "source": []
  }
 ],
 "metadata": {
  "kernelspec": {
   "display_name": "Python 3",
   "language": "python",
   "name": "python3"
  },
  "language_info": {
   "codemirror_mode": {
    "name": "ipython",
    "version": 3
   },
   "file_extension": ".py",
   "mimetype": "text/x-python",
   "name": "python",
   "nbconvert_exporter": "python",
   "pygments_lexer": "ipython3",
   "version": "3.6.9"
  }
 },
 "nbformat": 4,
 "nbformat_minor": 4
}
